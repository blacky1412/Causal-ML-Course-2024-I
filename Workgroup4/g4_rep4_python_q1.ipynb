{
 "cells": [
  {
   "cell_type": "markdown",
   "id": "18eb5179-7549-4f97-b5a1-08f25fa7c751",
   "metadata": {},
   "source": [
    "# Question 1 - Bootstrap"
   ]
  },
  {
   "cell_type": "code",
   "execution_count": 1,
   "id": "3c03d538-718b-4105-a1fb-9adbcdcae712",
   "metadata": {},
   "outputs": [],
   "source": [
    "import pandas as pd\n",
    "import numpy as np\n",
    "import random\n",
    "from sklearn.utils import resample\n",
    "from sklearn.linear_model import LinearRegression"
   ]
  },
  {
   "cell_type": "code",
   "execution_count": 2,
   "id": "6647dc58-53f1-4273-9924-d1c8b249ff92",
   "metadata": {},
   "outputs": [
    {
     "name": "stdout",
     "output_type": "stream",
     "text": [
      "       T4  tg\n",
      "0       0   0\n",
      "3       0   0\n",
      "4       0   0\n",
      "11      1   4\n",
      "12      0   0\n",
      "...    ..  ..\n",
      "13904   1   4\n",
      "13905   1   4\n",
      "13906   0   0\n",
      "13910   1   4\n",
      "13911   0   0\n",
      "\n",
      "[5099 rows x 2 columns]\n"
     ]
    }
   ],
   "source": [
    "data = pd.read_csv(\"../../data/penn_jae.csv\")\n",
    "data['log_inuidur1'] = np.log(data['inuidur1'])\n",
    "\n",
    "#Creating T4\n",
    "data = data[data['tg'].isin([0, 4])]\n",
    "data['T4'] = np.where(data['tg'] == 4, 1, 0)\n",
    "print(data[['T4', 'tg']])  \n",
    "\n",
    "#dep is categorical\n",
    "data['dep'] = pd.Categorical(data['dep'])"
   ]
  },
  {
   "cell_type": "markdown",
   "id": "cce06a1c-57a1-472a-b459-c16e87ca0741",
   "metadata": {},
   "source": [
    "### (1) Function to get coefficients"
   ]
  },
  {
   "cell_type": "code",
   "execution_count": 4,
   "id": "18871cb0-6ad7-4b69-8bef-dcd21427bc0e",
   "metadata": {},
   "outputs": [],
   "source": [
    "#-------------------------------------#\n",
    "#---Function to get coefficients------#\n",
    "#-------------------------------------#\n",
    "def get_coef(data, exp, numlist):\n",
    "    results = []\n",
    "    model = LinearRegression().fit(data[exp], data['log_inuidur1'])\n",
    "\n",
    "    for i in numlist:\n",
    "        results.append(model.coef_[i])\n",
    "\n",
    "    return results\n",
    "#given the position of desired coefficients in numlist, this function gets the associated coefficients for regression defined by exp "
   ]
  },
  {
   "cell_type": "markdown",
   "id": "2725e709-0860-4984-9176-b7b2bed612ce",
   "metadata": {},
   "source": [
    "### (2) Bootstrapping "
   ]
  },
  {
   "cell_type": "code",
   "execution_count": 5,
   "id": "2f77c6f1-7a24-461d-94c9-0b78fe4bdde4",
   "metadata": {},
   "outputs": [],
   "source": [
    "#----------------------#\n",
    "#---Bootstrapping------#\n",
    "#----------------------#\n",
    "random.seed(1234)\n",
    "nboot = 10000\n",
    "point_estimates = []\n",
    "\n",
    "for k in range(nboot):\n",
    "    sampled_data = resample(data, replace=True)\n",
    "    exp = ['T4', 'female', 'black', 'othrace', 'dep', 'q2', 'q3', 'q4', 'q5', 'q6', 'agelt35', 'agegt54', 'durable', 'lusd', 'husd']\n",
    "    result = get_coef(sampled_data, exp, [0, 1, 2])\n",
    "\n",
    "    #appending results\n",
    "    point_estimates.append(result)"
   ]
  },
  {
   "cell_type": "markdown",
   "id": "c95f0ece-39ce-4afb-bcc5-400efa2eeb87",
   "metadata": {},
   "source": [
    "### (3) Statistics"
   ]
  },
  {
   "cell_type": "code",
   "execution_count": 6,
   "id": "a69dda4a-d037-4e73-9231-866656d58ec0",
   "metadata": {},
   "outputs": [],
   "source": [
    "#-------------------#\n",
    "#---Statistics------#\n",
    "#-------------------#\n",
    "point_estimates = np.array(point_estimates)\n",
    "mean_T4 = np.mean(point_estimates[:, 0])\n",
    "mean_female = np.mean(point_estimates[:, 1])\n",
    "mean_black = np.mean(point_estimates[:, 2])\n",
    "\n",
    "sd_T4 = np.std(point_estimates[:, 0], ddof=1)\n",
    "sd_female = np.std(point_estimates[:, 1], ddof=1)\n",
    "sd_black = np.std(point_estimates[:, 2], ddof=1)"
   ]
  },
  {
   "cell_type": "markdown",
   "id": "de3dd8c2-9cc3-42ec-95c0-88be491da87e",
   "metadata": {},
   "source": [
    "### (4) Results"
   ]
  },
  {
   "cell_type": "code",
   "execution_count": 7,
   "id": "bc91203d-d9f1-4277-b04c-fa4d42627997",
   "metadata": {},
   "outputs": [
    {
     "name": "stdout",
     "output_type": "stream",
     "text": [
      "  Variable  Coefficient (bootstrap)  Standard error (bootstrap)\n",
      "0       T4                -0.071609                    0.035251\n",
      "1   Female                 0.125620                    0.035109\n",
      "2    Black                -0.292796                    0.058986\n"
     ]
    }
   ],
   "source": [
    "#--------------#\n",
    "#---Table------#\n",
    "#--------------#\n",
    "table = pd.DataFrame(columns=[\"Variable\", \"Coefficient (bootstrap)\", \"Standard error (bootstrap)\"])\n",
    "table.loc[0] = [\"T4\", mean_T4, sd_T4]\n",
    "table.loc[1] = [\"Female\", mean_female, sd_female]\n",
    "table.loc[2] = [\"Black\", mean_black, sd_black]\n",
    "\n",
    "print(table)"
   ]
  }
 ],
 "metadata": {
  "kernelspec": {
   "display_name": "Python 3 (ipykernel)",
   "language": "python",
   "name": "python3"
  },
  "language_info": {
   "codemirror_mode": {
    "name": "ipython",
    "version": 3
   },
   "file_extension": ".py",
   "mimetype": "text/x-python",
   "name": "python",
   "nbconvert_exporter": "python",
   "pygments_lexer": "ipython3",
   "version": "3.11.7"
  }
 },
 "nbformat": 4,
 "nbformat_minor": 5
}
