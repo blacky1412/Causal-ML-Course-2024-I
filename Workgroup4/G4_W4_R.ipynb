{
 "cells": [
  {
   "cell_type": "code",
   "execution_count": 1,
   "id": "98f75c10-9a4b-4f9b-95a7-daf2a698b00c",
   "metadata": {},
   "outputs": [],
   "source": [
    "options(pkgType = \"binary\", repos = \"https://cran-archive.r-project.org/\")"
   ]
  },
  {
   "cell_type": "code",
   "execution_count": 2,
   "id": "1e199e66-75dc-4ef2-9c53-eef7adb255b9",
   "metadata": {},
   "outputs": [
    {
     "name": "stderr",
     "output_type": "stream",
     "text": [
      "Installing package into 'C:/Users/user/Documents/R/win-library/3.6'\n",
      "(as 'lib' is unspecified)\n",
      "Warning message:\n",
      "\"package 'ISLR2' is not available (as a binary package for R version 3.6.1)\"Installing package into 'C:/Users/user/Documents/R/win-library/3.6'\n",
      "(as 'lib' is unspecified)\n"
     ]
    },
    {
     "name": "stdout",
     "output_type": "stream",
     "text": [
      "package 'boot' successfully unpacked and MD5 sums checked\n",
      "\n",
      "The downloaded binary packages are in\n",
      "\tC:\\Users\\user\\AppData\\Local\\Temp\\RtmpQHClKc\\downloaded_packages\n"
     ]
    },
    {
     "name": "stderr",
     "output_type": "stream",
     "text": [
      "Installing package into 'C:/Users/user/Documents/R/win-library/3.6'\n",
      "(as 'lib' is unspecified)\n"
     ]
    },
    {
     "name": "stdout",
     "output_type": "stream",
     "text": [
      "package 'tidyverse' successfully unpacked and MD5 sums checked\n",
      "\n",
      "The downloaded binary packages are in\n",
      "\tC:\\Users\\user\\AppData\\Local\\Temp\\RtmpQHClKc\\downloaded_packages\n"
     ]
    },
    {
     "name": "stderr",
     "output_type": "stream",
     "text": [
      "Installing package into 'C:/Users/user/Documents/R/win-library/3.6'\n",
      "(as 'lib' is unspecified)\n"
     ]
    },
    {
     "name": "stdout",
     "output_type": "stream",
     "text": [
      "package 'readr' successfully unpacked and MD5 sums checked\n"
     ]
    },
    {
     "name": "stderr",
     "output_type": "stream",
     "text": [
      "Warning message:\n",
      "\"cannot remove prior installation of package 'readr'\"Warning message in file.copy(savedcopy, lib, recursive = TRUE):\n",
      "\"problema al copiar C:\\Users\\user\\Documents\\R\\win-library\\3.6\\00LOCK\\readr\\libs\\x64\\readr.dll  a C:\\Users\\user\\Documents\\R\\win-library\\3.6\\readr\\libs\\x64\\readr.dll: Permission denied\"Warning message:\n",
      "\"restored 'readr'\""
     ]
    },
    {
     "name": "stdout",
     "output_type": "stream",
     "text": [
      "\n",
      "The downloaded binary packages are in\n",
      "\tC:\\Users\\user\\AppData\\Local\\Temp\\RtmpQHClKc\\downloaded_packages\n"
     ]
    },
    {
     "name": "stderr",
     "output_type": "stream",
     "text": [
      "Installing package into 'C:/Users/user/Documents/R/win-library/3.6'\n",
      "(as 'lib' is unspecified)\n"
     ]
    },
    {
     "name": "stdout",
     "output_type": "stream",
     "text": [
      "package 'grf' successfully unpacked and MD5 sums checked\n"
     ]
    },
    {
     "name": "stderr",
     "output_type": "stream",
     "text": [
      "Warning message:\n",
      "\"cannot remove prior installation of package 'grf'\"Warning message in file.copy(savedcopy, lib, recursive = TRUE):\n",
      "\"problema al copiar C:\\Users\\user\\Documents\\R\\win-library\\3.6\\00LOCK\\grf\\libs\\x64\\grf.dll  a C:\\Users\\user\\Documents\\R\\win-library\\3.6\\grf\\libs\\x64\\grf.dll: Permission denied\"Warning message:\n",
      "\"restored 'grf'\""
     ]
    },
    {
     "name": "stdout",
     "output_type": "stream",
     "text": [
      "\n",
      "The downloaded binary packages are in\n",
      "\tC:\\Users\\user\\AppData\\Local\\Temp\\RtmpQHClKc\\downloaded_packages\n"
     ]
    },
    {
     "name": "stderr",
     "output_type": "stream",
     "text": [
      "Installing package into 'C:/Users/user/Documents/R/win-library/3.6'\n",
      "(as 'lib' is unspecified)\n"
     ]
    },
    {
     "name": "stdout",
     "output_type": "stream",
     "text": [
      "package 'sandwich' successfully unpacked and MD5 sums checked\n",
      "\n",
      "The downloaded binary packages are in\n",
      "\tC:\\Users\\user\\AppData\\Local\\Temp\\RtmpQHClKc\\downloaded_packages\n"
     ]
    },
    {
     "name": "stderr",
     "output_type": "stream",
     "text": [
      "Installing package into 'C:/Users/user/Documents/R/win-library/3.6'\n",
      "(as 'lib' is unspecified)\n"
     ]
    },
    {
     "name": "stdout",
     "output_type": "stream",
     "text": [
      "package 'lmtest' successfully unpacked and MD5 sums checked\n"
     ]
    },
    {
     "name": "stderr",
     "output_type": "stream",
     "text": [
      "Warning message:\n",
      "\"cannot remove prior installation of package 'lmtest'\"Warning message in file.copy(savedcopy, lib, recursive = TRUE):\n",
      "\"problema al copiar C:\\Users\\user\\Documents\\R\\win-library\\3.6\\00LOCK\\lmtest\\libs\\x64\\lmtest.dll  a C:\\Users\\user\\Documents\\R\\win-library\\3.6\\lmtest\\libs\\x64\\lmtest.dll: Permission denied\"Warning message:\n",
      "\"restored 'lmtest'\""
     ]
    },
    {
     "name": "stdout",
     "output_type": "stream",
     "text": [
      "\n",
      "The downloaded binary packages are in\n",
      "\tC:\\Users\\user\\AppData\\Local\\Temp\\RtmpQHClKc\\downloaded_packages\n"
     ]
    },
    {
     "name": "stderr",
     "output_type": "stream",
     "text": [
      "Installing package into 'C:/Users/user/Documents/R/win-library/3.6'\n",
      "(as 'lib' is unspecified)\n"
     ]
    },
    {
     "name": "stdout",
     "output_type": "stream",
     "text": [
      "package 'Hmisc' successfully unpacked and MD5 sums checked\n"
     ]
    },
    {
     "name": "stderr",
     "output_type": "stream",
     "text": [
      "Warning message:\n",
      "\"cannot remove prior installation of package 'Hmisc'\"Warning message in file.copy(savedcopy, lib, recursive = TRUE):\n",
      "\"problema al copiar C:\\Users\\user\\Documents\\R\\win-library\\3.6\\00LOCK\\Hmisc\\libs\\x64\\Hmisc.dll  a C:\\Users\\user\\Documents\\R\\win-library\\3.6\\Hmisc\\libs\\x64\\Hmisc.dll: Permission denied\"Warning message:\n",
      "\"restored 'Hmisc'\""
     ]
    },
    {
     "name": "stdout",
     "output_type": "stream",
     "text": [
      "\n",
      "The downloaded binary packages are in\n",
      "\tC:\\Users\\user\\AppData\\Local\\Temp\\RtmpQHClKc\\downloaded_packages\n"
     ]
    },
    {
     "name": "stderr",
     "output_type": "stream",
     "text": [
      "Warning message:\n",
      "\"package 'boot' was built under R version 3.6.3\"Warning message:\n",
      "\"package 'tidyverse' was built under R version 3.6.3\"-- Attaching packages --------------------------------------- tidyverse 1.3.1 --\n",
      "v ggplot2 3.3.3     v purrr   0.3.4\n",
      "v tibble  3.1.1     v dplyr   1.0.6\n",
      "v tidyr   1.1.3     v stringr 1.4.0\n",
      "v readr   1.4.0     v forcats 0.5.1\n",
      "Warning message:\n",
      "\"package 'ggplot2' was built under R version 3.6.3\"Warning message:\n",
      "\"package 'tibble' was built under R version 3.6.3\"Warning message:\n",
      "\"package 'tidyr' was built under R version 3.6.3\"Warning message:\n",
      "\"package 'readr' was built under R version 3.6.3\"Warning message:\n",
      "\"package 'purrr' was built under R version 3.6.3\"Warning message:\n",
      "\"package 'dplyr' was built under R version 3.6.3\"Warning message:\n",
      "\"package 'forcats' was built under R version 3.6.3\"-- Conflicts ------------------------------------------ tidyverse_conflicts() --\n",
      "x dplyr::filter() masks stats::filter()\n",
      "x dplyr::lag()    masks stats::lag()\n",
      "Warning message:\n",
      "\"package 'grf' was built under R version 3.6.3\"Warning message:\n",
      "\"package 'sandwich' was built under R version 3.6.3\"Warning message:\n",
      "\"package 'lmtest' was built under R version 3.6.3\"Loading required package: zoo\n",
      "Warning message:\n",
      "\"package 'zoo' was built under R version 3.6.3\"\n",
      "Attaching package: 'zoo'\n",
      "\n",
      "The following objects are masked from 'package:base':\n",
      "\n",
      "    as.Date, as.Date.numeric\n",
      "\n",
      "Warning message:\n",
      "\"package 'Hmisc' was built under R version 3.6.3\"Loading required package: lattice\n",
      "Warning message:\n",
      "\"package 'lattice' was built under R version 3.6.3\"\n",
      "Attaching package: 'lattice'\n",
      "\n",
      "The following object is masked from 'package:boot':\n",
      "\n",
      "    melanoma\n",
      "\n",
      "Loading required package: survival\n",
      "Warning message:\n",
      "\"package 'survival' was built under R version 3.6.3\"\n",
      "Attaching package: 'survival'\n",
      "\n",
      "The following object is masked from 'package:boot':\n",
      "\n",
      "    aml\n",
      "\n",
      "Loading required package: Formula\n",
      "Warning message:\n",
      "\"package 'Formula' was built under R version 3.6.3\"\n",
      "Attaching package: 'Hmisc'\n",
      "\n",
      "The following objects are masked from 'package:dplyr':\n",
      "\n",
      "    src, summarize\n",
      "\n",
      "The following objects are masked from 'package:base':\n",
      "\n",
      "    format.pval, units\n",
      "\n"
     ]
    }
   ],
   "source": [
    "#Libraries:\n",
    "install.packages(\"ISLR2\")\n",
    "install.packages(\"boot\")\n",
    "install.packages(\"tidyverse\")\n",
    "install.packages(\"readr\")\n",
    "install.packages(\"grf\")\n",
    "install.packages(\"sandwich\")\n",
    "install.packages(\"lmtest\")\n",
    "install.packages(\"Hmisc\")\n",
    "library(ISLR2)\n",
    "library(boot)\n",
    "library(tidyverse)\n",
    "library(readr)\n",
    "library(grf)\n",
    "library(sandwich)\n",
    "library(lmtest)\n",
    "library(Hmisc)"
   ]
  },
  {
   "cell_type": "markdown",
   "id": "5b6b917f-b066-40ac-9034-62295a165afd",
   "metadata": {},
   "source": [
    "# Bootstraping"
   ]
  },
  {
   "cell_type": "code",
   "execution_count": 3,
   "id": "59b36499-7b6b-44dd-acf1-72849572632f",
   "metadata": {},
   "outputs": [
    {
     "data": {
      "text/html": [
       "<table>\n",
       "<thead><tr><th scope=col>abdt</th><th scope=col>tg</th><th scope=col>inuidur1</th><th scope=col>inuidur2</th><th scope=col>female</th><th scope=col>black</th><th scope=col>hispanic</th><th scope=col>othrace</th><th scope=col>dep</th><th scope=col>q1</th><th scope=col>...</th><th scope=col>q5</th><th scope=col>q6</th><th scope=col>recall</th><th scope=col>agelt35</th><th scope=col>agegt54</th><th scope=col>durable</th><th scope=col>nondurable</th><th scope=col>lusd</th><th scope=col>husd</th><th scope=col>muld</th></tr></thead>\n",
       "<tbody>\n",
       "\t<tr><td>10824</td><td>0    </td><td>18   </td><td>18   </td><td>0    </td><td>0    </td><td>0    </td><td>0    </td><td>2    </td><td>0    </td><td>...  </td><td>1    </td><td>0    </td><td>0    </td><td>0    </td><td>0    </td><td>0    </td><td>0    </td><td>0    </td><td>1    </td><td>0    </td></tr>\n",
       "\t<tr><td>10824</td><td>0    </td><td> 1   </td><td> 1   </td><td>0    </td><td>0    </td><td>0    </td><td>0    </td><td>0    </td><td>0    </td><td>...  </td><td>1    </td><td>0    </td><td>0    </td><td>0    </td><td>0    </td><td>0    </td><td>0    </td><td>1    </td><td>0    </td><td>0    </td></tr>\n",
       "\t<tr><td>10747</td><td>0    </td><td>27   </td><td>27   </td><td>0    </td><td>0    </td><td>0    </td><td>0    </td><td>0    </td><td>0    </td><td>...  </td><td>0    </td><td>0    </td><td>0    </td><td>0    </td><td>0    </td><td>0    </td><td>0    </td><td>1    </td><td>0    </td><td>0    </td></tr>\n",
       "\t<tr><td>10607</td><td>4    </td><td> 9   </td><td> 9   </td><td>0    </td><td>0    </td><td>0    </td><td>0    </td><td>0    </td><td>0    </td><td>...  </td><td>0    </td><td>0    </td><td>0    </td><td>1    </td><td>0    </td><td>0    </td><td>0    </td><td>0    </td><td>0    </td><td>1    </td></tr>\n",
       "\t<tr><td>10831</td><td>0    </td><td>27   </td><td>27   </td><td>0    </td><td>0    </td><td>0    </td><td>0    </td><td>1    </td><td>0    </td><td>...  </td><td>1    </td><td>0    </td><td>0    </td><td>0    </td><td>1    </td><td>1    </td><td>0    </td><td>1    </td><td>0    </td><td>0    </td></tr>\n",
       "\t<tr><td>10845</td><td>0    </td><td>27   </td><td>27   </td><td>1    </td><td>0    </td><td>0    </td><td>0    </td><td>0    </td><td>0    </td><td>...  </td><td>1    </td><td>0    </td><td>0    </td><td>0    </td><td>1    </td><td>0    </td><td>0    </td><td>1    </td><td>0    </td><td>0    </td></tr>\n",
       "</tbody>\n",
       "</table>\n"
      ],
      "text/latex": [
       "\\begin{tabular}{r|lllllllllllllllllllllll}\n",
       " abdt & tg & inuidur1 & inuidur2 & female & black & hispanic & othrace & dep & q1 & ... & q5 & q6 & recall & agelt35 & agegt54 & durable & nondurable & lusd & husd & muld\\\\\n",
       "\\hline\n",
       "\t 10824 & 0     & 18    & 18    & 0     & 0     & 0     & 0     & 2     & 0     & ...   & 1     & 0     & 0     & 0     & 0     & 0     & 0     & 0     & 1     & 0    \\\\\n",
       "\t 10824 & 0     &  1    &  1    & 0     & 0     & 0     & 0     & 0     & 0     & ...   & 1     & 0     & 0     & 0     & 0     & 0     & 0     & 1     & 0     & 0    \\\\\n",
       "\t 10747 & 0     & 27    & 27    & 0     & 0     & 0     & 0     & 0     & 0     & ...   & 0     & 0     & 0     & 0     & 0     & 0     & 0     & 1     & 0     & 0    \\\\\n",
       "\t 10607 & 4     &  9    &  9    & 0     & 0     & 0     & 0     & 0     & 0     & ...   & 0     & 0     & 0     & 1     & 0     & 0     & 0     & 0     & 0     & 1    \\\\\n",
       "\t 10831 & 0     & 27    & 27    & 0     & 0     & 0     & 0     & 1     & 0     & ...   & 1     & 0     & 0     & 0     & 1     & 1     & 0     & 1     & 0     & 0    \\\\\n",
       "\t 10845 & 0     & 27    & 27    & 1     & 0     & 0     & 0     & 0     & 0     & ...   & 1     & 0     & 0     & 0     & 1     & 0     & 0     & 1     & 0     & 0    \\\\\n",
       "\\end{tabular}\n"
      ],
      "text/markdown": [
       "\n",
       "| abdt | tg | inuidur1 | inuidur2 | female | black | hispanic | othrace | dep | q1 | ... | q5 | q6 | recall | agelt35 | agegt54 | durable | nondurable | lusd | husd | muld |\n",
       "|---|---|---|---|---|---|---|---|---|---|---|---|---|---|---|---|---|---|---|---|---|\n",
       "| 10824 | 0     | 18    | 18    | 0     | 0     | 0     | 0     | 2     | 0     | ...   | 1     | 0     | 0     | 0     | 0     | 0     | 0     | 0     | 1     | 0     |\n",
       "| 10824 | 0     |  1    |  1    | 0     | 0     | 0     | 0     | 0     | 0     | ...   | 1     | 0     | 0     | 0     | 0     | 0     | 0     | 1     | 0     | 0     |\n",
       "| 10747 | 0     | 27    | 27    | 0     | 0     | 0     | 0     | 0     | 0     | ...   | 0     | 0     | 0     | 0     | 0     | 0     | 0     | 1     | 0     | 0     |\n",
       "| 10607 | 4     |  9    |  9    | 0     | 0     | 0     | 0     | 0     | 0     | ...   | 0     | 0     | 0     | 1     | 0     | 0     | 0     | 0     | 0     | 1     |\n",
       "| 10831 | 0     | 27    | 27    | 0     | 0     | 0     | 0     | 1     | 0     | ...   | 1     | 0     | 0     | 0     | 1     | 1     | 0     | 1     | 0     | 0     |\n",
       "| 10845 | 0     | 27    | 27    | 1     | 0     | 0     | 0     | 0     | 0     | ...   | 1     | 0     | 0     | 0     | 1     | 0     | 0     | 1     | 0     | 0     |\n",
       "\n"
      ],
      "text/plain": [
       "  abdt  tg inuidur1 inuidur2 female black hispanic othrace dep q1 ... q5 q6\n",
       "1 10824 0  18       18       0      0     0        0       2   0  ... 1  0 \n",
       "2 10824 0   1        1       0      0     0        0       0   0  ... 1  0 \n",
       "3 10747 0  27       27       0      0     0        0       0   0  ... 0  0 \n",
       "4 10607 4   9        9       0      0     0        0       0   0  ... 0  0 \n",
       "5 10831 0  27       27       0      0     0        0       1   0  ... 1  0 \n",
       "6 10845 0  27       27       1      0     0        0       0   0  ... 1  0 \n",
       "  recall agelt35 agegt54 durable nondurable lusd husd muld\n",
       "1 0      0       0       0       0          0    1    0   \n",
       "2 0      0       0       0       0          1    0    0   \n",
       "3 0      0       0       0       0          1    0    0   \n",
       "4 0      1       0       0       0          0    0    1   \n",
       "5 0      0       1       1       0          1    0    0   \n",
       "6 0      0       1       0       0          1    0    0   "
      ]
     },
     "metadata": {},
     "output_type": "display_data"
    }
   ],
   "source": [
    "bd=read.table(\"../../data/penn_jae.dat\",header=TRUE)\n",
    "bd=bd %>%\n",
    "    filter(tg==0|tg==4)\n",
    "head(bd)"
   ]
  },
  {
   "cell_type": "code",
   "execution_count": 4,
   "id": "033c708e-be4b-4ef8-979e-05ca15598141",
   "metadata": {},
   "outputs": [],
   "source": [
    "alpha.fn <- function(data, index) {\n",
    "  X <- data$X[index]\n",
    "  Y <- data$Y[index]\n",
    "  (var(Y) - cov(X, Y)) / (var(X) + var(Y) - 2 * cov(X, Y))\n",
    "}"
   ]
  },
  {
   "cell_type": "markdown",
   "id": "e6aba1e0-af4b-4d19-874a-0f50bdc43e79",
   "metadata": {},
   "source": [
    "### Log(inuidur1) with T4"
   ]
  },
  {
   "cell_type": "code",
   "execution_count": 5,
   "id": "f2b31cf3-f5ba-409b-b3b9-4fbe2b2afffe",
   "metadata": {},
   "outputs": [
    {
     "data": {
      "text/html": [
       "<table>\n",
       "<thead><tr><th scope=col>Y</th><th scope=col>X</th></tr></thead>\n",
       "<tbody>\n",
       "\t<tr><td>2.890372</td><td>0       </td></tr>\n",
       "\t<tr><td>0.000000</td><td>0       </td></tr>\n",
       "\t<tr><td>3.295837</td><td>0       </td></tr>\n",
       "\t<tr><td>2.197225</td><td>4       </td></tr>\n",
       "\t<tr><td>3.295837</td><td>0       </td></tr>\n",
       "\t<tr><td>3.295837</td><td>0       </td></tr>\n",
       "</tbody>\n",
       "</table>\n"
      ],
      "text/latex": [
       "\\begin{tabular}{r|ll}\n",
       " Y & X\\\\\n",
       "\\hline\n",
       "\t 2.890372 & 0       \\\\\n",
       "\t 0.000000 & 0       \\\\\n",
       "\t 3.295837 & 0       \\\\\n",
       "\t 2.197225 & 4       \\\\\n",
       "\t 3.295837 & 0       \\\\\n",
       "\t 3.295837 & 0       \\\\\n",
       "\\end{tabular}\n"
      ],
      "text/markdown": [
       "\n",
       "| Y | X |\n",
       "|---|---|\n",
       "| 2.890372 | 0        |\n",
       "| 0.000000 | 0        |\n",
       "| 3.295837 | 0        |\n",
       "| 2.197225 | 4        |\n",
       "| 3.295837 | 0        |\n",
       "| 3.295837 | 0        |\n",
       "\n"
      ],
      "text/plain": [
       "  Y        X\n",
       "1 2.890372 0\n",
       "2 0.000000 0\n",
       "3 3.295837 0\n",
       "4 2.197225 4\n",
       "5 3.295837 0\n",
       "6 3.295837 0"
      ]
     },
     "metadata": {},
     "output_type": "display_data"
    },
    {
     "data": {
      "text/html": [
       "0.293905477861092"
      ],
      "text/latex": [
       "0.293905477861092"
      ],
      "text/markdown": [
       "0.293905477861092"
      ],
      "text/plain": [
       "[1] 0.2939055"
      ]
     },
     "metadata": {},
     "output_type": "display_data"
    }
   ],
   "source": [
    "bd1=bd %>%\n",
    "    mutate(log_inuidur1=log(inuidur1))%>%\n",
    "    select(Y=log_inuidur1,X=tg)\n",
    "head(bd1)    \n",
    "alpha.fn(bd1, 1:1000)"
   ]
  },
  {
   "cell_type": "code",
   "execution_count": 6,
   "id": "de16d9c4-41ba-472c-babd-2d578b4e968d",
   "metadata": {},
   "outputs": [
    {
     "data": {
      "text/plain": [
       "\n",
       "ORDINARY NONPARAMETRIC BOOTSTRAP\n",
       "\n",
       "\n",
       "Call:\n",
       "boot(data = bd1, statistic = alpha.fn, R = 1000)\n",
       "\n",
       "\n",
       "Bootstrap Statistics :\n",
       "     original       bias    std. error\n",
       "t1* 0.2967502 0.0001485967 0.004224614"
      ]
     },
     "metadata": {},
     "output_type": "display_data"
    },
    {
     "data": {
      "image/png": "[encoded data removed]",
      "text/plain": [
       "Plot with title \"Histogram of t\""
      ]
     },
     "metadata": {},
     "output_type": "display_data"
    }
   ],
   "source": [
    "#1000 times\n",
    "x1=boot(bd1, alpha.fn, R = 1000)\n",
    "x1\n",
    "plot(x1)"
   ]
  },
  {
   "cell_type": "markdown",
   "id": "65cdfedc-b4af-4832-80c7-14c88e6bd52a",
   "metadata": {},
   "source": [
    "### Log(inuidur1) with female"
   ]
  },
  {
   "cell_type": "code",
   "execution_count": 7,
   "id": "9aa96444-1c48-4afe-b22d-6f57fb99e5fb",
   "metadata": {},
   "outputs": [
    {
     "data": {
      "text/html": [
       "<table>\n",
       "<thead><tr><th scope=col>Y</th><th scope=col>X</th></tr></thead>\n",
       "<tbody>\n",
       "\t<tr><td>2.890372</td><td>0       </td></tr>\n",
       "\t<tr><td>0.000000</td><td>0       </td></tr>\n",
       "\t<tr><td>3.295837</td><td>0       </td></tr>\n",
       "\t<tr><td>2.197225</td><td>0       </td></tr>\n",
       "\t<tr><td>3.295837</td><td>0       </td></tr>\n",
       "\t<tr><td>3.295837</td><td>1       </td></tr>\n",
       "</tbody>\n",
       "</table>\n"
      ],
      "text/latex": [
       "\\begin{tabular}{r|ll}\n",
       " Y & X\\\\\n",
       "\\hline\n",
       "\t 2.890372 & 0       \\\\\n",
       "\t 0.000000 & 0       \\\\\n",
       "\t 3.295837 & 0       \\\\\n",
       "\t 2.197225 & 0       \\\\\n",
       "\t 3.295837 & 0       \\\\\n",
       "\t 3.295837 & 1       \\\\\n",
       "\\end{tabular}\n"
      ],
      "text/markdown": [
       "\n",
       "| Y | X |\n",
       "|---|---|\n",
       "| 2.890372 | 0        |\n",
       "| 0.000000 | 0        |\n",
       "| 3.295837 | 0        |\n",
       "| 2.197225 | 0        |\n",
       "| 3.295837 | 0        |\n",
       "| 3.295837 | 1        |\n",
       "\n"
      ],
      "text/plain": [
       "  Y        X\n",
       "1 2.890372 0\n",
       "2 0.000000 0\n",
       "3 3.295837 0\n",
       "4 2.197225 0\n",
       "5 3.295837 0\n",
       "6 3.295837 1"
      ]
     },
     "metadata": {},
     "output_type": "display_data"
    },
    {
     "data": {
      "text/html": [
       "0.868338584741574"
      ],
      "text/latex": [
       "0.868338584741574"
      ],
      "text/markdown": [
       "0.868338584741574"
      ],
      "text/plain": [
       "[1] 0.8683386"
      ]
     },
     "metadata": {},
     "output_type": "display_data"
    }
   ],
   "source": [
    "bd2=bd %>%\n",
    "    mutate(log_inuidur1=log(inuidur1))%>%\n",
    "    select(Y=log_inuidur1,X=female)\n",
    "head(bd2)    \n",
    "alpha.fn(bd2, 1:1000)"
   ]
  },
  {
   "cell_type": "code",
   "execution_count": 8,
   "id": "38638825-3f14-4e6e-a251-ae1714c96a18",
   "metadata": {},
   "outputs": [
    {
     "data": {
      "text/plain": [
       "\n",
       "ORDINARY NONPARAMETRIC BOOTSTRAP\n",
       "\n",
       "\n",
       "Call:\n",
       "boot(data = bd2, statistic = alpha.fn, R = 1000)\n",
       "\n",
       "\n",
       "Bootstrap Statistics :\n",
       "     original       bias    std. error\n",
       "t1* 0.8712819 0.0001318269 0.004214896"
      ]
     },
     "metadata": {},
     "output_type": "display_data"
    },
    {
     "data": {
      "image/png": "[encoded data removed]",
      "text/plain": [
       "Plot with title \"Histogram of t\""
      ]
     },
     "metadata": {},
     "output_type": "display_data"
    }
   ],
   "source": [
    "#1000 times\n",
    "x2=boot(bd2, alpha.fn, R = 1000)\n",
    "x2\n",
    "plot(x2)"
   ]
  },
  {
   "cell_type": "markdown",
   "id": "7bd6ad64-96c0-441f-a092-495b78e0e430",
   "metadata": {},
   "source": [
    "### Log(inuidur1) with black"
   ]
  },
  {
   "cell_type": "code",
   "execution_count": 9,
   "id": "33247373-2ab1-441a-9f4f-314ede4c078c",
   "metadata": {},
   "outputs": [
    {
     "data": {
      "text/html": [
       "<table>\n",
       "<thead><tr><th scope=col>Y</th><th scope=col>X</th></tr></thead>\n",
       "<tbody>\n",
       "\t<tr><td>2.890372</td><td>0       </td></tr>\n",
       "\t<tr><td>0.000000</td><td>0       </td></tr>\n",
       "\t<tr><td>3.295837</td><td>0       </td></tr>\n",
       "\t<tr><td>2.197225</td><td>0       </td></tr>\n",
       "\t<tr><td>3.295837</td><td>0       </td></tr>\n",
       "\t<tr><td>3.295837</td><td>0       </td></tr>\n",
       "</tbody>\n",
       "</table>\n"
      ],
      "text/latex": [
       "\\begin{tabular}{r|ll}\n",
       " Y & X\\\\\n",
       "\\hline\n",
       "\t 2.890372 & 0       \\\\\n",
       "\t 0.000000 & 0       \\\\\n",
       "\t 3.295837 & 0       \\\\\n",
       "\t 2.197225 & 0       \\\\\n",
       "\t 3.295837 & 0       \\\\\n",
       "\t 3.295837 & 0       \\\\\n",
       "\\end{tabular}\n"
      ],
      "text/markdown": [
       "\n",
       "| Y | X |\n",
       "|---|---|\n",
       "| 2.890372 | 0        |\n",
       "| 0.000000 | 0        |\n",
       "| 3.295837 | 0        |\n",
       "| 2.197225 | 0        |\n",
       "| 3.295837 | 0        |\n",
       "| 3.295837 | 0        |\n",
       "\n"
      ],
      "text/plain": [
       "  Y        X\n",
       "1 2.890372 0\n",
       "2 0.000000 0\n",
       "3 3.295837 0\n",
       "4 2.197225 0\n",
       "5 3.295837 0\n",
       "6 3.295837 0"
      ]
     },
     "metadata": {},
     "output_type": "display_data"
    },
    {
     "data": {
      "text/html": [
       "0.922094513125137"
      ],
      "text/latex": [
       "0.922094513125137"
      ],
      "text/markdown": [
       "0.922094513125137"
      ],
      "text/plain": [
       "[1] 0.9220945"
      ]
     },
     "metadata": {},
     "output_type": "display_data"
    }
   ],
   "source": [
    "bd3=bd %>%\n",
    "    mutate(log_inuidur1=log(inuidur1))%>%\n",
    "    select(Y=log_inuidur1,X=black)\n",
    "head(bd3)    \n",
    "alpha.fn(bd3, 1:1000)"
   ]
  },
  {
   "cell_type": "code",
   "execution_count": 10,
   "id": "cec2f206-8837-40ad-963e-f9653ac4269e",
   "metadata": {},
   "outputs": [
    {
     "data": {
      "text/plain": [
       "\n",
       "ORDINARY NONPARAMETRIC BOOTSTRAP\n",
       "\n",
       "\n",
       "Call:\n",
       "boot(data = bd3, statistic = alpha.fn, R = 1000)\n",
       "\n",
       "\n",
       "Bootstrap Statistics :\n",
       "     original       bias    std. error\n",
       "t1* 0.9169107 6.487956e-05 0.003934253"
      ]
     },
     "metadata": {},
     "output_type": "display_data"
    },
    {
     "data": {
      "image/png": "[encoded data removed]",
      "text/plain": [
       "Plot with title \"Histogram of t\""
      ]
     },
     "metadata": {},
     "output_type": "display_data"
    }
   ],
   "source": [
    "#1000 times\n",
    "x3=boot(bd3, alpha.fn, R = 1000)\n",
    "x3\n",
    "plot(x3)"
   ]
  },
  {
   "cell_type": "code",
   "execution_count": 11,
   "id": "6ebb666f-7ca4-41bf-8a18-a7bb6a5e87a8",
   "metadata": {},
   "outputs": [
    {
     "data": {
      "text/html": [
       "<table>\n",
       "<thead><tr><th scope=col>log_inuidur1</th><th scope=col>tg</th><th scope=col>female</th><th scope=col>black</th><th scope=col>othrace</th><th scope=col>dep</th><th scope=col>q2</th><th scope=col>q3</th><th scope=col>q4</th><th scope=col>q5</th><th scope=col>q6</th><th scope=col>agelt35</th><th scope=col>agegt54</th><th scope=col>durable</th><th scope=col>lusd</th><th scope=col>husd</th></tr></thead>\n",
       "<tbody>\n",
       "\t<tr><td>2.890372</td><td>0       </td><td>0       </td><td>0       </td><td>0       </td><td>2       </td><td>0       </td><td>0       </td><td>0       </td><td>1       </td><td>0       </td><td>0       </td><td>0       </td><td>0       </td><td>0       </td><td>1       </td></tr>\n",
       "\t<tr><td>0.000000</td><td>0       </td><td>0       </td><td>0       </td><td>0       </td><td>0       </td><td>0       </td><td>0       </td><td>0       </td><td>1       </td><td>0       </td><td>0       </td><td>0       </td><td>0       </td><td>1       </td><td>0       </td></tr>\n",
       "\t<tr><td>3.295837</td><td>0       </td><td>0       </td><td>0       </td><td>0       </td><td>0       </td><td>0       </td><td>0       </td><td>1       </td><td>0       </td><td>0       </td><td>0       </td><td>0       </td><td>0       </td><td>1       </td><td>0       </td></tr>\n",
       "\t<tr><td>2.197225</td><td>4       </td><td>0       </td><td>0       </td><td>0       </td><td>0       </td><td>0       </td><td>1       </td><td>0       </td><td>0       </td><td>0       </td><td>1       </td><td>0       </td><td>0       </td><td>0       </td><td>0       </td></tr>\n",
       "\t<tr><td>3.295837</td><td>0       </td><td>0       </td><td>0       </td><td>0       </td><td>1       </td><td>0       </td><td>0       </td><td>0       </td><td>1       </td><td>0       </td><td>0       </td><td>1       </td><td>1       </td><td>1       </td><td>0       </td></tr>\n",
       "\t<tr><td>3.295837</td><td>0       </td><td>1       </td><td>0       </td><td>0       </td><td>0       </td><td>0       </td><td>0       </td><td>0       </td><td>1       </td><td>0       </td><td>0       </td><td>1       </td><td>0       </td><td>1       </td><td>0       </td></tr>\n",
       "</tbody>\n",
       "</table>\n"
      ],
      "text/latex": [
       "\\begin{tabular}{r|llllllllllllllll}\n",
       " log\\_inuidur1 & tg & female & black & othrace & dep & q2 & q3 & q4 & q5 & q6 & agelt35 & agegt54 & durable & lusd & husd\\\\\n",
       "\\hline\n",
       "\t 2.890372 & 0        & 0        & 0        & 0        & 2        & 0        & 0        & 0        & 1        & 0        & 0        & 0        & 0        & 0        & 1       \\\\\n",
       "\t 0.000000 & 0        & 0        & 0        & 0        & 0        & 0        & 0        & 0        & 1        & 0        & 0        & 0        & 0        & 1        & 0       \\\\\n",
       "\t 3.295837 & 0        & 0        & 0        & 0        & 0        & 0        & 0        & 1        & 0        & 0        & 0        & 0        & 0        & 1        & 0       \\\\\n",
       "\t 2.197225 & 4        & 0        & 0        & 0        & 0        & 0        & 1        & 0        & 0        & 0        & 1        & 0        & 0        & 0        & 0       \\\\\n",
       "\t 3.295837 & 0        & 0        & 0        & 0        & 1        & 0        & 0        & 0        & 1        & 0        & 0        & 1        & 1        & 1        & 0       \\\\\n",
       "\t 3.295837 & 0        & 1        & 0        & 0        & 0        & 0        & 0        & 0        & 1        & 0        & 0        & 1        & 0        & 1        & 0       \\\\\n",
       "\\end{tabular}\n"
      ],
      "text/markdown": [
       "\n",
       "| log_inuidur1 | tg | female | black | othrace | dep | q2 | q3 | q4 | q5 | q6 | agelt35 | agegt54 | durable | lusd | husd |\n",
       "|---|---|---|---|---|---|---|---|---|---|---|---|---|---|---|---|\n",
       "| 2.890372 | 0        | 0        | 0        | 0        | 2        | 0        | 0        | 0        | 1        | 0        | 0        | 0        | 0        | 0        | 1        |\n",
       "| 0.000000 | 0        | 0        | 0        | 0        | 0        | 0        | 0        | 0        | 1        | 0        | 0        | 0        | 0        | 1        | 0        |\n",
       "| 3.295837 | 0        | 0        | 0        | 0        | 0        | 0        | 0        | 1        | 0        | 0        | 0        | 0        | 0        | 1        | 0        |\n",
       "| 2.197225 | 4        | 0        | 0        | 0        | 0        | 0        | 1        | 0        | 0        | 0        | 1        | 0        | 0        | 0        | 0        |\n",
       "| 3.295837 | 0        | 0        | 0        | 0        | 1        | 0        | 0        | 0        | 1        | 0        | 0        | 1        | 1        | 1        | 0        |\n",
       "| 3.295837 | 0        | 1        | 0        | 0        | 0        | 0        | 0        | 0        | 1        | 0        | 0        | 1        | 0        | 1        | 0        |\n",
       "\n"
      ],
      "text/plain": [
       "  log_inuidur1 tg female black othrace dep q2 q3 q4 q5 q6 agelt35 agegt54\n",
       "1 2.890372     0  0      0     0       2   0  0  0  1  0  0       0      \n",
       "2 0.000000     0  0      0     0       0   0  0  0  1  0  0       0      \n",
       "3 3.295837     0  0      0     0       0   0  0  1  0  0  0       0      \n",
       "4 2.197225     4  0      0     0       0   0  1  0  0  0  1       0      \n",
       "5 3.295837     0  0      0     0       1   0  0  0  1  0  0       1      \n",
       "6 3.295837     0  1      0     0       0   0  0  0  1  0  0       1      \n",
       "  durable lusd husd\n",
       "1 0       0    1   \n",
       "2 0       1    0   \n",
       "3 0       1    0   \n",
       "4 0       0    0   \n",
       "5 1       1    0   \n",
       "6 0       1    0   "
      ]
     },
     "metadata": {},
     "output_type": "display_data"
    }
   ],
   "source": [
    "bd4=bd %>%\n",
    "    mutate(log_inuidur1=log(inuidur1))%>%\n",
    "    select(log_inuidur1,tg,female,black,othrace,dep,q2,q3,q4,q5,q6,agelt35,agegt54,durable,lusd,husd)\n",
    "head(bd4)\n",
    "\n",
    "boot.fn <- function(data, index){\n",
    " coef(lm(log_inuidur1 ~ tg+female+black+othrace+factor(dep)+q2+q3+q4+q5+q6+agelt35+agegt54+durable+lusd+husd, data = data, subset = index))   \n",
    "}"
   ]
  },
  {
   "cell_type": "code",
   "execution_count": 12,
   "id": "99ff4250-f534-49ad-b3b4-cdfac6f17dd3",
   "metadata": {},
   "outputs": [
    {
     "data": {
      "text/plain": [
       "\n",
       "ORDINARY NONPARAMETRIC BOOTSTRAP\n",
       "\n",
       "\n",
       "Call:\n",
       "boot(data = bd4, statistic = boot.fn, R = 1000)\n",
       "\n",
       "\n",
       "Bootstrap Statistics :\n",
       "         original        bias    std. error\n",
       "t1*   2.178462326  6.533692e-03 0.152177832\n",
       "t2*  -0.017923121 -1.193150e-04 0.009006437\n",
       "t3*   0.126368328 -3.655472e-04 0.034244856\n",
       "t4*  -0.293767980  2.753040e-03 0.059835702\n",
       "t5*  -0.472445058  6.524245e-03 0.236657837\n",
       "t6*   0.029866899  2.131470e-03 0.053044154\n",
       "t7*   0.096186517  8.621896e-04 0.047198106\n",
       "t8*   0.073678072 -6.499649e-03 0.150179897\n",
       "t9*  -0.038506537 -5.502363e-03 0.149282142\n",
       "t10* -0.054949195 -6.924532e-03 0.150750016\n",
       "t11* -0.144177912 -4.245511e-03 0.148840400\n",
       "t12*  0.003361318 -4.195865e-03 0.162070504\n",
       "t13* -0.162772168 -5.792106e-04 0.036135861\n",
       "t14*  0.229666708 -3.855654e-03 0.056803801\n",
       "t15*  0.126557359 -2.679068e-03 0.047489573\n",
       "t16* -0.175352572 -6.515480e-04 0.041509884\n",
       "t17* -0.105224727 -1.818379e-05 0.044307310"
      ]
     },
     "metadata": {},
     "output_type": "display_data"
    }
   ],
   "source": [
    "reg_lineal = boot(bd4, boot.fn, 1000)\n",
    "reg_lineal"
   ]
  },
  {
   "cell_type": "code",
   "execution_count": 13,
   "id": "1c61ebdf-db8d-4235-9ec7-571a1226060b",
   "metadata": {},
   "outputs": [
    {
     "data": {
      "image/png": "[encoded data removed]",
      "text/plain": [
       "Plot with title \"Histogram of t\""
      ]
     },
     "metadata": {},
     "output_type": "display_data"
    }
   ],
   "source": [
    "plot(reg_lineal, index=1) #intercept"
   ]
  },
  {
   "cell_type": "code",
   "execution_count": 14,
   "id": "c3f71c67-1361-4001-883e-21df4d6a3304",
   "metadata": {},
   "outputs": [
    {
     "data": {
      "image/png": "[encoded data removed]",
      "text/plain": [
       "Plot with title \"Histogram of t\""
      ]
     },
     "metadata": {},
     "output_type": "display_data"
    }
   ],
   "source": [
    "plot(reg_lineal, index=2) #tg coef"
   ]
  },
  {
   "cell_type": "code",
   "execution_count": 15,
   "id": "8e0ec1aa-fe4a-42c5-b6f3-ebea815d6fe5",
   "metadata": {},
   "outputs": [
    {
     "data": {
      "image/png": "[encoded data removed]",
      "text/plain": [
       "Plot with title \"Histogram of t\""
      ]
     },
     "metadata": {},
     "output_type": "display_data"
    }
   ],
   "source": [
    "plot(reg_lineal, index=3) #female coef"
   ]
  },
  {
   "cell_type": "code",
   "execution_count": 16,
   "id": "58c94a3a-ed8b-477d-8cd2-119e49cf4fb7",
   "metadata": {},
   "outputs": [
    {
     "data": {
      "image/png": "[encoded data removed]",
      "text/plain": [
       "Plot with title \"Histogram of t\""
      ]
     },
     "metadata": {},
     "output_type": "display_data"
    }
   ],
   "source": [
    "plot(reg_lineal, index=4) #black coef"
   ]
  },
  {
   "cell_type": "code",
   "execution_count": 17,
   "id": "2493e667-5b07-4440-80ab-8e48767529ba",
   "metadata": {},
   "outputs": [
    {
     "name": "stdout",
     "output_type": "stream",
     "text": [
      "  variables   std_error\n",
      "1        tg 0.005096029\n",
      "2    female 0.021363115\n",
      "3     black 0.037749723\n"
     ]
    }
   ],
   "source": [
    "sds=data.frame(variables=c(\"tg\",\"female\",\"black\"),std_error=c(0.005096029,0.021363115,0.037749723))\n",
    "print(sds)"
   ]
  },
  {
   "cell_type": "markdown",
   "id": "a7a67104-13b3-4786-b327-87ff1510f1c8",
   "metadata": {},
   "source": [
    "In this code, we start by adjusting the database to include only the variables we need. Then, we perform bootstrapping in two ways: first, using only one explanatory variable (e.g., `female`, `tg`, or `black`), and second, using these three variables along with some control variables. In both cases, we obtain the coefficients from a regression of our chosen variables. We then use the `boot` function to generate multiple samples, which gives us a distribution of the coefficients.\r\n",
    "\r\n",
    "Specifically, we adjust the Predictive Grouped Data (PGDs) from those presented in class to match this new database accurately. For all cases, we plot the distributions. In the second bootstrapping method, we focus on the first three rows that provide information on `tg`, `female`, and `black` in the presence of other variables (index = 1, 2, and 3). Note that the third row differs from the class example because we needed this variable, whereas in class, data from only two variables were presented.\r\n",
    "\r\n",
    "Finally, we retain the standard errors and present them in a tale.\r\n"
   ]
  },
  {
   "cell_type": "markdown",
   "id": "c363fe55-527c-49b1-9097-3ba96442a240",
   "metadata": {},
   "source": [
    "# Causal forest"
   ]
  },
  {
   "cell_type": "code",
   "execution_count": 18,
   "id": "716d928c-d029-4aab-93a9-9b7f52345283",
   "metadata": {},
   "outputs": [
    {
     "name": "stderr",
     "output_type": "stream",
     "text": [
      "\n",
      "-- Column specification --------------------------------------------------------\n",
      "cols(\n",
      "  schoolid = col_double(),\n",
      "  Z = col_double(),\n",
      "  Y = col_double(),\n",
      "  S3 = col_double(),\n",
      "  C1 = col_double(),\n",
      "  C2 = col_double(),\n",
      "  C3 = col_double(),\n",
      "  XC = col_double(),\n",
      "  X1 = col_double(),\n",
      "  X2 = col_double(),\n",
      "  X3 = col_double(),\n",
      "  X4 = col_double(),\n",
      "  X5 = col_double()\n",
      ")\n",
      "\n"
     ]
    },
    {
     "data": {
      "text/html": [
       "<table>\n",
       "<thead><tr><th scope=col>schoolid</th><th scope=col>Z</th><th scope=col>Y</th><th scope=col>S3</th><th scope=col>C1</th><th scope=col>C2</th><th scope=col>C3</th><th scope=col>XC</th><th scope=col>X1</th><th scope=col>X2</th><th scope=col>X3</th><th scope=col>X4</th><th scope=col>X5</th></tr></thead>\n",
       "<tbody>\n",
       "\t<tr><td>76         </td><td>1          </td><td> 0.08160167</td><td>6          </td><td> 4         </td><td>2          </td><td>1          </td><td>4          </td><td>0.3345435  </td><td>0.6485856  </td><td>-1.310927  </td><td>0.2240765  </td><td>-0.4267567 </td></tr>\n",
       "\t<tr><td>76         </td><td>1          </td><td>-0.38586896</td><td>4          </td><td>12         </td><td>2          </td><td>1          </td><td>4          </td><td>0.3345435  </td><td>0.6485856  </td><td>-1.310927  </td><td>0.2240765  </td><td>-0.4267567 </td></tr>\n",
       "\t<tr><td>76         </td><td>1          </td><td> 0.39818373</td><td>6          </td><td> 4         </td><td>2          </td><td>0          </td><td>4          </td><td>0.3345435  </td><td>0.6485856  </td><td>-1.310927  </td><td>0.2240765  </td><td>-0.4267567 </td></tr>\n",
       "\t<tr><td>76         </td><td>1          </td><td>-0.17503685</td><td>6          </td><td> 4         </td><td>2          </td><td>0          </td><td>4          </td><td>0.3345435  </td><td>0.6485856  </td><td>-1.310927  </td><td>0.2240765  </td><td>-0.4267567 </td></tr>\n",
       "\t<tr><td>76         </td><td>1          </td><td> 0.88458337</td><td>6          </td><td> 4         </td><td>1          </td><td>0          </td><td>4          </td><td>0.3345435  </td><td>0.6485856  </td><td>-1.310927  </td><td>0.2240765  </td><td>-0.4267567 </td></tr>\n",
       "\t<tr><td>76         </td><td>1          </td><td>-0.09056477</td><td>6          </td><td> 4         </td><td>2          </td><td>0          </td><td>4          </td><td>0.3345435  </td><td>0.6485856  </td><td>-1.310927  </td><td>0.2240765  </td><td>-0.4267567 </td></tr>\n",
       "</tbody>\n",
       "</table>\n"
      ],
      "text/latex": [
       "\\begin{tabular}{r|lllllllllllll}\n",
       " schoolid & Z & Y & S3 & C1 & C2 & C3 & XC & X1 & X2 & X3 & X4 & X5\\\\\n",
       "\\hline\n",
       "\t 76          & 1           &  0.08160167 & 6           &  4          & 2           & 1           & 4           & 0.3345435   & 0.6485856   & -1.310927   & 0.2240765   & -0.4267567 \\\\\n",
       "\t 76          & 1           & -0.38586896 & 4           & 12          & 2           & 1           & 4           & 0.3345435   & 0.6485856   & -1.310927   & 0.2240765   & -0.4267567 \\\\\n",
       "\t 76          & 1           &  0.39818373 & 6           &  4          & 2           & 0           & 4           & 0.3345435   & 0.6485856   & -1.310927   & 0.2240765   & -0.4267567 \\\\\n",
       "\t 76          & 1           & -0.17503685 & 6           &  4          & 2           & 0           & 4           & 0.3345435   & 0.6485856   & -1.310927   & 0.2240765   & -0.4267567 \\\\\n",
       "\t 76          & 1           &  0.88458337 & 6           &  4          & 1           & 0           & 4           & 0.3345435   & 0.6485856   & -1.310927   & 0.2240765   & -0.4267567 \\\\\n",
       "\t 76          & 1           & -0.09056477 & 6           &  4          & 2           & 0           & 4           & 0.3345435   & 0.6485856   & -1.310927   & 0.2240765   & -0.4267567 \\\\\n",
       "\\end{tabular}\n"
      ],
      "text/markdown": [
       "\n",
       "| schoolid | Z | Y | S3 | C1 | C2 | C3 | XC | X1 | X2 | X3 | X4 | X5 |\n",
       "|---|---|---|---|---|---|---|---|---|---|---|---|---|\n",
       "| 76          | 1           |  0.08160167 | 6           |  4          | 2           | 1           | 4           | 0.3345435   | 0.6485856   | -1.310927   | 0.2240765   | -0.4267567  |\n",
       "| 76          | 1           | -0.38586896 | 4           | 12          | 2           | 1           | 4           | 0.3345435   | 0.6485856   | -1.310927   | 0.2240765   | -0.4267567  |\n",
       "| 76          | 1           |  0.39818373 | 6           |  4          | 2           | 0           | 4           | 0.3345435   | 0.6485856   | -1.310927   | 0.2240765   | -0.4267567  |\n",
       "| 76          | 1           | -0.17503685 | 6           |  4          | 2           | 0           | 4           | 0.3345435   | 0.6485856   | -1.310927   | 0.2240765   | -0.4267567  |\n",
       "| 76          | 1           |  0.88458337 | 6           |  4          | 1           | 0           | 4           | 0.3345435   | 0.6485856   | -1.310927   | 0.2240765   | -0.4267567  |\n",
       "| 76          | 1           | -0.09056477 | 6           |  4          | 2           | 0           | 4           | 0.3345435   | 0.6485856   | -1.310927   | 0.2240765   | -0.4267567  |\n",
       "\n"
      ],
      "text/plain": [
       "  schoolid Z Y           S3 C1 C2 C3 XC X1        X2        X3        X4       \n",
       "1 76       1  0.08160167 6   4 2  1  4  0.3345435 0.6485856 -1.310927 0.2240765\n",
       "2 76       1 -0.38586896 4  12 2  1  4  0.3345435 0.6485856 -1.310927 0.2240765\n",
       "3 76       1  0.39818373 6   4 2  0  4  0.3345435 0.6485856 -1.310927 0.2240765\n",
       "4 76       1 -0.17503685 6   4 2  0  4  0.3345435 0.6485856 -1.310927 0.2240765\n",
       "5 76       1  0.88458337 6   4 1  0  4  0.3345435 0.6485856 -1.310927 0.2240765\n",
       "6 76       1 -0.09056477 6   4 2  0  4  0.3345435 0.6485856 -1.310927 0.2240765\n",
       "  X5        \n",
       "1 -0.4267567\n",
       "2 -0.4267567\n",
       "3 -0.4267567\n",
       "4 -0.4267567\n",
       "5 -0.4267567\n",
       "6 -0.4267567"
      ]
     },
     "metadata": {},
     "output_type": "display_data"
    }
   ],
   "source": [
    "url=\"https://raw.githubusercontent.com/grf-labs/grf/f79679d72124db505b92aca0be0ab2a694b70749/experiments/acic18/synthetic_data.csv\"\n",
    "data.all=read_csv(url)\n",
    "head(data.all)"
   ]
  },
  {
   "cell_type": "markdown",
   "id": "1dadbb9d-1bb0-4569-aa99-74e43d83c185",
   "metadata": {},
   "source": [
    "The document explains the construction of a causal forest, which is an adaptation of the random forest algorithm. The random forest predictions are averaged over multiple trees. Each tree is grown on a subsample of the data, which is drawn considering the clusters (schools) to account for the potential correlations within clusters. For prediction, only trees that do not include the observation's cluster are used."
   ]
  },
  {
   "cell_type": "code",
   "execution_count": 19,
   "id": "8609acfc-3541-4db6-993f-6854283ec4af",
   "metadata": {},
   "outputs": [],
   "source": [
    "data.all$schoolid = factor(data.all$schoolid)\n",
    "DF = data.all[,-1]\n",
    "school.id = as.numeric(data.all$schoolid)\n",
    "school.mat = model.matrix(~ schoolid + 0, data = data.all)\n",
    "school.size = colSums(school.mat)"
   ]
  },
  {
   "cell_type": "markdown",
   "id": "c981a0d8-6405-499d-8ad5-df57c372116f",
   "metadata": {},
   "source": [
    "The ATE is estimated using causal forests. It involves averaging the treatment effects predicted by each tree in the forest. The document provides the formula for estimating ATE and discusses the impact of clustering on the precision of the estimates. Without clustering, the confidence interval for ATE is narrower, but this might lead to overoptimistic results​"
   ]
  },
  {
   "cell_type": "code",
   "execution_count": 20,
   "id": "c72c1b39-9bfe-4153-8ab2-ccf39e669e48",
   "metadata": {},
   "outputs": [
    {
     "data": {
      "text/plain": [
       "\n",
       "Call:\n",
       "glm(formula = Z ~ ., family = binomial, data = data.all[, -3])\n",
       "\n",
       "Deviance Residuals: \n",
       "    Min       1Q   Median       3Q      Max  \n",
       "-1.2079  -0.9088  -0.8297   1.4176   1.9556  \n",
       "\n",
       "Coefficients: (6 not defined because of singularities)\n",
       "              Estimate Std. Error z value Pr(>|z|)    \n",
       "(Intercept) -0.9524636  0.2845173  -3.348 0.000815 ***\n",
       "schoolid2    0.0697302  0.2766287   0.252 0.800986    \n",
       "schoolid3    0.0382080  0.2911323   0.131 0.895586    \n",
       "schoolid4    0.1761334  0.2784711   0.633 0.527059    \n",
       "schoolid5   -0.0033389  0.2950180  -0.011 0.990970    \n",
       "schoolid6    0.0583548  0.3067481   0.190 0.849124    \n",
       "schoolid7   -0.1313759  0.3188190  -0.412 0.680288    \n",
       "schoolid8    0.1233661  0.3023736   0.408 0.683279    \n",
       "schoolid9   -0.1955428  0.3073344  -0.636 0.524611    \n",
       "schoolid10  -0.1892794  0.2968750  -0.638 0.523752    \n",
       "schoolid11  -0.2224060  0.5461005  -0.407 0.683816    \n",
       "schoolid12  -0.3312420  0.5414374  -0.612 0.540682    \n",
       "schoolid13  -0.0408540  0.3989507  -0.102 0.918436    \n",
       "schoolid14  -0.8681934  0.6033674  -1.439 0.150175    \n",
       "schoolid15  -0.1059135  0.3263162  -0.325 0.745504    \n",
       "schoolid16  -0.1063268  0.2885387  -0.369 0.712500    \n",
       "schoolid17   0.0854323  0.3119435   0.274 0.784184    \n",
       "schoolid18  -0.1924441  0.2997822  -0.642 0.520908    \n",
       "schoolid19  -0.0265326  0.3229712  -0.082 0.934526    \n",
       "schoolid20  -0.2179554  0.3041336  -0.717 0.473594    \n",
       "schoolid21  -0.2147440  0.2982822  -0.720 0.471565    \n",
       "schoolid22  -0.5115966  0.4410779  -1.160 0.246098    \n",
       "schoolid23   0.0039231  0.3475373   0.011 0.990994    \n",
       "schoolid24  -0.0848314  0.3259572  -0.260 0.794668    \n",
       "schoolid25   0.0521087  0.2754586   0.189 0.849959    \n",
       "schoolid26   0.0241212  0.2876511   0.084 0.933171    \n",
       "schoolid27  -0.2300630  0.3104796  -0.741 0.458698    \n",
       "schoolid28  -0.3519010  0.2924774  -1.203 0.228909    \n",
       "schoolid29  -0.2198764  0.3293288  -0.668 0.504357    \n",
       "schoolid30  -0.3146292  0.3257994  -0.966 0.334187    \n",
       "schoolid31   0.1398555  0.6137901   0.228 0.819759    \n",
       "schoolid32   0.1555524  0.3916156   0.397 0.691215    \n",
       "schoolid33  -0.0991693  0.3939370  -0.252 0.801243    \n",
       "schoolid34  -0.0073688  0.2980808  -0.025 0.980278    \n",
       "schoolid35  -0.3528987  0.3997273  -0.883 0.377318    \n",
       "schoolid36  -0.3751465  0.3988972  -0.940 0.346982    \n",
       "schoolid37  -0.0343169  0.3219646  -0.107 0.915117    \n",
       "schoolid38  -0.1346432  0.3851869  -0.350 0.726674    \n",
       "schoolid39  -0.4339936  0.3612869  -1.201 0.229657    \n",
       "schoolid40  -0.3993958  0.3834495  -1.042 0.297604    \n",
       "schoolid41  -0.1490784  0.3542105  -0.421 0.673846    \n",
       "schoolid42  -0.1545715  0.3551857  -0.435 0.663428    \n",
       "schoolid43  -0.5679567  0.4277455  -1.328 0.184247    \n",
       "schoolid44  -0.1425896  0.3774795  -0.378 0.705623    \n",
       "schoolid45  -0.1337888  0.3232493  -0.414 0.678957    \n",
       "schoolid46  -0.2573249  0.3129119  -0.822 0.410874    \n",
       "schoolid47   0.0027726  0.2770108   0.010 0.992014    \n",
       "schoolid48  -0.3406079  0.3470361  -0.981 0.326358    \n",
       "schoolid49  -0.3236117  0.3434541  -0.942 0.346077    \n",
       "schoolid50  -0.1185119  0.4086074  -0.290 0.771787    \n",
       "schoolid51   0.4087898  0.4506822   0.907 0.364382    \n",
       "schoolid52  -0.3144014  0.4118342  -0.763 0.445214    \n",
       "schoolid53  -0.2733677  0.4511280  -0.606 0.544538    \n",
       "schoolid54  -0.0889588  0.3872532  -0.230 0.818311    \n",
       "schoolid55  -0.1558106  0.4155020  -0.375 0.707665    \n",
       "schoolid56   0.1050353  0.3149235   0.334 0.738737    \n",
       "schoolid57  -0.0314901  0.2901719  -0.109 0.913581    \n",
       "schoolid58  -0.0383183  0.2730077  -0.140 0.888379    \n",
       "schoolid59  -0.0529637  0.2934895  -0.180 0.856790    \n",
       "schoolid60  -0.1624792  0.3972885  -0.409 0.682561    \n",
       "schoolid61  -0.0289549  0.3201953  -0.090 0.927946    \n",
       "schoolid62   0.0993158  0.2669678   0.372 0.709882    \n",
       "schoolid63   0.1684702  0.3282167   0.513 0.607749    \n",
       "schoolid64  -0.0693060  0.2770896  -0.250 0.802493    \n",
       "schoolid65  -0.0004197  0.4072922  -0.001 0.999178    \n",
       "schoolid66  -0.2130911  0.2984091  -0.714 0.475171    \n",
       "schoolid67   0.0358440  0.2921158   0.123 0.902341    \n",
       "schoolid68  -0.0871303  0.3290814  -0.265 0.791188    \n",
       "schoolid69  -0.2550387  0.2908992  -0.877 0.380636    \n",
       "schoolid70  -0.0268947  0.4032160  -0.067 0.946820    \n",
       "schoolid71   0.0037464  0.4268290   0.009 0.992997    \n",
       "schoolid72  -0.1304085  0.2881512  -0.453 0.650859    \n",
       "schoolid73  -0.2160697  0.2840030  -0.761 0.446776    \n",
       "schoolid74  -0.0935320  0.2842612  -0.329 0.742129    \n",
       "schoolid75  -0.1056241  0.3024204  -0.349 0.726892    \n",
       "schoolid76  -0.1052261  0.2939262  -0.358 0.720342    \n",
       "S3           0.1036077  0.0197345   5.250 1.52e-07 ***\n",
       "C1          -0.0015919  0.0053900  -0.295 0.767728    \n",
       "C2          -0.1038596  0.0424020  -2.449 0.014309 *  \n",
       "C3          -0.1319218  0.0461833  -2.856 0.004284 ** \n",
       "XC                  NA         NA      NA       NA    \n",
       "X1                  NA         NA      NA       NA    \n",
       "X2                  NA         NA      NA       NA    \n",
       "X3                  NA         NA      NA       NA    \n",
       "X4                  NA         NA      NA       NA    \n",
       "X5                  NA         NA      NA       NA    \n",
       "---\n",
       "Signif. codes:  0 '***' 0.001 '**' 0.01 '*' 0.05 '.' 0.1 ' ' 1\n",
       "\n",
       "(Dispersion parameter for binomial family taken to be 1)\n",
       "\n",
       "    Null deviance: 13115  on 10390  degrees of freedom\n",
       "Residual deviance: 13009  on 10311  degrees of freedom\n",
       "AIC: 13169\n",
       "\n",
       "Number of Fisher Scoring iterations: 4\n"
      ]
     },
     "metadata": {},
     "output_type": "display_data"
    },
    {
     "data": {
      "text/html": [
       "'95% CI for the ATE: 0.246 +/- 0.041'"
      ],
      "text/latex": [
       "'95\\% CI for the ATE: 0.246 +/- 0.041'"
      ],
      "text/markdown": [
       "'95% CI for the ATE: 0.246 +/- 0.041'"
      ],
      "text/plain": [
       "[1] \"95% CI for the ATE: 0.246 +/- 0.041\""
      ]
     },
     "metadata": {},
     "output_type": "display_data"
    }
   ],
   "source": [
    "w.lm = glm(Z ~ ., data = data.all[,-3], family = binomial)\n",
    "summary(w.lm)\n",
    "\n",
    "W = DF$Z\n",
    "Y = DF$Y\n",
    "X.raw = DF[,-(1:2)]\n",
    "\n",
    "C1.exp = model.matrix(~ factor(X.raw$C1) + 0)\n",
    "XC.exp = model.matrix(~ factor(X.raw$XC) + 0)\n",
    "\n",
    "X = cbind(X.raw[,-which(names(X.raw) %in% c(\"C1\", \"XC\"))], C1.exp, XC.exp)\n",
    "\n",
    "# Grow a forest. Add extra trees for the causal forest.\n",
    "\n",
    "Y.forest = regression_forest(X, Y, clusters = school.id, equalize.cluster.weights = TRUE)\n",
    "Y.hat = predict(Y.forest)$predictions\n",
    "W.forest = regression_forest(X, W, clusters = school.id, equalize.cluster.weights = TRUE)\n",
    "W.hat = predict(W.forest)$predictions\n",
    "\n",
    "cf.raw = causal_forest(X, Y, W,\n",
    "                       Y.hat = Y.hat, W.hat = W.hat,\n",
    "                       clusters = school.id,\n",
    "                       equalize.cluster.weights = TRUE)\n",
    "varimp = variable_importance(cf.raw)\n",
    "selected.idx = which(varimp > mean(varimp))\n",
    "\n",
    "cf = causal_forest(X[,selected.idx], Y, W,\n",
    "                   Y.hat = Y.hat, W.hat = W.hat,\n",
    "                   clusters = school.id,\n",
    "                   equalize.cluster.weights = TRUE,\n",
    "                   tune.parameters = \"all\")\n",
    "tau.hat = predict(cf)$predictions\n",
    "\n",
    "# Estimate ATE\n",
    "\n",
    "ATE = average_treatment_effect(cf)\n",
    "paste(\"95% CI for the ATE:\", round(ATE[1], 3),\n",
    "      \"+/-\", round(qnorm(0.975) * ATE[2], 3))"
   ]
  },
  {
   "cell_type": "markdown",
   "id": "8817f584-c003-45d0-9b42-3cce2bd516f5",
   "metadata": {},
   "source": [
    "The best linear predictor analysis is performed by testing the calibration of the causal forest predictions. This involves comparing the predicted treatment effects with actual outcomes to ensure the model's predictions are unbiased. The analysis reveals significant differences when clustering is ignored, indicating the importance of accounting for clustering in the model​"
   ]
  },
  {
   "cell_type": "code",
   "execution_count": 21,
   "id": "1eff4259-ca3b-4a41-b232-b7c1682d191c",
   "metadata": {},
   "outputs": [
    {
     "data": {
      "text/plain": [
       "\n",
       "Best linear fit using forest predictions (on held-out data)\n",
       "as well as the mean forest prediction as regressors, along\n",
       "with one-sided heteroskedasticity-robust (HC3) SEs:\n",
       "\n",
       "                               Estimate Std. Error t value Pr(>t)    \n",
       "mean.forest.prediction         0.990040   0.081962 12.0792 <2e-16 ***\n",
       "differential.forest.prediction 0.082704   0.637930  0.1296 0.4484    \n",
       "---\n",
       "Signif. codes:  0 '***' 0.001 '**' 0.01 '*' 0.05 '.' 0.1 ' ' 1\n"
      ]
     },
     "metadata": {},
     "output_type": "display_data"
    }
   ],
   "source": [
    "test_calibration(cf)"
   ]
  },
  {
   "cell_type": "markdown",
   "id": "1a6584d9-efbe-490d-8616-668b6a239c20",
   "metadata": {},
   "source": [
    "The analysis examines heterogeneity in treatment effects across schools. This is done by comparing the estimates from a cluster-robust causal forest with those from a non-cluster-robust version. The results show that ignoring clustering leads to overfitting and artificial detection of heterogeneity due to school-specific effects​"
   ]
  },
  {
   "cell_type": "code",
   "execution_count": 22,
   "id": "5d73c4e2-6f79-4c98-94e8-e1eb2de910d9",
   "metadata": {},
   "outputs": [
    {
     "data": {
      "text/plain": [
       "\n",
       "\tWelch Two Sample t-test\n",
       "\n",
       "data:  school.score[high.X1] and school.score[!high.X1]\n",
       "t = -3.0396, df = 71.913, p-value = 0.003303\n",
       "alternative hypothesis: true difference in means is not equal to 0\n",
       "95 percent confidence interval:\n",
       " -0.19278658 -0.04006791\n",
       "sample estimates:\n",
       "mean of x mean of y \n",
       "0.1882880 0.3047153 \n"
      ]
     },
     "metadata": {},
     "output_type": "display_data"
    },
    {
     "data": {
      "text/plain": [
       "\n",
       "\tWelch Two Sample t-test\n",
       "\n",
       "data:  school.score[high.X2] and school.score[!high.X2]\n",
       "t = 1.0315, df = 72.418, p-value = 0.3057\n",
       "alternative hypothesis: true difference in means is not equal to 0\n",
       "95 percent confidence interval:\n",
       " -0.03879265  0.12200789\n",
       "sample estimates:\n",
       "mean of x mean of y \n",
       "0.2673055 0.2256979 \n"
      ]
     },
     "metadata": {},
     "output_type": "display_data"
    },
    {
     "data": {
      "text/plain": [
       "                 Df Sum Sq Mean Sq F value Pr(>F)\n",
       "school.X2.levels  2  0.084 0.04199   1.371   0.26\n",
       "Residuals        73  2.236 0.03064               "
      ]
     },
     "metadata": {},
     "output_type": "display_data"
    },
    {
     "data": {
      "text/plain": [
       "\n",
       "\tOne Sample t-test\n",
       "\n",
       "data:  school.score.XS3.high - school.score.XS3.low\n",
       "t = 2.1805, df = 75, p-value = 0.03235\n",
       "alternative hypothesis: true mean is not equal to 0\n",
       "95 percent confidence interval:\n",
       " 0.007186194 0.159129160\n",
       "sample estimates:\n",
       " mean of x \n",
       "0.08315768 \n"
      ]
     },
     "metadata": {},
     "output_type": "display_data"
    },
    {
     "data": {
      "image/png": "[encoded data removed]",
      "text/plain": [
       "plot without title"
      ]
     },
     "metadata": {},
     "output_type": "display_data"
    },
    {
     "data": {
      "image/png": "[encoded data removed]",
      "text/plain": [
       "Plot with title \"\""
      ]
     },
     "metadata": {},
     "output_type": "display_data"
    }
   ],
   "source": [
    "dr.score = tau.hat + W / cf$W.hat *\n",
    "  (Y - cf$Y.hat - (1 - cf$W.hat) * tau.hat) -\n",
    "  (1 - W) / (1 - cf$W.hat) * (Y - cf$Y.hat + cf$W.hat * tau.hat)\n",
    "school.score = t(school.mat) %*% dr.score / school.size\n",
    "\n",
    "school.X1 = t(school.mat) %*% X$X1 / school.size\n",
    "high.X1 = school.X1 > median(school.X1)\n",
    "t.test(school.score[high.X1], school.score[!high.X1])\n",
    "\n",
    "school.X2 = (t(school.mat) %*% X$X2) / school.size\n",
    "high.X2 = school.X2 > median(school.X2)\n",
    "t.test(school.score[high.X2], school.score[!high.X2])\n",
    "\n",
    "school.X2.levels = cut(school.X2,\n",
    "  breaks = c(-Inf, quantile(school.X2, c(1/3, 2/3)), Inf))\n",
    "summary(aov(school.score ~ school.X2.levels))\n",
    "\n",
    "school.score.XS3.high = t(school.mat) %*% (dr.score * (X$S3 >= 6)) /\n",
    "  t(school.mat) %*% (X$S3 >= 6)\n",
    "school.score.XS3.low = t(school.mat) %*% (dr.score * (X$S3 < 6)) /\n",
    "  t(school.mat) %*% (X$S3 < 6)\n",
    "\n",
    "plot(school.score.XS3.low, school.score.XS3.high)\n",
    "t.test(school.score.XS3.high - school.score.XS3.low)\n",
    "\n",
    "pardef = par(mar = c(5, 4, 4, 2) + 0.5, cex.lab=1.5, cex.axis=1.5, cex.main=1.5, cex.sub=1.5)\n",
    "hist(school.score, xlab = \"School Treatment Effect Estimate\", main = \"\")"
   ]
  },
  {
   "cell_type": "code",
   "execution_count": 23,
   "id": "3ddbb759-7035-4be0-8bdc-8948da9ba16b",
   "metadata": {},
   "outputs": [
    {
     "name": "stdout",
     "output_type": "stream",
     "text": [
      "[1] \"0.247 +/- 0.04\"\n"
     ]
    }
   ],
   "source": [
    "ate.hat = mean(school.score)\n",
    "se.hat = sqrt(var(school.score) / length(school.score - 1))\n",
    "print(paste(round(ate.hat, 3), \"+/-\", round(1.96 * se.hat, 3)))"
   ]
  },
  {
   "cell_type": "code",
   "execution_count": 24,
   "id": "dccb1962-9684-44a5-b114-71c3c5324a99",
   "metadata": {},
   "outputs": [
    {
     "data": {
      "image/png": "[encoded data removed]",
      "text/plain": [
       "plot without title"
      ]
     },
     "metadata": {},
     "output_type": "display_data"
    }
   ],
   "source": [
    "DF = X\n",
    "DF$W.hat = cf$W.hat\n",
    "\n",
    "pardef = par(mar = c(5, 4, 4, 2) + 0.5, cex.lab=1.5, cex.axis=1.5, cex.main=1.5, cex.sub=1.5)\n",
    "boxplot(W.hat ~ S3, data = DF, ylab = \"Propensity Score\", xlab = \"Student Expectation of Success\")\n",
    "lines(smooth.spline(X$S3, cf$W.hat), lwd = 2, col = 4)"
   ]
  },
  {
   "cell_type": "markdown",
   "id": "4404e4ea-6c3a-4bc8-ae5a-16967fd11d84",
   "metadata": {},
   "source": [
    "An analysis without clustering shows markedly different results, with narrower confidence intervals and apparent heterogeneity. However, these findings are attributed to overfitting rather than genuine heterogeneity, emphasizing the necessity of considering clustering in the analysis​"
   ]
  },
  {
   "cell_type": "code",
   "execution_count": 25,
   "id": "90a30fc0-1a7c-49ee-9372-1177019533ed",
   "metadata": {},
   "outputs": [
    {
     "data": {
      "text/html": [
       "'95% CI for the ATE: 0.252 +/- 0.022'"
      ],
      "text/latex": [
       "'95\\% CI for the ATE: 0.252 +/- 0.022'"
      ],
      "text/markdown": [
       "'95% CI for the ATE: 0.252 +/- 0.022'"
      ],
      "text/plain": [
       "[1] \"95% CI for the ATE: 0.252 +/- 0.022\""
      ]
     },
     "metadata": {},
     "output_type": "display_data"
    },
    {
     "data": {
      "text/plain": [
       "\n",
       "Best linear fit using forest predictions (on held-out data)\n",
       "as well as the mean forest prediction as regressors, along\n",
       "with one-sided heteroskedasticity-robust (HC3) SEs:\n",
       "\n",
       "                               Estimate Std. Error t value    Pr(>t)    \n",
       "mean.forest.prediction         1.006825   0.045059 22.3444 < 2.2e-16 ***\n",
       "differential.forest.prediction 0.547933   0.132450  4.1369 1.774e-05 ***\n",
       "---\n",
       "Signif. codes:  0 '***' 0.001 '**' 0.01 '*' 0.05 '.' 0.1 ' ' 1\n"
      ]
     },
     "metadata": {},
     "output_type": "display_data"
    },
    {
     "name": "stdout",
     "output_type": "stream",
     "text": [
      "[1] 1\n",
      "[1] 2\n",
      "[1] 3\n",
      "[1] 4\n",
      "[1] 5\n"
     ]
    },
    {
     "data": {
      "text/plain": [
       "\n",
       "Best linear fit using forest predictions (on held-out data)\n",
       "as well as the mean forest prediction as regressors, along\n",
       "with one-sided heteroskedasticity-robust (HC3) SEs:\n",
       "\n",
       "                               Estimate Std. Error t value  Pr(>t)    \n",
       "mean.forest.prediction         1.009696   0.066775 15.1209 < 2e-16 ***\n",
       "differential.forest.prediction 0.293322   0.226067  1.2975 0.09724 .  \n",
       "---\n",
       "Signif. codes:  0 '***' 0.001 '**' 0.01 '*' 0.05 '.' 0.1 ' ' 1\n"
      ]
     },
     "metadata": {},
     "output_type": "display_data"
    },
    {
     "data": {
      "text/html": [
       "<ol class=list-inline>\n",
       "\t<li>-0.000154714413703128</li>\n",
       "\t<li>0.000329213161855912</li>\n",
       "</ol>\n"
      ],
      "text/latex": [
       "\\begin{enumerate*}\n",
       "\\item -0.000154714413703128\n",
       "\\item 0.000329213161855912\n",
       "\\end{enumerate*}\n"
      ],
      "text/markdown": [
       "1. -0.000154714413703128\n",
       "2. 0.000329213161855912\n",
       "\n",
       "\n"
      ],
      "text/plain": [
       "[1] -0.0001547144  0.0003292132"
      ]
     },
     "metadata": {},
     "output_type": "display_data"
    },
    {
     "data": {
      "text/plain": [
       "                     Df Sum Sq Mean Sq F value  Pr(>F)    \n",
       "factor(school.id)    75    203   2.709   1.999 7.3e-07 ***\n",
       "Residuals         10315  13978   1.355                    \n",
       "---\n",
       "Signif. codes:  0 '***' 0.001 '**' 0.01 '*' 0.05 '.' 0.1 ' ' 1"
      ]
     },
     "metadata": {},
     "output_type": "display_data"
    },
    {
     "data": {
      "image/png": "[encoded data removed]",
      "text/plain": [
       "plot without title"
      ]
     },
     "metadata": {},
     "output_type": "display_data"
    }
   ],
   "source": [
    "cf.noclust = causal_forest(X[,selected.idx], Y, W,\n",
    "                           Y.hat = Y.hat, W.hat = W.hat,\n",
    "                           tune.parameters = \"all\")\n",
    "\n",
    "ATE.noclust = average_treatment_effect(cf.noclust)\n",
    "paste(\"95% CI for the ATE:\", round(ATE.noclust[1], 3),\n",
    "      \"+/-\", round(qnorm(0.975) * ATE.noclust[2], 3))\n",
    "\n",
    "test_calibration(cf.noclust)\n",
    "\n",
    "tau.hat.noclust = predict(cf.noclust)$predict\n",
    "plot(school.id, tau.hat.noclust)\n",
    "\n",
    "nfold = 5\n",
    "school.levels = unique(school.id)\n",
    "cluster.folds = sample.int(nfold, length(school.levels), replace = TRUE)\n",
    "\n",
    "tau.hat.crossfold = rep(NA, length(Y))\n",
    "for (foldid in 1:nfold) {\n",
    "  print(foldid)\n",
    "  infold = school.id %in% school.levels[cluster.folds == foldid]\n",
    "  cf.fold = causal_forest(X[!infold, selected.idx], Y[!infold], W[!infold],\n",
    "                          Y.hat = Y.hat[!infold], W.hat = W.hat[!infold],\n",
    "                          tune.parameters = \"all\")\n",
    "  pred.fold = predict(cf.fold, X[infold, selected.idx])$predictions\n",
    "  tau.hat.crossfold[infold] = pred.fold\n",
    "}\n",
    "\n",
    "cf.noclust.cpy = cf.noclust\n",
    "cf.noclust.cpy$predictions = tau.hat.crossfold\n",
    "cf.noclust.cpy$clusters = school.id\n",
    "test_calibration(cf.noclust.cpy)\n",
    "\n",
    "Rloss = mean(((Y - Y.hat) - tau.hat * (W - W.hat))^2)\n",
    "Rloss.noclust = mean(((Y - Y.hat) - tau.hat.noclust * (W - W.hat))^2)\n",
    "Rloss.crossfold = mean(((Y - Y.hat) - tau.hat.crossfold * (W - W.hat))^2)\n",
    "\n",
    "c(Rloss.noclust - Rloss, Rloss.crossfold - Rloss)\n",
    "\n",
    "summary(aov(dr.score ~ factor(school.id)))"
   ]
  },
  {
   "cell_type": "markdown",
   "id": "07b02e48-92d0-4861-9bb1-258ef95f528c",
   "metadata": {},
   "source": [
    "The document doesn't explicitly cover an analysis without fitting the propensity score. However, the general approach in causal forests includes estimating the propensity score and using it in the treatment effect estimation. Ignoring this step would likely lead to biased estimates"
   ]
  },
  {
   "cell_type": "code",
   "execution_count": 26,
   "id": "0e01d50f-2f6d-46ed-9858-9dfdd3a816e3",
   "metadata": {},
   "outputs": [
    {
     "data": {
      "text/html": [
       "'95% CI for the ATE: 0.254 +/- 0.04'"
      ],
      "text/latex": [
       "'95\\% CI for the ATE: 0.254 +/- 0.04'"
      ],
      "text/markdown": [
       "'95% CI for the ATE: 0.254 +/- 0.04'"
      ],
      "text/plain": [
       "[1] \"95% CI for the ATE: 0.254 +/- 0.04\""
      ]
     },
     "metadata": {},
     "output_type": "display_data"
    },
    {
     "data": {
      "image/png": "[encoded data removed]",
      "text/plain": [
       "plot without title"
      ]
     },
     "metadata": {},
     "output_type": "display_data"
    }
   ],
   "source": [
    "cf.noprop = causal_forest(X[,selected.idx], Y, W,\n",
    "                          Y.hat = Y.hat, W.hat = mean(W),\n",
    "                          tune.parameters = \"all\",\n",
    "                          equalize.cluster.weights = TRUE,\n",
    "                          clusters = school.id)\n",
    "tau.hat.noprop = predict(cf.noprop)$predictions\n",
    "\n",
    "ATE.noprop = average_treatment_effect(cf.noprop)\n",
    "paste(\"95% CI for the ATE:\", round(ATE.noprop[1], 3),\n",
    "      \"+/-\", round(qnorm(0.975) * ATE.noprop[2], 3))\n",
    "\n",
    "pardef = par(mar = c(5, 4, 4, 2) + 0.5, cex.lab=1.5, cex.axis=1.5, cex.main=1.5, cex.sub=1.5)\n",
    "plot(tau.hat, tau.hat.noprop,\n",
    "     xlim = range(tau.hat, tau.hat.noprop),\n",
    "     ylim = range(tau.hat, tau.hat.noprop),\n",
    "     xlab = \"orthogonalized causal forest estimates\",\n",
    "     ylab = \"non-orthogonalized causal forest\")\n",
    "abline(0, 1, lwd = 2, lty = 2, col = 4)\n",
    "par = pardef"
   ]
  },
  {
   "cell_type": "markdown",
   "id": "814b8ac4-0a5f-4bdc-bbf0-ea2797589d59",
   "metadata": {},
   "source": [
    "The plots:\n",
    "1. **Histogram of Estimated CATE**: Displays the distribution of the conditional average treatment effects (CATE) estimates. This allows for visualizing the heterogeneity in treatment effects.\n",
    "\n",
    "2. **Box Plot of CATE vs X1**: Examines how the school-level variable X1 (pre-existing mindset norms) might moderate the treatment effect.\n",
    "\n",
    "3. **Box Plot of CATE vs X2**: Similar to the previous one but explores the variable X2, which is the achievement level of the school.\n",
    "\n",
    "4. **Scatter Plot of School-wise Forest Predictions**: Compares average CATE predictions at the school level with predictions based on a regression forest, illustrating how school covariates might relate to treatment heterogeneity.\n",
    "\n",
    "5. **Histograms of CATE Estimates Without Propensity and Without Clustering**: These histograms compare CATE estimates when clustering effects by schools and propensity scores are not considered, showing how omitting these can impact the estimates.\n",
    "\n",
    "6. **Per-School Prediction Comparison**: This plot compares treatment effect predictions for each school, showing variability and possibly identifying schools with unique features in terms of treatment effects.\n"
   ]
  },
  {
   "cell_type": "code",
   "execution_count": 27,
   "id": "bfcdbb0a-2661-4a12-a22b-0db4271df88d",
   "metadata": {},
   "outputs": [
    {
     "data": {
      "image/png": "[encoded data removed]",
      "text/plain": [
       "Plot with title \"\""
      ]
     },
     "metadata": {},
     "output_type": "display_data"
    },
    {
     "ename": "ERROR",
     "evalue": "Error in hist.default(tau.hat.noclust, xlab = \"estimated CATE\", main = \"\", : some 'x' not counted; maybe 'breaks' do not span range of 'x'\n",
     "output_type": "error",
     "traceback": [
      "Error in hist.default(tau.hat.noclust, xlab = \"estimated CATE\", main = \"\", : some 'x' not counted; maybe 'breaks' do not span range of 'x'\nTraceback:\n",
      "1. hist(tau.hat.noclust, xlab = \"estimated CATE\", main = \"\", breaks = seq(-0, \n .     0.55, by = 0.55/25))",
      "2. hist.default(tau.hat.noclust, xlab = \"estimated CATE\", main = \"\", \n .     breaks = seq(-0, 0.55, by = 0.55/25))",
      "3. stop(\"some 'x' not counted; maybe 'breaks' do not span range of 'x'\")"
     ]
    },
    {
     "data": {
      "image/png": "[encoded data removed]",
      "text/plain": [
       "Plot with title \"\""
      ]
     },
     "metadata": {},
     "output_type": "display_data"
    }
   ],
   "source": [
    "pardef = par(mar = c(5, 4, 4, 2) + 0.5, cex.lab=1.5, cex.axis=1.5, cex.main=1.5, cex.sub=1.5)\n",
    "hist(tau.hat, xlab = \"estimated CATE\", main = \"\")\n",
    "\n",
    "pardef = par(mar = c(5, 4, 4, 2) + 0.5, cex.lab=1.5, cex.axis=1.5, cex.main=1.5, cex.sub=1.5)\n",
    "hist(tau.hat.noprop, xlab = \"estimated CATE\", main = \"\")\n",
    "\n",
    "pardef = par(mar = c(5, 4, 4, 2) + 0.5, cex.lab=1.5, cex.axis=1.5, cex.main=1.5, cex.sub=1.5)\n",
    "hist(tau.hat.noclust, xlab = \"estimated CATE\", main = \"\",\n",
    "     breaks = seq(-0.0, 0.55, by = 0.55 / 25))\n",
    "\n",
    "\n",
    "pardef = par(mar = c(5, 4, 4, 2) + 0.5, cex.lab=1.5, cex.axis=1.5, cex.main=1.5, cex.sub=1.5)\n",
    "boxplot(tau.hat ~ round(X$X1), xlab = \"X1\", ylab = \"estimated CATE\")\n",
    "lines(smooth.spline(4 + X[,\"X1\"], tau.hat, df = 4), lwd = 2, col = 4)\n",
    "\n",
    "pardef = par(mar = c(5, 4, 4, 2) + 0.5, cex.lab=1.5, cex.axis=1.5, cex.main=1.5, cex.sub=1.5)\n",
    "boxplot(tau.hat ~ round(X$X2), xlab = \"X2\", ylab = \"estimated CATE\")\n",
    "lines(smooth.spline(4 + X[,\"X2\"], tau.hat, df = 4), lwd = 2, col = 4)\n",
    "\n",
    "school.avg.tauhat = t(school.mat) %*% tau.hat / school.size\n",
    "\n",
    "pardef = par(mar = c(5, 4, 4, 2) + 0.5, cex.lab=1.5, cex.axis=1.5, cex.main=1.5, cex.sub=1.5)\n",
    "plot(school.avg.tauhat, school.pred, cex = 1.5,\n",
    "     xlim = range(school.avg.tauhat, school.pred),\n",
    "     ylim = range(school.avg.tauhat, school.pred),\n",
    "     xlab = \"average CATE estimate in school\",\n",
    "     ylab = \"school-wise forest predictions\")\n",
    "abline(0, 1, lwd = 2, lty = 2, col = 4)\n",
    "par = pardef"
   ]
  },
  {
   "cell_type": "markdown",
   "id": "83652f27-2abf-4a64-987e-f57b1201bee7",
   "metadata": {},
   "source": [
    "Visualizations should include school-level covariates to explore their relationship with treatment heterogeneity. This involves plotting the estimated treatment effects against covariates to identify patterns or anomalies that could indicate school-specific effects​"
   ]
  },
  {
   "cell_type": "code",
   "execution_count": null,
   "id": "b73a3ce6-57d6-4094-858e-09586834dbfa",
   "metadata": {},
   "outputs": [],
   "source": [
    "school.X.std = scale(school.X)\n",
    "school.tercile = cut(school.pred,\n",
    "                     breaks = c(-Inf, quantile(school.pred, c(1/3, 2/3)), Inf))\n",
    "school.tercile.mat = model.matrix(~ school.tercile + 0)\n",
    "school.means = diag(1 / colSums(school.tercile.mat)) %*% t(school.tercile.mat) %*% as.matrix(school.X.std)\n",
    "\n",
    "MM = max(abs(school.means))\n",
    "HC = heat.colors(21)\n",
    "school.col = apply(school.means, 1:2, function(aa) HC[1 + round(20 * (0.5 + aa))])\n",
    "\n",
    "DF.plot = data.frame(tercile=rep(factor(1:3, labels=c(\"low\", \"mid\", \"high\")), 9), mean=as.numeric(school.means),\n",
    "                     feature = factor(rbind(colnames(school.X), colnames(school.X), colnames(school.X))))\n",
    "\n",
    "graph=ggplot(data = DF.plot, aes(x = feature, y = tercile, fill = mean)) +\n",
    "    geom_tile() + scale_fill_gradient(low = \"white\", high = \"steelblue\") +\n",
    "    theme(axis.text = element_text(size=12), axis.title = element_text(size=14),\n",
    "          legend.title = element_text(size=14), legend.text = element_text(size=12)) +\n",
    "    theme(panel.background = element_blank())\n",
    "print(graph)\n",
    "\n",
    "mean(school.X$XC.3)\n",
    "mean(school.X$XC.3[as.numeric(school.tercile) == 1])"
   ]
  },
  {
   "cell_type": "markdown",
   "id": "8fbe7bb4-31d8-49f9-a3f2-d27618616867",
   "metadata": {},
   "source": [
    "The Conditional Average Treatment Effect (CATE) is estimated for each school to capture the heterogeneity in treatment effects. This involves using the causal forest to predict treatment effects at the school level and examining the variability across different schools"
   ]
  },
  {
   "cell_type": "code",
   "execution_count": null,
   "id": "5dab6489-af27-4c19-97ac-5b4e9b9ab3d5",
   "metadata": {},
   "outputs": [],
   "source": [
    "ord = order(order(school.pred))\n",
    "school.sort = ord[school.id]\n",
    "\n",
    "pardef = par(mar = c(5, 4, 4, 2) + 0.5, cex.lab=1.5, cex.axis=1.5, cex.main=1.5, cex.sub=1.5)\n",
    "boxplot(tau.hat.noclust ~ school.sort, xaxt = \"n\",\n",
    "        xlab = \"school\", ylab = \"estimated CATE\")\n",
    "points(1:76, sort(school.pred), col = 4, pch = 16)\n",
    "legend(\"topleft\", c(\"school mean CATE\", \"CATE w/o clustering\"), pch = c(16, 1), col = c(4, 1), cex = 1.5)\n",
    "par = pardef"
   ]
  }
 ],
 "metadata": {
  "kernelspec": {
   "display_name": "R",
   "language": "R",
   "name": "ir"
  },
  "language_info": {
   "codemirror_mode": "r",
   "file_extension": ".r",
   "mimetype": "text/x-r-source",
   "name": "R",
   "pygments_lexer": "r",
   "version": "3.6.1"
  }
 },
 "nbformat": 4,
 "nbformat_minor": 5
}
