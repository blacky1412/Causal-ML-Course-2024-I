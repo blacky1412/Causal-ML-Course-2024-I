{
 "cells": [
  {
   "cell_type": "code",
   "execution_count": 1,
   "id": "8e2d2c6f-69b3-4e84-a5c3-88b6211fd97e",
   "metadata": {},
   "outputs": [],
   "source": [
    "options(pkgType = \"binary\", repos = \"https://cran-archive.r-project.org/\")"
   ]
  },
  {
   "cell_type": "code",
   "execution_count": 27,
   "id": "a3149355-728e-4866-9b91-b4ed5ae0a248",
   "metadata": {},
   "outputs": [
    {
     "name": "stderr",
     "output_type": "stream",
     "text": [
      "Installing package into 'C:/Users/user/Documents/R/win-library/3.6'\n",
      "(as 'lib' is unspecified)\n"
     ]
    },
    {
     "name": "stdout",
     "output_type": "stream",
     "text": [
      "package 'xtable' successfully unpacked and MD5 sums checked\n",
      "\n",
      "The downloaded binary packages are in\n",
      "\tC:\\Users\\user\\AppData\\Local\\Temp\\RtmpAhL4iN\\downloaded_packages\n"
     ]
    },
    {
     "name": "stderr",
     "output_type": "stream",
     "text": [
      "Installing package into 'C:/Users/user/Documents/R/win-library/3.6'\n",
      "(as 'lib' is unspecified)\n"
     ]
    },
    {
     "name": "stdout",
     "output_type": "stream",
     "text": [
      "package 'randomForest' successfully unpacked and MD5 sums checked\n",
      "\n",
      "The downloaded binary packages are in\n",
      "\tC:\\Users\\user\\AppData\\Local\\Temp\\RtmpAhL4iN\\downloaded_packages\n"
     ]
    },
    {
     "name": "stderr",
     "output_type": "stream",
     "text": [
      "Installing package into 'C:/Users/user/Documents/R/win-library/3.6'\n",
      "(as 'lib' is unspecified)\n"
     ]
    },
    {
     "name": "stdout",
     "output_type": "stream",
     "text": [
      "package 'sandwich' successfully unpacked and MD5 sums checked\n",
      "\n",
      "The downloaded binary packages are in\n",
      "\tC:\\Users\\user\\AppData\\Local\\Temp\\RtmpAhL4iN\\downloaded_packages\n"
     ]
    },
    {
     "name": "stderr",
     "output_type": "stream",
     "text": [
      "Warning message:\n",
      "\"package 'xtable' was built under R version 3.6.3\"Warning message:\n",
      "\"package 'randomForest' was built under R version 3.6.3\"randomForest 4.6-14\n",
      "Type rfNews() to see new features/changes/bug fixes.\n",
      "\n",
      "Attaching package: 'randomForest'\n",
      "\n",
      "The following object is masked from 'package:dplyr':\n",
      "\n",
      "    combine\n",
      "\n",
      "The following object is masked from 'package:ggplot2':\n",
      "\n",
      "    margin\n",
      "\n",
      "Warning message:\n",
      "\"package 'sandwich' was built under R version 3.6.3\""
     ]
    }
   ],
   "source": [
    "#install.packages(\"readr\")\n",
    "#install.packages(\"hdm\")\n",
    "#install.packages(\"glmnet\")\n",
    "#install.packages(\"Matrix\")\n",
    "#install.packages(\"ggplot2\")\n",
    "#install.packages(\"xtable\")\n",
    "#install.packages(\"randomForest\")\n",
    "#install.packages(\"sandwich\")\n",
    "library(readr)\n",
    "library(hdm)\n",
    "library(glmnet)\n",
    "library(Matrix)\n",
    "library(ggplot2)\n",
    "library(xtable)\n",
    "library(randomForest)\n",
    "library(sandwich)"
   ]
  },
  {
   "cell_type": "code",
   "execution_count": 3,
   "id": "ec5c32f5-54df-4ed6-9089-391f8fc64d6b",
   "metadata": {},
   "outputs": [
    {
     "data": {
      "text/html": [
       "<table>\n",
       "<thead><tr><th scope=col>y</th><th scope=col>w</th><th scope=col>gender_female</th><th scope=col>gender_male</th><th scope=col>gender_transgender</th><th scope=col>ethnicgrp_asian</th><th scope=col>ethnicgrp_black</th><th scope=col>ethnicgrp_mixed_multiple</th><th scope=col>ethnicgrp_other</th><th scope=col>ethnicgrp_white</th><th scope=col>partners1</th><th scope=col>postlaunch</th><th scope=col>msm</th><th scope=col>age</th><th scope=col>imd_decile</th></tr></thead>\n",
       "<tbody>\n",
       "\t<tr><td>1 </td><td>1 </td><td>0 </td><td>1 </td><td>0 </td><td>0 </td><td>0 </td><td>1 </td><td>0 </td><td>0 </td><td>0 </td><td>1 </td><td>0 </td><td>27</td><td>5 </td></tr>\n",
       "\t<tr><td>0 </td><td>0 </td><td>0 </td><td>1 </td><td>0 </td><td>0 </td><td>0 </td><td>0 </td><td>0 </td><td>1 </td><td>0 </td><td>0 </td><td>0 </td><td>19</td><td>6 </td></tr>\n",
       "\t<tr><td>0 </td><td>1 </td><td>0 </td><td>1 </td><td>0 </td><td>0 </td><td>1 </td><td>0 </td><td>0 </td><td>0 </td><td>0 </td><td>1 </td><td>0 </td><td>26</td><td>4 </td></tr>\n",
       "\t<tr><td>0 </td><td>0 </td><td>1 </td><td>0 </td><td>0 </td><td>0 </td><td>0 </td><td>0 </td><td>0 </td><td>1 </td><td>1 </td><td>0 </td><td>0 </td><td>20</td><td>2 </td></tr>\n",
       "\t<tr><td>1 </td><td>1 </td><td>1 </td><td>0 </td><td>0 </td><td>1 </td><td>0 </td><td>0 </td><td>0 </td><td>0 </td><td>0 </td><td>1 </td><td>0 </td><td>24</td><td>3 </td></tr>\n",
       "\t<tr><td>1 </td><td>1 </td><td>0 </td><td>1 </td><td>0 </td><td>0 </td><td>0 </td><td>0 </td><td>0 </td><td>1 </td><td>0 </td><td>1 </td><td>0 </td><td>24</td><td>2 </td></tr>\n",
       "</tbody>\n",
       "</table>\n"
      ],
      "text/latex": [
       "\\begin{tabular}{r|lllllllllllllll}\n",
       " y & w & gender\\_female & gender\\_male & gender\\_transgender & ethnicgrp\\_asian & ethnicgrp\\_black & ethnicgrp\\_mixed\\_multiple & ethnicgrp\\_other & ethnicgrp\\_white & partners1 & postlaunch & msm & age & imd\\_decile\\\\\n",
       "\\hline\n",
       "\t 1  & 1  & 0  & 1  & 0  & 0  & 0  & 1  & 0  & 0  & 0  & 1  & 0  & 27 & 5 \\\\\n",
       "\t 0  & 0  & 0  & 1  & 0  & 0  & 0  & 0  & 0  & 1  & 0  & 0  & 0  & 19 & 6 \\\\\n",
       "\t 0  & 1  & 0  & 1  & 0  & 0  & 1  & 0  & 0  & 0  & 0  & 1  & 0  & 26 & 4 \\\\\n",
       "\t 0  & 0  & 1  & 0  & 0  & 0  & 0  & 0  & 0  & 1  & 1  & 0  & 0  & 20 & 2 \\\\\n",
       "\t 1  & 1  & 1  & 0  & 0  & 1  & 0  & 0  & 0  & 0  & 0  & 1  & 0  & 24 & 3 \\\\\n",
       "\t 1  & 1  & 0  & 1  & 0  & 0  & 0  & 0  & 0  & 1  & 0  & 1  & 0  & 24 & 2 \\\\\n",
       "\\end{tabular}\n"
      ],
      "text/markdown": [
       "\n",
       "| y | w | gender_female | gender_male | gender_transgender | ethnicgrp_asian | ethnicgrp_black | ethnicgrp_mixed_multiple | ethnicgrp_other | ethnicgrp_white | partners1 | postlaunch | msm | age | imd_decile |\n",
       "|---|---|---|---|---|---|---|---|---|---|---|---|---|---|---|\n",
       "| 1  | 1  | 0  | 1  | 0  | 0  | 0  | 1  | 0  | 0  | 0  | 1  | 0  | 27 | 5  |\n",
       "| 0  | 0  | 0  | 1  | 0  | 0  | 0  | 0  | 0  | 1  | 0  | 0  | 0  | 19 | 6  |\n",
       "| 0  | 1  | 0  | 1  | 0  | 0  | 1  | 0  | 0  | 0  | 0  | 1  | 0  | 26 | 4  |\n",
       "| 0  | 0  | 1  | 0  | 0  | 0  | 0  | 0  | 0  | 1  | 1  | 0  | 0  | 20 | 2  |\n",
       "| 1  | 1  | 1  | 0  | 0  | 1  | 0  | 0  | 0  | 0  | 0  | 1  | 0  | 24 | 3  |\n",
       "| 1  | 1  | 0  | 1  | 0  | 0  | 0  | 0  | 0  | 1  | 0  | 1  | 0  | 24 | 2  |\n",
       "\n"
      ],
      "text/plain": [
       "  y w gender_female gender_male gender_transgender ethnicgrp_asian\n",
       "1 1 1 0             1           0                  0              \n",
       "2 0 0 0             1           0                  0              \n",
       "3 0 1 0             1           0                  0              \n",
       "4 0 0 1             0           0                  0              \n",
       "5 1 1 1             0           0                  1              \n",
       "6 1 1 0             1           0                  0              \n",
       "  ethnicgrp_black ethnicgrp_mixed_multiple ethnicgrp_other ethnicgrp_white\n",
       "1 0               1                        0               0              \n",
       "2 0               0                        0               1              \n",
       "3 1               0                        0               0              \n",
       "4 0               0                        0               1              \n",
       "5 0               0                        0               0              \n",
       "6 0               0                        0               1              \n",
       "  partners1 postlaunch msm age imd_decile\n",
       "1 0         1          0   27  5         \n",
       "2 0         0          0   19  6         \n",
       "3 0         1          0   26  4         \n",
       "4 1         0          0   20  2         \n",
       "5 0         1          0   24  3         \n",
       "6 0         1          0   24  2         "
      ]
     },
     "metadata": {},
     "output_type": "display_data"
    }
   ],
   "source": [
    "url <- \"https://raw.githubusercontent.com/gsbDBI/ExperimentData/master/eSTI/processed_data/processed_esti.csv\"\n",
    "data <- read.csv(url)\n",
    "head(data)"
   ]
  },
  {
   "cell_type": "markdown",
   "id": "c9de0ea6-2018-4aaf-859b-7c47fc8c9ccd",
   "metadata": {},
   "source": [
    "# Descriptives"
   ]
  },
  {
   "cell_type": "code",
   "execution_count": 4,
   "id": "aea74f38-9a6d-4a2c-9608-c1ecd1e5f1ab",
   "metadata": {},
   "outputs": [],
   "source": [
    "filtered_data <- subset(data, gender_transgender == 1)\n",
    "count_transgender <- nrow(filtered_data)\n",
    "\n",
    "df_treat <- subset(data, w == 1)\n",
    "df_control <- subset(data, w == 0)"
   ]
  },
  {
   "cell_type": "code",
   "execution_count": 5,
   "id": "0678e40c-bb2e-4d2d-93fc-e7f6f67f433b",
   "metadata": {},
   "outputs": [],
   "source": [
    "ntreat <- nrow(df_treat)\n",
    "ncontrol <- nrow(df_control)\n",
    "\n",
    "varlist_treat <- list(df_treat$y,df_treat$gender_male,df_treat$ethnicgrp_white,df_treat$partners1,df_treat$age,df_treat$imd_decile)\n",
    "varlist_control <- list(df_control$y,df_control$gender_male,df_control$ethnicgrp_white,df_control$partners1,df_control$age, df_control$imd_decile)\n",
    "\n",
    "table <- matrix(0, nrow = 6, ncol = 8)\n",
    "\n",
    "for (i in 1:length(varlist_control)) {\n",
    "    # Treated\n",
    "    table[i, 2] <- ntreat\n",
    "    table[i, 3] <- mean(varlist_treat[[i]])\n",
    "    table[i, 4] <- sd(varlist_treat[[i]])\n",
    "\n",
    "    # Control\n",
    "    table[i, 5] <- ncontrol\n",
    "    table[i, 6] <- mean(varlist_control[[i]])\n",
    "    table[i, 7] <- sd(varlist_control[[i]])\n",
    "\n",
    "    # Diff\n",
    "    table[i, 8] <- mean(varlist_treat[[i]]) - mean(varlist_control[[i]])\n",
    "}"
   ]
  },
  {
   "cell_type": "code",
   "execution_count": 7,
   "id": "c5077acb-7c36-4b29-ab05-01e882c0ae17",
   "metadata": {},
   "outputs": [
    {
     "name": "stdout",
     "output_type": "stream",
     "text": [
      "                                Variables n.treat. Treatmentmean sd.treat.\n",
      "1                        y (any STI test)      921     0.4766558 0.4997261\n",
      "2                       Male (=1 if male)      921     0.4093377 0.4919788\n",
      "3                     White (=1 if white)      921     0.7535288 0.4311903\n",
      "4 Partners (=1 if person has one partner)      921     0.3007600 0.4588377\n",
      "5                             Age (years)      921    23.1585233 3.5387384\n",
      "6      Multiple derivation index (decile)      921     3.4603692 1.4658443\n",
      "  n.control. Controlmean sd.control.         Diff\n",
      "1        818   0.2114914   0.4086159  0.265164366\n",
      "2        818   0.4180929   0.4935474 -0.008755233\n",
      "3        818   0.7420538   0.4377719  0.011474983\n",
      "4        818   0.2921760   0.4550410  0.008584004\n",
      "5        818  23.0476773   3.5940146  0.110846083\n",
      "6        818   3.4841076   1.4860812 -0.023738416\n"
     ]
    }
   ],
   "source": [
    "T <- data.frame(Variables = character(6),\n",
    "                `n(treat)` = table[, 2],\n",
    "                `Treatmentmean` = table[, 3],\n",
    "                `sd(treat)` = table[, 4],\n",
    "                `n(control)` = table[, 5],\n",
    "                `Controlmean` = table[, 6],\n",
    "                `sd(control)` = table[, 7],\n",
    "                Diff = table[, 8],\n",
    "                stringsAsFactors = FALSE)\n",
    "\n",
    "T$Variables[1] <- \"y (any STI test)\"\n",
    "T$Variables[2] <- \"Male (=1 if male)\"\n",
    "T$Variables[3] <- \"White (=1 if white)\"\n",
    "T$Variables[4] <- \"Partners (=1 if person has one partner)\"\n",
    "T$Variables[5] <- \"Age (years)\"\n",
    "T$Variables[6] <- \"Multiple derivation index (decile)\"\n",
    "\n",
    "print(T)"
   ]
  },
  {
   "cell_type": "markdown",
   "id": "51e9572c-75f9-4d83-a92f-6165fa731263",
   "metadata": {},
   "source": [
    "# Linear regression analysis"
   ]
  },
  {
   "cell_type": "markdown",
   "id": "64e41f8e-ba97-4350-a0f0-480be8e3f2eb",
   "metadata": {},
   "source": [
    "## Regression Y~T"
   ]
  },
  {
   "cell_type": "code",
   "execution_count": 11,
   "id": "d1b07dfe-0b1a-441a-b338-741ade564d29",
   "metadata": {},
   "outputs": [
    {
     "data": {
      "text/plain": [
       "\n",
       "Call:\n",
       "lm(formula = y ~ w, data = data)\n",
       "\n",
       "Residuals:\n",
       "    Min      1Q  Median      3Q     Max \n",
       "-0.4767 -0.4767 -0.2115  0.5233  0.7885 \n",
       "\n",
       "Coefficients:\n",
       "            Estimate Std. Error t value Pr(>|t|)    \n",
       "(Intercept)  0.21149    0.01605   13.17   <2e-16 ***\n",
       "w            0.26516    0.02206   12.02   <2e-16 ***\n",
       "---\n",
       "Signif. codes:  0 '***' 0.001 '**' 0.01 '*' 0.05 '.' 0.1 ' ' 1\n",
       "\n",
       "Residual standard error: 0.4591 on 1737 degrees of freedom\n",
       "Multiple R-squared:  0.0768,\tAdjusted R-squared:  0.07627 \n",
       "F-statistic: 144.5 on 1 and 1737 DF,  p-value: < 2.2e-16\n"
      ]
     },
     "metadata": {},
     "output_type": "display_data"
    }
   ],
   "source": [
    "model1 <- lm(y ~ w, data = data)\n",
    "b1 <- coef(model1)[\"w\"]\n",
    "se1 <- summary(model1)$coefficients[\"w\", \"Std. Error\"]\n",
    "ci1 <- confint(model1)[\"w\", ]\n",
    "\n",
    "summary(model1)"
   ]
  },
  {
   "cell_type": "markdown",
   "id": "00363ccc-4cff-4eb2-9bd3-d992b632570a",
   "metadata": {},
   "source": [
    "Interpretation: Receiving 1 text message with the web link of an e-STI testing (treatment group) increases the probability of taking a STI test by 0.265 porcentage points (pp) in avarage, compared to those who recieved 1 text message with the web link of a bespoke website listing the locations, contact details, and websites of 7 local sexual health clinics (control \n",
    "group. This effect is significant at the 99% confidence leve )"
   ]
  },
  {
   "cell_type": "markdown",
   "id": "244aa3d6-db1a-47e5-8f26-176fcfb3785b",
   "metadata": {},
   "source": [
    "## Y ~ T+X"
   ]
  },
  {
   "cell_type": "code",
   "execution_count": 12,
   "id": "8e12b4d6-e3da-4baa-8da0-b39882a644a7",
   "metadata": {},
   "outputs": [
    {
     "data": {
      "text/plain": [
       "\n",
       "Call:\n",
       "lm(formula = y ~ w + gender_male + ethnicgrp_white + partners1 + \n",
       "    age + imd_decile, data = data)\n",
       "\n",
       "Residuals:\n",
       "    Min      1Q  Median      3Q     Max \n",
       "-0.6608 -0.3538 -0.1903  0.4817  1.0071 \n",
       "\n",
       "Coefficients:\n",
       "                 Estimate Std. Error t value Pr(>|t|)    \n",
       "(Intercept)     -0.113950   0.079372  -1.436  0.15128    \n",
       "w                0.262343   0.021732  12.072  < 2e-16 ***\n",
       "gender_male     -0.092513   0.022323  -4.144 3.57e-05 ***\n",
       "ethnicgrp_white  0.071200   0.025306   2.814  0.00495 ** \n",
       "partners1       -0.066229   0.024217  -2.735  0.00630 ** \n",
       "age              0.014992   0.003092   4.849 1.35e-06 ***\n",
       "imd_decile      -0.004274   0.007379  -0.579  0.56255    \n",
       "---\n",
       "Signif. codes:  0 '***' 0.001 '**' 0.01 '*' 0.05 '.' 0.1 ' ' 1\n",
       "\n",
       "Residual standard error: 0.4522 on 1732 degrees of freedom\n",
       "Multiple R-squared:  0.1071,\tAdjusted R-squared:  0.104 \n",
       "F-statistic: 34.63 on 6 and 1732 DF,  p-value: < 2.2e-16\n"
      ]
     },
     "metadata": {},
     "output_type": "display_data"
    }
   ],
   "source": [
    "model2 <- lm(y ~ w + gender_male + ethnicgrp_white + partners1 + age + imd_decile, data = data)\n",
    "b2 <- coef(model2)[\"w\"]\n",
    "se2 <- summary(model2)$coefficients[\"w\", \"Std. Error\"]\n",
    "ci2 <- confint(model2)[\"w\", ]\n",
    "\n",
    "summary(model2)"
   ]
  },
  {
   "cell_type": "markdown",
   "id": "19cf083b-090f-4ce9-86c1-54cdc4fbbdfa",
   "metadata": {},
   "source": [
    "Interpretation: those in the treatment group had their probability of taking a STI test increase by 0.262pp. This effect is significant at the 99% confidence level. \n",
    "Control variables are all statistically significant expect for imd_decile (Multiple derivation index (decile))"
   ]
  },
  {
   "cell_type": "markdown",
   "id": "8d086bbc-841d-4630-ac8c-12c5d62a9673",
   "metadata": {},
   "source": [
    "## Double Lasso Y ~ T+X"
   ]
  },
  {
   "cell_type": "code",
   "execution_count": 23,
   "id": "04444011-e05b-487b-acfe-991be7b478ed",
   "metadata": {},
   "outputs": [
    {
     "name": "stdout",
     "output_type": "stream",
     "text": [
      "\n",
      "Call:\n",
      "lm(formula = resY ~ resW, data = lassodf)\n",
      "\n",
      "Residuals:\n",
      "    Min      1Q  Median      3Q     Max \n",
      "-0.6658 -0.3539 -0.1900  0.4791  1.0092 \n",
      "\n",
      "Coefficients:\n",
      "              Estimate Std. Error t value Pr(>|t|)    \n",
      "(Intercept) -6.768e-17  1.083e-02    0.00        1    \n",
      "resW         2.622e-01  2.169e-02   12.09   <2e-16 ***\n",
      "---\n",
      "Signif. codes:  0 '***' 0.001 '**' 0.01 '*' 0.05 '.' 0.1 ' ' 1\n",
      "\n",
      "Residual standard error: 0.4515 on 1737 degrees of freedom\n",
      "Multiple R-squared:  0.07756,\tAdjusted R-squared:  0.07703 \n",
      "F-statistic: 146.1 on 1 and 1737 DF,  p-value: < 2.2e-16\n",
      "\n"
     ]
    }
   ],
   "source": [
    "if (!require(glmnet)) install.packages(\"glmnet\")\n",
    "library(glmnet)\n",
    "\n",
    "X <- as.matrix(data[, c(\"gender_male\", \"ethnicgrp_white\", \"partners1\", \"age\", \"imd_decile\")])\n",
    "w <- data$w\n",
    "y <- data$y\n",
    "\n",
    "cv_model3a <- cv.glmnet(X, w, alpha = 1)\n",
    "cv_model3b <- cv.glmnet(X, y, alpha = 1)\n",
    "\n",
    "model3a <- glmnet(X, w, alpha = 1, lambda = cv_model3a$lambda.min)\n",
    "model3b <- glmnet(X, y, alpha = 1, lambda = cv_model3b$lambda.min)\n",
    "\n",
    "resW <- w - predict(model3a, X)\n",
    "resY <- y - predict(model3b, X)\n",
    "\n",
    "lassodf <- data.frame(resY = resY, resW = resW)\n",
    "\n",
    "model3 <- lm(resY ~ resW, data = lassodf)\n",
    "\n",
    "b3 <- coef(model3)[\"resW\"]\n",
    "se3 <- summary(model3)$coefficients[\"resW\", \"Std. Error\"]\n",
    "ci3 <- confint(model3)[\"resW\", ]\n",
    "\n",
    "summary(model3)"
   ]
  },
  {
   "cell_type": "markdown",
   "id": "673b6f55-d36b-43d7-a504-00bc2fe6f9ac",
   "metadata": {},
   "source": [
    "Interpretation: those in the treatment group had their probability of taking a STI test increase by 0.261pp. This effect is significant at the 99% confidence level. "
   ]
  },
  {
   "cell_type": "code",
   "execution_count": 25,
   "id": "5f777c07-d68a-4c4e-ba64-b70bba5b835e",
   "metadata": {},
   "outputs": [
    {
     "data": {
      "image/png": "[encoded data removed]",
      "text/plain": [
       "plot without title"
      ]
     },
     "metadata": {},
     "output_type": "display_data"
    }
   ],
   "source": [
    "methods <- c(\"OLS\", \"OLS with covariates\", \"Double Lasso\")\n",
    "betas <- c(b1, b2, b3)\n",
    "ll <- c(ci1[1], ci2[1], ci3[1])\n",
    "ul <- c(ci1[2], ci2[2], ci3[2])\n",
    "\n",
    "results_df <- data.frame(methods = methods, betas = betas, ll = ll, ul = ul)\n",
    "\n",
    "plt <- ggplot(results_df, aes(x = methods, y = betas)) +\n",
    "    geom_point(color = \"black\") +\n",
    "    geom_errorbar(aes(ymin = betas - ll, ymax = betas + ul), width = 0.2, color = \"black\", size = 1) +\n",
    "    labs(title = \"Treatment effect on STI test\", y = \"Coefficient plots\") +\n",
    "    theme_minimal() +\n",
    "    theme(axis.text.x = element_text(angle = 45, hjust = 1))\n",
    "\n",
    "print(plt)"
   ]
  },
  {
   "cell_type": "markdown",
   "id": "4424d631-a2ee-40b3-99f5-8bc85aab5a5c",
   "metadata": {},
   "source": [
    "From all three estimations, linear regressions with covariates yield the lowest standard error (0.0217321) and a point estimate of 0.262343. Point estimates are pretty much similar across methods. "
   ]
  },
  {
   "cell_type": "markdown",
   "id": "2df39f8c-39a7-4499-8576-8af775bebd2f",
   "metadata": {},
   "source": [
    "# Non-Linear Methods DML"
   ]
  },
  {
   "cell_type": "code",
   "execution_count": 40,
   "id": "ff44e943-6cb0-439d-a368-08b8747f14d5",
   "metadata": {},
   "outputs": [
    {
     "name": "stderr",
     "output_type": "stream",
     "text": [
      "Loading required package: gbm\n",
      "Warning message in library(package, lib.loc = lib.loc, character.only = TRUE, logical.return = TRUE, :\n",
      "\"there is no package called 'gbm'\"Installing package into 'C:/Users/user/Documents/R/win-library/3.6'\n",
      "(as 'lib' is unspecified)\n",
      "also installing the dependencies 'lazyeval', 'rex', 'plyr', 'covr', 'pdp', 'RUnit', 'tinytest', 'vip'\n",
      "\n"
     ]
    },
    {
     "name": "stdout",
     "output_type": "stream",
     "text": [
      "package 'lazyeval' successfully unpacked and MD5 sums checked\n",
      "package 'rex' successfully unpacked and MD5 sums checked\n",
      "package 'plyr' successfully unpacked and MD5 sums checked\n",
      "package 'covr' successfully unpacked and MD5 sums checked\n",
      "package 'pdp' successfully unpacked and MD5 sums checked\n",
      "package 'RUnit' successfully unpacked and MD5 sums checked\n",
      "package 'tinytest' successfully unpacked and MD5 sums checked\n",
      "package 'vip' successfully unpacked and MD5 sums checked\n",
      "package 'gbm' successfully unpacked and MD5 sums checked\n",
      "\n",
      "The downloaded binary packages are in\n",
      "\tC:\\Users\\user\\AppData\\Local\\Temp\\RtmpAhL4iN\\downloaded_packages\n"
     ]
    },
    {
     "name": "stderr",
     "output_type": "stream",
     "text": [
      "Loading required package: grf\n",
      "Warning message:\n",
      "\"package 'grf' was built under R version 3.6.3\"Loading required package: caret\n",
      "Warning message in library(package, lib.loc = lib.loc, character.only = TRUE, logical.return = TRUE, :\n",
      "\"there is no package called 'caret'\"Installing package into 'C:/Users/user/Documents/R/win-library/3.6'\n",
      "(as 'lib' is unspecified)\n",
      "also installing the dependencies 'R.methodsS3', 'R.oo', 'R.utils', 'SQUAREM', 'R.cache', 'TH.data', 'profileModel', 'plotrix', 'KernSmooth', 'lava', 'styler', 'classInt', 'labelled', 'gplots', 'libcoin', 'multcomp', 'diffobj', 'gower', 'timeDate', 'brglm', 'gtools', 'qvcalc', 'class', 'plotmo', 'TeachingDemos', 'prodlim', 'combinat', 'questionr', 'ROCR', 'mvtnorm', 'modeltools', 'strucchange', 'coin', 'ISwR', 'corpcor', 'brio', 'desc', 'pkgload', 'praise', 'waldo', 'ModelMetrics', 'reshape2', 'recipes', 'pROC', 'BradleyTerry2', 'e1071', 'earth', 'fastICA', 'gam', 'ipred', 'kernlab', 'klaR', 'ellipse', 'mda', 'mlbench', 'MLmetrics', 'party', 'pls', 'proxy', 'RANN', 'spls', 'subselect', 'pamr', 'superpc', 'Cubist', 'testthat'\n",
      "\n"
     ]
    },
    {
     "name": "stdout",
     "output_type": "stream",
     "text": [
      "package 'R.methodsS3' successfully unpacked and MD5 sums checked\n",
      "package 'R.oo' successfully unpacked and MD5 sums checked\n",
      "package 'R.utils' successfully unpacked and MD5 sums checked\n",
      "package 'SQUAREM' successfully unpacked and MD5 sums checked\n",
      "package 'R.cache' successfully unpacked and MD5 sums checked\n",
      "package 'TH.data' successfully unpacked and MD5 sums checked\n",
      "package 'profileModel' successfully unpacked and MD5 sums checked\n",
      "package 'plotrix' successfully unpacked and MD5 sums checked\n",
      "package 'KernSmooth' successfully unpacked and MD5 sums checked\n",
      "package 'lava' successfully unpacked and MD5 sums checked\n",
      "package 'styler' successfully unpacked and MD5 sums checked\n",
      "package 'classInt' successfully unpacked and MD5 sums checked\n",
      "package 'labelled' successfully unpacked and MD5 sums checked\n",
      "package 'gplots' successfully unpacked and MD5 sums checked\n",
      "package 'libcoin' successfully unpacked and MD5 sums checked\n",
      "package 'multcomp' successfully unpacked and MD5 sums checked\n",
      "package 'diffobj' successfully unpacked and MD5 sums checked\n",
      "package 'gower' successfully unpacked and MD5 sums checked\n",
      "package 'timeDate' successfully unpacked and MD5 sums checked\n",
      "package 'brglm' successfully unpacked and MD5 sums checked\n",
      "package 'gtools' successfully unpacked and MD5 sums checked\n",
      "package 'qvcalc' successfully unpacked and MD5 sums checked\n",
      "package 'class' successfully unpacked and MD5 sums checked\n",
      "package 'plotmo' successfully unpacked and MD5 sums checked\n",
      "package 'TeachingDemos' successfully unpacked and MD5 sums checked\n",
      "package 'prodlim' successfully unpacked and MD5 sums checked\n",
      "package 'combinat' successfully unpacked and MD5 sums checked\n",
      "package 'questionr' successfully unpacked and MD5 sums checked\n",
      "package 'ROCR' successfully unpacked and MD5 sums checked\n",
      "package 'mvtnorm' successfully unpacked and MD5 sums checked\n",
      "package 'modeltools' successfully unpacked and MD5 sums checked\n",
      "package 'strucchange' successfully unpacked and MD5 sums checked\n",
      "package 'coin' successfully unpacked and MD5 sums checked\n",
      "package 'ISwR' successfully unpacked and MD5 sums checked\n",
      "package 'corpcor' successfully unpacked and MD5 sums checked\n",
      "package 'brio' successfully unpacked and MD5 sums checked\n",
      "package 'desc' successfully unpacked and MD5 sums checked\n",
      "package 'pkgload' successfully unpacked and MD5 sums checked\n",
      "package 'praise' successfully unpacked and MD5 sums checked\n",
      "package 'waldo' successfully unpacked and MD5 sums checked\n",
      "package 'ModelMetrics' successfully unpacked and MD5 sums checked\n",
      "package 'reshape2' successfully unpacked and MD5 sums checked\n",
      "package 'recipes' successfully unpacked and MD5 sums checked\n",
      "package 'pROC' successfully unpacked and MD5 sums checked\n",
      "package 'BradleyTerry2' successfully unpacked and MD5 sums checked\n",
      "package 'e1071' successfully unpacked and MD5 sums checked\n",
      "package 'earth' successfully unpacked and MD5 sums checked\n",
      "package 'fastICA' successfully unpacked and MD5 sums checked\n",
      "package 'gam' successfully unpacked and MD5 sums checked\n",
      "package 'ipred' successfully unpacked and MD5 sums checked\n",
      "package 'kernlab' successfully unpacked and MD5 sums checked\n",
      "package 'klaR' successfully unpacked and MD5 sums checked\n",
      "package 'ellipse' successfully unpacked and MD5 sums checked\n",
      "package 'mda' successfully unpacked and MD5 sums checked\n",
      "package 'mlbench' successfully unpacked and MD5 sums checked\n",
      "package 'MLmetrics' successfully unpacked and MD5 sums checked\n",
      "package 'party' successfully unpacked and MD5 sums checked\n",
      "package 'pls' successfully unpacked and MD5 sums checked\n",
      "package 'proxy' successfully unpacked and MD5 sums checked\n",
      "package 'RANN' successfully unpacked and MD5 sums checked\n",
      "package 'spls' successfully unpacked and MD5 sums checked\n",
      "package 'subselect' successfully unpacked and MD5 sums checked\n",
      "package 'pamr' successfully unpacked and MD5 sums checked\n",
      "package 'superpc' successfully unpacked and MD5 sums checked\n",
      "package 'Cubist' successfully unpacked and MD5 sums checked\n",
      "package 'testthat' successfully unpacked and MD5 sums checked\n",
      "package 'caret' successfully unpacked and MD5 sums checked\n",
      "\n",
      "The downloaded binary packages are in\n",
      "\tC:\\Users\\user\\AppData\\Local\\Temp\\RtmpAhL4iN\\downloaded_packages\n"
     ]
    },
    {
     "name": "stderr",
     "output_type": "stream",
     "text": [
      "Warning message:\n",
      "\"package 'gbm' was built under R version 3.6.3\"Loaded gbm 2.1.8\n",
      "Warning message:\n",
      "\"package 'caret' was built under R version 3.6.3\"Loading required package: lattice\n",
      "Warning message:\n",
      "\"package 'lattice' was built under R version 3.6.3\"\n",
      "Attaching package: 'caret'\n",
      "\n",
      "The following object is masked from 'package:purrr':\n",
      "\n",
      "    lift\n",
      "\n",
      "Warning message in file(file, \"rt\"):\n",
      "\"no fue posible abrir el archivo '/mnt/data/processed_esti.csv': No such file or directory\""
     ]
    },
    {
     "ename": "ERROR",
     "evalue": "Error in file(file, \"rt\"): no se puede abrir la conexión\n",
     "output_type": "error",
     "traceback": [
      "Error in file(file, \"rt\"): no se puede abrir la conexión\nTraceback:\n",
      "1. read.csv(\"/mnt/data/processed_esti.csv\")",
      "2. read.table(file = file, header = header, sep = sep, quote = quote, \n .     dec = dec, fill = fill, comment.char = comment.char, ...)",
      "3. file(file, \"rt\")"
     ]
    }
   ],
   "source": [
    "# Instalar y cargar librerías necesarias\n",
    "if (!require(\"glmnet\")) install.packages(\"glmnet\", dependencies=TRUE)\n",
    "if (!require(\"randomForest\")) install.packages(\"randomForest\", dependencies=TRUE)\n",
    "if (!require(\"gbm\")) install.packages(\"gbm\", dependencies=TRUE)\n",
    "if (!require(\"grf\")) install.packages(\"grf\", dependencies=TRUE)\n",
    "if (!require(\"dplyr\")) install.packages(\"dplyr\", dependencies=TRUE)\n",
    "if (!require(\"caret\")) install.packages(\"caret\", dependencies=TRUE)\n",
    "if (!require(\"sandwich\")) install.packages(\"sandwich\", dependencies=TRUE)\n",
    "\n",
    "library(glmnet)\n",
    "library(randomForest)\n",
    "library(gbm)\n",
    "library(grf)\n",
    "library(dplyr)\n",
    "library(caret)\n",
    "library(sandwich)"
   ]
  },
  {
   "cell_type": "code",
   "execution_count": 48,
   "id": "6ba3b752-7e43-4758-8ba0-1b6621d0eff8",
   "metadata": {},
   "outputs": [],
   "source": [
    "DML2.for.PLM <- function(x, d, y, dreg, yreg, nfold=2) {\n",
    "  nobs <- nrow(x) #number of observations\n",
    "  foldid <- rep.int(1:nfold, times = ceiling(nobs/nfold))[sample.int(nobs)] #define folds indices\n",
    "  I <- split(1:nobs, foldid)  #split observation indices into folds\n",
    "  ytil <- dtil <- rep(NA, nobs)\n",
    "  cat(\"fold: \")\n",
    "  for(b in 1:length(I)){\n",
    "    dfit <- dreg(as.matrix(x[-I[[b]],]), d[-I[[b]]]) #take a fold out\n",
    "    yfit <- yreg(as.matrix(x[-I[[b]],]), y[-I[[b]]]) # take a fold out\n",
    "    if (inherits(dfit, \"gbm\")) {\n",
    "      dhat <- predict(dfit, data.frame(x[I[[b]],]), n.trees=5000, type=\"response\") #predict the left-out fold for GBM\n",
    "    } else if (inherits(dfit, \"grf\")) {\n",
    "      dhat <- predict(dfit, as.matrix(x[I[[b]],]))$predictions #predict the left-out fold for grf\n",
    "    } else {\n",
    "      dhat <- predict(dfit, as.matrix(x[I[[b]],]), type=\"response\") #predict the left-out fold\n",
    "    }\n",
    "    if (inherits(yfit, \"gbm\")) {\n",
    "      yhat <- predict(yfit, data.frame(x[I[[b]],]), n.trees=5000, type=\"response\") #predict the left-out fold for GBM\n",
    "    } else if (inherits(yfit, \"grf\")) {\n",
    "      yhat <- predict(yfit, as.matrix(x[I[[b]],]))$predictions #predict the left-out fold for grf\n",
    "    } else {\n",
    "      yhat <- predict(yfit, as.matrix(x[I[[b]],]), type=\"response\") #predict the left-out fold\n",
    "    }\n",
    "    dtil[I[[b]]] <- as.numeric(d[I[[b]]] - dhat) #record residual for the left-out fold\n",
    "    ytil[I[[b]]] <- as.numeric(y[I[[b]]] - yhat) #record residual for the left-out fold\n",
    "    cat(b,\" \")\n",
    "  }\n",
    "  rfit <- lm(ytil ~ dtil)    #estimate the main parameter by regressing one residual on the other\n",
    "  coef.est <- coef(rfit)[2]  #extract coefficient\n",
    "  se <- sqrt(vcovHC(rfit)[2,2]) #record robust standard error\n",
    "  cat(sprintf(\"\\ncoef (se) = %g (%g)\\n\", coef.est , se))  #printing output\n",
    "  return(list(coef.est = coef.est , se = se, dtil = dtil, ytil = ytil)) #save output and residuals\n",
    "}"
   ]
  },
  {
   "cell_type": "code",
   "execution_count": 50,
   "id": "f13b58e3-ff7d-4385-a968-dc164141f175",
   "metadata": {},
   "outputs": [
    {
     "name": "stdout",
     "output_type": "stream",
     "text": [
      "fold: 1  2  \n",
      "coef (se) = 0.106463 (0.0233236)\n",
      "fold: "
     ]
    },
    {
     "name": "stderr",
     "output_type": "stream",
     "text": [
      "Warning message in randomForest.default(x, y):\n",
      "\"The response has five or fewer unique values.  Are you sure you want to do regression?\"Warning message in randomForest.default(x, y):\n",
      "\"The response has five or fewer unique values.  Are you sure you want to do regression?\""
     ]
    },
    {
     "name": "stdout",
     "output_type": "stream",
     "text": [
      "1  "
     ]
    },
    {
     "name": "stderr",
     "output_type": "stream",
     "text": [
      "Warning message in randomForest.default(x, y):\n",
      "\"The response has five or fewer unique values.  Are you sure you want to do regression?\"Warning message in randomForest.default(x, y):\n",
      "\"The response has five or fewer unique values.  Are you sure you want to do regression?\""
     ]
    },
    {
     "name": "stdout",
     "output_type": "stream",
     "text": [
      "2  \n",
      "coef (se) = 0.101367 (0.023279)\n",
      "fold: 1  2  \n",
      "coef (se) = 0.103917 (0.0234215)\n",
      "fold: 1  2  \n",
      "coef (se) = 0.0929612 (0.0233991)\n"
     ]
    }
   ],
   "source": [
    "# Lasso\n",
    "lasso_reg <- function(x, y) {\n",
    "  cv.glmnet(as.matrix(x), y, alpha=1)\n",
    "}\n",
    "\n",
    "# Regression Tree\n",
    "tree_reg <- function(x, y) {\n",
    "  randomForest(x, y)\n",
    "}\n",
    "\n",
    "# Boosting Trees\n",
    "boosting_reg <- function(x, y) {\n",
    "  gbm(y ~ ., data = data.frame(x, y), distribution = \"gaussian\", n.trees = 5000, interaction.depth = 4, shrinkage = 0.01, cv.folds = 5)\n",
    "}\n",
    "\n",
    "# Regression Forest\n",
    "forest_reg <- function(x, y) {\n",
    "  regression_forest(as.matrix(x), y)\n",
    "}\n",
    "\n",
    "y <- data$y\n",
    "T <- data$postlaunch\n",
    "X <- data %>% select(gender_female, gender_male, gender_transgender, age, imd_decile)\n",
    "\n",
    "# DML with Lasso\n",
    "result_lasso <- DML2.for.PLM(X, T, y, lasso_reg, lasso_reg)\n",
    "\n",
    "# DML with Regression Tree\n",
    "result_tree <- DML2.for.PLM(X, T, y, tree_reg, tree_reg)\n",
    "\n",
    "# DML with Boosting Trees\n",
    "result_boosting <- DML2.for.PLM(X, T, y, boosting_reg, boosting_reg)\n",
    "\n",
    "# DML with Regression Forest\n",
    "result_forest <- DML2.for.PLM(X, T, y, forest_reg, forest_reg)"
   ]
  },
  {
   "cell_type": "code",
   "execution_count": 51,
   "id": "b7cc9585-8a0c-401e-8e9b-7f0a992b75ce",
   "metadata": {},
   "outputs": [
    {
     "name": "stdout",
     "output_type": "stream",
     "text": [
      "             Method Coefficient         SE\n",
      "1             Lasso  0.10646307 0.02332358\n",
      "2   Regression Tree  0.10136749 0.02327899\n",
      "3    Boosting Trees  0.10391695 0.02342146\n",
      "4 Regression Forest  0.09296122 0.02339907\n"
     ]
    }
   ],
   "source": [
    "results <- data.frame(\n",
    "  Method = c(\"Lasso\", \"Regression Tree\", \"Boosting Trees\", \"Regression Forest\"),\n",
    "  Coefficient = c(result_lasso$coef.est, result_tree$coef.est, result_boosting$coef.est, result_forest$coef.est),\n",
    "  SE = c(result_lasso$se, result_tree$se, result_boosting$se, result_forest$se)\n",
    ")\n",
    "\n",
    "print(results)"
   ]
  },
  {
   "cell_type": "code",
   "execution_count": 52,
   "id": "900223f8-435a-45b0-a9d1-2733d1b4eee5",
   "metadata": {},
   "outputs": [
    {
     "data": {
      "image/png": "[encoded data removed]",
      "text/plain": [
       "plot without title"
      ]
     },
     "metadata": {},
     "output_type": "display_data"
    }
   ],
   "source": [
    "ggplot(results, aes(x = Method, y = Coefficient, fill = Method)) +\n",
    "  geom_bar(stat = \"identity\", position = position_dodge()) +\n",
    "  geom_errorbar(aes(ymin = Coefficient - SE, ymax = Coefficient + SE), width = 0.2, position = position_dodge(0.9)) +\n",
    "  theme_minimal() +\n",
    "  labs(title = \"Comparación de Coeficientes de T\", x = \"Método\", y = \"Coeficiente de T\")"
   ]
  }
 ],
 "metadata": {
  "kernelspec": {
   "display_name": "R",
   "language": "R",
   "name": "ir"
  },
  "language_info": {
   "codemirror_mode": "r",
   "file_extension": ".r",
   "mimetype": "text/x-r-source",
   "name": "R",
   "pygments_lexer": "r",
   "version": "3.6.1"
  }
 },
 "nbformat": 4,
 "nbformat_minor": 5
}
