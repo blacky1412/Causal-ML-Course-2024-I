{
 "cells": [
  {
   "cell_type": "markdown",
   "id": "8c4db094-3fab-4e17-b36e-dd8207c387ca",
   "metadata": {},
   "source": [
    "# Q1 - Descriptives"
   ]
  },
  {
   "cell_type": "code",
   "execution_count": 1,
   "id": "5b26645c-bee7-46cb-9999-3f638f81e7fa",
   "metadata": {},
   "outputs": [
    {
     "name": "stderr",
     "output_type": "stream",
     "text": [
      "\u001b[32m\u001b[1m    Updating\u001b[22m\u001b[39m registry at `C:\\Users\\ALBERTO TRELLES\\.julia\\registries\\General.toml`\n",
      "\u001b[32m\u001b[1m   Resolving\u001b[22m\u001b[39m package versions...\n",
      "\u001b[32m\u001b[1m  No Changes\u001b[22m\u001b[39m to `C:\\Users\\ALBERTO TRELLES\\.julia\\environments\\v1.10\\Project.toml`\n",
      "\u001b[32m\u001b[1m  No Changes\u001b[22m\u001b[39m to `C:\\Users\\ALBERTO TRELLES\\.julia\\environments\\v1.10\\Manifest.toml`\n",
      "\u001b[32m\u001b[1m   Resolving\u001b[22m\u001b[39m package versions...\n",
      "\u001b[32m\u001b[1m  No Changes\u001b[22m\u001b[39m to `C:\\Users\\ALBERTO TRELLES\\.julia\\environments\\v1.10\\Project.toml`\n",
      "\u001b[32m\u001b[1m  No Changes\u001b[22m\u001b[39m to `C:\\Users\\ALBERTO TRELLES\\.julia\\environments\\v1.10\\Manifest.toml`\n",
      "\u001b[32m\u001b[1m   Resolving\u001b[22m\u001b[39m package versions...\n",
      "\u001b[32m\u001b[1m  No Changes\u001b[22m\u001b[39m to `C:\\Users\\ALBERTO TRELLES\\.julia\\environments\\v1.10\\Project.toml`\n",
      "\u001b[32m\u001b[1m  No Changes\u001b[22m\u001b[39m to `C:\\Users\\ALBERTO TRELLES\\.julia\\environments\\v1.10\\Manifest.toml`\n",
      "\u001b[32m\u001b[1m   Resolving\u001b[22m\u001b[39m package versions...\n",
      "\u001b[32m\u001b[1m  No Changes\u001b[22m\u001b[39m to `C:\\Users\\ALBERTO TRELLES\\.julia\\environments\\v1.10\\Project.toml`\n",
      "\u001b[32m\u001b[1m  No Changes\u001b[22m\u001b[39m to `C:\\Users\\ALBERTO TRELLES\\.julia\\environments\\v1.10\\Manifest.toml`\n",
      "\u001b[32m\u001b[1m   Resolving\u001b[22m\u001b[39m package versions...\n",
      "\u001b[32m\u001b[1m  No Changes\u001b[22m\u001b[39m to `C:\\Users\\ALBERTO TRELLES\\.julia\\environments\\v1.10\\Project.toml`\n",
      "\u001b[32m\u001b[1m  No Changes\u001b[22m\u001b[39m to `C:\\Users\\ALBERTO TRELLES\\.julia\\environments\\v1.10\\Manifest.toml`\n"
     ]
    }
   ],
   "source": [
    "import Pkg\n",
    "Pkg.add(\"CSV\")\n",
    "Pkg.add(\"HTTP\")\n",
    "Pkg.add(\"DataFrames\")\n",
    "Pkg.add(\"NamedArrays\")\n",
    "Pkg.add(\"Statistics\")\n",
    "\n",
    "using CSV\n",
    "using HTTP\n",
    "using DataFrames\n",
    "using NamedArrays\n",
    "using Statistics"
   ]
  },
  {
   "cell_type": "code",
   "execution_count": 2,
   "id": "1ae342ed-8f60-43d0-b37c-182aab423695",
   "metadata": {},
   "outputs": [
    {
     "data": {
      "text/html": [
       "<div><div style = \"float: left;\"><span>818×15 DataFrame</span></div><div style = \"float: right;\"><span style = \"font-style: italic;\">793 rows omitted</span></div><div style = \"clear: both;\"></div></div><div class = \"data-frame\" style = \"overflow-x: scroll;\"><table class = \"data-frame\" style = \"margin-bottom: 6px;\"><thead><tr class = \"header\"><th class = \"rowNumber\" style = \"font-weight: bold; text-align: right;\">Row</th><th style = \"text-align: left;\">y</th><th style = \"text-align: left;\">w</th><th style = \"text-align: left;\">gender_female</th><th style = \"text-align: left;\">gender_male</th><th style = \"text-align: left;\">gender_transgender</th><th style = \"text-align: left;\">ethnicgrp_asian</th><th style = \"text-align: left;\">ethnicgrp_black</th><th style = \"text-align: left;\">ethnicgrp_mixed_multiple</th><th style = \"text-align: left;\">ethnicgrp_other</th><th style = \"text-align: left;\">ethnicgrp_white</th><th style = \"text-align: left;\">partners1</th><th style = \"text-align: left;\">postlaunch</th><th style = \"text-align: left;\">msm</th><th style = \"text-align: left;\">age</th><th style = \"text-align: left;\">imd_decile</th></tr><tr class = \"subheader headerLastRow\"><th class = \"rowNumber\" style = \"font-weight: bold; text-align: right;\"></th><th title = \"Int64\" style = \"text-align: left;\">Int64</th><th title = \"Int64\" style = \"text-align: left;\">Int64</th><th title = \"Int64\" style = \"text-align: left;\">Int64</th><th title = \"Int64\" style = \"text-align: left;\">Int64</th><th title = \"Int64\" style = \"text-align: left;\">Int64</th><th title = \"Int64\" style = \"text-align: left;\">Int64</th><th title = \"Int64\" style = \"text-align: left;\">Int64</th><th title = \"Int64\" style = \"text-align: left;\">Int64</th><th title = \"Int64\" style = \"text-align: left;\">Int64</th><th title = \"Int64\" style = \"text-align: left;\">Int64</th><th title = \"Int64\" style = \"text-align: left;\">Int64</th><th title = \"Int64\" style = \"text-align: left;\">Int64</th><th title = \"Int64\" style = \"text-align: left;\">Int64</th><th title = \"Int64\" style = \"text-align: left;\">Int64</th><th title = \"Int64\" style = \"text-align: left;\">Int64</th></tr></thead><tbody><tr><td class = \"rowNumber\" style = \"font-weight: bold; text-align: right;\">1</td><td style = \"text-align: right;\">0</td><td style = \"text-align: right;\">0</td><td style = \"text-align: right;\">0</td><td style = \"text-align: right;\">1</td><td style = \"text-align: right;\">0</td><td style = \"text-align: right;\">0</td><td style = \"text-align: right;\">0</td><td style = \"text-align: right;\">0</td><td style = \"text-align: right;\">0</td><td style = \"text-align: right;\">1</td><td style = \"text-align: right;\">0</td><td style = \"text-align: right;\">0</td><td style = \"text-align: right;\">0</td><td style = \"text-align: right;\">19</td><td style = \"text-align: right;\">6</td></tr><tr><td class = \"rowNumber\" style = \"font-weight: bold; text-align: right;\">2</td><td style = \"text-align: right;\">0</td><td style = \"text-align: right;\">0</td><td style = \"text-align: right;\">1</td><td style = \"text-align: right;\">0</td><td style = \"text-align: right;\">0</td><td style = \"text-align: right;\">0</td><td style = \"text-align: right;\">0</td><td style = \"text-align: right;\">0</td><td style = \"text-align: right;\">0</td><td style = \"text-align: right;\">1</td><td style = \"text-align: right;\">1</td><td style = \"text-align: right;\">0</td><td style = \"text-align: right;\">0</td><td style = \"text-align: right;\">20</td><td style = \"text-align: right;\">2</td></tr><tr><td class = \"rowNumber\" style = \"font-weight: bold; text-align: right;\">3</td><td style = \"text-align: right;\">0</td><td style = \"text-align: right;\">0</td><td style = \"text-align: right;\">0</td><td style = \"text-align: right;\">1</td><td style = \"text-align: right;\">0</td><td style = \"text-align: right;\">0</td><td style = \"text-align: right;\">1</td><td style = \"text-align: right;\">0</td><td style = \"text-align: right;\">0</td><td style = \"text-align: right;\">0</td><td style = \"text-align: right;\">0</td><td style = \"text-align: right;\">1</td><td style = \"text-align: right;\">0</td><td style = \"text-align: right;\">21</td><td style = \"text-align: right;\">2</td></tr><tr><td class = \"rowNumber\" style = \"font-weight: bold; text-align: right;\">4</td><td style = \"text-align: right;\">0</td><td style = \"text-align: right;\">0</td><td style = \"text-align: right;\">0</td><td style = \"text-align: right;\">1</td><td style = \"text-align: right;\">0</td><td style = \"text-align: right;\">0</td><td style = \"text-align: right;\">0</td><td style = \"text-align: right;\">0</td><td style = \"text-align: right;\">0</td><td style = \"text-align: right;\">1</td><td style = \"text-align: right;\">0</td><td style = \"text-align: right;\">1</td><td style = \"text-align: right;\">1</td><td style = \"text-align: right;\">28</td><td style = \"text-align: right;\">3</td></tr><tr><td class = \"rowNumber\" style = \"font-weight: bold; text-align: right;\">5</td><td style = \"text-align: right;\">1</td><td style = \"text-align: right;\">0</td><td style = \"text-align: right;\">1</td><td style = \"text-align: right;\">0</td><td style = \"text-align: right;\">0</td><td style = \"text-align: right;\">0</td><td style = \"text-align: right;\">0</td><td style = \"text-align: right;\">0</td><td style = \"text-align: right;\">0</td><td style = \"text-align: right;\">1</td><td style = \"text-align: right;\">0</td><td style = \"text-align: right;\">1</td><td style = \"text-align: right;\">0</td><td style = \"text-align: right;\">24</td><td style = \"text-align: right;\">2</td></tr><tr><td class = \"rowNumber\" style = \"font-weight: bold; text-align: right;\">6</td><td style = \"text-align: right;\">1</td><td style = \"text-align: right;\">0</td><td style = \"text-align: right;\">0</td><td style = \"text-align: right;\">1</td><td style = \"text-align: right;\">0</td><td style = \"text-align: right;\">0</td><td style = \"text-align: right;\">0</td><td style = \"text-align: right;\">0</td><td style = \"text-align: right;\">0</td><td style = \"text-align: right;\">1</td><td style = \"text-align: right;\">0</td><td style = \"text-align: right;\">0</td><td style = \"text-align: right;\">0</td><td style = \"text-align: right;\">22</td><td style = \"text-align: right;\">2</td></tr><tr><td class = \"rowNumber\" style = \"font-weight: bold; text-align: right;\">7</td><td style = \"text-align: right;\">1</td><td style = \"text-align: right;\">0</td><td style = \"text-align: right;\">0</td><td style = \"text-align: right;\">1</td><td style = \"text-align: right;\">0</td><td style = \"text-align: right;\">1</td><td style = \"text-align: right;\">0</td><td style = \"text-align: right;\">0</td><td style = \"text-align: right;\">0</td><td style = \"text-align: right;\">0</td><td style = \"text-align: right;\">0</td><td style = \"text-align: right;\">1</td><td style = \"text-align: right;\">0</td><td style = \"text-align: right;\">19</td><td style = \"text-align: right;\">6</td></tr><tr><td class = \"rowNumber\" style = \"font-weight: bold; text-align: right;\">8</td><td style = \"text-align: right;\">0</td><td style = \"text-align: right;\">0</td><td style = \"text-align: right;\">1</td><td style = \"text-align: right;\">0</td><td style = \"text-align: right;\">0</td><td style = \"text-align: right;\">0</td><td style = \"text-align: right;\">0</td><td style = \"text-align: right;\">0</td><td style = \"text-align: right;\">0</td><td style = \"text-align: right;\">1</td><td style = \"text-align: right;\">0</td><td style = \"text-align: right;\">0</td><td style = \"text-align: right;\">0</td><td style = \"text-align: right;\">22</td><td style = \"text-align: right;\">2</td></tr><tr><td class = \"rowNumber\" style = \"font-weight: bold; text-align: right;\">9</td><td style = \"text-align: right;\">0</td><td style = \"text-align: right;\">0</td><td style = \"text-align: right;\">1</td><td style = \"text-align: right;\">0</td><td style = \"text-align: right;\">0</td><td style = \"text-align: right;\">0</td><td style = \"text-align: right;\">0</td><td style = \"text-align: right;\">1</td><td style = \"text-align: right;\">0</td><td style = \"text-align: right;\">0</td><td style = \"text-align: right;\">1</td><td style = \"text-align: right;\">1</td><td style = \"text-align: right;\">0</td><td style = \"text-align: right;\">19</td><td style = \"text-align: right;\">3</td></tr><tr><td class = \"rowNumber\" style = \"font-weight: bold; text-align: right;\">10</td><td style = \"text-align: right;\">0</td><td style = \"text-align: right;\">0</td><td style = \"text-align: right;\">0</td><td style = \"text-align: right;\">1</td><td style = \"text-align: right;\">0</td><td style = \"text-align: right;\">0</td><td style = \"text-align: right;\">0</td><td style = \"text-align: right;\">0</td><td style = \"text-align: right;\">0</td><td style = \"text-align: right;\">1</td><td style = \"text-align: right;\">0</td><td style = \"text-align: right;\">0</td><td style = \"text-align: right;\">1</td><td style = \"text-align: right;\">28</td><td style = \"text-align: right;\">6</td></tr><tr><td class = \"rowNumber\" style = \"font-weight: bold; text-align: right;\">11</td><td style = \"text-align: right;\">0</td><td style = \"text-align: right;\">0</td><td style = \"text-align: right;\">1</td><td style = \"text-align: right;\">0</td><td style = \"text-align: right;\">0</td><td style = \"text-align: right;\">0</td><td style = \"text-align: right;\">0</td><td style = \"text-align: right;\">0</td><td style = \"text-align: right;\">0</td><td style = \"text-align: right;\">1</td><td style = \"text-align: right;\">0</td><td style = \"text-align: right;\">0</td><td style = \"text-align: right;\">0</td><td style = \"text-align: right;\">20</td><td style = \"text-align: right;\">6</td></tr><tr><td class = \"rowNumber\" style = \"font-weight: bold; text-align: right;\">12</td><td style = \"text-align: right;\">0</td><td style = \"text-align: right;\">0</td><td style = \"text-align: right;\">0</td><td style = \"text-align: right;\">1</td><td style = \"text-align: right;\">0</td><td style = \"text-align: right;\">0</td><td style = \"text-align: right;\">0</td><td style = \"text-align: right;\">0</td><td style = \"text-align: right;\">0</td><td style = \"text-align: right;\">1</td><td style = \"text-align: right;\">0</td><td style = \"text-align: right;\">0</td><td style = \"text-align: right;\">1</td><td style = \"text-align: right;\">28</td><td style = \"text-align: right;\">4</td></tr><tr><td class = \"rowNumber\" style = \"font-weight: bold; text-align: right;\">13</td><td style = \"text-align: right;\">0</td><td style = \"text-align: right;\">0</td><td style = \"text-align: right;\">1</td><td style = \"text-align: right;\">0</td><td style = \"text-align: right;\">0</td><td style = \"text-align: right;\">0</td><td style = \"text-align: right;\">0</td><td style = \"text-align: right;\">0</td><td style = \"text-align: right;\">0</td><td style = \"text-align: right;\">1</td><td style = \"text-align: right;\">1</td><td style = \"text-align: right;\">1</td><td style = \"text-align: right;\">0</td><td style = \"text-align: right;\">18</td><td style = \"text-align: right;\">4</td></tr><tr><td style = \"text-align: right;\">&vellip;</td><td style = \"text-align: right;\">&vellip;</td><td style = \"text-align: right;\">&vellip;</td><td style = \"text-align: right;\">&vellip;</td><td style = \"text-align: right;\">&vellip;</td><td style = \"text-align: right;\">&vellip;</td><td style = \"text-align: right;\">&vellip;</td><td style = \"text-align: right;\">&vellip;</td><td style = \"text-align: right;\">&vellip;</td><td style = \"text-align: right;\">&vellip;</td><td style = \"text-align: right;\">&vellip;</td><td style = \"text-align: right;\">&vellip;</td><td style = \"text-align: right;\">&vellip;</td><td style = \"text-align: right;\">&vellip;</td><td style = \"text-align: right;\">&vellip;</td><td style = \"text-align: right;\">&vellip;</td></tr><tr><td class = \"rowNumber\" style = \"font-weight: bold; text-align: right;\">807</td><td style = \"text-align: right;\">0</td><td style = \"text-align: right;\">0</td><td style = \"text-align: right;\">0</td><td style = \"text-align: right;\">1</td><td style = \"text-align: right;\">0</td><td style = \"text-align: right;\">0</td><td style = \"text-align: right;\">0</td><td style = \"text-align: right;\">0</td><td style = \"text-align: right;\">0</td><td style = \"text-align: right;\">1</td><td style = \"text-align: right;\">0</td><td style = \"text-align: right;\">0</td><td style = \"text-align: right;\">0</td><td style = \"text-align: right;\">24</td><td style = \"text-align: right;\">6</td></tr><tr><td class = \"rowNumber\" style = \"font-weight: bold; text-align: right;\">808</td><td style = \"text-align: right;\">0</td><td style = \"text-align: right;\">0</td><td style = \"text-align: right;\">0</td><td style = \"text-align: right;\">1</td><td style = \"text-align: right;\">0</td><td style = \"text-align: right;\">0</td><td style = \"text-align: right;\">0</td><td style = \"text-align: right;\">1</td><td style = \"text-align: right;\">0</td><td style = \"text-align: right;\">0</td><td style = \"text-align: right;\">0</td><td style = \"text-align: right;\">0</td><td style = \"text-align: right;\">0</td><td style = \"text-align: right;\">18</td><td style = \"text-align: right;\">3</td></tr><tr><td class = \"rowNumber\" style = \"font-weight: bold; text-align: right;\">809</td><td style = \"text-align: right;\">1</td><td style = \"text-align: right;\">0</td><td style = \"text-align: right;\">1</td><td style = \"text-align: right;\">0</td><td style = \"text-align: right;\">0</td><td style = \"text-align: right;\">0</td><td style = \"text-align: right;\">0</td><td style = \"text-align: right;\">0</td><td style = \"text-align: right;\">0</td><td style = \"text-align: right;\">1</td><td style = \"text-align: right;\">0</td><td style = \"text-align: right;\">0</td><td style = \"text-align: right;\">0</td><td style = \"text-align: right;\">27</td><td style = \"text-align: right;\">4</td></tr><tr><td class = \"rowNumber\" style = \"font-weight: bold; text-align: right;\">810</td><td style = \"text-align: right;\">0</td><td style = \"text-align: right;\">0</td><td style = \"text-align: right;\">1</td><td style = \"text-align: right;\">0</td><td style = \"text-align: right;\">0</td><td style = \"text-align: right;\">0</td><td style = \"text-align: right;\">0</td><td style = \"text-align: right;\">0</td><td style = \"text-align: right;\">0</td><td style = \"text-align: right;\">1</td><td style = \"text-align: right;\">1</td><td style = \"text-align: right;\">0</td><td style = \"text-align: right;\">0</td><td style = \"text-align: right;\">18</td><td style = \"text-align: right;\">6</td></tr><tr><td class = \"rowNumber\" style = \"font-weight: bold; text-align: right;\">811</td><td style = \"text-align: right;\">1</td><td style = \"text-align: right;\">0</td><td style = \"text-align: right;\">0</td><td style = \"text-align: right;\">1</td><td style = \"text-align: right;\">0</td><td style = \"text-align: right;\">0</td><td style = \"text-align: right;\">0</td><td style = \"text-align: right;\">0</td><td style = \"text-align: right;\">0</td><td style = \"text-align: right;\">1</td><td style = \"text-align: right;\">0</td><td style = \"text-align: right;\">1</td><td style = \"text-align: right;\">0</td><td style = \"text-align: right;\">18</td><td style = \"text-align: right;\">4</td></tr><tr><td class = \"rowNumber\" style = \"font-weight: bold; text-align: right;\">812</td><td style = \"text-align: right;\">0</td><td style = \"text-align: right;\">0</td><td style = \"text-align: right;\">1</td><td style = \"text-align: right;\">0</td><td style = \"text-align: right;\">0</td><td style = \"text-align: right;\">0</td><td style = \"text-align: right;\">0</td><td style = \"text-align: right;\">0</td><td style = \"text-align: right;\">0</td><td style = \"text-align: right;\">1</td><td style = \"text-align: right;\">0</td><td style = \"text-align: right;\">1</td><td style = \"text-align: right;\">0</td><td style = \"text-align: right;\">29</td><td style = \"text-align: right;\">8</td></tr><tr><td class = \"rowNumber\" style = \"font-weight: bold; text-align: right;\">813</td><td style = \"text-align: right;\">0</td><td style = \"text-align: right;\">0</td><td style = \"text-align: right;\">0</td><td style = \"text-align: right;\">1</td><td style = \"text-align: right;\">0</td><td style = \"text-align: right;\">0</td><td style = \"text-align: right;\">0</td><td style = \"text-align: right;\">0</td><td style = \"text-align: right;\">0</td><td style = \"text-align: right;\">1</td><td style = \"text-align: right;\">0</td><td style = \"text-align: right;\">1</td><td style = \"text-align: right;\">1</td><td style = \"text-align: right;\">25</td><td style = \"text-align: right;\">2</td></tr><tr><td class = \"rowNumber\" style = \"font-weight: bold; text-align: right;\">814</td><td style = \"text-align: right;\">0</td><td style = \"text-align: right;\">0</td><td style = \"text-align: right;\">1</td><td style = \"text-align: right;\">0</td><td style = \"text-align: right;\">0</td><td style = \"text-align: right;\">0</td><td style = \"text-align: right;\">0</td><td style = \"text-align: right;\">0</td><td style = \"text-align: right;\">0</td><td style = \"text-align: right;\">1</td><td style = \"text-align: right;\">0</td><td style = \"text-align: right;\">0</td><td style = \"text-align: right;\">0</td><td style = \"text-align: right;\">27</td><td style = \"text-align: right;\">1</td></tr><tr><td class = \"rowNumber\" style = \"font-weight: bold; text-align: right;\">815</td><td style = \"text-align: right;\">0</td><td style = \"text-align: right;\">0</td><td style = \"text-align: right;\">1</td><td style = \"text-align: right;\">0</td><td style = \"text-align: right;\">0</td><td style = \"text-align: right;\">0</td><td style = \"text-align: right;\">0</td><td style = \"text-align: right;\">1</td><td style = \"text-align: right;\">0</td><td style = \"text-align: right;\">0</td><td style = \"text-align: right;\">0</td><td style = \"text-align: right;\">0</td><td style = \"text-align: right;\">0</td><td style = \"text-align: right;\">19</td><td style = \"text-align: right;\">6</td></tr><tr><td class = \"rowNumber\" style = \"font-weight: bold; text-align: right;\">816</td><td style = \"text-align: right;\">1</td><td style = \"text-align: right;\">0</td><td style = \"text-align: right;\">1</td><td style = \"text-align: right;\">0</td><td style = \"text-align: right;\">0</td><td style = \"text-align: right;\">0</td><td style = \"text-align: right;\">0</td><td style = \"text-align: right;\">0</td><td style = \"text-align: right;\">0</td><td style = \"text-align: right;\">1</td><td style = \"text-align: right;\">0</td><td style = \"text-align: right;\">0</td><td style = \"text-align: right;\">0</td><td style = \"text-align: right;\">20</td><td style = \"text-align: right;\">3</td></tr><tr><td class = \"rowNumber\" style = \"font-weight: bold; text-align: right;\">817</td><td style = \"text-align: right;\">1</td><td style = \"text-align: right;\">0</td><td style = \"text-align: right;\">0</td><td style = \"text-align: right;\">1</td><td style = \"text-align: right;\">0</td><td style = \"text-align: right;\">0</td><td style = \"text-align: right;\">1</td><td style = \"text-align: right;\">0</td><td style = \"text-align: right;\">0</td><td style = \"text-align: right;\">0</td><td style = \"text-align: right;\">1</td><td style = \"text-align: right;\">0</td><td style = \"text-align: right;\">0</td><td style = \"text-align: right;\">26</td><td style = \"text-align: right;\">3</td></tr><tr><td class = \"rowNumber\" style = \"font-weight: bold; text-align: right;\">818</td><td style = \"text-align: right;\">0</td><td style = \"text-align: right;\">0</td><td style = \"text-align: right;\">0</td><td style = \"text-align: right;\">1</td><td style = \"text-align: right;\">0</td><td style = \"text-align: right;\">0</td><td style = \"text-align: right;\">0</td><td style = \"text-align: right;\">0</td><td style = \"text-align: right;\">0</td><td style = \"text-align: right;\">1</td><td style = \"text-align: right;\">0</td><td style = \"text-align: right;\">0</td><td style = \"text-align: right;\">0</td><td style = \"text-align: right;\">24</td><td style = \"text-align: right;\">8</td></tr></tbody></table></div>"
      ],
      "text/latex": [
       "\\begin{tabular}{r|cccccccc}\n",
       "\t& y & w & gender\\_female & gender\\_male & gender\\_transgender & ethnicgrp\\_asian & ethnicgrp\\_black & \\\\\n",
       "\t\\hline\n",
       "\t& Int64 & Int64 & Int64 & Int64 & Int64 & Int64 & Int64 & \\\\\n",
       "\t\\hline\n",
       "\t1 & 0 & 0 & 0 & 1 & 0 & 0 & 0 & $\\dots$ \\\\\n",
       "\t2 & 0 & 0 & 1 & 0 & 0 & 0 & 0 & $\\dots$ \\\\\n",
       "\t3 & 0 & 0 & 0 & 1 & 0 & 0 & 1 & $\\dots$ \\\\\n",
       "\t4 & 0 & 0 & 0 & 1 & 0 & 0 & 0 & $\\dots$ \\\\\n",
       "\t5 & 1 & 0 & 1 & 0 & 0 & 0 & 0 & $\\dots$ \\\\\n",
       "\t6 & 1 & 0 & 0 & 1 & 0 & 0 & 0 & $\\dots$ \\\\\n",
       "\t7 & 1 & 0 & 0 & 1 & 0 & 1 & 0 & $\\dots$ \\\\\n",
       "\t8 & 0 & 0 & 1 & 0 & 0 & 0 & 0 & $\\dots$ \\\\\n",
       "\t9 & 0 & 0 & 1 & 0 & 0 & 0 & 0 & $\\dots$ \\\\\n",
       "\t10 & 0 & 0 & 0 & 1 & 0 & 0 & 0 & $\\dots$ \\\\\n",
       "\t11 & 0 & 0 & 1 & 0 & 0 & 0 & 0 & $\\dots$ \\\\\n",
       "\t12 & 0 & 0 & 0 & 1 & 0 & 0 & 0 & $\\dots$ \\\\\n",
       "\t13 & 0 & 0 & 1 & 0 & 0 & 0 & 0 & $\\dots$ \\\\\n",
       "\t14 & 1 & 0 & 0 & 1 & 0 & 0 & 0 & $\\dots$ \\\\\n",
       "\t15 & 0 & 0 & 1 & 0 & 0 & 0 & 1 & $\\dots$ \\\\\n",
       "\t16 & 1 & 0 & 1 & 0 & 0 & 0 & 0 & $\\dots$ \\\\\n",
       "\t17 & 0 & 0 & 1 & 0 & 0 & 0 & 0 & $\\dots$ \\\\\n",
       "\t18 & 1 & 0 & 1 & 0 & 0 & 0 & 0 & $\\dots$ \\\\\n",
       "\t19 & 1 & 0 & 0 & 1 & 0 & 0 & 1 & $\\dots$ \\\\\n",
       "\t20 & 0 & 0 & 0 & 1 & 0 & 0 & 0 & $\\dots$ \\\\\n",
       "\t21 & 0 & 0 & 1 & 0 & 0 & 0 & 1 & $\\dots$ \\\\\n",
       "\t22 & 0 & 0 & 0 & 1 & 0 & 1 & 0 & $\\dots$ \\\\\n",
       "\t23 & 0 & 0 & 1 & 0 & 0 & 0 & 0 & $\\dots$ \\\\\n",
       "\t24 & 0 & 0 & 1 & 0 & 0 & 0 & 0 & $\\dots$ \\\\\n",
       "\t25 & 0 & 0 & 1 & 0 & 0 & 0 & 0 & $\\dots$ \\\\\n",
       "\t26 & 1 & 0 & 1 & 0 & 0 & 0 & 0 & $\\dots$ \\\\\n",
       "\t27 & 0 & 0 & 0 & 1 & 0 & 0 & 0 & $\\dots$ \\\\\n",
       "\t28 & 0 & 0 & 1 & 0 & 0 & 0 & 0 & $\\dots$ \\\\\n",
       "\t29 & 0 & 0 & 0 & 1 & 0 & 0 & 0 & $\\dots$ \\\\\n",
       "\t30 & 1 & 0 & 0 & 1 & 0 & 0 & 0 & $\\dots$ \\\\\n",
       "\t$\\dots$ & $\\dots$ & $\\dots$ & $\\dots$ & $\\dots$ & $\\dots$ & $\\dots$ & $\\dots$ &  \\\\\n",
       "\\end{tabular}\n"
      ],
      "text/plain": [
       "\u001b[1m818×15 DataFrame\u001b[0m\n",
       "\u001b[1m Row \u001b[0m│\u001b[1m y     \u001b[0m\u001b[1m w     \u001b[0m\u001b[1m gender_female \u001b[0m\u001b[1m gender_male \u001b[0m\u001b[1m gender_transgender \u001b[0m\u001b[1m ethnicgrp\u001b[0m ⋯\n",
       "     │\u001b[90m Int64 \u001b[0m\u001b[90m Int64 \u001b[0m\u001b[90m Int64         \u001b[0m\u001b[90m Int64       \u001b[0m\u001b[90m Int64              \u001b[0m\u001b[90m Int64    \u001b[0m ⋯\n",
       "─────┼──────────────────────────────────────────────────────────────────────────\n",
       "   1 │     0      0              0            1                   0            ⋯\n",
       "   2 │     0      0              1            0                   0\n",
       "   3 │     0      0              0            1                   0\n",
       "   4 │     0      0              0            1                   0\n",
       "   5 │     1      0              1            0                   0            ⋯\n",
       "   6 │     1      0              0            1                   0\n",
       "   7 │     1      0              0            1                   0\n",
       "   8 │     0      0              1            0                   0\n",
       "   9 │     0      0              1            0                   0            ⋯\n",
       "  10 │     0      0              0            1                   0\n",
       "  11 │     0      0              1            0                   0\n",
       "  ⋮  │   ⋮      ⋮          ⋮             ⋮               ⋮                  ⋮  ⋱\n",
       " 809 │     1      0              1            0                   0\n",
       " 810 │     0      0              1            0                   0            ⋯\n",
       " 811 │     1      0              0            1                   0\n",
       " 812 │     0      0              1            0                   0\n",
       " 813 │     0      0              0            1                   0\n",
       " 814 │     0      0              1            0                   0            ⋯\n",
       " 815 │     0      0              1            0                   0\n",
       " 816 │     1      0              1            0                   0\n",
       " 817 │     1      0              0            1                   0\n",
       " 818 │     0      0              0            1                   0            ⋯\n",
       "\u001b[36m                                                 10 columns and 797 rows omitted\u001b[0m"
      ]
     },
     "execution_count": 2,
     "metadata": {},
     "output_type": "execute_result"
    }
   ],
   "source": [
    "#Loading data from Github\n",
    "url = \"https://raw.githubusercontent.com/gsbDBI/ExperimentData/master/eSTI/processed_data/processed_esti.csv\"\n",
    "response = HTTP.get(url)\n",
    "data = CSV.read(IOBuffer(response.body), DataFrame)\n",
    "\n",
    "#filtered_data = filter(row -> row.gender_transgender == 1, data)\n",
    "count(row -> row.gender_transgender == 1, eachrow(data))  #only 4 transgender people\n",
    "df_treat = filter(row -> row.w == 1, data)\n",
    "df_control = filter(row -> row.w==0, data)"
   ]
  },
  {
   "cell_type": "markdown",
   "id": "1f0242de-01f4-4084-9b49-47a1d5f2afdd",
   "metadata": {},
   "source": [
    "we'll  store results in a matrix"
   ]
  },
  {
   "cell_type": "code",
   "execution_count": 3,
   "id": "98b2966d-d200-4aa2-abd7-0e6aaac415ce",
   "metadata": {},
   "outputs": [],
   "source": [
    "#----------------------#\n",
    "#---Balance table------#\n",
    "#----------------------#\n",
    "ntreat = size(df_treat)[1]\n",
    "ncontrol = size(df_control)[1]\n",
    "\n",
    "#we'll consider the following variables: y, gender_male, ethnicgrp_white, partners1, age, and imd_decile\n",
    "varlist_treat = [df_treat[:, :y],\n",
    "                    df_treat[:, :gender_male],\n",
    "                    df_treat[:, :ethnicgrp_white],\n",
    "                    df_treat[:, :partners1],\n",
    "                    df_treat[:, :age],\n",
    "                    df_treat[:, :imd_decile]]\n",
    "varlist_control = [df_control[:, :y],\n",
    "                    df_control[:, :gender_male],\n",
    "                    df_control[:, :ethnicgrp_white],\n",
    "                    df_control[:, :partners1],\n",
    "                    df_control[:, :age],\n",
    "                    df_control[:, :imd_decile]]\n",
    "\n",
    "varlist_control[1]\n",
    "\n",
    "#---Making Table---#\n",
    "table = NamedArray(zeros(6, 8))\n",
    "for i in 1:size(varlist_control)[1]\n",
    "\n",
    "    #Treated\n",
    "    table[i,2] = ntreat\n",
    "    table[i,3] = mean(varlist_treat[i])\n",
    "    table[i,4] = std(varlist_treat[i])\n",
    "\n",
    "    #Control\n",
    "    table[i,5] = ntreat\n",
    "    table[i,6] = mean(varlist_control[i])\n",
    "    table[i,7] = std(varlist_control[i])\n",
    "\n",
    "    #Diff\n",
    "    table[i,8] = mean(varlist_treat[i]) - mean(varlist_control[i])\n",
    "\n",
    "end"
   ]
  },
  {
   "cell_type": "markdown",
   "id": "f96020b4-b02a-43e3-b9c1-a959b7fef903",
   "metadata": {},
   "source": [
    "Here are the results"
   ]
  },
  {
   "cell_type": "code",
   "execution_count": 4,
   "id": "f0348b5a-194a-4ddb-8ac0-1d3c7a28a9ee",
   "metadata": {},
   "outputs": [
    {
     "name": "stdout",
     "output_type": "stream",
     "text": [
      "\u001b[1m6×8 DataFrame\u001b[0m\n",
      "\u001b[1m Row \u001b[0m│\u001b[1m Variables                         \u001b[0m\u001b[1m n (treat) \u001b[0m\u001b[1m Treatment mean \u001b[0m\u001b[1m sd (treat) \u001b[0m\u001b[1m n (control) \u001b[0m\u001b[1m Control mean \u001b[0m\u001b[1m sd (control) \u001b[0m\u001b[1m Diff        \u001b[0m\n",
      "     │\u001b[90m String                            \u001b[0m\u001b[90m Float64   \u001b[0m\u001b[90m Float64        \u001b[0m\u001b[90m Float64    \u001b[0m\u001b[90m Float64     \u001b[0m\u001b[90m Float64      \u001b[0m\u001b[90m Float64      \u001b[0m\u001b[90m Float64     \u001b[0m\n",
      "─────┼────────────────────────────────────────────────────────────────────────────────────────────────────────────────────────────────\n",
      "   1 │ y (any STI test)                       921.0        0.476656    0.499726        921.0      0.211491      0.408616   0.265164\n",
      "   2 │ Male (=1 if male)                      921.0        0.409338    0.491979        921.0      0.418093      0.493547  -0.00875523\n",
      "   3 │ White (=1 if white)                    921.0        0.753529    0.43119         921.0      0.742054      0.437772   0.011475\n",
      "   4 │ Partners (=1 if person has one p…      921.0        0.30076     0.458838        921.0      0.292176      0.455041   0.008584\n",
      "   5 │ Age (years)                            921.0       23.1585      3.53874         921.0     23.0477        3.59401    0.110846\n",
      "   6 │ Multiple derivation index (decil…      921.0        3.46037     1.46584         921.0      3.48411       1.48608   -0.0237384\n"
     ]
    }
   ],
   "source": [
    "#---Results---#\n",
    "T = DataFrame(table, [ :\"Variables\", :\"n (treat)\", :\"Treatment mean\", :\"sd (treat)\", :\"n (control)\", :\"Control mean\", :\"sd (control)\", :\"Diff\"]) \n",
    "T[!,:Variables] = string.(T[!,:Variables]) \n",
    "\n",
    "T[1,1] = \"y (any STI test)\"\n",
    "T[2,1] = \"Male (=1 if male)\"\n",
    "T[3,1] = \"White (=1 if white)\"\n",
    "T[4,1] = \"Partners (=1 if person has one partner)\"\n",
    "T[5,1] = \"Age (years)\"\n",
    "T[6,1] = \"Multiple derivation index (decile)\"\n",
    "\n",
    "println(T)"
   ]
  },
  {
   "cell_type": "markdown",
   "id": "25f75ef9-a22b-42bb-ae9a-ba44986dcfdb",
   "metadata": {},
   "source": [
    "# Q2 - Linear Regression analysis"
   ]
  },
  {
   "cell_type": "code",
   "execution_count": 5,
   "id": "2ea4b21d-de54-480b-a17d-38b9753e3f83",
   "metadata": {},
   "outputs": [
    {
     "name": "stderr",
     "output_type": "stream",
     "text": [
      "\u001b[32m\u001b[1m   Resolving\u001b[22m\u001b[39m package versions...\n",
      "\u001b[32m\u001b[1m  No Changes\u001b[22m\u001b[39m to `C:\\Users\\ALBERTO TRELLES\\.julia\\environments\\v1.10\\Project.toml`\n",
      "\u001b[32m\u001b[1m  No Changes\u001b[22m\u001b[39m to `C:\\Users\\ALBERTO TRELLES\\.julia\\environments\\v1.10\\Manifest.toml`\n",
      "\u001b[32m\u001b[1m   Resolving\u001b[22m\u001b[39m package versions...\n",
      "\u001b[32m\u001b[1m  No Changes\u001b[22m\u001b[39m to `C:\\Users\\ALBERTO TRELLES\\.julia\\environments\\v1.10\\Project.toml`\n",
      "\u001b[32m\u001b[1m  No Changes\u001b[22m\u001b[39m to `C:\\Users\\ALBERTO TRELLES\\.julia\\environments\\v1.10\\Manifest.toml`\n",
      "\u001b[32m\u001b[1m   Resolving\u001b[22m\u001b[39m package versions...\n",
      "\u001b[32m\u001b[1m  No Changes\u001b[22m\u001b[39m to `C:\\Users\\ALBERTO TRELLES\\.julia\\environments\\v1.10\\Project.toml`\n",
      "\u001b[32m\u001b[1m  No Changes\u001b[22m\u001b[39m to `C:\\Users\\ALBERTO TRELLES\\.julia\\environments\\v1.10\\Manifest.toml`\n",
      "WARNING: using GLM.response in module Main conflicts with an existing identifier.\n",
      "WARNING: using StatsBase.response in module Main conflicts with an existing identifier.\n"
     ]
    }
   ],
   "source": [
    "import Pkg\n",
    "Pkg.add(\"GLM\")\n",
    "Pkg.add(\"StatsBase\")\n",
    "Pkg.add(\"Plots\")\n",
    "#Pkg.add(\"GR\")\n",
    "\n",
    "using GLM\n",
    "using StatsBase\n",
    "using Plots\n",
    "#using GR"
   ]
  },
  {
   "cell_type": "markdown",
   "id": "522b763b-ee92-4b4d-bdfb-b44fa60d6011",
   "metadata": {},
   "source": [
    "#### (2.1) Regression Y ~ T"
   ]
  },
  {
   "cell_type": "code",
   "execution_count": 6,
   "id": "3d1fd125-80c3-496f-9559-2af6b66ad559",
   "metadata": {},
   "outputs": [
    {
     "data": {
      "text/plain": [
       "2-element Vector{Float64}:\n",
       " 0.22190006179194519\n",
       " 0.30842867092921233"
      ]
     },
     "execution_count": 6,
     "metadata": {},
     "output_type": "execute_result"
    }
   ],
   "source": [
    "#---(1) Y ~ T------#\n",
    "exp = @formula(y ~ w)\n",
    "model1 = lm(exp, data)\n",
    "\n",
    "b1 = coef(model1)[2]\n",
    "se1 = stderror(model1)[2]\n",
    "ci1 = confint(model1)[2, :]"
   ]
  },
  {
   "cell_type": "code",
   "execution_count": 7,
   "id": "a6e2f63e-3850-4a3a-b7ec-12c2ab3751cf",
   "metadata": {},
   "outputs": [
    {
     "data": {
      "text/plain": [
       "StatsModels.TableRegressionModel{LinearModel{GLM.LmResp{Vector{Float64}}, GLM.DensePredChol{Float64, LinearAlgebra.CholeskyPivoted{Float64, Matrix{Float64}, Vector{Int64}}}}, Matrix{Float64}}\n",
       "\n",
       "y ~ 1 + w\n",
       "\n",
       "Coefficients:\n",
       "────────────────────────────────────────────────────────────────────────\n",
       "                Coef.  Std. Error      t  Pr(>|t|)  Lower 95%  Upper 95%\n",
       "────────────────────────────────────────────────────────────────────────\n",
       "(Intercept)  0.211491   0.0160531  13.17    <1e-37   0.180006   0.242977\n",
       "w            0.265164   0.0220586  12.02    <1e-31   0.2219     0.308429\n",
       "────────────────────────────────────────────────────────────────────────"
      ]
     },
     "execution_count": 7,
     "metadata": {},
     "output_type": "execute_result"
    }
   ],
   "source": [
    "model1"
   ]
  },
  {
   "cell_type": "markdown",
   "id": "53d6885e-a9f5-4976-a61a-2bbee8b46ff0",
   "metadata": {},
   "source": [
    "Interpretation: Receiving 1 text message with the web link of an e-STI testing (treatment group) increases the probability of taking a STI test by 0.265 porcentage points (pp) in avarage, compared to those who recieved 1 text message with the web link of a bespoke website listing the locations, contact details, and websites of 7 local sexual health clinics (control \n",
    "group. This effect is significant at the 99% confidence level. )"
   ]
  },
  {
   "cell_type": "markdown",
   "id": "41f0cd7d-8806-4dbc-b8f8-a8557caa62e0",
   "metadata": {},
   "source": [
    "From now on, we'll just refer to these groups as treatment and control"
   ]
  },
  {
   "cell_type": "markdown",
   "id": "1ebcda80-0c9d-4201-a023-fb9ad785d6c0",
   "metadata": {},
   "source": [
    "#### (2.2) Regression Y ~ T + X "
   ]
  },
  {
   "cell_type": "code",
   "execution_count": 8,
   "id": "674a6137-d417-43eb-90c6-6e56668a841e",
   "metadata": {},
   "outputs": [
    {
     "data": {
      "text/plain": [
       "2-element Vector{Float64}:\n",
       " 0.2197188110823285\n",
       " 0.304966463072013"
      ]
     },
     "execution_count": 8,
     "metadata": {},
     "output_type": "execute_result"
    }
   ],
   "source": [
    "#we'll consider the following variables: y, gender_male, ethnicgrp_white, partners1, age, and imd_decile\n",
    "exp = @formula(y ~ w + gender_male + ethnicgrp_white + partners1 + age + imd_decile)\n",
    "model2 = lm(exp, data)\n",
    "\n",
    "b2 = coef(model2)[2]\n",
    "se2 = stderror(model2)[2]\n",
    "ci2 = confint(model2)[2, :]"
   ]
  },
  {
   "cell_type": "code",
   "execution_count": 9,
   "id": "0b18114d-9aac-4e13-a52c-267ad47d95df",
   "metadata": {},
   "outputs": [
    {
     "data": {
      "text/plain": [
       "StatsModels.TableRegressionModel{LinearModel{GLM.LmResp{Vector{Float64}}, GLM.DensePredChol{Float64, LinearAlgebra.CholeskyPivoted{Float64, Matrix{Float64}, Vector{Int64}}}}, Matrix{Float64}}\n",
       "\n",
       "y ~ 1 + w + gender_male + ethnicgrp_white + partners1 + age + imd_decile\n",
       "\n",
       "Coefficients:\n",
       "──────────────────────────────────────────────────────────────────────────────────\n",
       "                       Coef.  Std. Error      t  Pr(>|t|)    Lower 95%   Upper 95%\n",
       "──────────────────────────────────────────────────────────────────────────────────\n",
       "(Intercept)      -0.11395     0.0793721   -1.44    0.1513  -0.269626     0.0417251\n",
       "w                 0.262343    0.0217321   12.07    <1e-31   0.219719     0.304966\n",
       "gender_male      -0.0925134   0.022323    -4.14    <1e-04  -0.136296    -0.0487305\n",
       "ethnicgrp_white   0.0712      0.0253057    2.81    0.0050   0.0215672    0.120833\n",
       "partners1        -0.0662289   0.0242168   -2.73    0.0063  -0.113726    -0.0187317\n",
       "age               0.0149919   0.00309163   4.85    <1e-05   0.00892814   0.0210556\n",
       "imd_decile       -0.00427382  0.00737916  -0.58    0.5625  -0.0187468    0.0101992\n",
       "──────────────────────────────────────────────────────────────────────────────────"
      ]
     },
     "execution_count": 9,
     "metadata": {},
     "output_type": "execute_result"
    }
   ],
   "source": [
    "model2"
   ]
  },
  {
   "cell_type": "markdown",
   "id": "9252ff3e-4572-4d09-8c77-d56991905913",
   "metadata": {},
   "source": [
    "Interpretation: those in the treatment group had their probability of taking a STI test increase by 0.262pp. This effect is significant at the 99% confidence level. \n",
    "Control variables are all statistically significant expect for imd_decile (Multiple derivation index (decile))"
   ]
  },
  {
   "cell_type": "markdown",
   "id": "9b8ed00e-a772-4cff-a9c7-da24b654d896",
   "metadata": {},
   "source": [
    "#### (2.3) Double Lasso Y ~ T + X"
   ]
  },
  {
   "cell_type": "code",
   "execution_count": 10,
   "id": "ea750373-700f-49f6-b518-435927fad01d",
   "metadata": {},
   "outputs": [
    {
     "data": {
      "text/plain": [
       "2-element Vector{Float64}:\n",
       " 0.21902108188449934\n",
       " 0.30430973911726156"
      ]
     },
     "execution_count": 10,
     "metadata": {},
     "output_type": "execute_result"
    }
   ],
   "source": [
    "include(\"../../labs/julia_notebooks/hdmjl/hdmjl.jl\")\n",
    "\n",
    "#Preparing data\n",
    "X = hcat(data[:, :gender_male], data[:, :ethnicgrp_white], data[:, :partners1], data[:, :age], data[:, :imd_decile])  \n",
    "Xdf = DataFrame(X, [:gender_male, :ethnicgrp_white, :partners1, :age, :imd_decile])\n",
    "wdf = select(data, :w)\n",
    "ydf = select(data, :y)\n",
    "\n",
    "model3a=rlasso_arg( Xdf, wdf, nothing, true, true, true, false, false, nothing, 1.1, nothing, 5000, 15, 10^(-5), -Inf, false, Inf, true )\n",
    "model3b=rlasso_arg( Xdf, ydf, nothing, true, true, true, false, false, nothing, 1.1, nothing, 5000, 15, 10^(-5), -Inf, false, Inf, true )\n",
    "\n",
    "resW = rlasso(model3a)[\"residuals\"]\n",
    "resY = rlasso(model3b)[\"residuals\"]\n",
    "lassodf=DataFrame(hcat(resY,resW),[\"resY\",\"resW\"])\n",
    "\n",
    "#Regression\n",
    "exp = @formula(resY ~ resW)\n",
    "model3 = lm(exp, lassodf)\n",
    "\n",
    "b3 = coef(model3)[2]\n",
    "se3 = stderror(model3)[2]\n",
    "ci3 = confint(model3)[2, :]"
   ]
  },
  {
   "cell_type": "code",
   "execution_count": 11,
   "id": "0ac0fde8-47df-4ba0-9813-0e6fb65e1aa4",
   "metadata": {},
   "outputs": [
    {
     "data": {
      "text/plain": [
       "StatsModels.TableRegressionModel{LinearModel{GLM.LmResp{Vector{Float64}}, GLM.DensePredChol{Float64, CholeskyPivoted{Float64, Matrix{Float64}, Vector{Int64}}}}, Matrix{Float64}}\n",
       "\n",
       "resY ~ 1 + resW\n",
       "\n",
       "Coefficients:\n",
       "────────────────────────────────────────────────────────────────────────────\n",
       "                   Coef.  Std. Error      t  Pr(>|t|)   Lower 95%  Upper 95%\n",
       "────────────────────────────────────────────────────────────────────────────\n",
       "(Intercept)  6.69623e-18   0.0108522   0.00    1.0000  -0.0212847  0.0212847\n",
       "resW         0.261665      0.0217425  12.03    <1e-31   0.219021   0.30431\n",
       "────────────────────────────────────────────────────────────────────────────"
      ]
     },
     "execution_count": 11,
     "metadata": {},
     "output_type": "execute_result"
    }
   ],
   "source": [
    "model3"
   ]
  },
  {
   "cell_type": "markdown",
   "id": "f239c0bb-8265-4cdd-b3d9-3a15009d3c38",
   "metadata": {},
   "source": [
    "Interpretation: those in the treatment group had their probability of taking a STI test increase by 0.261pp. This effect is significant at the 99% confidence level. "
   ]
  },
  {
   "cell_type": "markdown",
   "id": "467c17d6-2ff1-4926-892f-9f31186dac81",
   "metadata": {},
   "source": [
    "#### Results"
   ]
  },
  {
   "cell_type": "code",
   "execution_count": 12,
   "id": "69213e64-f0a5-4295-baa7-f6a0ac19f518",
   "metadata": {},
   "outputs": [
    {
     "data": {
      "image/png": "[encoded data removed]",
      "image/svg+xml": [
       "<?xml version=\"1.0\" encoding=\"utf-8\"?>\n",
       "<svg xmlns=\"http://www.w3.org/2000/svg\" xmlns:xlink=\"http://www.w3.org/1999/xlink\" width=\"800\" height=\"600\" viewBox=\"0 0 3200 2400\">\n",
       "<defs>\n",
       "  <clipPath id=\"clip060\">\n",
       "    <rect x=\"0\" y=\"0\" width=\"3200\" height=\"2400\"/>\n",
       "  </clipPath>\n",
       "</defs>\n",
       "<path clip-path=\"url(#clip060)\" d=\"M0 2400 L3200 2400 L3200 0 L0 0  Z\" fill=\"#ffffff\" fill-rule=\"evenodd\" fill-opacity=\"1\"/>\n",
       "<defs>\n",
       "  <clipPath id=\"clip061\">\n",
       "    <rect x=\"640\" y=\"0\" width=\"2241\" height=\"2241\"/>\n",
       "  </clipPath>\n",
       "</defs>\n",
       "<path clip-path=\"url(#clip060)\" d=\"M233.806 2274.13 L3152.76 2274.13 L3152.76 131.032 L233.806 131.032  Z\" fill=\"#ffffff\" fill-rule=\"evenodd\" fill-opacity=\"1\"/>\n",
       "<defs>\n",
       "  <clipPath id=\"clip062\">\n",
       "    <rect x=\"233\" y=\"131\" width=\"2920\" height=\"2144\"/>\n",
       "  </clipPath>\n",
       "</defs>\n",
       "<polyline clip-path=\"url(#clip062)\" style=\"stroke:#000000; stroke-linecap:round; stroke-linejoin:round; stroke-width:2; stroke-opacity:0.1; fill:none\" points=\"316.418,2274.13 316.418,131.032 \"/>\n",
       "<polyline clip-path=\"url(#clip062)\" style=\"stroke:#000000; stroke-linecap:round; stroke-linejoin:round; stroke-width:2; stroke-opacity:0.1; fill:none\" points=\"1693.28,2274.13 1693.28,131.032 \"/>\n",
       "<polyline clip-path=\"url(#clip062)\" style=\"stroke:#000000; stroke-linecap:round; stroke-linejoin:round; stroke-width:2; stroke-opacity:0.1; fill:none\" points=\"3070.14,2274.13 3070.14,131.032 \"/>\n",
       "<polyline clip-path=\"url(#clip060)\" style=\"stroke:#000000; stroke-linecap:round; stroke-linejoin:round; stroke-width:4; stroke-opacity:1; fill:none\" points=\"233.806,2274.13 3152.76,2274.13 \"/>\n",
       "<polyline clip-path=\"url(#clip060)\" style=\"stroke:#000000; stroke-linecap:round; stroke-linejoin:round; stroke-width:4; stroke-opacity:1; fill:none\" points=\"316.418,2274.13 316.418,2255.23 \"/>\n",
       "<polyline clip-path=\"url(#clip060)\" style=\"stroke:#000000; stroke-linecap:round; stroke-linejoin:round; stroke-width:4; stroke-opacity:1; fill:none\" points=\"1693.28,2274.13 1693.28,2255.23 \"/>\n",
       "<polyline clip-path=\"url(#clip060)\" style=\"stroke:#000000; stroke-linecap:round; stroke-linejoin:round; stroke-width:4; stroke-opacity:1; fill:none\" points=\"3070.14,2274.13 3070.14,2255.23 \"/>\n",
       "<path clip-path=\"url(#clip060)\" d=\"M288.177 2311.54 Q283.085 2311.54 280.076 2315.34 Q277.09 2319.13 277.09 2325.68 Q277.09 2332.21 280.076 2336.01 Q283.085 2339.8 288.177 2339.8 Q293.27 2339.8 296.233 2336.01 Q299.219 2332.21 299.219 2325.68 Q299.219 2319.13 296.233 2315.34 Q293.27 2311.54 288.177 2311.54 M288.177 2307.74 Q295.446 2307.74 299.798 2312.63 Q304.15 2317.49 304.15 2325.68 Q304.15 2333.85 299.798 2338.74 Q295.446 2343.6 288.177 2343.6 Q280.886 2343.6 276.511 2338.74 Q272.159 2333.88 272.159 2325.68 Q272.159 2317.49 276.511 2312.63 Q280.886 2307.74 288.177 2307.74 Z\" fill=\"#000000\" fill-rule=\"nonzero\" fill-opacity=\"1\" /><path clip-path=\"url(#clip060)\" d=\"M311.464 2308.37 L316.14 2308.37 L316.14 2338.99 L332.969 2338.99 L332.969 2342.93 L311.464 2342.93 L311.464 2308.37 Z\" fill=\"#000000\" fill-rule=\"nonzero\" fill-opacity=\"1\" /><path clip-path=\"url(#clip060)\" d=\"M358.594 2309.5 L358.594 2314.06 Q355.932 2312.79 353.571 2312.16 Q351.21 2311.54 349.01 2311.54 Q345.191 2311.54 343.108 2313.02 Q341.048 2314.5 341.048 2317.23 Q341.048 2319.53 342.413 2320.71 Q343.802 2321.86 347.645 2322.58 L350.469 2323.16 Q355.7 2324.15 358.177 2326.68 Q360.677 2329.18 360.677 2333.39 Q360.677 2338.41 357.297 2341.01 Q353.941 2343.6 347.436 2343.6 Q344.983 2343.6 342.205 2343.04 Q339.45 2342.49 336.487 2341.4 L336.487 2336.59 Q339.335 2338.18 342.066 2338.99 Q344.798 2339.8 347.436 2339.8 Q351.441 2339.8 353.617 2338.23 Q355.793 2336.65 355.793 2333.74 Q355.793 2331.19 354.219 2329.76 Q352.668 2328.32 349.103 2327.6 L346.256 2327.05 Q341.024 2326.01 338.686 2323.78 Q336.348 2321.56 336.348 2317.6 Q336.348 2313.02 339.566 2310.38 Q342.807 2307.74 348.478 2307.74 Q350.909 2307.74 353.432 2308.18 Q355.955 2308.62 358.594 2309.5 Z\" fill=\"#000000\" fill-rule=\"nonzero\" fill-opacity=\"1\" /><path clip-path=\"url(#clip060)\" d=\"M1476.35 2311.54 Q1471.26 2311.54 1468.25 2315.34 Q1465.26 2319.13 1465.26 2325.68 Q1465.26 2332.21 1468.25 2336.01 Q1471.26 2339.8 1476.35 2339.8 Q1481.44 2339.8 1484.4 2336.01 Q1487.39 2332.21 1487.39 2325.68 Q1487.39 2319.13 1484.4 2315.34 Q1481.44 2311.54 1476.35 2311.54 M1476.35 2307.74 Q1483.62 2307.74 1487.97 2312.63 Q1492.32 2317.49 1492.32 2325.68 Q1492.32 2333.85 1487.97 2338.74 Q1483.62 2343.6 1476.35 2343.6 Q1469.06 2343.6 1464.68 2338.74 Q1460.33 2333.88 1460.33 2325.68 Q1460.33 2317.49 1464.68 2312.63 Q1469.06 2307.74 1476.35 2307.74 Z\" fill=\"#000000\" fill-rule=\"nonzero\" fill-opacity=\"1\" /><path clip-path=\"url(#clip060)\" d=\"M1499.64 2308.37 L1504.31 2308.37 L1504.31 2338.99 L1521.14 2338.99 L1521.14 2342.93 L1499.64 2342.93 L1499.64 2308.37 Z\" fill=\"#000000\" fill-rule=\"nonzero\" fill-opacity=\"1\" /><path clip-path=\"url(#clip060)\" d=\"M1546.77 2309.5 L1546.77 2314.06 Q1544.1 2312.79 1541.74 2312.16 Q1539.38 2311.54 1537.18 2311.54 Q1533.36 2311.54 1531.28 2313.02 Q1529.22 2314.5 1529.22 2317.23 Q1529.22 2319.53 1530.59 2320.71 Q1531.97 2321.86 1535.82 2322.58 L1538.64 2323.16 Q1543.87 2324.15 1546.35 2326.68 Q1548.85 2329.18 1548.85 2333.39 Q1548.85 2338.41 1545.47 2341.01 Q1542.11 2343.6 1535.61 2343.6 Q1533.15 2343.6 1530.38 2343.04 Q1527.62 2342.49 1524.66 2341.4 L1524.66 2336.59 Q1527.51 2338.18 1530.24 2338.99 Q1532.97 2339.8 1535.61 2339.8 Q1539.61 2339.8 1541.79 2338.23 Q1543.96 2336.65 1543.96 2333.74 Q1543.96 2331.19 1542.39 2329.76 Q1540.84 2328.32 1537.27 2327.6 L1534.43 2327.05 Q1529.2 2326.01 1526.86 2323.78 Q1524.52 2321.56 1524.52 2317.6 Q1524.52 2313.02 1527.74 2310.38 Q1530.98 2307.74 1536.65 2307.74 Q1539.08 2307.74 1541.6 2308.18 Q1544.13 2308.62 1546.77 2309.5 Z\" fill=\"#000000\" fill-rule=\"nonzero\" fill-opacity=\"1\" /><path clip-path=\"url(#clip060)\" d=\"M1568.55 2317 L1572.81 2317 L1578.13 2337.23 L1583.43 2317 L1588.46 2317 L1593.78 2337.23 L1599.08 2317 L1603.34 2317 L1596.56 2342.93 L1591.53 2342.93 L1585.96 2321.68 L1580.35 2342.93 L1575.33 2342.93 L1568.55 2317 Z\" fill=\"#000000\" fill-rule=\"nonzero\" fill-opacity=\"1\" /><path clip-path=\"url(#clip060)\" d=\"M1609.8 2317 L1614.06 2317 L1614.06 2342.93 L1609.8 2342.93 L1609.8 2317 M1609.8 2306.91 L1614.06 2306.91 L1614.06 2312.3 L1609.8 2312.3 L1609.8 2306.91 Z\" fill=\"#000000\" fill-rule=\"nonzero\" fill-opacity=\"1\" /><path clip-path=\"url(#clip060)\" d=\"M1627.18 2309.64 L1627.18 2317 L1635.96 2317 L1635.96 2320.31 L1627.18 2320.31 L1627.18 2334.39 Q1627.18 2337.56 1628.04 2338.46 Q1628.92 2339.36 1631.58 2339.36 L1635.96 2339.36 L1635.96 2342.93 L1631.58 2342.93 Q1626.65 2342.93 1624.77 2341.1 Q1622.9 2339.25 1622.9 2334.39 L1622.9 2320.31 L1619.77 2320.31 L1619.77 2317 L1622.9 2317 L1622.9 2309.64 L1627.18 2309.64 Z\" fill=\"#000000\" fill-rule=\"nonzero\" fill-opacity=\"1\" /><path clip-path=\"url(#clip060)\" d=\"M1663.11 2327.28 L1663.11 2342.93 L1658.85 2342.93 L1658.85 2327.42 Q1658.85 2323.74 1657.41 2321.91 Q1655.98 2320.08 1653.11 2320.08 Q1649.66 2320.08 1647.67 2322.28 Q1645.68 2324.48 1645.68 2328.28 L1645.68 2342.93 L1641.39 2342.93 L1641.39 2306.91 L1645.68 2306.91 L1645.68 2321.03 Q1647.2 2318.69 1649.27 2317.53 Q1651.35 2316.38 1654.06 2316.38 Q1658.52 2316.38 1660.82 2319.15 Q1663.11 2321.91 1663.11 2327.28 Z\" fill=\"#000000\" fill-rule=\"nonzero\" fill-opacity=\"1\" /><path clip-path=\"url(#clip060)\" d=\"M1705.33 2318 L1705.33 2321.98 Q1703.52 2320.98 1701.7 2320.5 Q1699.89 2319.99 1698.04 2319.99 Q1693.89 2319.99 1691.6 2322.63 Q1689.31 2325.24 1689.31 2329.99 Q1689.31 2334.73 1691.6 2337.37 Q1693.89 2339.99 1698.04 2339.99 Q1699.89 2339.99 1701.7 2339.5 Q1703.52 2338.99 1705.33 2338 L1705.33 2341.93 Q1703.55 2342.77 1701.63 2343.18 Q1699.73 2343.6 1697.58 2343.6 Q1691.72 2343.6 1688.27 2339.92 Q1684.82 2336.24 1684.82 2329.99 Q1684.82 2323.65 1688.29 2320.01 Q1691.79 2316.38 1697.85 2316.38 Q1699.82 2316.38 1701.7 2316.79 Q1703.57 2317.19 1705.33 2318 Z\" fill=\"#000000\" fill-rule=\"nonzero\" fill-opacity=\"1\" /><path clip-path=\"url(#clip060)\" d=\"M1722.78 2319.99 Q1719.36 2319.99 1717.37 2322.67 Q1715.38 2325.34 1715.38 2329.99 Q1715.38 2334.64 1717.34 2337.33 Q1719.33 2339.99 1722.78 2339.99 Q1726.19 2339.99 1728.18 2337.3 Q1730.17 2334.62 1730.17 2329.99 Q1730.17 2325.38 1728.18 2322.7 Q1726.19 2319.99 1722.78 2319.99 M1722.78 2316.38 Q1728.34 2316.38 1731.51 2319.99 Q1734.68 2323.6 1734.68 2329.99 Q1734.68 2336.35 1731.51 2339.99 Q1728.34 2343.6 1722.78 2343.6 Q1717.2 2343.6 1714.03 2339.99 Q1710.89 2336.35 1710.89 2329.99 Q1710.89 2323.6 1714.03 2319.99 Q1717.2 2316.38 1722.78 2316.38 Z\" fill=\"#000000\" fill-rule=\"nonzero\" fill-opacity=\"1\" /><path clip-path=\"url(#clip060)\" d=\"M1738.69 2317 L1743.2 2317 L1751.3 2338.76 L1759.4 2317 L1763.92 2317 L1754.2 2342.93 L1748.41 2342.93 L1738.69 2317 Z\" fill=\"#000000\" fill-rule=\"nonzero\" fill-opacity=\"1\" /><path clip-path=\"url(#clip060)\" d=\"M1781.58 2329.9 Q1776.42 2329.9 1774.43 2331.08 Q1772.44 2332.26 1772.44 2335.1 Q1772.44 2337.37 1773.92 2338.71 Q1775.42 2340.03 1777.99 2340.03 Q1781.53 2340.03 1783.66 2337.53 Q1785.82 2335.01 1785.82 2330.84 L1785.82 2329.9 L1781.58 2329.9 M1790.07 2328.14 L1790.07 2342.93 L1785.82 2342.93 L1785.82 2338.99 Q1784.36 2341.35 1782.18 2342.49 Q1780.01 2343.6 1776.86 2343.6 Q1772.88 2343.6 1770.51 2341.38 Q1768.18 2339.13 1768.18 2335.38 Q1768.18 2331.01 1771.09 2328.78 Q1774.03 2326.56 1779.84 2326.56 L1785.82 2326.56 L1785.82 2326.15 Q1785.82 2323.21 1783.87 2321.61 Q1781.95 2319.99 1778.45 2319.99 Q1776.23 2319.99 1774.13 2320.52 Q1772.02 2321.05 1770.07 2322.12 L1770.07 2318.18 Q1772.41 2317.28 1774.61 2316.84 Q1776.81 2316.38 1778.89 2316.38 Q1784.52 2316.38 1787.3 2319.29 Q1790.07 2322.21 1790.07 2328.14 Z\" fill=\"#000000\" fill-rule=\"nonzero\" fill-opacity=\"1\" /><path clip-path=\"url(#clip060)\" d=\"M1813.87 2320.98 Q1813.15 2320.57 1812.3 2320.38 Q1811.46 2320.17 1810.44 2320.17 Q1806.83 2320.17 1804.89 2322.53 Q1802.97 2324.87 1802.97 2329.27 L1802.97 2342.93 L1798.69 2342.93 L1798.69 2317 L1802.97 2317 L1802.97 2321.03 Q1804.31 2318.67 1806.46 2317.53 Q1808.62 2316.38 1811.69 2316.38 Q1812.13 2316.38 1812.67 2316.45 Q1813.2 2316.49 1813.85 2316.61 L1813.87 2320.98 Z\" fill=\"#000000\" fill-rule=\"nonzero\" fill-opacity=\"1\" /><path clip-path=\"url(#clip060)\" d=\"M1818.34 2317 L1822.6 2317 L1822.6 2342.93 L1818.34 2342.93 L1818.34 2317 M1818.34 2306.91 L1822.6 2306.91 L1822.6 2312.3 L1818.34 2312.3 L1818.34 2306.91 Z\" fill=\"#000000\" fill-rule=\"nonzero\" fill-opacity=\"1\" /><path clip-path=\"url(#clip060)\" d=\"M1843.29 2329.9 Q1838.13 2329.9 1836.14 2331.08 Q1834.15 2332.26 1834.15 2335.1 Q1834.15 2337.37 1835.63 2338.71 Q1837.13 2340.03 1839.7 2340.03 Q1843.25 2340.03 1845.38 2337.53 Q1847.53 2335.01 1847.53 2330.84 L1847.53 2329.9 L1843.29 2329.9 M1851.79 2328.14 L1851.79 2342.93 L1847.53 2342.93 L1847.53 2338.99 Q1846.07 2341.35 1843.89 2342.49 Q1841.72 2343.6 1838.57 2343.6 Q1834.59 2343.6 1832.23 2341.38 Q1829.89 2339.13 1829.89 2335.38 Q1829.89 2331.01 1832.81 2328.78 Q1835.75 2326.56 1841.56 2326.56 L1847.53 2326.56 L1847.53 2326.15 Q1847.53 2323.21 1845.58 2321.61 Q1843.66 2319.99 1840.17 2319.99 Q1837.94 2319.99 1835.84 2320.52 Q1833.73 2321.05 1831.79 2322.12 L1831.79 2318.18 Q1834.13 2317.28 1836.32 2316.84 Q1838.52 2316.38 1840.61 2316.38 Q1846.23 2316.38 1849.01 2319.29 Q1851.79 2322.21 1851.79 2328.14 Z\" fill=\"#000000\" fill-rule=\"nonzero\" fill-opacity=\"1\" /><path clip-path=\"url(#clip060)\" d=\"M1864.77 2309.64 L1864.77 2317 L1873.55 2317 L1873.55 2320.31 L1864.77 2320.31 L1864.77 2334.39 Q1864.77 2337.56 1865.63 2338.46 Q1866.51 2339.36 1869.17 2339.36 L1873.55 2339.36 L1873.55 2342.93 L1869.17 2342.93 Q1864.24 2342.93 1862.37 2341.1 Q1860.49 2339.25 1860.49 2334.39 L1860.49 2320.31 L1857.37 2320.31 L1857.37 2317 L1860.49 2317 L1860.49 2309.64 L1864.77 2309.64 Z\" fill=\"#000000\" fill-rule=\"nonzero\" fill-opacity=\"1\" /><path clip-path=\"url(#clip060)\" d=\"M1901.32 2328.9 L1901.32 2330.98 L1881.74 2330.98 Q1882.02 2335.38 1884.38 2337.7 Q1886.76 2339.99 1891 2339.99 Q1893.45 2339.99 1895.75 2339.39 Q1898.06 2338.78 1900.33 2337.58 L1900.33 2341.61 Q1898.04 2342.58 1895.63 2343.09 Q1893.22 2343.6 1890.75 2343.6 Q1884.54 2343.6 1880.91 2339.99 Q1877.3 2336.38 1877.3 2330.22 Q1877.3 2323.85 1880.72 2320.13 Q1884.17 2316.38 1890 2316.38 Q1895.24 2316.38 1898.27 2319.76 Q1901.32 2323.11 1901.32 2328.9 M1897.06 2327.65 Q1897.02 2324.15 1895.1 2322.07 Q1893.2 2319.99 1890.05 2319.99 Q1886.49 2319.99 1884.33 2322 Q1882.2 2324.02 1881.88 2327.67 L1897.06 2327.65 Z\" fill=\"#000000\" fill-rule=\"nonzero\" fill-opacity=\"1\" /><path clip-path=\"url(#clip060)\" d=\"M1924.84 2317.77 L1924.84 2321.79 Q1923.04 2320.87 1921.09 2320.4 Q1919.15 2319.94 1917.06 2319.94 Q1913.89 2319.94 1912.3 2320.91 Q1910.72 2321.89 1910.72 2323.83 Q1910.72 2325.31 1911.86 2326.17 Q1912.99 2327 1916.42 2327.77 L1917.87 2328.09 Q1922.41 2329.06 1924.31 2330.84 Q1926.23 2332.6 1926.23 2335.78 Q1926.23 2339.39 1923.36 2341.49 Q1920.51 2343.6 1915.51 2343.6 Q1913.43 2343.6 1911.16 2343.18 Q1908.92 2342.79 1906.42 2341.98 L1906.42 2337.58 Q1908.78 2338.81 1911.07 2339.43 Q1913.36 2340.03 1915.61 2340.03 Q1918.62 2340.03 1920.24 2339.02 Q1921.86 2337.97 1921.86 2336.1 Q1921.86 2334.36 1920.68 2333.44 Q1919.52 2332.51 1915.56 2331.65 L1914.08 2331.31 Q1910.12 2330.47 1908.36 2328.76 Q1906.6 2327.03 1906.6 2324.02 Q1906.6 2320.36 1909.19 2318.37 Q1911.79 2316.38 1916.56 2316.38 Q1918.92 2316.38 1921 2316.72 Q1923.08 2317.07 1924.84 2317.77 Z\" fill=\"#000000\" fill-rule=\"nonzero\" fill-opacity=\"1\" /><path clip-path=\"url(#clip060)\" d=\"M2919.98 2312.21 L2919.98 2339.09 L2925.63 2339.09 Q2932.78 2339.09 2936.09 2335.84 Q2939.43 2332.6 2939.43 2325.61 Q2939.43 2318.67 2936.09 2315.45 Q2932.78 2312.21 2925.63 2312.21 L2919.98 2312.21 M2915.31 2308.37 L2924.91 2308.37 Q2934.96 2308.37 2939.66 2312.56 Q2944.36 2316.72 2944.36 2325.61 Q2944.36 2334.55 2939.64 2338.74 Q2934.91 2342.93 2924.91 2342.93 L2915.31 2342.93 L2915.31 2308.37 Z\" fill=\"#000000\" fill-rule=\"nonzero\" fill-opacity=\"1\" /><path clip-path=\"url(#clip060)\" d=\"M2961.67 2319.99 Q2958.25 2319.99 2956.26 2322.67 Q2954.27 2325.34 2954.27 2329.99 Q2954.27 2334.64 2956.23 2337.33 Q2958.22 2339.99 2961.67 2339.99 Q2965.08 2339.99 2967.07 2337.3 Q2969.06 2334.62 2969.06 2329.99 Q2969.06 2325.38 2967.07 2322.7 Q2965.08 2319.99 2961.67 2319.99 M2961.67 2316.38 Q2967.23 2316.38 2970.4 2319.99 Q2973.57 2323.6 2973.57 2329.99 Q2973.57 2336.35 2970.4 2339.99 Q2967.23 2343.6 2961.67 2343.6 Q2956.09 2343.6 2952.92 2339.99 Q2949.77 2336.35 2949.77 2329.99 Q2949.77 2323.6 2952.92 2319.99 Q2956.09 2316.38 2961.67 2316.38 Z\" fill=\"#000000\" fill-rule=\"nonzero\" fill-opacity=\"1\" /><path clip-path=\"url(#clip060)\" d=\"M2980.19 2332.7 L2980.19 2317 L2984.45 2317 L2984.45 2332.53 Q2984.45 2336.21 2985.89 2338.07 Q2987.32 2339.9 2990.19 2339.9 Q2993.64 2339.9 2995.63 2337.7 Q2997.64 2335.5 2997.64 2331.7 L2997.64 2317 L3001.9 2317 L3001.9 2342.93 L2997.64 2342.93 L2997.64 2338.95 Q2996.09 2341.31 2994.03 2342.46 Q2992 2343.6 2989.29 2343.6 Q2984.82 2343.6 2982.51 2340.82 Q2980.19 2338.04 2980.19 2332.7 M2990.91 2316.38 L2990.91 2316.38 Z\" fill=\"#000000\" fill-rule=\"nonzero\" fill-opacity=\"1\" /><path clip-path=\"url(#clip060)\" d=\"M3029.29 2329.99 Q3029.29 2325.29 3027.34 2322.63 Q3025.42 2319.94 3022.04 2319.94 Q3018.66 2319.94 3016.72 2322.63 Q3014.8 2325.29 3014.8 2329.99 Q3014.8 2334.69 3016.72 2337.37 Q3018.66 2340.03 3022.04 2340.03 Q3025.42 2340.03 3027.34 2337.37 Q3029.29 2334.69 3029.29 2329.99 M3014.8 2320.94 Q3016.14 2318.62 3018.18 2317.51 Q3020.24 2316.38 3023.08 2316.38 Q3027.81 2316.38 3030.75 2320.13 Q3033.71 2323.88 3033.71 2329.99 Q3033.71 2336.1 3030.75 2339.85 Q3027.81 2343.6 3023.08 2343.6 Q3020.24 2343.6 3018.18 2342.49 Q3016.14 2341.35 3014.8 2339.04 L3014.8 2342.93 L3010.51 2342.93 L3010.51 2306.91 L3014.8 2306.91 L3014.8 2320.94 Z\" fill=\"#000000\" fill-rule=\"nonzero\" fill-opacity=\"1\" /><path clip-path=\"url(#clip060)\" d=\"M3040.77 2306.91 L3045.03 2306.91 L3045.03 2342.93 L3040.77 2342.93 L3040.77 2306.91 Z\" fill=\"#000000\" fill-rule=\"nonzero\" fill-opacity=\"1\" /><path clip-path=\"url(#clip060)\" d=\"M3076.12 2328.9 L3076.12 2330.98 L3056.53 2330.98 Q3056.81 2335.38 3059.17 2337.7 Q3061.56 2339.99 3065.79 2339.99 Q3068.25 2339.99 3070.54 2339.39 Q3072.85 2338.78 3075.12 2337.58 L3075.12 2341.61 Q3072.83 2342.58 3070.42 2343.09 Q3068.01 2343.6 3065.54 2343.6 Q3059.33 2343.6 3055.7 2339.99 Q3052.09 2336.38 3052.09 2330.22 Q3052.09 2323.85 3055.51 2320.13 Q3058.96 2316.38 3064.8 2316.38 Q3070.03 2316.38 3073.06 2319.76 Q3076.12 2323.11 3076.12 2328.9 M3071.86 2327.65 Q3071.81 2324.15 3069.89 2322.07 Q3067.99 2319.99 3064.84 2319.99 Q3061.28 2319.99 3059.13 2322 Q3057 2324.02 3056.67 2327.67 L3071.86 2327.65 Z\" fill=\"#000000\" fill-rule=\"nonzero\" fill-opacity=\"1\" /><path clip-path=\"url(#clip060)\" d=\"M3098.36 2308.37 L3103.04 2308.37 L3103.04 2338.99 L3119.87 2338.99 L3119.87 2342.93 L3098.36 2342.93 L3098.36 2308.37 Z\" fill=\"#000000\" fill-rule=\"nonzero\" fill-opacity=\"1\" /><path clip-path=\"url(#clip060)\" d=\"M3136.37 2329.9 Q3131.21 2329.9 3129.22 2331.08 Q3127.23 2332.26 3127.23 2335.1 Q3127.23 2337.37 3128.71 2338.71 Q3130.21 2340.03 3132.78 2340.03 Q3136.32 2340.03 3138.45 2337.53 Q3140.61 2335.01 3140.61 2330.84 L3140.61 2329.9 L3136.37 2329.9 M3144.87 2328.14 L3144.87 2342.93 L3140.61 2342.93 L3140.61 2338.99 Q3139.15 2341.35 3136.97 2342.49 Q3134.8 2343.6 3131.65 2343.6 Q3127.67 2343.6 3125.31 2341.38 Q3122.97 2339.13 3122.97 2335.38 Q3122.97 2331.01 3125.88 2328.78 Q3128.82 2326.56 3134.63 2326.56 L3140.61 2326.56 L3140.61 2326.15 Q3140.61 2323.21 3138.66 2321.61 Q3136.74 2319.99 3133.25 2319.99 Q3131.02 2319.99 3128.92 2320.52 Q3126.81 2321.05 3124.87 2322.12 L3124.87 2318.18 Q3127.2 2317.28 3129.4 2316.84 Q3131.6 2316.38 3133.69 2316.38 Q3139.31 2316.38 3142.09 2319.29 Q3144.87 2322.21 3144.87 2328.14 Z\" fill=\"#000000\" fill-rule=\"nonzero\" fill-opacity=\"1\" /><path clip-path=\"url(#clip060)\" d=\"M3170.17 2317.77 L3170.17 2321.79 Q3168.36 2320.87 3166.42 2320.4 Q3164.47 2319.94 3162.39 2319.94 Q3159.22 2319.94 3157.62 2320.91 Q3156.05 2321.89 3156.05 2323.83 Q3156.05 2325.31 3157.18 2326.17 Q3158.31 2327 3161.74 2327.77 L3163.2 2328.09 Q3167.74 2329.06 3169.63 2330.84 Q3171.56 2332.6 3171.56 2335.78 Q3171.56 2339.39 3168.69 2341.49 Q3165.84 2343.6 3160.84 2343.6 Q3158.75 2343.6 3156.49 2343.18 Q3154.24 2342.79 3151.74 2341.98 L3151.74 2337.58 Q3154.1 2338.81 3156.39 2339.43 Q3158.69 2340.03 3160.93 2340.03 Q3163.94 2340.03 3165.56 2339.02 Q3167.18 2337.97 3167.18 2336.1 Q3167.18 2334.36 3166 2333.44 Q3164.84 2332.51 3160.88 2331.65 L3159.4 2331.31 Q3155.44 2330.47 3153.69 2328.76 Q3151.93 2327.03 3151.93 2324.02 Q3151.93 2320.36 3154.52 2318.37 Q3157.11 2316.38 3161.88 2316.38 Q3164.24 2316.38 3166.32 2316.72 Q3168.41 2317.07 3170.17 2317.77 Z\" fill=\"#000000\" fill-rule=\"nonzero\" fill-opacity=\"1\" /><path clip-path=\"url(#clip060)\" d=\"M3194.87 2317.77 L3194.87 2321.79 Q3193.06 2320.87 3191.12 2320.4 Q3189.17 2319.94 3187.09 2319.94 Q3183.92 2319.94 3182.32 2320.91 Q3180.75 2321.89 3180.75 2323.83 Q3180.75 2325.31 3181.88 2326.17 Q3183.01 2327 3186.44 2327.77 L3187.9 2328.09 Q3192.44 2329.06 3194.33 2330.84 Q3196.25 2332.6 3196.25 2335.78 Q3196.25 2339.39 3193.38 2341.49 Q3190.54 2343.6 3185.54 2343.6 Q3183.45 2343.6 3181.19 2343.18 Q3178.94 2342.79 3176.44 2341.98 L3176.44 2337.58 Q3178.8 2338.81 3181.09 2339.43 Q3183.38 2340.03 3185.63 2340.03 Q3188.64 2340.03 3190.26 2339.02 Q3191.88 2337.97 3191.88 2336.1 Q3191.88 2334.36 3190.7 2333.44 Q3189.54 2332.51 3185.58 2331.65 L3184.1 2331.31 Q3180.14 2330.47 3178.38 2328.76 Q3176.63 2327.03 3176.63 2324.02 Q3176.63 2320.36 3179.22 2318.37 Q3181.81 2316.38 3186.58 2316.38 Q3188.94 2316.38 3191.02 2316.72 Q3193.11 2317.07 3194.87 2317.77 Z\" fill=\"#000000\" fill-rule=\"nonzero\" fill-opacity=\"1\" /><path clip-path=\"url(#clip060)\" d=\"M3213.08 2319.99 Q3209.66 2319.99 3207.67 2322.67 Q3205.68 2325.34 3205.68 2329.99 Q3205.68 2334.64 3207.64 2337.33 Q3209.63 2339.99 3213.08 2339.99 Q3216.49 2339.99 3218.48 2337.3 Q3220.47 2334.62 3220.47 2329.99 Q3220.47 2325.38 3218.48 2322.7 Q3216.49 2319.99 3213.08 2319.99 M3213.08 2316.38 Q3218.64 2316.38 3221.81 2319.99 Q3224.98 2323.6 3224.98 2329.99 Q3224.98 2336.35 3221.81 2339.99 Q3218.64 2343.6 3213.08 2343.6 Q3207.5 2343.6 3204.33 2339.99 Q3201.19 2336.35 3201.19 2329.99 Q3201.19 2323.6 3204.33 2319.99 Q3207.5 2316.38 3213.08 2316.38 Z\" fill=\"#000000\" fill-rule=\"nonzero\" fill-opacity=\"1\" /><polyline clip-path=\"url(#clip062)\" style=\"stroke:#000000; stroke-linecap:round; stroke-linejoin:round; stroke-width:2; stroke-opacity:0.1; fill:none\" points=\"233.806,1995 3152.76,1995 \"/>\n",
       "<polyline clip-path=\"url(#clip062)\" style=\"stroke:#000000; stroke-linecap:round; stroke-linejoin:round; stroke-width:2; stroke-opacity:0.1; fill:none\" points=\"233.806,1614.23 3152.76,1614.23 \"/>\n",
       "<polyline clip-path=\"url(#clip062)\" style=\"stroke:#000000; stroke-linecap:round; stroke-linejoin:round; stroke-width:2; stroke-opacity:0.1; fill:none\" points=\"233.806,1233.45 3152.76,1233.45 \"/>\n",
       "<polyline clip-path=\"url(#clip062)\" style=\"stroke:#000000; stroke-linecap:round; stroke-linejoin:round; stroke-width:2; stroke-opacity:0.1; fill:none\" points=\"233.806,852.682 3152.76,852.682 \"/>\n",
       "<polyline clip-path=\"url(#clip062)\" style=\"stroke:#000000; stroke-linecap:round; stroke-linejoin:round; stroke-width:2; stroke-opacity:0.1; fill:none\" points=\"233.806,471.908 3152.76,471.908 \"/>\n",
       "<polyline clip-path=\"url(#clip060)\" style=\"stroke:#000000; stroke-linecap:round; stroke-linejoin:round; stroke-width:4; stroke-opacity:1; fill:none\" points=\"233.806,2274.13 233.806,131.032 \"/>\n",
       "<polyline clip-path=\"url(#clip060)\" style=\"stroke:#000000; stroke-linecap:round; stroke-linejoin:round; stroke-width:4; stroke-opacity:1; fill:none\" points=\"233.806,1995 252.704,1995 \"/>\n",
       "<polyline clip-path=\"url(#clip060)\" style=\"stroke:#000000; stroke-linecap:round; stroke-linejoin:round; stroke-width:4; stroke-opacity:1; fill:none\" points=\"233.806,1614.23 252.704,1614.23 \"/>\n",
       "<polyline clip-path=\"url(#clip060)\" style=\"stroke:#000000; stroke-linecap:round; stroke-linejoin:round; stroke-width:4; stroke-opacity:1; fill:none\" points=\"233.806,1233.45 252.704,1233.45 \"/>\n",
       "<polyline clip-path=\"url(#clip060)\" style=\"stroke:#000000; stroke-linecap:round; stroke-linejoin:round; stroke-width:4; stroke-opacity:1; fill:none\" points=\"233.806,852.682 252.704,852.682 \"/>\n",
       "<polyline clip-path=\"url(#clip060)\" style=\"stroke:#000000; stroke-linecap:round; stroke-linejoin:round; stroke-width:4; stroke-opacity:1; fill:none\" points=\"233.806,471.908 252.704,471.908 \"/>\n",
       "<path clip-path=\"url(#clip060)\" d=\"M129.857 1980.8 Q126.246 1980.8 124.418 1984.36 Q122.612 1987.91 122.612 1995.04 Q122.612 2002.14 124.418 2005.71 Q126.246 2009.25 129.857 2009.25 Q133.492 2009.25 135.297 2005.71 Q137.126 2002.14 137.126 1995.04 Q137.126 1987.91 135.297 1984.36 Q133.492 1980.8 129.857 1980.8 M129.857 1977.1 Q135.668 1977.1 138.723 1981.7 Q141.802 1986.29 141.802 1995.04 Q141.802 2003.76 138.723 2008.37 Q135.668 2012.95 129.857 2012.95 Q124.047 2012.95 120.969 2008.37 Q117.913 2003.76 117.913 1995.04 Q117.913 1986.29 120.969 1981.7 Q124.047 1977.1 129.857 1977.1 Z\" fill=\"#000000\" fill-rule=\"nonzero\" fill-opacity=\"1\" /><path clip-path=\"url(#clip060)\" d=\"M150.019 2006.4 L154.904 2006.4 L154.904 2012.28 L150.019 2012.28 L150.019 2006.4 Z\" fill=\"#000000\" fill-rule=\"nonzero\" fill-opacity=\"1\" /><path clip-path=\"url(#clip060)\" d=\"M165.899 2008.35 L173.538 2008.35 L173.538 1981.98 L165.228 1983.65 L165.228 1979.39 L173.492 1977.72 L178.167 1977.72 L178.167 2008.35 L185.806 2008.35 L185.806 2012.28 L165.899 2012.28 L165.899 2008.35 Z\" fill=\"#000000\" fill-rule=\"nonzero\" fill-opacity=\"1\" /><path clip-path=\"url(#clip060)\" d=\"M130.228 1600.03 Q126.617 1600.03 124.788 1603.59 Q122.983 1607.13 122.983 1614.26 Q122.983 1621.37 124.788 1624.93 Q126.617 1628.48 130.228 1628.48 Q133.862 1628.48 135.668 1624.93 Q137.496 1621.37 137.496 1614.26 Q137.496 1607.13 135.668 1603.59 Q133.862 1600.03 130.228 1600.03 M130.228 1596.32 Q136.038 1596.32 139.094 1600.93 Q142.172 1605.51 142.172 1614.26 Q142.172 1622.99 139.094 1627.6 Q136.038 1632.18 130.228 1632.18 Q124.418 1632.18 121.339 1627.6 Q118.283 1622.99 118.283 1614.26 Q118.283 1605.51 121.339 1600.93 Q124.418 1596.32 130.228 1596.32 Z\" fill=\"#000000\" fill-rule=\"nonzero\" fill-opacity=\"1\" /><path clip-path=\"url(#clip060)\" d=\"M150.39 1625.63 L155.274 1625.63 L155.274 1631.51 L150.39 1631.51 L150.39 1625.63 Z\" fill=\"#000000\" fill-rule=\"nonzero\" fill-opacity=\"1\" /><path clip-path=\"url(#clip060)\" d=\"M169.487 1627.57 L185.806 1627.57 L185.806 1631.51 L163.862 1631.51 L163.862 1627.57 Q166.524 1624.82 171.107 1620.19 Q175.714 1615.54 176.894 1614.19 Q179.14 1611.67 180.019 1609.93 Q180.922 1608.17 180.922 1606.48 Q180.922 1603.73 178.978 1601.99 Q177.056 1600.26 173.954 1600.26 Q171.755 1600.26 169.302 1601.02 Q166.871 1601.79 164.093 1603.34 L164.093 1598.61 Q166.917 1597.48 169.371 1596.9 Q171.825 1596.32 173.862 1596.32 Q179.232 1596.32 182.427 1599.01 Q185.621 1601.69 185.621 1606.18 Q185.621 1608.31 184.811 1610.23 Q184.024 1612.13 181.917 1614.73 Q181.339 1615.4 178.237 1618.61 Q175.135 1621.81 169.487 1627.57 Z\" fill=\"#000000\" fill-rule=\"nonzero\" fill-opacity=\"1\" /><path clip-path=\"url(#clip060)\" d=\"M129.279 1219.25 Q125.668 1219.25 123.839 1222.82 Q122.033 1226.36 122.033 1233.49 Q122.033 1240.6 123.839 1244.16 Q125.668 1247.7 129.279 1247.7 Q132.913 1247.7 134.719 1244.16 Q136.547 1240.6 136.547 1233.49 Q136.547 1226.36 134.719 1222.82 Q132.913 1219.25 129.279 1219.25 M129.279 1215.55 Q135.089 1215.55 138.144 1220.16 Q141.223 1224.74 141.223 1233.49 Q141.223 1242.22 138.144 1246.82 Q135.089 1251.41 129.279 1251.41 Q123.469 1251.41 120.39 1246.82 Q117.334 1242.22 117.334 1233.49 Q117.334 1224.74 120.39 1220.16 Q123.469 1215.55 129.279 1215.55 Z\" fill=\"#000000\" fill-rule=\"nonzero\" fill-opacity=\"1\" /><path clip-path=\"url(#clip060)\" d=\"M149.441 1244.86 L154.325 1244.86 L154.325 1250.73 L149.441 1250.73 L149.441 1244.86 Z\" fill=\"#000000\" fill-rule=\"nonzero\" fill-opacity=\"1\" /><path clip-path=\"url(#clip060)\" d=\"M178.677 1232.1 Q182.033 1232.82 183.908 1235.09 Q185.806 1237.36 185.806 1240.69 Q185.806 1245.8 182.288 1248.61 Q178.769 1251.41 172.288 1251.41 Q170.112 1251.41 167.797 1250.97 Q165.505 1250.55 163.052 1249.69 L163.052 1245.18 Q164.996 1246.31 167.311 1246.89 Q169.626 1247.47 172.149 1247.47 Q176.547 1247.47 178.839 1245.73 Q181.154 1244 181.154 1240.69 Q181.154 1237.63 179.001 1235.92 Q176.871 1234.18 173.052 1234.18 L169.024 1234.18 L169.024 1230.34 L173.237 1230.34 Q176.686 1230.34 178.515 1228.98 Q180.343 1227.59 180.343 1224.99 Q180.343 1222.33 178.445 1220.92 Q176.57 1219.48 173.052 1219.48 Q171.13 1219.48 168.931 1219.9 Q166.732 1220.32 164.093 1221.2 L164.093 1217.03 Q166.755 1216.29 169.07 1215.92 Q171.408 1215.55 173.468 1215.55 Q178.792 1215.55 181.894 1217.98 Q184.996 1220.39 184.996 1224.51 Q184.996 1227.38 183.353 1229.37 Q181.709 1231.34 178.677 1232.1 Z\" fill=\"#000000\" fill-rule=\"nonzero\" fill-opacity=\"1\" /><path clip-path=\"url(#clip060)\" d=\"M128.145 838.48 Q124.533 838.48 122.705 842.045 Q120.899 845.587 120.899 852.716 Q120.899 859.823 122.705 863.387 Q124.533 866.929 128.145 866.929 Q131.779 866.929 133.584 863.387 Q135.413 859.823 135.413 852.716 Q135.413 845.587 133.584 842.045 Q131.779 838.48 128.145 838.48 M128.145 834.777 Q133.955 834.777 137.01 839.383 Q140.089 843.966 140.089 852.716 Q140.089 861.443 137.01 866.05 Q133.955 870.633 128.145 870.633 Q122.334 870.633 119.256 866.05 Q116.2 861.443 116.2 852.716 Q116.2 843.966 119.256 839.383 Q122.334 834.777 128.145 834.777 Z\" fill=\"#000000\" fill-rule=\"nonzero\" fill-opacity=\"1\" /><path clip-path=\"url(#clip060)\" d=\"M148.306 864.082 L153.191 864.082 L153.191 869.962 L148.306 869.962 L148.306 864.082 Z\" fill=\"#000000\" fill-rule=\"nonzero\" fill-opacity=\"1\" /><path clip-path=\"url(#clip060)\" d=\"M176.223 839.476 L164.417 857.925 L176.223 857.925 L176.223 839.476 M174.996 835.402 L180.876 835.402 L180.876 857.925 L185.806 857.925 L185.806 861.813 L180.876 861.813 L180.876 869.962 L176.223 869.962 L176.223 861.813 L160.621 861.813 L160.621 857.3 L174.996 835.402 Z\" fill=\"#000000\" fill-rule=\"nonzero\" fill-opacity=\"1\" /><path clip-path=\"url(#clip060)\" d=\"M129.626 457.707 Q126.015 457.707 124.186 461.272 Q122.381 464.813 122.381 471.943 Q122.381 479.05 124.186 482.614 Q126.015 486.156 129.626 486.156 Q133.26 486.156 135.066 482.614 Q136.894 479.05 136.894 471.943 Q136.894 464.813 135.066 461.272 Q133.26 457.707 129.626 457.707 M129.626 454.003 Q135.436 454.003 138.492 458.61 Q141.57 463.193 141.57 471.943 Q141.57 480.67 138.492 485.276 Q135.436 489.86 129.626 489.86 Q123.816 489.86 120.737 485.276 Q117.682 480.67 117.682 471.943 Q117.682 463.193 120.737 458.61 Q123.816 454.003 129.626 454.003 Z\" fill=\"#000000\" fill-rule=\"nonzero\" fill-opacity=\"1\" /><path clip-path=\"url(#clip060)\" d=\"M149.788 483.309 L154.672 483.309 L154.672 489.188 L149.788 489.188 L149.788 483.309 Z\" fill=\"#000000\" fill-rule=\"nonzero\" fill-opacity=\"1\" /><path clip-path=\"url(#clip060)\" d=\"M164.904 454.628 L183.26 454.628 L183.26 458.564 L169.186 458.564 L169.186 467.036 Q170.204 466.688 171.223 466.526 Q172.242 466.341 173.26 466.341 Q179.047 466.341 182.427 469.513 Q185.806 472.684 185.806 478.1 Q185.806 483.679 182.334 486.781 Q178.862 489.86 172.542 489.86 Q170.367 489.86 168.098 489.489 Q165.853 489.119 163.445 488.378 L163.445 483.679 Q165.529 484.813 167.751 485.369 Q169.973 485.924 172.45 485.924 Q176.454 485.924 178.792 483.818 Q181.13 481.712 181.13 478.1 Q181.13 474.489 178.792 472.383 Q176.454 470.276 172.45 470.276 Q170.575 470.276 168.7 470.693 Q166.848 471.11 164.904 471.989 L164.904 454.628 Z\" fill=\"#000000\" fill-rule=\"nonzero\" fill-opacity=\"1\" /><path clip-path=\"url(#clip060)\" d=\"M10.0844 1425.86 L16.8639 1425.86 Q13.8402 1429.1 12.3443 1432.8 Q10.8483 1436.46 10.8483 1440.59 Q10.8483 1448.74 15.8454 1453.07 Q20.8107 1457.4 30.2319 1457.4 Q39.6213 1457.4 44.6184 1453.07 Q49.5836 1448.74 49.5836 1440.59 Q49.5836 1436.46 48.0877 1432.8 Q46.5918 1429.1 43.5681 1425.86 L50.2839 1425.86 Q52.5755 1429.23 53.7214 1433.02 Q54.8672 1436.77 54.8672 1440.98 Q54.8672 1451.77 48.2787 1457.97 Q41.6583 1464.18 30.2319 1464.18 Q18.7736 1464.18 12.1851 1457.97 Q5.56479 1451.77 5.56479 1440.98 Q5.56479 1436.71 6.71061 1432.95 Q7.82461 1429.17 10.0844 1425.86 Z\" fill=\"#000000\" fill-rule=\"nonzero\" fill-opacity=\"1\" /><path clip-path=\"url(#clip060)\" d=\"M22.4021 1402.37 Q22.4021 1407.08 26.0942 1409.82 Q29.7545 1412.55 36.152 1412.55 Q42.5495 1412.55 46.2417 1409.85 Q49.9019 1407.11 49.9019 1402.37 Q49.9019 1397.69 46.2098 1394.95 Q42.5177 1392.21 36.152 1392.21 Q29.8181 1392.21 26.126 1394.95 Q22.4021 1397.69 22.4021 1402.37 M17.4368 1402.37 Q17.4368 1394.73 22.4021 1390.37 Q27.3673 1386.01 36.152 1386.01 Q44.9049 1386.01 49.9019 1390.37 Q54.8672 1394.73 54.8672 1402.37 Q54.8672 1410.04 49.9019 1414.4 Q44.9049 1418.73 36.152 1418.73 Q27.3673 1418.73 22.4021 1414.4 Q17.4368 1410.04 17.4368 1402.37 Z\" fill=\"#000000\" fill-rule=\"nonzero\" fill-opacity=\"1\" /><path clip-path=\"url(#clip060)\" d=\"M34.6561 1345.81 L37.5206 1345.81 L37.5206 1372.74 Q43.5681 1372.35 46.7509 1369.11 Q49.9019 1365.83 49.9019 1360 Q49.9019 1356.63 49.0744 1353.48 Q48.2469 1350.3 46.5918 1347.18 L52.1299 1347.18 Q53.4667 1350.33 54.167 1353.64 Q54.8672 1356.95 54.8672 1360.35 Q54.8672 1368.88 49.9019 1373.88 Q44.9367 1378.85 36.4703 1378.85 Q27.7174 1378.85 22.5931 1374.14 Q17.4368 1369.39 17.4368 1361.37 Q17.4368 1354.18 22.0838 1350.01 Q26.6989 1345.81 34.6561 1345.81 M32.9373 1351.66 Q28.1312 1351.73 25.2666 1354.37 Q22.4021 1356.98 22.4021 1361.31 Q22.4021 1366.21 25.1712 1369.17 Q27.9402 1372.1 32.9692 1372.54 L32.9373 1351.66 Z\" fill=\"#000000\" fill-rule=\"nonzero\" fill-opacity=\"1\" /><path clip-path=\"url(#clip060)\" d=\"M4.41896 1318.15 L9.28873 1318.15 L9.28873 1323.75 Q9.28873 1326.9 10.5619 1328.14 Q11.835 1329.35 15.1452 1329.35 L18.2962 1329.35 L18.2962 1319.71 L22.8477 1319.71 L22.8477 1329.35 L53.9442 1329.35 L53.9442 1335.24 L22.8477 1335.24 L22.8477 1340.84 L18.2962 1340.84 L18.2962 1335.24 L15.8136 1335.24 Q9.86164 1335.24 7.15621 1332.47 Q4.41896 1329.7 4.41896 1323.69 L4.41896 1318.15 Z\" fill=\"#000000\" fill-rule=\"nonzero\" fill-opacity=\"1\" /><path clip-path=\"url(#clip060)\" d=\"M4.41896 1295.2 L9.28873 1295.2 L9.28873 1300.8 Q9.28873 1303.95 10.5619 1305.2 Q11.835 1306.4 15.1452 1306.4 L18.2962 1306.4 L18.2962 1296.76 L22.8477 1296.76 L22.8477 1306.4 L53.9442 1306.4 L53.9442 1312.29 L22.8477 1312.29 L22.8477 1317.89 L18.2962 1317.89 L18.2962 1312.29 L15.8136 1312.29 Q9.86164 1312.29 7.15621 1309.52 Q4.41896 1306.75 4.41896 1300.74 L4.41896 1295.2 Z\" fill=\"#000000\" fill-rule=\"nonzero\" fill-opacity=\"1\" /><path clip-path=\"url(#clip060)\" d=\"M18.2962 1290.3 L18.2962 1284.44 L53.9442 1284.44 L53.9442 1290.3 L18.2962 1290.3 M4.41896 1290.3 L4.41896 1284.44 L11.835 1284.44 L11.835 1290.3 L4.41896 1290.3 Z\" fill=\"#000000\" fill-rule=\"nonzero\" fill-opacity=\"1\" /><path clip-path=\"url(#clip060)\" d=\"M19.6648 1246.54 L25.1393 1246.54 Q23.7707 1249.02 23.1023 1251.53 Q22.4021 1254.01 22.4021 1256.56 Q22.4021 1262.26 26.0305 1265.41 Q29.6272 1268.56 36.152 1268.56 Q42.6769 1268.56 46.3053 1265.41 Q49.9019 1262.26 49.9019 1256.56 Q49.9019 1254.01 49.2335 1251.53 Q48.5333 1249.02 47.1647 1246.54 L52.5755 1246.54 Q53.7214 1248.99 54.2943 1251.63 Q54.8672 1254.24 54.8672 1257.2 Q54.8672 1265.25 49.8064 1269.99 Q44.7457 1274.74 36.152 1274.74 Q27.431 1274.74 22.4339 1269.96 Q17.4368 1265.15 17.4368 1256.82 Q17.4368 1254.11 18.0097 1251.53 Q18.5508 1248.95 19.6648 1246.54 Z\" fill=\"#000000\" fill-rule=\"nonzero\" fill-opacity=\"1\" /><path clip-path=\"url(#clip060)\" d=\"M18.2962 1236.35 L18.2962 1230.49 L53.9442 1230.49 L53.9442 1236.35 L18.2962 1236.35 M4.41896 1236.35 L4.41896 1230.49 L11.835 1230.49 L11.835 1236.35 L4.41896 1236.35 Z\" fill=\"#000000\" fill-rule=\"nonzero\" fill-opacity=\"1\" /><path clip-path=\"url(#clip060)\" d=\"M34.6561 1187.75 L37.5206 1187.75 L37.5206 1214.67 Q43.5681 1214.29 46.7509 1211.05 Q49.9019 1207.77 49.9019 1201.94 Q49.9019 1198.57 49.0744 1195.42 Q48.2469 1192.24 46.5918 1189.12 L52.1299 1189.12 Q53.4667 1192.27 54.167 1195.58 Q54.8672 1198.89 54.8672 1202.29 Q54.8672 1210.82 49.9019 1215.82 Q44.9367 1220.79 36.4703 1220.79 Q27.7174 1220.79 22.5931 1216.08 Q17.4368 1211.33 17.4368 1203.31 Q17.4368 1196.12 22.0838 1191.95 Q26.6989 1187.75 34.6561 1187.75 M32.9373 1193.6 Q28.1312 1193.67 25.2666 1196.31 Q22.4021 1198.92 22.4021 1203.25 Q22.4021 1208.15 25.1712 1211.11 Q27.9402 1214.04 32.9692 1214.48 L32.9373 1193.6 Z\" fill=\"#000000\" fill-rule=\"nonzero\" fill-opacity=\"1\" /><path clip-path=\"url(#clip060)\" d=\"M32.4281 1148.5 L53.9442 1148.5 L53.9442 1154.36 L32.619 1154.36 Q27.5583 1154.36 25.0438 1156.33 Q22.5294 1158.31 22.5294 1162.25 Q22.5294 1167 25.5531 1169.73 Q28.5768 1172.47 33.7967 1172.47 L53.9442 1172.47 L53.9442 1178.36 L18.2962 1178.36 L18.2962 1172.47 L23.8344 1172.47 Q20.6197 1170.37 19.0283 1167.54 Q17.4368 1164.67 17.4368 1160.95 Q17.4368 1154.81 21.2563 1151.65 Q25.0438 1148.5 32.4281 1148.5 Z\" fill=\"#000000\" fill-rule=\"nonzero\" fill-opacity=\"1\" /><path clip-path=\"url(#clip060)\" d=\"M8.17473 1131.03 L18.2962 1131.03 L18.2962 1118.97 L22.8477 1118.97 L22.8477 1131.03 L42.1994 1131.03 Q46.5599 1131.03 47.8013 1129.85 Q49.0426 1128.64 49.0426 1124.98 L49.0426 1118.97 L53.9442 1118.97 L53.9442 1124.98 Q53.9442 1131.76 51.4297 1134.34 Q48.8834 1136.92 42.1994 1136.92 L22.8477 1136.92 L22.8477 1141.21 L18.2962 1141.21 L18.2962 1136.92 L8.17473 1136.92 L8.17473 1131.03 Z\" fill=\"#000000\" fill-rule=\"nonzero\" fill-opacity=\"1\" /><path clip-path=\"url(#clip060)\" d=\"M48.597 1084.88 L67.5031 1084.88 L67.5031 1090.77 L18.2962 1090.77 L18.2962 1084.88 L23.7071 1084.88 Q20.5242 1083.03 18.9964 1080.23 Q17.4368 1077.4 17.4368 1073.48 Q17.4368 1066.99 22.5931 1062.95 Q27.7493 1058.87 36.152 1058.87 Q44.5547 1058.87 49.711 1062.95 Q54.8672 1066.99 54.8672 1073.48 Q54.8672 1077.4 53.3394 1080.23 Q51.7798 1083.03 48.597 1084.88 M36.152 1064.95 Q29.6908 1064.95 26.0305 1067.63 Q22.3384 1070.27 22.3384 1074.92 Q22.3384 1079.56 26.0305 1082.24 Q29.6908 1084.88 36.152 1084.88 Q42.6132 1084.88 46.3053 1082.24 Q49.9656 1079.56 49.9656 1074.92 Q49.9656 1070.27 46.3053 1067.63 Q42.6132 1064.95 36.152 1064.95 Z\" fill=\"#000000\" fill-rule=\"nonzero\" fill-opacity=\"1\" /><path clip-path=\"url(#clip060)\" d=\"M4.41896 1049.17 L4.41896 1043.31 L53.9442 1043.31 L53.9442 1049.17 L4.41896 1049.17 Z\" fill=\"#000000\" fill-rule=\"nonzero\" fill-opacity=\"1\" /><path clip-path=\"url(#clip060)\" d=\"M22.4021 1017.24 Q22.4021 1021.95 26.0942 1024.69 Q29.7545 1027.43 36.152 1027.43 Q42.5495 1027.43 46.2417 1024.72 Q49.9019 1021.98 49.9019 1017.24 Q49.9019 1012.56 46.2098 1009.83 Q42.5177 1007.09 36.152 1007.09 Q29.8181 1007.09 26.126 1009.83 Q22.4021 1012.56 22.4021 1017.24 M17.4368 1017.24 Q17.4368 1009.6 22.4021 1005.24 Q27.3673 1000.88 36.152 1000.88 Q44.9049 1000.88 49.9019 1005.24 Q54.8672 1009.6 54.8672 1017.24 Q54.8672 1024.91 49.9019 1029.27 Q44.9049 1033.6 36.152 1033.6 Q27.3673 1033.6 22.4021 1029.27 Q17.4368 1024.91 17.4368 1017.24 Z\" fill=\"#000000\" fill-rule=\"nonzero\" fill-opacity=\"1\" /><path clip-path=\"url(#clip060)\" d=\"M8.17473 985.382 L18.2962 985.382 L18.2962 973.319 L22.8477 973.319 L22.8477 985.382 L42.1994 985.382 Q46.5599 985.382 47.8013 984.204 Q49.0426 982.995 49.0426 979.335 L49.0426 973.319 L53.9442 973.319 L53.9442 979.335 Q53.9442 986.114 51.4297 988.692 Q48.8834 991.27 42.1994 991.27 L22.8477 991.27 L22.8477 995.567 L18.2962 995.567 L18.2962 991.27 L8.17473 991.27 L8.17473 985.382 Z\" fill=\"#000000\" fill-rule=\"nonzero\" fill-opacity=\"1\" /><path clip-path=\"url(#clip060)\" d=\"M19.3465 942.891 L24.8847 942.891 Q23.6116 945.374 22.975 948.047 Q22.3384 950.721 22.3384 953.585 Q22.3384 957.946 23.6752 960.142 Q25.012 962.306 27.6856 962.306 Q29.7226 962.306 30.9003 960.747 Q32.0461 959.187 33.0965 954.477 L33.5421 952.471 Q34.8789 946.233 37.3297 943.623 Q39.7486 940.981 44.1091 940.981 Q49.0744 940.981 51.9708 944.928 Q54.8672 948.843 54.8672 955.718 Q54.8672 958.582 54.2943 961.702 Q53.7532 964.789 52.6392 968.227 L46.5918 968.227 Q48.2787 964.98 49.138 961.829 Q49.9656 958.678 49.9656 955.591 Q49.9656 951.453 48.5651 949.225 Q47.1329 946.997 44.5547 946.997 Q42.1676 946.997 40.8945 948.62 Q39.6213 950.212 38.4437 955.654 L37.9662 957.691 Q36.8204 963.134 34.4651 965.553 Q32.078 967.972 27.9402 967.972 Q22.9113 967.972 20.1741 964.407 Q17.4368 960.842 17.4368 954.286 Q17.4368 951.039 17.9143 948.175 Q18.3917 945.31 19.3465 942.891 Z\" fill=\"#000000\" fill-rule=\"nonzero\" fill-opacity=\"1\" /><path clip-path=\"url(#clip060)\" d=\"M1115.78 12.096 L1166.95 12.096 L1166.95 18.9825 L1145.48 18.9825 L1145.48 72.576 L1137.25 72.576 L1137.25 18.9825 L1115.78 18.9825 L1115.78 12.096 Z\" fill=\"#000000\" fill-rule=\"nonzero\" fill-opacity=\"1\" /><path clip-path=\"url(#clip060)\" d=\"M1188.62 34.1734 Q1187.36 33.4443 1185.86 33.1202 Q1184.41 32.7556 1182.62 32.7556 Q1176.3 32.7556 1172.9 36.8875 Q1169.54 40.9789 1169.54 48.6757 L1169.54 72.576 L1162.05 72.576 L1162.05 27.2059 L1169.54 27.2059 L1169.54 34.2544 Q1171.89 30.1225 1175.66 28.1376 Q1179.42 26.1121 1184.81 26.1121 Q1185.58 26.1121 1186.51 26.2337 Q1187.44 26.3147 1188.58 26.5172 L1188.62 34.1734 Z\" fill=\"#000000\" fill-rule=\"nonzero\" fill-opacity=\"1\" /><path clip-path=\"url(#clip060)\" d=\"M1233.42 48.0275 L1233.42 51.6733 L1199.15 51.6733 Q1199.64 59.3701 1203.77 63.421 Q1207.94 67.4314 1215.36 67.4314 Q1219.65 67.4314 1223.66 66.3781 Q1227.71 65.3249 1231.68 63.2184 L1231.68 70.267 Q1227.67 71.9684 1223.46 72.8596 Q1219.24 73.7508 1214.91 73.7508 Q1204.05 73.7508 1197.69 67.4314 Q1191.37 61.1119 1191.37 50.3365 Q1191.37 39.1965 1197.37 32.6746 Q1203.41 26.1121 1213.61 26.1121 Q1222.77 26.1121 1228.08 32.0264 Q1233.42 37.9003 1233.42 48.0275 M1225.97 45.84 Q1225.89 39.7232 1222.53 36.0774 Q1219.2 32.4315 1213.69 32.4315 Q1207.46 32.4315 1203.69 35.9558 Q1199.96 39.4801 1199.39 45.8805 L1225.97 45.84 Z\" fill=\"#000000\" fill-rule=\"nonzero\" fill-opacity=\"1\" /><path clip-path=\"url(#clip060)\" d=\"M1266.28 49.7694 Q1257.24 49.7694 1253.76 51.8354 Q1250.27 53.9013 1250.27 58.8839 Q1250.27 62.8538 1252.87 65.2034 Q1255.5 67.5124 1260 67.5124 Q1266.19 67.5124 1269.92 63.1374 Q1273.69 58.7219 1273.69 51.4303 L1273.69 49.7694 L1266.28 49.7694 M1281.14 46.6907 L1281.14 72.576 L1273.69 72.576 L1273.69 65.6895 Q1271.14 69.8214 1267.33 71.8063 Q1263.52 73.7508 1258.01 73.7508 Q1251.04 73.7508 1246.91 69.8619 Q1242.82 65.9325 1242.82 59.3701 Q1242.82 51.7138 1247.92 47.825 Q1253.07 43.9361 1263.24 43.9361 L1273.69 43.9361 L1273.69 43.2069 Q1273.69 38.0623 1270.29 35.2672 Q1266.92 32.4315 1260.81 32.4315 Q1256.92 32.4315 1253.23 33.3632 Q1249.55 34.295 1246.14 36.1584 L1246.14 29.2718 Q1250.23 27.692 1254.08 26.9223 Q1257.93 26.1121 1261.58 26.1121 Q1271.42 26.1121 1276.28 31.2163 Q1281.14 36.3204 1281.14 46.6907 Z\" fill=\"#000000\" fill-rule=\"nonzero\" fill-opacity=\"1\" /><path clip-path=\"url(#clip060)\" d=\"M1303.87 14.324 L1303.87 27.2059 L1319.22 27.2059 L1319.22 32.9987 L1303.87 32.9987 L1303.87 57.6282 Q1303.87 63.1779 1305.37 64.7578 Q1306.91 66.3376 1311.56 66.3376 L1319.22 66.3376 L1319.22 72.576 L1311.56 72.576 Q1302.94 72.576 1299.65 69.3758 Q1296.37 66.1351 1296.37 57.6282 L1296.37 32.9987 L1290.9 32.9987 L1290.9 27.2059 L1296.37 27.2059 L1296.37 14.324 L1303.87 14.324 Z\" fill=\"#000000\" fill-rule=\"nonzero\" fill-opacity=\"1\" /><path clip-path=\"url(#clip060)\" d=\"M1364.35 35.9153 Q1367.14 30.8922 1371.03 28.5022 Q1374.92 26.1121 1380.19 26.1121 Q1387.28 26.1121 1391.12 31.0947 Q1394.97 36.0368 1394.97 45.1919 L1394.97 72.576 L1387.48 72.576 L1387.48 45.4349 Q1387.48 38.913 1385.17 35.7533 Q1382.86 32.5936 1378.12 32.5936 Q1372.33 32.5936 1368.97 36.4419 Q1365.6 40.2903 1365.6 46.9338 L1365.6 72.576 L1358.11 72.576 L1358.11 45.4349 Q1358.11 38.8725 1355.8 35.7533 Q1353.49 32.5936 1348.67 32.5936 Q1342.96 32.5936 1339.6 36.4824 Q1336.23 40.3308 1336.23 46.9338 L1336.23 72.576 L1328.74 72.576 L1328.74 27.2059 L1336.23 27.2059 L1336.23 34.2544 Q1338.79 30.082 1342.35 28.0971 Q1345.92 26.1121 1350.82 26.1121 Q1355.76 26.1121 1359.2 28.6237 Q1362.69 31.1352 1364.35 35.9153 Z\" fill=\"#000000\" fill-rule=\"nonzero\" fill-opacity=\"1\" /><path clip-path=\"url(#clip060)\" d=\"M1448.65 48.0275 L1448.65 51.6733 L1414.38 51.6733 Q1414.86 59.3701 1418.99 63.421 Q1423.17 67.4314 1430.58 67.4314 Q1434.87 67.4314 1438.88 66.3781 Q1442.94 65.3249 1446.91 63.2184 L1446.91 70.267 Q1442.89 71.9684 1438.68 72.8596 Q1434.47 73.7508 1430.13 73.7508 Q1419.28 73.7508 1412.92 67.4314 Q1406.6 61.1119 1406.6 50.3365 Q1406.6 39.1965 1412.59 32.6746 Q1418.63 26.1121 1428.84 26.1121 Q1437.99 26.1121 1443.3 32.0264 Q1448.65 37.9003 1448.65 48.0275 M1441.19 45.84 Q1441.11 39.7232 1437.75 36.0774 Q1434.43 32.4315 1428.92 32.4315 Q1422.68 32.4315 1418.91 35.9558 Q1415.19 39.4801 1414.62 45.8805 L1441.19 45.84 Z\" fill=\"#000000\" fill-rule=\"nonzero\" fill-opacity=\"1\" /><path clip-path=\"url(#clip060)\" d=\"M1498.59 45.1919 L1498.59 72.576 L1491.14 72.576 L1491.14 45.4349 Q1491.14 38.994 1488.63 35.7938 Q1486.12 32.5936 1481.09 32.5936 Q1475.06 32.5936 1471.58 36.4419 Q1468.09 40.2903 1468.09 46.9338 L1468.09 72.576 L1460.6 72.576 L1460.6 27.2059 L1468.09 27.2059 L1468.09 34.2544 Q1470.76 30.163 1474.37 28.1376 Q1478.02 26.1121 1482.76 26.1121 Q1490.57 26.1121 1494.58 30.9732 Q1498.59 35.7938 1498.59 45.1919 Z\" fill=\"#000000\" fill-rule=\"nonzero\" fill-opacity=\"1\" /><path clip-path=\"url(#clip060)\" d=\"M1520.83 14.324 L1520.83 27.2059 L1536.19 27.2059 L1536.19 32.9987 L1520.83 32.9987 L1520.83 57.6282 Q1520.83 63.1779 1522.33 64.7578 Q1523.87 66.3376 1528.53 66.3376 L1536.19 66.3376 L1536.19 72.576 L1528.53 72.576 Q1519.9 72.576 1516.62 69.3758 Q1513.34 66.1351 1513.34 57.6282 L1513.34 32.9987 L1507.87 32.9987 L1507.87 27.2059 L1513.34 27.2059 L1513.34 14.324 L1520.83 14.324 Z\" fill=\"#000000\" fill-rule=\"nonzero\" fill-opacity=\"1\" /><path clip-path=\"url(#clip060)\" d=\"M1611.17 48.0275 L1611.17 51.6733 L1576.9 51.6733 Q1577.38 59.3701 1581.52 63.421 Q1585.69 67.4314 1593.1 67.4314 Q1597.4 67.4314 1601.41 66.3781 Q1605.46 65.3249 1609.43 63.2184 L1609.43 70.267 Q1605.42 71.9684 1601.2 72.8596 Q1596.99 73.7508 1592.66 73.7508 Q1581.8 73.7508 1575.44 67.4314 Q1569.12 61.1119 1569.12 50.3365 Q1569.12 39.1965 1575.12 32.6746 Q1581.15 26.1121 1591.36 26.1121 Q1600.52 26.1121 1605.82 32.0264 Q1611.17 37.9003 1611.17 48.0275 M1603.72 45.84 Q1603.63 39.7232 1600.27 36.0774 Q1596.95 32.4315 1591.44 32.4315 Q1585.2 32.4315 1581.44 35.9558 Q1577.71 39.4801 1577.14 45.8805 L1603.72 45.84 Z\" fill=\"#000000\" fill-rule=\"nonzero\" fill-opacity=\"1\" /><path clip-path=\"url(#clip060)\" d=\"M1646.37 9.54393 L1646.37 15.7418 L1639.24 15.7418 Q1635.23 15.7418 1633.65 17.3622 Q1632.11 18.9825 1632.11 23.1955 L1632.11 27.2059 L1644.39 27.2059 L1644.39 32.9987 L1632.11 32.9987 L1632.11 72.576 L1624.62 72.576 L1624.62 32.9987 L1617.49 32.9987 L1617.49 27.2059 L1624.62 27.2059 L1624.62 24.0462 Q1624.62 16.471 1628.14 13.0277 Q1631.67 9.54393 1639.32 9.54393 L1646.37 9.54393 Z\" fill=\"#000000\" fill-rule=\"nonzero\" fill-opacity=\"1\" /><path clip-path=\"url(#clip060)\" d=\"M1675.58 9.54393 L1675.58 15.7418 L1668.45 15.7418 Q1664.44 15.7418 1662.86 17.3622 Q1661.32 18.9825 1661.32 23.1955 L1661.32 27.2059 L1673.59 27.2059 L1673.59 32.9987 L1661.32 32.9987 L1661.32 72.576 L1653.83 72.576 L1653.83 32.9987 L1646.7 32.9987 L1646.7 27.2059 L1653.83 27.2059 L1653.83 24.0462 Q1653.83 16.471 1657.35 13.0277 Q1660.87 9.54393 1668.53 9.54393 L1675.58 9.54393 Z\" fill=\"#000000\" fill-rule=\"nonzero\" fill-opacity=\"1\" /><path clip-path=\"url(#clip060)\" d=\"M1720.62 48.0275 L1720.62 51.6733 L1686.35 51.6733 Q1686.84 59.3701 1690.97 63.421 Q1695.14 67.4314 1702.56 67.4314 Q1706.85 67.4314 1710.86 66.3781 Q1714.91 65.3249 1718.88 63.2184 L1718.88 70.267 Q1714.87 71.9684 1710.66 72.8596 Q1706.45 73.7508 1702.11 73.7508 Q1691.26 73.7508 1684.9 67.4314 Q1678.58 61.1119 1678.58 50.3365 Q1678.58 39.1965 1684.57 32.6746 Q1690.61 26.1121 1700.82 26.1121 Q1709.97 26.1121 1715.28 32.0264 Q1720.62 37.9003 1720.62 48.0275 M1713.17 45.84 Q1713.09 39.7232 1709.73 36.0774 Q1706.41 32.4315 1700.9 32.4315 Q1694.66 32.4315 1690.89 35.9558 Q1687.16 39.4801 1686.6 45.8805 L1713.17 45.84 Z\" fill=\"#000000\" fill-rule=\"nonzero\" fill-opacity=\"1\" /><path clip-path=\"url(#clip060)\" d=\"M1765.51 28.9478 L1765.51 35.9153 Q1762.35 34.1734 1759.15 33.3227 Q1755.99 32.4315 1752.75 32.4315 Q1745.5 32.4315 1741.49 37.0496 Q1737.48 41.6271 1737.48 49.9314 Q1737.48 58.2358 1741.49 62.8538 Q1745.5 67.4314 1752.75 67.4314 Q1755.99 67.4314 1759.15 66.5807 Q1762.35 65.6895 1765.51 63.9476 L1765.51 70.8341 Q1762.39 72.2924 1759.03 73.0216 Q1755.71 73.7508 1751.94 73.7508 Q1741.69 73.7508 1735.65 67.3098 Q1729.62 60.8689 1729.62 49.9314 Q1729.62 38.832 1735.69 32.472 Q1741.81 26.1121 1752.42 26.1121 Q1755.87 26.1121 1759.15 26.8413 Q1762.43 27.5299 1765.51 28.9478 Z\" fill=\"#000000\" fill-rule=\"nonzero\" fill-opacity=\"1\" /><path clip-path=\"url(#clip060)\" d=\"M1785.84 14.324 L1785.84 27.2059 L1801.2 27.2059 L1801.2 32.9987 L1785.84 32.9987 L1785.84 57.6282 Q1785.84 63.1779 1787.34 64.7578 Q1788.88 66.3376 1793.54 66.3376 L1801.2 66.3376 L1801.2 72.576 L1793.54 72.576 Q1784.91 72.576 1781.63 69.3758 Q1778.35 66.1351 1778.35 57.6282 L1778.35 32.9987 L1772.88 32.9987 L1772.88 27.2059 L1778.35 27.2059 L1778.35 14.324 L1785.84 14.324 Z\" fill=\"#000000\" fill-rule=\"nonzero\" fill-opacity=\"1\" /><path clip-path=\"url(#clip060)\" d=\"M1854.95 32.4315 Q1848.96 32.4315 1845.47 37.1306 Q1841.99 41.7891 1841.99 49.9314 Q1841.99 58.0738 1845.43 62.7728 Q1848.92 67.4314 1854.95 67.4314 Q1860.91 67.4314 1864.39 62.7323 Q1867.88 58.0333 1867.88 49.9314 Q1867.88 41.8701 1864.39 37.1711 Q1860.91 32.4315 1854.95 32.4315 M1854.95 26.1121 Q1864.67 26.1121 1870.22 32.4315 Q1875.77 38.7509 1875.77 49.9314 Q1875.77 61.0714 1870.22 67.4314 Q1864.67 73.7508 1854.95 73.7508 Q1845.19 73.7508 1839.64 67.4314 Q1834.13 61.0714 1834.13 49.9314 Q1834.13 38.7509 1839.64 32.4315 Q1845.19 26.1121 1854.95 26.1121 Z\" fill=\"#000000\" fill-rule=\"nonzero\" fill-opacity=\"1\" /><path clip-path=\"url(#clip060)\" d=\"M1925.84 45.1919 L1925.84 72.576 L1918.39 72.576 L1918.39 45.4349 Q1918.39 38.994 1915.88 35.7938 Q1913.37 32.5936 1908.34 32.5936 Q1902.31 32.5936 1898.82 36.4419 Q1895.34 40.2903 1895.34 46.9338 L1895.34 72.576 L1887.85 72.576 L1887.85 27.2059 L1895.34 27.2059 L1895.34 34.2544 Q1898.01 30.163 1901.62 28.1376 Q1905.26 26.1121 1910 26.1121 Q1917.82 26.1121 1921.83 30.9732 Q1925.84 35.7938 1925.84 45.1919 Z\" fill=\"#000000\" fill-rule=\"nonzero\" fill-opacity=\"1\" /><path clip-path=\"url(#clip060)\" d=\"M2003.66 14.0809 L2003.66 22.0612 Q1999 19.8332 1994.87 18.7395 Q1990.74 17.6457 1986.89 17.6457 Q1980.21 17.6457 1976.56 20.2383 Q1972.96 22.8309 1972.96 27.611 Q1972.96 31.6214 1975.35 33.6873 Q1977.78 35.7128 1984.5 36.9686 L1989.44 37.9813 Q1998.6 39.7232 2002.93 44.1387 Q2007.31 48.5136 2007.31 55.8863 Q2007.31 64.6767 2001.39 69.2137 Q1995.52 73.7508 1984.14 73.7508 Q1979.84 73.7508 1974.98 72.7785 Q1970.16 71.8063 1964.98 69.9024 L1964.98 61.4765 Q1969.96 64.2716 1974.74 65.6895 Q1979.52 67.1073 1984.14 67.1073 Q1991.14 67.1073 1994.95 64.3527 Q1998.76 61.598 1998.76 56.4939 Q1998.76 52.0379 1996.01 49.5264 Q1993.29 47.0148 1987.05 45.759 L1982.07 44.7868 Q1972.92 42.9639 1968.82 39.075 Q1964.73 35.1862 1964.73 28.2591 Q1964.73 20.2383 1970.36 15.6203 Q1976.03 11.0023 1985.96 11.0023 Q1990.21 11.0023 1994.63 11.7719 Q1999.04 12.5416 2003.66 14.0809 Z\" fill=\"#000000\" fill-rule=\"nonzero\" fill-opacity=\"1\" /><path clip-path=\"url(#clip060)\" d=\"M2011.68 12.096 L2062.85 12.096 L2062.85 18.9825 L2041.38 18.9825 L2041.38 72.576 L2033.15 72.576 L2033.15 18.9825 L2011.68 18.9825 L2011.68 12.096 Z\" fill=\"#000000\" fill-rule=\"nonzero\" fill-opacity=\"1\" /><path clip-path=\"url(#clip060)\" d=\"M2070.74 12.096 L2078.93 12.096 L2078.93 72.576 L2070.74 72.576 L2070.74 12.096 Z\" fill=\"#000000\" fill-rule=\"nonzero\" fill-opacity=\"1\" /><path clip-path=\"url(#clip060)\" d=\"M2128.63 14.324 L2128.63 27.2059 L2143.98 27.2059 L2143.98 32.9987 L2128.63 32.9987 L2128.63 57.6282 Q2128.63 63.1779 2130.13 64.7578 Q2131.67 66.3376 2136.33 66.3376 L2143.98 66.3376 L2143.98 72.576 L2136.33 72.576 Q2127.7 72.576 2124.42 69.3758 Q2121.14 66.1351 2121.14 57.6282 L2121.14 32.9987 L2115.67 32.9987 L2115.67 27.2059 L2121.14 27.2059 L2121.14 14.324 L2128.63 14.324 Z\" fill=\"#000000\" fill-rule=\"nonzero\" fill-opacity=\"1\" /><path clip-path=\"url(#clip060)\" d=\"M2192.6 48.0275 L2192.6 51.6733 L2158.32 51.6733 Q2158.81 59.3701 2162.94 63.421 Q2167.12 67.4314 2174.53 67.4314 Q2178.82 67.4314 2182.83 66.3781 Q2186.88 65.3249 2190.85 63.2184 L2190.85 70.267 Q2186.84 71.9684 2182.63 72.8596 Q2178.42 73.7508 2174.08 73.7508 Q2163.23 73.7508 2156.87 67.4314 Q2150.55 61.1119 2150.55 50.3365 Q2150.55 39.1965 2156.54 32.6746 Q2162.58 26.1121 2172.79 26.1121 Q2181.94 26.1121 2187.25 32.0264 Q2192.6 37.9003 2192.6 48.0275 M2185.14 45.84 Q2185.06 39.7232 2181.7 36.0774 Q2178.38 32.4315 2172.87 32.4315 Q2166.63 32.4315 2162.86 35.9558 Q2159.14 39.4801 2158.57 45.8805 L2185.14 45.84 Z\" fill=\"#000000\" fill-rule=\"nonzero\" fill-opacity=\"1\" /><path clip-path=\"url(#clip060)\" d=\"M2233.75 28.5427 L2233.75 35.5912 Q2230.59 33.9709 2227.19 33.1607 Q2223.79 32.3505 2220.14 32.3505 Q2214.59 32.3505 2211.8 34.0519 Q2209.04 35.7533 2209.04 39.156 Q2209.04 41.7486 2211.03 43.2475 Q2213.01 44.7058 2219.01 46.0426 L2221.56 46.6097 Q2229.5 48.3111 2232.82 51.4303 Q2236.18 54.509 2236.18 60.0587 Q2236.18 66.3781 2231.16 70.0644 Q2226.18 73.7508 2217.43 73.7508 Q2213.78 73.7508 2209.81 73.0216 Q2205.88 72.3329 2201.51 70.9151 L2201.51 63.2184 Q2205.64 65.3654 2209.65 66.4591 Q2213.66 67.5124 2217.59 67.5124 Q2222.86 67.5124 2225.69 65.73 Q2228.53 63.9071 2228.53 60.6258 Q2228.53 57.5877 2226.46 55.9673 Q2224.44 54.3469 2217.51 52.8481 L2214.92 52.2405 Q2207.99 50.7821 2204.91 47.7845 Q2201.83 44.7463 2201.83 39.4801 Q2201.83 33.0797 2206.37 29.5959 Q2210.91 26.1121 2219.25 26.1121 Q2223.38 26.1121 2227.03 26.7198 Q2230.67 27.3274 2233.75 28.5427 Z\" fill=\"#000000\" fill-rule=\"nonzero\" fill-opacity=\"1\" /><path clip-path=\"url(#clip060)\" d=\"M2255.43 14.324 L2255.43 27.2059 L2270.78 27.2059 L2270.78 32.9987 L2255.43 32.9987 L2255.43 57.6282 Q2255.43 63.1779 2256.92 64.7578 Q2258.46 66.3376 2263.12 66.3376 L2270.78 66.3376 L2270.78 72.576 L2263.12 72.576 Q2254.49 72.576 2251.21 69.3758 Q2247.93 66.1351 2247.93 57.6282 L2247.93 32.9987 L2242.46 32.9987 L2242.46 27.2059 L2247.93 27.2059 L2247.93 14.324 L2255.43 14.324 Z\" fill=\"#000000\" fill-rule=\"nonzero\" fill-opacity=\"1\" /><circle clip-path=\"url(#clip062)\" cx=\"316.418\" cy=\"1366.1\" r=\"14.4\" fill=\"#000000\" fill-rule=\"evenodd\" fill-opacity=\"1\" stroke=\"none\"/>\n",
       "<polyline clip-path=\"url(#clip062)\" style=\"stroke:#000000; stroke-linecap:round; stroke-linejoin:round; stroke-width:4; stroke-opacity:1; fill:none\" points=\"316.418,2211.04 316.418,191.686 \"/>\n",
       "<circle clip-path=\"url(#clip062)\" cx=\"1693.28\" cy=\"1376.84\" r=\"14.4\" fill=\"#000000\" fill-rule=\"evenodd\" fill-opacity=\"1\" stroke=\"none\"/>\n",
       "<polyline clip-path=\"url(#clip062)\" style=\"stroke:#000000; stroke-linecap:round; stroke-linejoin:round; stroke-width:4; stroke-opacity:1; fill:none\" points=\"1693.28,2213.47 1693.28,215.613 \"/>\n",
       "<circle clip-path=\"url(#clip062)\" cx=\"3070.14\" cy=\"1379.42\" r=\"14.4\" fill=\"#000000\" fill-rule=\"evenodd\" fill-opacity=\"1\" stroke=\"none\"/>\n",
       "<polyline clip-path=\"url(#clip062)\" style=\"stroke:#000000; stroke-linecap:round; stroke-linejoin:round; stroke-width:4; stroke-opacity:1; fill:none\" points=\"3070.14,2213.4 3070.14,220.693 \"/>\n",
       "</svg>\n"
      ],
      "text/html": [
       "<?xml version=\"1.0\" encoding=\"utf-8\"?>\n",
       "<svg xmlns=\"http://www.w3.org/2000/svg\" xmlns:xlink=\"http://www.w3.org/1999/xlink\" width=\"800\" height=\"600\" viewBox=\"0 0 3200 2400\">\n",
       "<defs>\n",
       "  <clipPath id=\"clip110\">\n",
       "    <rect x=\"0\" y=\"0\" width=\"3200\" height=\"2400\"/>\n",
       "  </clipPath>\n",
       "</defs>\n",
       "<path clip-path=\"url(#clip110)\" d=\"M0 2400 L3200 2400 L3200 0 L0 0  Z\" fill=\"#ffffff\" fill-rule=\"evenodd\" fill-opacity=\"1\"/>\n",
       "<defs>\n",
       "  <clipPath id=\"clip111\">\n",
       "    <rect x=\"640\" y=\"0\" width=\"2241\" height=\"2241\"/>\n",
       "  </clipPath>\n",
       "</defs>\n",
       "<path clip-path=\"url(#clip110)\" d=\"M233.806 2274.13 L3152.76 2274.13 L3152.76 131.032 L233.806 131.032  Z\" fill=\"#ffffff\" fill-rule=\"evenodd\" fill-opacity=\"1\"/>\n",
       "<defs>\n",
       "  <clipPath id=\"clip112\">\n",
       "    <rect x=\"233\" y=\"131\" width=\"2920\" height=\"2144\"/>\n",
       "  </clipPath>\n",
       "</defs>\n",
       "<polyline clip-path=\"url(#clip112)\" style=\"stroke:#000000; stroke-linecap:round; stroke-linejoin:round; stroke-width:2; stroke-opacity:0.1; fill:none\" points=\"316.418,2274.13 316.418,131.032 \"/>\n",
       "<polyline clip-path=\"url(#clip112)\" style=\"stroke:#000000; stroke-linecap:round; stroke-linejoin:round; stroke-width:2; stroke-opacity:0.1; fill:none\" points=\"1693.28,2274.13 1693.28,131.032 \"/>\n",
       "<polyline clip-path=\"url(#clip112)\" style=\"stroke:#000000; stroke-linecap:round; stroke-linejoin:round; stroke-width:2; stroke-opacity:0.1; fill:none\" points=\"3070.14,2274.13 3070.14,131.032 \"/>\n",
       "<polyline clip-path=\"url(#clip110)\" style=\"stroke:#000000; stroke-linecap:round; stroke-linejoin:round; stroke-width:4; stroke-opacity:1; fill:none\" points=\"233.806,2274.13 3152.76,2274.13 \"/>\n",
       "<polyline clip-path=\"url(#clip110)\" style=\"stroke:#000000; stroke-linecap:round; stroke-linejoin:round; stroke-width:4; stroke-opacity:1; fill:none\" points=\"316.418,2274.13 316.418,2255.23 \"/>\n",
       "<polyline clip-path=\"url(#clip110)\" style=\"stroke:#000000; stroke-linecap:round; stroke-linejoin:round; stroke-width:4; stroke-opacity:1; fill:none\" points=\"1693.28,2274.13 1693.28,2255.23 \"/>\n",
       "<polyline clip-path=\"url(#clip110)\" style=\"stroke:#000000; stroke-linecap:round; stroke-linejoin:round; stroke-width:4; stroke-opacity:1; fill:none\" points=\"3070.14,2274.13 3070.14,2255.23 \"/>\n",
       "<path clip-path=\"url(#clip110)\" d=\"M288.177 2311.54 Q283.085 2311.54 280.076 2315.34 Q277.09 2319.13 277.09 2325.68 Q277.09 2332.21 280.076 2336.01 Q283.085 2339.8 288.177 2339.8 Q293.27 2339.8 296.233 2336.01 Q299.219 2332.21 299.219 2325.68 Q299.219 2319.13 296.233 2315.34 Q293.27 2311.54 288.177 2311.54 M288.177 2307.74 Q295.446 2307.74 299.798 2312.63 Q304.15 2317.49 304.15 2325.68 Q304.15 2333.85 299.798 2338.74 Q295.446 2343.6 288.177 2343.6 Q280.886 2343.6 276.511 2338.74 Q272.159 2333.88 272.159 2325.68 Q272.159 2317.49 276.511 2312.63 Q280.886 2307.74 288.177 2307.74 Z\" fill=\"#000000\" fill-rule=\"nonzero\" fill-opacity=\"1\" /><path clip-path=\"url(#clip110)\" d=\"M311.464 2308.37 L316.14 2308.37 L316.14 2338.99 L332.969 2338.99 L332.969 2342.93 L311.464 2342.93 L311.464 2308.37 Z\" fill=\"#000000\" fill-rule=\"nonzero\" fill-opacity=\"1\" /><path clip-path=\"url(#clip110)\" d=\"M358.594 2309.5 L358.594 2314.06 Q355.932 2312.79 353.571 2312.16 Q351.21 2311.54 349.01 2311.54 Q345.191 2311.54 343.108 2313.02 Q341.048 2314.5 341.048 2317.23 Q341.048 2319.53 342.413 2320.71 Q343.802 2321.86 347.645 2322.58 L350.469 2323.16 Q355.7 2324.15 358.177 2326.68 Q360.677 2329.18 360.677 2333.39 Q360.677 2338.41 357.297 2341.01 Q353.941 2343.6 347.436 2343.6 Q344.983 2343.6 342.205 2343.04 Q339.45 2342.49 336.487 2341.4 L336.487 2336.59 Q339.335 2338.18 342.066 2338.99 Q344.798 2339.8 347.436 2339.8 Q351.441 2339.8 353.617 2338.23 Q355.793 2336.65 355.793 2333.74 Q355.793 2331.19 354.219 2329.76 Q352.668 2328.32 349.103 2327.6 L346.256 2327.05 Q341.024 2326.01 338.686 2323.78 Q336.348 2321.56 336.348 2317.6 Q336.348 2313.02 339.566 2310.38 Q342.807 2307.74 348.478 2307.74 Q350.909 2307.74 353.432 2308.18 Q355.955 2308.62 358.594 2309.5 Z\" fill=\"#000000\" fill-rule=\"nonzero\" fill-opacity=\"1\" /><path clip-path=\"url(#clip110)\" d=\"M1476.35 2311.54 Q1471.26 2311.54 1468.25 2315.34 Q1465.26 2319.13 1465.26 2325.68 Q1465.26 2332.21 1468.25 2336.01 Q1471.26 2339.8 1476.35 2339.8 Q1481.44 2339.8 1484.4 2336.01 Q1487.39 2332.21 1487.39 2325.68 Q1487.39 2319.13 1484.4 2315.34 Q1481.44 2311.54 1476.35 2311.54 M1476.35 2307.74 Q1483.62 2307.74 1487.97 2312.63 Q1492.32 2317.49 1492.32 2325.68 Q1492.32 2333.85 1487.97 2338.74 Q1483.62 2343.6 1476.35 2343.6 Q1469.06 2343.6 1464.68 2338.74 Q1460.33 2333.88 1460.33 2325.68 Q1460.33 2317.49 1464.68 2312.63 Q1469.06 2307.74 1476.35 2307.74 Z\" fill=\"#000000\" fill-rule=\"nonzero\" fill-opacity=\"1\" /><path clip-path=\"url(#clip110)\" d=\"M1499.64 2308.37 L1504.31 2308.37 L1504.31 2338.99 L1521.14 2338.99 L1521.14 2342.93 L1499.64 2342.93 L1499.64 2308.37 Z\" fill=\"#000000\" fill-rule=\"nonzero\" fill-opacity=\"1\" /><path clip-path=\"url(#clip110)\" d=\"M1546.77 2309.5 L1546.77 2314.06 Q1544.1 2312.79 1541.74 2312.16 Q1539.38 2311.54 1537.18 2311.54 Q1533.36 2311.54 1531.28 2313.02 Q1529.22 2314.5 1529.22 2317.23 Q1529.22 2319.53 1530.59 2320.71 Q1531.97 2321.86 1535.82 2322.58 L1538.64 2323.16 Q1543.87 2324.15 1546.35 2326.68 Q1548.85 2329.18 1548.85 2333.39 Q1548.85 2338.41 1545.47 2341.01 Q1542.11 2343.6 1535.61 2343.6 Q1533.15 2343.6 1530.38 2343.04 Q1527.62 2342.49 1524.66 2341.4 L1524.66 2336.59 Q1527.51 2338.18 1530.24 2338.99 Q1532.97 2339.8 1535.61 2339.8 Q1539.61 2339.8 1541.79 2338.23 Q1543.96 2336.65 1543.96 2333.74 Q1543.96 2331.19 1542.39 2329.76 Q1540.84 2328.32 1537.27 2327.6 L1534.43 2327.05 Q1529.2 2326.01 1526.86 2323.78 Q1524.52 2321.56 1524.52 2317.6 Q1524.52 2313.02 1527.74 2310.38 Q1530.98 2307.74 1536.65 2307.74 Q1539.08 2307.74 1541.6 2308.18 Q1544.13 2308.62 1546.77 2309.5 Z\" fill=\"#000000\" fill-rule=\"nonzero\" fill-opacity=\"1\" /><path clip-path=\"url(#clip110)\" d=\"M1568.55 2317 L1572.81 2317 L1578.13 2337.23 L1583.43 2317 L1588.46 2317 L1593.78 2337.23 L1599.08 2317 L1603.34 2317 L1596.56 2342.93 L1591.53 2342.93 L1585.96 2321.68 L1580.35 2342.93 L1575.33 2342.93 L1568.55 2317 Z\" fill=\"#000000\" fill-rule=\"nonzero\" fill-opacity=\"1\" /><path clip-path=\"url(#clip110)\" d=\"M1609.8 2317 L1614.06 2317 L1614.06 2342.93 L1609.8 2342.93 L1609.8 2317 M1609.8 2306.91 L1614.06 2306.91 L1614.06 2312.3 L1609.8 2312.3 L1609.8 2306.91 Z\" fill=\"#000000\" fill-rule=\"nonzero\" fill-opacity=\"1\" /><path clip-path=\"url(#clip110)\" d=\"M1627.18 2309.64 L1627.18 2317 L1635.96 2317 L1635.96 2320.31 L1627.18 2320.31 L1627.18 2334.39 Q1627.18 2337.56 1628.04 2338.46 Q1628.92 2339.36 1631.58 2339.36 L1635.96 2339.36 L1635.96 2342.93 L1631.58 2342.93 Q1626.65 2342.93 1624.77 2341.1 Q1622.9 2339.25 1622.9 2334.39 L1622.9 2320.31 L1619.77 2320.31 L1619.77 2317 L1622.9 2317 L1622.9 2309.64 L1627.18 2309.64 Z\" fill=\"#000000\" fill-rule=\"nonzero\" fill-opacity=\"1\" /><path clip-path=\"url(#clip110)\" d=\"M1663.11 2327.28 L1663.11 2342.93 L1658.85 2342.93 L1658.85 2327.42 Q1658.85 2323.74 1657.41 2321.91 Q1655.98 2320.08 1653.11 2320.08 Q1649.66 2320.08 1647.67 2322.28 Q1645.68 2324.48 1645.68 2328.28 L1645.68 2342.93 L1641.39 2342.93 L1641.39 2306.91 L1645.68 2306.91 L1645.68 2321.03 Q1647.2 2318.69 1649.27 2317.53 Q1651.35 2316.38 1654.06 2316.38 Q1658.52 2316.38 1660.82 2319.15 Q1663.11 2321.91 1663.11 2327.28 Z\" fill=\"#000000\" fill-rule=\"nonzero\" fill-opacity=\"1\" /><path clip-path=\"url(#clip110)\" d=\"M1705.33 2318 L1705.33 2321.98 Q1703.52 2320.98 1701.7 2320.5 Q1699.89 2319.99 1698.04 2319.99 Q1693.89 2319.99 1691.6 2322.63 Q1689.31 2325.24 1689.31 2329.99 Q1689.31 2334.73 1691.6 2337.37 Q1693.89 2339.99 1698.04 2339.99 Q1699.89 2339.99 1701.7 2339.5 Q1703.52 2338.99 1705.33 2338 L1705.33 2341.93 Q1703.55 2342.77 1701.63 2343.18 Q1699.73 2343.6 1697.58 2343.6 Q1691.72 2343.6 1688.27 2339.92 Q1684.82 2336.24 1684.82 2329.99 Q1684.82 2323.65 1688.29 2320.01 Q1691.79 2316.38 1697.85 2316.38 Q1699.82 2316.38 1701.7 2316.79 Q1703.57 2317.19 1705.33 2318 Z\" fill=\"#000000\" fill-rule=\"nonzero\" fill-opacity=\"1\" /><path clip-path=\"url(#clip110)\" d=\"M1722.78 2319.99 Q1719.36 2319.99 1717.37 2322.67 Q1715.38 2325.34 1715.38 2329.99 Q1715.38 2334.64 1717.34 2337.33 Q1719.33 2339.99 1722.78 2339.99 Q1726.19 2339.99 1728.18 2337.3 Q1730.17 2334.62 1730.17 2329.99 Q1730.17 2325.38 1728.18 2322.7 Q1726.19 2319.99 1722.78 2319.99 M1722.78 2316.38 Q1728.34 2316.38 1731.51 2319.99 Q1734.68 2323.6 1734.68 2329.99 Q1734.68 2336.35 1731.51 2339.99 Q1728.34 2343.6 1722.78 2343.6 Q1717.2 2343.6 1714.03 2339.99 Q1710.89 2336.35 1710.89 2329.99 Q1710.89 2323.6 1714.03 2319.99 Q1717.2 2316.38 1722.78 2316.38 Z\" fill=\"#000000\" fill-rule=\"nonzero\" fill-opacity=\"1\" /><path clip-path=\"url(#clip110)\" d=\"M1738.69 2317 L1743.2 2317 L1751.3 2338.76 L1759.4 2317 L1763.92 2317 L1754.2 2342.93 L1748.41 2342.93 L1738.69 2317 Z\" fill=\"#000000\" fill-rule=\"nonzero\" fill-opacity=\"1\" /><path clip-path=\"url(#clip110)\" d=\"M1781.58 2329.9 Q1776.42 2329.9 1774.43 2331.08 Q1772.44 2332.26 1772.44 2335.1 Q1772.44 2337.37 1773.92 2338.71 Q1775.42 2340.03 1777.99 2340.03 Q1781.53 2340.03 1783.66 2337.53 Q1785.82 2335.01 1785.82 2330.84 L1785.82 2329.9 L1781.58 2329.9 M1790.07 2328.14 L1790.07 2342.93 L1785.82 2342.93 L1785.82 2338.99 Q1784.36 2341.35 1782.18 2342.49 Q1780.01 2343.6 1776.86 2343.6 Q1772.88 2343.6 1770.51 2341.38 Q1768.18 2339.13 1768.18 2335.38 Q1768.18 2331.01 1771.09 2328.78 Q1774.03 2326.56 1779.84 2326.56 L1785.82 2326.56 L1785.82 2326.15 Q1785.82 2323.21 1783.87 2321.61 Q1781.95 2319.99 1778.45 2319.99 Q1776.23 2319.99 1774.13 2320.52 Q1772.02 2321.05 1770.07 2322.12 L1770.07 2318.18 Q1772.41 2317.28 1774.61 2316.84 Q1776.81 2316.38 1778.89 2316.38 Q1784.52 2316.38 1787.3 2319.29 Q1790.07 2322.21 1790.07 2328.14 Z\" fill=\"#000000\" fill-rule=\"nonzero\" fill-opacity=\"1\" /><path clip-path=\"url(#clip110)\" d=\"M1813.87 2320.98 Q1813.15 2320.57 1812.3 2320.38 Q1811.46 2320.17 1810.44 2320.17 Q1806.83 2320.17 1804.89 2322.53 Q1802.97 2324.87 1802.97 2329.27 L1802.97 2342.93 L1798.69 2342.93 L1798.69 2317 L1802.97 2317 L1802.97 2321.03 Q1804.31 2318.67 1806.46 2317.53 Q1808.62 2316.38 1811.69 2316.38 Q1812.13 2316.38 1812.67 2316.45 Q1813.2 2316.49 1813.85 2316.61 L1813.87 2320.98 Z\" fill=\"#000000\" fill-rule=\"nonzero\" fill-opacity=\"1\" /><path clip-path=\"url(#clip110)\" d=\"M1818.34 2317 L1822.6 2317 L1822.6 2342.93 L1818.34 2342.93 L1818.34 2317 M1818.34 2306.91 L1822.6 2306.91 L1822.6 2312.3 L1818.34 2312.3 L1818.34 2306.91 Z\" fill=\"#000000\" fill-rule=\"nonzero\" fill-opacity=\"1\" /><path clip-path=\"url(#clip110)\" d=\"M1843.29 2329.9 Q1838.13 2329.9 1836.14 2331.08 Q1834.15 2332.26 1834.15 2335.1 Q1834.15 2337.37 1835.63 2338.71 Q1837.13 2340.03 1839.7 2340.03 Q1843.25 2340.03 1845.38 2337.53 Q1847.53 2335.01 1847.53 2330.84 L1847.53 2329.9 L1843.29 2329.9 M1851.79 2328.14 L1851.79 2342.93 L1847.53 2342.93 L1847.53 2338.99 Q1846.07 2341.35 1843.89 2342.49 Q1841.72 2343.6 1838.57 2343.6 Q1834.59 2343.6 1832.23 2341.38 Q1829.89 2339.13 1829.89 2335.38 Q1829.89 2331.01 1832.81 2328.78 Q1835.75 2326.56 1841.56 2326.56 L1847.53 2326.56 L1847.53 2326.15 Q1847.53 2323.21 1845.58 2321.61 Q1843.66 2319.99 1840.17 2319.99 Q1837.94 2319.99 1835.84 2320.52 Q1833.73 2321.05 1831.79 2322.12 L1831.79 2318.18 Q1834.13 2317.28 1836.32 2316.84 Q1838.52 2316.38 1840.61 2316.38 Q1846.23 2316.38 1849.01 2319.29 Q1851.79 2322.21 1851.79 2328.14 Z\" fill=\"#000000\" fill-rule=\"nonzero\" fill-opacity=\"1\" /><path clip-path=\"url(#clip110)\" d=\"M1864.77 2309.64 L1864.77 2317 L1873.55 2317 L1873.55 2320.31 L1864.77 2320.31 L1864.77 2334.39 Q1864.77 2337.56 1865.63 2338.46 Q1866.51 2339.36 1869.17 2339.36 L1873.55 2339.36 L1873.55 2342.93 L1869.17 2342.93 Q1864.24 2342.93 1862.37 2341.1 Q1860.49 2339.25 1860.49 2334.39 L1860.49 2320.31 L1857.37 2320.31 L1857.37 2317 L1860.49 2317 L1860.49 2309.64 L1864.77 2309.64 Z\" fill=\"#000000\" fill-rule=\"nonzero\" fill-opacity=\"1\" /><path clip-path=\"url(#clip110)\" d=\"M1901.32 2328.9 L1901.32 2330.98 L1881.74 2330.98 Q1882.02 2335.38 1884.38 2337.7 Q1886.76 2339.99 1891 2339.99 Q1893.45 2339.99 1895.75 2339.39 Q1898.06 2338.78 1900.33 2337.58 L1900.33 2341.61 Q1898.04 2342.58 1895.63 2343.09 Q1893.22 2343.6 1890.75 2343.6 Q1884.54 2343.6 1880.91 2339.99 Q1877.3 2336.38 1877.3 2330.22 Q1877.3 2323.85 1880.72 2320.13 Q1884.17 2316.38 1890 2316.38 Q1895.24 2316.38 1898.27 2319.76 Q1901.32 2323.11 1901.32 2328.9 M1897.06 2327.65 Q1897.02 2324.15 1895.1 2322.07 Q1893.2 2319.99 1890.05 2319.99 Q1886.49 2319.99 1884.33 2322 Q1882.2 2324.02 1881.88 2327.67 L1897.06 2327.65 Z\" fill=\"#000000\" fill-rule=\"nonzero\" fill-opacity=\"1\" /><path clip-path=\"url(#clip110)\" d=\"M1924.84 2317.77 L1924.84 2321.79 Q1923.04 2320.87 1921.09 2320.4 Q1919.15 2319.94 1917.06 2319.94 Q1913.89 2319.94 1912.3 2320.91 Q1910.72 2321.89 1910.72 2323.83 Q1910.72 2325.31 1911.86 2326.17 Q1912.99 2327 1916.42 2327.77 L1917.87 2328.09 Q1922.41 2329.06 1924.31 2330.84 Q1926.23 2332.6 1926.23 2335.78 Q1926.23 2339.39 1923.36 2341.49 Q1920.51 2343.6 1915.51 2343.6 Q1913.43 2343.6 1911.16 2343.18 Q1908.92 2342.79 1906.42 2341.98 L1906.42 2337.58 Q1908.78 2338.81 1911.07 2339.43 Q1913.36 2340.03 1915.61 2340.03 Q1918.62 2340.03 1920.24 2339.02 Q1921.86 2337.97 1921.86 2336.1 Q1921.86 2334.36 1920.68 2333.44 Q1919.52 2332.51 1915.56 2331.65 L1914.08 2331.31 Q1910.12 2330.47 1908.36 2328.76 Q1906.6 2327.03 1906.6 2324.02 Q1906.6 2320.36 1909.19 2318.37 Q1911.79 2316.38 1916.56 2316.38 Q1918.92 2316.38 1921 2316.72 Q1923.08 2317.07 1924.84 2317.77 Z\" fill=\"#000000\" fill-rule=\"nonzero\" fill-opacity=\"1\" /><path clip-path=\"url(#clip110)\" d=\"M2919.98 2312.21 L2919.98 2339.09 L2925.63 2339.09 Q2932.78 2339.09 2936.09 2335.84 Q2939.43 2332.6 2939.43 2325.61 Q2939.43 2318.67 2936.09 2315.45 Q2932.78 2312.21 2925.63 2312.21 L2919.98 2312.21 M2915.31 2308.37 L2924.91 2308.37 Q2934.96 2308.37 2939.66 2312.56 Q2944.36 2316.72 2944.36 2325.61 Q2944.36 2334.55 2939.64 2338.74 Q2934.91 2342.93 2924.91 2342.93 L2915.31 2342.93 L2915.31 2308.37 Z\" fill=\"#000000\" fill-rule=\"nonzero\" fill-opacity=\"1\" /><path clip-path=\"url(#clip110)\" d=\"M2961.67 2319.99 Q2958.25 2319.99 2956.26 2322.67 Q2954.27 2325.34 2954.27 2329.99 Q2954.27 2334.64 2956.23 2337.33 Q2958.22 2339.99 2961.67 2339.99 Q2965.08 2339.99 2967.07 2337.3 Q2969.06 2334.62 2969.06 2329.99 Q2969.06 2325.38 2967.07 2322.7 Q2965.08 2319.99 2961.67 2319.99 M2961.67 2316.38 Q2967.23 2316.38 2970.4 2319.99 Q2973.57 2323.6 2973.57 2329.99 Q2973.57 2336.35 2970.4 2339.99 Q2967.23 2343.6 2961.67 2343.6 Q2956.09 2343.6 2952.92 2339.99 Q2949.77 2336.35 2949.77 2329.99 Q2949.77 2323.6 2952.92 2319.99 Q2956.09 2316.38 2961.67 2316.38 Z\" fill=\"#000000\" fill-rule=\"nonzero\" fill-opacity=\"1\" /><path clip-path=\"url(#clip110)\" d=\"M2980.19 2332.7 L2980.19 2317 L2984.45 2317 L2984.45 2332.53 Q2984.45 2336.21 2985.89 2338.07 Q2987.32 2339.9 2990.19 2339.9 Q2993.64 2339.9 2995.63 2337.7 Q2997.64 2335.5 2997.64 2331.7 L2997.64 2317 L3001.9 2317 L3001.9 2342.93 L2997.64 2342.93 L2997.64 2338.95 Q2996.09 2341.31 2994.03 2342.46 Q2992 2343.6 2989.29 2343.6 Q2984.82 2343.6 2982.51 2340.82 Q2980.19 2338.04 2980.19 2332.7 M2990.91 2316.38 L2990.91 2316.38 Z\" fill=\"#000000\" fill-rule=\"nonzero\" fill-opacity=\"1\" /><path clip-path=\"url(#clip110)\" d=\"M3029.29 2329.99 Q3029.29 2325.29 3027.34 2322.63 Q3025.42 2319.94 3022.04 2319.94 Q3018.66 2319.94 3016.72 2322.63 Q3014.8 2325.29 3014.8 2329.99 Q3014.8 2334.69 3016.72 2337.37 Q3018.66 2340.03 3022.04 2340.03 Q3025.42 2340.03 3027.34 2337.37 Q3029.29 2334.69 3029.29 2329.99 M3014.8 2320.94 Q3016.14 2318.62 3018.18 2317.51 Q3020.24 2316.38 3023.08 2316.38 Q3027.81 2316.38 3030.75 2320.13 Q3033.71 2323.88 3033.71 2329.99 Q3033.71 2336.1 3030.75 2339.85 Q3027.81 2343.6 3023.08 2343.6 Q3020.24 2343.6 3018.18 2342.49 Q3016.14 2341.35 3014.8 2339.04 L3014.8 2342.93 L3010.51 2342.93 L3010.51 2306.91 L3014.8 2306.91 L3014.8 2320.94 Z\" fill=\"#000000\" fill-rule=\"nonzero\" fill-opacity=\"1\" /><path clip-path=\"url(#clip110)\" d=\"M3040.77 2306.91 L3045.03 2306.91 L3045.03 2342.93 L3040.77 2342.93 L3040.77 2306.91 Z\" fill=\"#000000\" fill-rule=\"nonzero\" fill-opacity=\"1\" /><path clip-path=\"url(#clip110)\" d=\"M3076.12 2328.9 L3076.12 2330.98 L3056.53 2330.98 Q3056.81 2335.38 3059.17 2337.7 Q3061.56 2339.99 3065.79 2339.99 Q3068.25 2339.99 3070.54 2339.39 Q3072.85 2338.78 3075.12 2337.58 L3075.12 2341.61 Q3072.83 2342.58 3070.42 2343.09 Q3068.01 2343.6 3065.54 2343.6 Q3059.33 2343.6 3055.7 2339.99 Q3052.09 2336.38 3052.09 2330.22 Q3052.09 2323.85 3055.51 2320.13 Q3058.96 2316.38 3064.8 2316.38 Q3070.03 2316.38 3073.06 2319.76 Q3076.12 2323.11 3076.12 2328.9 M3071.86 2327.65 Q3071.81 2324.15 3069.89 2322.07 Q3067.99 2319.99 3064.84 2319.99 Q3061.28 2319.99 3059.13 2322 Q3057 2324.02 3056.67 2327.67 L3071.86 2327.65 Z\" fill=\"#000000\" fill-rule=\"nonzero\" fill-opacity=\"1\" /><path clip-path=\"url(#clip110)\" d=\"M3098.36 2308.37 L3103.04 2308.37 L3103.04 2338.99 L3119.87 2338.99 L3119.87 2342.93 L3098.36 2342.93 L3098.36 2308.37 Z\" fill=\"#000000\" fill-rule=\"nonzero\" fill-opacity=\"1\" /><path clip-path=\"url(#clip110)\" d=\"M3136.37 2329.9 Q3131.21 2329.9 3129.22 2331.08 Q3127.23 2332.26 3127.23 2335.1 Q3127.23 2337.37 3128.71 2338.71 Q3130.21 2340.03 3132.78 2340.03 Q3136.32 2340.03 3138.45 2337.53 Q3140.61 2335.01 3140.61 2330.84 L3140.61 2329.9 L3136.37 2329.9 M3144.87 2328.14 L3144.87 2342.93 L3140.61 2342.93 L3140.61 2338.99 Q3139.15 2341.35 3136.97 2342.49 Q3134.8 2343.6 3131.65 2343.6 Q3127.67 2343.6 3125.31 2341.38 Q3122.97 2339.13 3122.97 2335.38 Q3122.97 2331.01 3125.88 2328.78 Q3128.82 2326.56 3134.63 2326.56 L3140.61 2326.56 L3140.61 2326.15 Q3140.61 2323.21 3138.66 2321.61 Q3136.74 2319.99 3133.25 2319.99 Q3131.02 2319.99 3128.92 2320.52 Q3126.81 2321.05 3124.87 2322.12 L3124.87 2318.18 Q3127.2 2317.28 3129.4 2316.84 Q3131.6 2316.38 3133.69 2316.38 Q3139.31 2316.38 3142.09 2319.29 Q3144.87 2322.21 3144.87 2328.14 Z\" fill=\"#000000\" fill-rule=\"nonzero\" fill-opacity=\"1\" /><path clip-path=\"url(#clip110)\" d=\"M3170.17 2317.77 L3170.17 2321.79 Q3168.36 2320.87 3166.42 2320.4 Q3164.47 2319.94 3162.39 2319.94 Q3159.22 2319.94 3157.62 2320.91 Q3156.05 2321.89 3156.05 2323.83 Q3156.05 2325.31 3157.18 2326.17 Q3158.31 2327 3161.74 2327.77 L3163.2 2328.09 Q3167.74 2329.06 3169.63 2330.84 Q3171.56 2332.6 3171.56 2335.78 Q3171.56 2339.39 3168.69 2341.49 Q3165.84 2343.6 3160.84 2343.6 Q3158.75 2343.6 3156.49 2343.18 Q3154.24 2342.79 3151.74 2341.98 L3151.74 2337.58 Q3154.1 2338.81 3156.39 2339.43 Q3158.69 2340.03 3160.93 2340.03 Q3163.94 2340.03 3165.56 2339.02 Q3167.18 2337.97 3167.18 2336.1 Q3167.18 2334.36 3166 2333.44 Q3164.84 2332.51 3160.88 2331.65 L3159.4 2331.31 Q3155.44 2330.47 3153.69 2328.76 Q3151.93 2327.03 3151.93 2324.02 Q3151.93 2320.36 3154.52 2318.37 Q3157.11 2316.38 3161.88 2316.38 Q3164.24 2316.38 3166.32 2316.72 Q3168.41 2317.07 3170.17 2317.77 Z\" fill=\"#000000\" fill-rule=\"nonzero\" fill-opacity=\"1\" /><path clip-path=\"url(#clip110)\" d=\"M3194.87 2317.77 L3194.87 2321.79 Q3193.06 2320.87 3191.12 2320.4 Q3189.17 2319.94 3187.09 2319.94 Q3183.92 2319.94 3182.32 2320.91 Q3180.75 2321.89 3180.75 2323.83 Q3180.75 2325.31 3181.88 2326.17 Q3183.01 2327 3186.44 2327.77 L3187.9 2328.09 Q3192.44 2329.06 3194.33 2330.84 Q3196.25 2332.6 3196.25 2335.78 Q3196.25 2339.39 3193.38 2341.49 Q3190.54 2343.6 3185.54 2343.6 Q3183.45 2343.6 3181.19 2343.18 Q3178.94 2342.79 3176.44 2341.98 L3176.44 2337.58 Q3178.8 2338.81 3181.09 2339.43 Q3183.38 2340.03 3185.63 2340.03 Q3188.64 2340.03 3190.26 2339.02 Q3191.88 2337.97 3191.88 2336.1 Q3191.88 2334.36 3190.7 2333.44 Q3189.54 2332.51 3185.58 2331.65 L3184.1 2331.31 Q3180.14 2330.47 3178.38 2328.76 Q3176.63 2327.03 3176.63 2324.02 Q3176.63 2320.36 3179.22 2318.37 Q3181.81 2316.38 3186.58 2316.38 Q3188.94 2316.38 3191.02 2316.72 Q3193.11 2317.07 3194.87 2317.77 Z\" fill=\"#000000\" fill-rule=\"nonzero\" fill-opacity=\"1\" /><path clip-path=\"url(#clip110)\" d=\"M3213.08 2319.99 Q3209.66 2319.99 3207.67 2322.67 Q3205.68 2325.34 3205.68 2329.99 Q3205.68 2334.64 3207.64 2337.33 Q3209.63 2339.99 3213.08 2339.99 Q3216.49 2339.99 3218.48 2337.3 Q3220.47 2334.62 3220.47 2329.99 Q3220.47 2325.38 3218.48 2322.7 Q3216.49 2319.99 3213.08 2319.99 M3213.08 2316.38 Q3218.64 2316.38 3221.81 2319.99 Q3224.98 2323.6 3224.98 2329.99 Q3224.98 2336.35 3221.81 2339.99 Q3218.64 2343.6 3213.08 2343.6 Q3207.5 2343.6 3204.33 2339.99 Q3201.19 2336.35 3201.19 2329.99 Q3201.19 2323.6 3204.33 2319.99 Q3207.5 2316.38 3213.08 2316.38 Z\" fill=\"#000000\" fill-rule=\"nonzero\" fill-opacity=\"1\" /><polyline clip-path=\"url(#clip112)\" style=\"stroke:#000000; stroke-linecap:round; stroke-linejoin:round; stroke-width:2; stroke-opacity:0.1; fill:none\" points=\"233.806,1995 3152.76,1995 \"/>\n",
       "<polyline clip-path=\"url(#clip112)\" style=\"stroke:#000000; stroke-linecap:round; stroke-linejoin:round; stroke-width:2; stroke-opacity:0.1; fill:none\" points=\"233.806,1614.23 3152.76,1614.23 \"/>\n",
       "<polyline clip-path=\"url(#clip112)\" style=\"stroke:#000000; stroke-linecap:round; stroke-linejoin:round; stroke-width:2; stroke-opacity:0.1; fill:none\" points=\"233.806,1233.45 3152.76,1233.45 \"/>\n",
       "<polyline clip-path=\"url(#clip112)\" style=\"stroke:#000000; stroke-linecap:round; stroke-linejoin:round; stroke-width:2; stroke-opacity:0.1; fill:none\" points=\"233.806,852.682 3152.76,852.682 \"/>\n",
       "<polyline clip-path=\"url(#clip112)\" style=\"stroke:#000000; stroke-linecap:round; stroke-linejoin:round; stroke-width:2; stroke-opacity:0.1; fill:none\" points=\"233.806,471.908 3152.76,471.908 \"/>\n",
       "<polyline clip-path=\"url(#clip110)\" style=\"stroke:#000000; stroke-linecap:round; stroke-linejoin:round; stroke-width:4; stroke-opacity:1; fill:none\" points=\"233.806,2274.13 233.806,131.032 \"/>\n",
       "<polyline clip-path=\"url(#clip110)\" style=\"stroke:#000000; stroke-linecap:round; stroke-linejoin:round; stroke-width:4; stroke-opacity:1; fill:none\" points=\"233.806,1995 252.704,1995 \"/>\n",
       "<polyline clip-path=\"url(#clip110)\" style=\"stroke:#000000; stroke-linecap:round; stroke-linejoin:round; stroke-width:4; stroke-opacity:1; fill:none\" points=\"233.806,1614.23 252.704,1614.23 \"/>\n",
       "<polyline clip-path=\"url(#clip110)\" style=\"stroke:#000000; stroke-linecap:round; stroke-linejoin:round; stroke-width:4; stroke-opacity:1; fill:none\" points=\"233.806,1233.45 252.704,1233.45 \"/>\n",
       "<polyline clip-path=\"url(#clip110)\" style=\"stroke:#000000; stroke-linecap:round; stroke-linejoin:round; stroke-width:4; stroke-opacity:1; fill:none\" points=\"233.806,852.682 252.704,852.682 \"/>\n",
       "<polyline clip-path=\"url(#clip110)\" style=\"stroke:#000000; stroke-linecap:round; stroke-linejoin:round; stroke-width:4; stroke-opacity:1; fill:none\" points=\"233.806,471.908 252.704,471.908 \"/>\n",
       "<path clip-path=\"url(#clip110)\" d=\"M129.857 1980.8 Q126.246 1980.8 124.418 1984.36 Q122.612 1987.91 122.612 1995.04 Q122.612 2002.14 124.418 2005.71 Q126.246 2009.25 129.857 2009.25 Q133.492 2009.25 135.297 2005.71 Q137.126 2002.14 137.126 1995.04 Q137.126 1987.91 135.297 1984.36 Q133.492 1980.8 129.857 1980.8 M129.857 1977.1 Q135.668 1977.1 138.723 1981.7 Q141.802 1986.29 141.802 1995.04 Q141.802 2003.76 138.723 2008.37 Q135.668 2012.95 129.857 2012.95 Q124.047 2012.95 120.969 2008.37 Q117.913 2003.76 117.913 1995.04 Q117.913 1986.29 120.969 1981.7 Q124.047 1977.1 129.857 1977.1 Z\" fill=\"#000000\" fill-rule=\"nonzero\" fill-opacity=\"1\" /><path clip-path=\"url(#clip110)\" d=\"M150.019 2006.4 L154.904 2006.4 L154.904 2012.28 L150.019 2012.28 L150.019 2006.4 Z\" fill=\"#000000\" fill-rule=\"nonzero\" fill-opacity=\"1\" /><path clip-path=\"url(#clip110)\" d=\"M165.899 2008.35 L173.538 2008.35 L173.538 1981.98 L165.228 1983.65 L165.228 1979.39 L173.492 1977.72 L178.167 1977.72 L178.167 2008.35 L185.806 2008.35 L185.806 2012.28 L165.899 2012.28 L165.899 2008.35 Z\" fill=\"#000000\" fill-rule=\"nonzero\" fill-opacity=\"1\" /><path clip-path=\"url(#clip110)\" d=\"M130.228 1600.03 Q126.617 1600.03 124.788 1603.59 Q122.983 1607.13 122.983 1614.26 Q122.983 1621.37 124.788 1624.93 Q126.617 1628.48 130.228 1628.48 Q133.862 1628.48 135.668 1624.93 Q137.496 1621.37 137.496 1614.26 Q137.496 1607.13 135.668 1603.59 Q133.862 1600.03 130.228 1600.03 M130.228 1596.32 Q136.038 1596.32 139.094 1600.93 Q142.172 1605.51 142.172 1614.26 Q142.172 1622.99 139.094 1627.6 Q136.038 1632.18 130.228 1632.18 Q124.418 1632.18 121.339 1627.6 Q118.283 1622.99 118.283 1614.26 Q118.283 1605.51 121.339 1600.93 Q124.418 1596.32 130.228 1596.32 Z\" fill=\"#000000\" fill-rule=\"nonzero\" fill-opacity=\"1\" /><path clip-path=\"url(#clip110)\" d=\"M150.39 1625.63 L155.274 1625.63 L155.274 1631.51 L150.39 1631.51 L150.39 1625.63 Z\" fill=\"#000000\" fill-rule=\"nonzero\" fill-opacity=\"1\" /><path clip-path=\"url(#clip110)\" d=\"M169.487 1627.57 L185.806 1627.57 L185.806 1631.51 L163.862 1631.51 L163.862 1627.57 Q166.524 1624.82 171.107 1620.19 Q175.714 1615.54 176.894 1614.19 Q179.14 1611.67 180.019 1609.93 Q180.922 1608.17 180.922 1606.48 Q180.922 1603.73 178.978 1601.99 Q177.056 1600.26 173.954 1600.26 Q171.755 1600.26 169.302 1601.02 Q166.871 1601.79 164.093 1603.34 L164.093 1598.61 Q166.917 1597.48 169.371 1596.9 Q171.825 1596.32 173.862 1596.32 Q179.232 1596.32 182.427 1599.01 Q185.621 1601.69 185.621 1606.18 Q185.621 1608.31 184.811 1610.23 Q184.024 1612.13 181.917 1614.73 Q181.339 1615.4 178.237 1618.61 Q175.135 1621.81 169.487 1627.57 Z\" fill=\"#000000\" fill-rule=\"nonzero\" fill-opacity=\"1\" /><path clip-path=\"url(#clip110)\" d=\"M129.279 1219.25 Q125.668 1219.25 123.839 1222.82 Q122.033 1226.36 122.033 1233.49 Q122.033 1240.6 123.839 1244.16 Q125.668 1247.7 129.279 1247.7 Q132.913 1247.7 134.719 1244.16 Q136.547 1240.6 136.547 1233.49 Q136.547 1226.36 134.719 1222.82 Q132.913 1219.25 129.279 1219.25 M129.279 1215.55 Q135.089 1215.55 138.144 1220.16 Q141.223 1224.74 141.223 1233.49 Q141.223 1242.22 138.144 1246.82 Q135.089 1251.41 129.279 1251.41 Q123.469 1251.41 120.39 1246.82 Q117.334 1242.22 117.334 1233.49 Q117.334 1224.74 120.39 1220.16 Q123.469 1215.55 129.279 1215.55 Z\" fill=\"#000000\" fill-rule=\"nonzero\" fill-opacity=\"1\" /><path clip-path=\"url(#clip110)\" d=\"M149.441 1244.86 L154.325 1244.86 L154.325 1250.73 L149.441 1250.73 L149.441 1244.86 Z\" fill=\"#000000\" fill-rule=\"nonzero\" fill-opacity=\"1\" /><path clip-path=\"url(#clip110)\" d=\"M178.677 1232.1 Q182.033 1232.82 183.908 1235.09 Q185.806 1237.36 185.806 1240.69 Q185.806 1245.8 182.288 1248.61 Q178.769 1251.41 172.288 1251.41 Q170.112 1251.41 167.797 1250.97 Q165.505 1250.55 163.052 1249.69 L163.052 1245.18 Q164.996 1246.31 167.311 1246.89 Q169.626 1247.47 172.149 1247.47 Q176.547 1247.47 178.839 1245.73 Q181.154 1244 181.154 1240.69 Q181.154 1237.63 179.001 1235.92 Q176.871 1234.18 173.052 1234.18 L169.024 1234.18 L169.024 1230.34 L173.237 1230.34 Q176.686 1230.34 178.515 1228.98 Q180.343 1227.59 180.343 1224.99 Q180.343 1222.33 178.445 1220.92 Q176.57 1219.48 173.052 1219.48 Q171.13 1219.48 168.931 1219.9 Q166.732 1220.32 164.093 1221.2 L164.093 1217.03 Q166.755 1216.29 169.07 1215.92 Q171.408 1215.55 173.468 1215.55 Q178.792 1215.55 181.894 1217.98 Q184.996 1220.39 184.996 1224.51 Q184.996 1227.38 183.353 1229.37 Q181.709 1231.34 178.677 1232.1 Z\" fill=\"#000000\" fill-rule=\"nonzero\" fill-opacity=\"1\" /><path clip-path=\"url(#clip110)\" d=\"M128.145 838.48 Q124.533 838.48 122.705 842.045 Q120.899 845.587 120.899 852.716 Q120.899 859.823 122.705 863.387 Q124.533 866.929 128.145 866.929 Q131.779 866.929 133.584 863.387 Q135.413 859.823 135.413 852.716 Q135.413 845.587 133.584 842.045 Q131.779 838.48 128.145 838.48 M128.145 834.777 Q133.955 834.777 137.01 839.383 Q140.089 843.966 140.089 852.716 Q140.089 861.443 137.01 866.05 Q133.955 870.633 128.145 870.633 Q122.334 870.633 119.256 866.05 Q116.2 861.443 116.2 852.716 Q116.2 843.966 119.256 839.383 Q122.334 834.777 128.145 834.777 Z\" fill=\"#000000\" fill-rule=\"nonzero\" fill-opacity=\"1\" /><path clip-path=\"url(#clip110)\" d=\"M148.306 864.082 L153.191 864.082 L153.191 869.962 L148.306 869.962 L148.306 864.082 Z\" fill=\"#000000\" fill-rule=\"nonzero\" fill-opacity=\"1\" /><path clip-path=\"url(#clip110)\" d=\"M176.223 839.476 L164.417 857.925 L176.223 857.925 L176.223 839.476 M174.996 835.402 L180.876 835.402 L180.876 857.925 L185.806 857.925 L185.806 861.813 L180.876 861.813 L180.876 869.962 L176.223 869.962 L176.223 861.813 L160.621 861.813 L160.621 857.3 L174.996 835.402 Z\" fill=\"#000000\" fill-rule=\"nonzero\" fill-opacity=\"1\" /><path clip-path=\"url(#clip110)\" d=\"M129.626 457.707 Q126.015 457.707 124.186 461.272 Q122.381 464.813 122.381 471.943 Q122.381 479.05 124.186 482.614 Q126.015 486.156 129.626 486.156 Q133.26 486.156 135.066 482.614 Q136.894 479.05 136.894 471.943 Q136.894 464.813 135.066 461.272 Q133.26 457.707 129.626 457.707 M129.626 454.003 Q135.436 454.003 138.492 458.61 Q141.57 463.193 141.57 471.943 Q141.57 480.67 138.492 485.276 Q135.436 489.86 129.626 489.86 Q123.816 489.86 120.737 485.276 Q117.682 480.67 117.682 471.943 Q117.682 463.193 120.737 458.61 Q123.816 454.003 129.626 454.003 Z\" fill=\"#000000\" fill-rule=\"nonzero\" fill-opacity=\"1\" /><path clip-path=\"url(#clip110)\" d=\"M149.788 483.309 L154.672 483.309 L154.672 489.188 L149.788 489.188 L149.788 483.309 Z\" fill=\"#000000\" fill-rule=\"nonzero\" fill-opacity=\"1\" /><path clip-path=\"url(#clip110)\" d=\"M164.904 454.628 L183.26 454.628 L183.26 458.564 L169.186 458.564 L169.186 467.036 Q170.204 466.688 171.223 466.526 Q172.242 466.341 173.26 466.341 Q179.047 466.341 182.427 469.513 Q185.806 472.684 185.806 478.1 Q185.806 483.679 182.334 486.781 Q178.862 489.86 172.542 489.86 Q170.367 489.86 168.098 489.489 Q165.853 489.119 163.445 488.378 L163.445 483.679 Q165.529 484.813 167.751 485.369 Q169.973 485.924 172.45 485.924 Q176.454 485.924 178.792 483.818 Q181.13 481.712 181.13 478.1 Q181.13 474.489 178.792 472.383 Q176.454 470.276 172.45 470.276 Q170.575 470.276 168.7 470.693 Q166.848 471.11 164.904 471.989 L164.904 454.628 Z\" fill=\"#000000\" fill-rule=\"nonzero\" fill-opacity=\"1\" /><path clip-path=\"url(#clip110)\" d=\"M10.0844 1425.86 L16.8639 1425.86 Q13.8402 1429.1 12.3443 1432.8 Q10.8483 1436.46 10.8483 1440.59 Q10.8483 1448.74 15.8454 1453.07 Q20.8107 1457.4 30.2319 1457.4 Q39.6213 1457.4 44.6184 1453.07 Q49.5836 1448.74 49.5836 1440.59 Q49.5836 1436.46 48.0877 1432.8 Q46.5918 1429.1 43.5681 1425.86 L50.2839 1425.86 Q52.5755 1429.23 53.7214 1433.02 Q54.8672 1436.77 54.8672 1440.98 Q54.8672 1451.77 48.2787 1457.97 Q41.6583 1464.18 30.2319 1464.18 Q18.7736 1464.18 12.1851 1457.97 Q5.56479 1451.77 5.56479 1440.98 Q5.56479 1436.71 6.71061 1432.95 Q7.82461 1429.17 10.0844 1425.86 Z\" fill=\"#000000\" fill-rule=\"nonzero\" fill-opacity=\"1\" /><path clip-path=\"url(#clip110)\" d=\"M22.4021 1402.37 Q22.4021 1407.08 26.0942 1409.82 Q29.7545 1412.55 36.152 1412.55 Q42.5495 1412.55 46.2417 1409.85 Q49.9019 1407.11 49.9019 1402.37 Q49.9019 1397.69 46.2098 1394.95 Q42.5177 1392.21 36.152 1392.21 Q29.8181 1392.21 26.126 1394.95 Q22.4021 1397.69 22.4021 1402.37 M17.4368 1402.37 Q17.4368 1394.73 22.4021 1390.37 Q27.3673 1386.01 36.152 1386.01 Q44.9049 1386.01 49.9019 1390.37 Q54.8672 1394.73 54.8672 1402.37 Q54.8672 1410.04 49.9019 1414.4 Q44.9049 1418.73 36.152 1418.73 Q27.3673 1418.73 22.4021 1414.4 Q17.4368 1410.04 17.4368 1402.37 Z\" fill=\"#000000\" fill-rule=\"nonzero\" fill-opacity=\"1\" /><path clip-path=\"url(#clip110)\" d=\"M34.6561 1345.81 L37.5206 1345.81 L37.5206 1372.74 Q43.5681 1372.35 46.7509 1369.11 Q49.9019 1365.83 49.9019 1360 Q49.9019 1356.63 49.0744 1353.48 Q48.2469 1350.3 46.5918 1347.18 L52.1299 1347.18 Q53.4667 1350.33 54.167 1353.64 Q54.8672 1356.95 54.8672 1360.35 Q54.8672 1368.88 49.9019 1373.88 Q44.9367 1378.85 36.4703 1378.85 Q27.7174 1378.85 22.5931 1374.14 Q17.4368 1369.39 17.4368 1361.37 Q17.4368 1354.18 22.0838 1350.01 Q26.6989 1345.81 34.6561 1345.81 M32.9373 1351.66 Q28.1312 1351.73 25.2666 1354.37 Q22.4021 1356.98 22.4021 1361.31 Q22.4021 1366.21 25.1712 1369.17 Q27.9402 1372.1 32.9692 1372.54 L32.9373 1351.66 Z\" fill=\"#000000\" fill-rule=\"nonzero\" fill-opacity=\"1\" /><path clip-path=\"url(#clip110)\" d=\"M4.41896 1318.15 L9.28873 1318.15 L9.28873 1323.75 Q9.28873 1326.9 10.5619 1328.14 Q11.835 1329.35 15.1452 1329.35 L18.2962 1329.35 L18.2962 1319.71 L22.8477 1319.71 L22.8477 1329.35 L53.9442 1329.35 L53.9442 1335.24 L22.8477 1335.24 L22.8477 1340.84 L18.2962 1340.84 L18.2962 1335.24 L15.8136 1335.24 Q9.86164 1335.24 7.15621 1332.47 Q4.41896 1329.7 4.41896 1323.69 L4.41896 1318.15 Z\" fill=\"#000000\" fill-rule=\"nonzero\" fill-opacity=\"1\" /><path clip-path=\"url(#clip110)\" d=\"M4.41896 1295.2 L9.28873 1295.2 L9.28873 1300.8 Q9.28873 1303.95 10.5619 1305.2 Q11.835 1306.4 15.1452 1306.4 L18.2962 1306.4 L18.2962 1296.76 L22.8477 1296.76 L22.8477 1306.4 L53.9442 1306.4 L53.9442 1312.29 L22.8477 1312.29 L22.8477 1317.89 L18.2962 1317.89 L18.2962 1312.29 L15.8136 1312.29 Q9.86164 1312.29 7.15621 1309.52 Q4.41896 1306.75 4.41896 1300.74 L4.41896 1295.2 Z\" fill=\"#000000\" fill-rule=\"nonzero\" fill-opacity=\"1\" /><path clip-path=\"url(#clip110)\" d=\"M18.2962 1290.3 L18.2962 1284.44 L53.9442 1284.44 L53.9442 1290.3 L18.2962 1290.3 M4.41896 1290.3 L4.41896 1284.44 L11.835 1284.44 L11.835 1290.3 L4.41896 1290.3 Z\" fill=\"#000000\" fill-rule=\"nonzero\" fill-opacity=\"1\" /><path clip-path=\"url(#clip110)\" d=\"M19.6648 1246.54 L25.1393 1246.54 Q23.7707 1249.02 23.1023 1251.53 Q22.4021 1254.01 22.4021 1256.56 Q22.4021 1262.26 26.0305 1265.41 Q29.6272 1268.56 36.152 1268.56 Q42.6769 1268.56 46.3053 1265.41 Q49.9019 1262.26 49.9019 1256.56 Q49.9019 1254.01 49.2335 1251.53 Q48.5333 1249.02 47.1647 1246.54 L52.5755 1246.54 Q53.7214 1248.99 54.2943 1251.63 Q54.8672 1254.24 54.8672 1257.2 Q54.8672 1265.25 49.8064 1269.99 Q44.7457 1274.74 36.152 1274.74 Q27.431 1274.74 22.4339 1269.96 Q17.4368 1265.15 17.4368 1256.82 Q17.4368 1254.11 18.0097 1251.53 Q18.5508 1248.95 19.6648 1246.54 Z\" fill=\"#000000\" fill-rule=\"nonzero\" fill-opacity=\"1\" /><path clip-path=\"url(#clip110)\" d=\"M18.2962 1236.35 L18.2962 1230.49 L53.9442 1230.49 L53.9442 1236.35 L18.2962 1236.35 M4.41896 1236.35 L4.41896 1230.49 L11.835 1230.49 L11.835 1236.35 L4.41896 1236.35 Z\" fill=\"#000000\" fill-rule=\"nonzero\" fill-opacity=\"1\" /><path clip-path=\"url(#clip110)\" d=\"M34.6561 1187.75 L37.5206 1187.75 L37.5206 1214.67 Q43.5681 1214.29 46.7509 1211.05 Q49.9019 1207.77 49.9019 1201.94 Q49.9019 1198.57 49.0744 1195.42 Q48.2469 1192.24 46.5918 1189.12 L52.1299 1189.12 Q53.4667 1192.27 54.167 1195.58 Q54.8672 1198.89 54.8672 1202.29 Q54.8672 1210.82 49.9019 1215.82 Q44.9367 1220.79 36.4703 1220.79 Q27.7174 1220.79 22.5931 1216.08 Q17.4368 1211.33 17.4368 1203.31 Q17.4368 1196.12 22.0838 1191.95 Q26.6989 1187.75 34.6561 1187.75 M32.9373 1193.6 Q28.1312 1193.67 25.2666 1196.31 Q22.4021 1198.92 22.4021 1203.25 Q22.4021 1208.15 25.1712 1211.11 Q27.9402 1214.04 32.9692 1214.48 L32.9373 1193.6 Z\" fill=\"#000000\" fill-rule=\"nonzero\" fill-opacity=\"1\" /><path clip-path=\"url(#clip110)\" d=\"M32.4281 1148.5 L53.9442 1148.5 L53.9442 1154.36 L32.619 1154.36 Q27.5583 1154.36 25.0438 1156.33 Q22.5294 1158.31 22.5294 1162.25 Q22.5294 1167 25.5531 1169.73 Q28.5768 1172.47 33.7967 1172.47 L53.9442 1172.47 L53.9442 1178.36 L18.2962 1178.36 L18.2962 1172.47 L23.8344 1172.47 Q20.6197 1170.37 19.0283 1167.54 Q17.4368 1164.67 17.4368 1160.95 Q17.4368 1154.81 21.2563 1151.65 Q25.0438 1148.5 32.4281 1148.5 Z\" fill=\"#000000\" fill-rule=\"nonzero\" fill-opacity=\"1\" /><path clip-path=\"url(#clip110)\" d=\"M8.17473 1131.03 L18.2962 1131.03 L18.2962 1118.97 L22.8477 1118.97 L22.8477 1131.03 L42.1994 1131.03 Q46.5599 1131.03 47.8013 1129.85 Q49.0426 1128.64 49.0426 1124.98 L49.0426 1118.97 L53.9442 1118.97 L53.9442 1124.98 Q53.9442 1131.76 51.4297 1134.34 Q48.8834 1136.92 42.1994 1136.92 L22.8477 1136.92 L22.8477 1141.21 L18.2962 1141.21 L18.2962 1136.92 L8.17473 1136.92 L8.17473 1131.03 Z\" fill=\"#000000\" fill-rule=\"nonzero\" fill-opacity=\"1\" /><path clip-path=\"url(#clip110)\" d=\"M48.597 1084.88 L67.5031 1084.88 L67.5031 1090.77 L18.2962 1090.77 L18.2962 1084.88 L23.7071 1084.88 Q20.5242 1083.03 18.9964 1080.23 Q17.4368 1077.4 17.4368 1073.48 Q17.4368 1066.99 22.5931 1062.95 Q27.7493 1058.87 36.152 1058.87 Q44.5547 1058.87 49.711 1062.95 Q54.8672 1066.99 54.8672 1073.48 Q54.8672 1077.4 53.3394 1080.23 Q51.7798 1083.03 48.597 1084.88 M36.152 1064.95 Q29.6908 1064.95 26.0305 1067.63 Q22.3384 1070.27 22.3384 1074.92 Q22.3384 1079.56 26.0305 1082.24 Q29.6908 1084.88 36.152 1084.88 Q42.6132 1084.88 46.3053 1082.24 Q49.9656 1079.56 49.9656 1074.92 Q49.9656 1070.27 46.3053 1067.63 Q42.6132 1064.95 36.152 1064.95 Z\" fill=\"#000000\" fill-rule=\"nonzero\" fill-opacity=\"1\" /><path clip-path=\"url(#clip110)\" d=\"M4.41896 1049.17 L4.41896 1043.31 L53.9442 1043.31 L53.9442 1049.17 L4.41896 1049.17 Z\" fill=\"#000000\" fill-rule=\"nonzero\" fill-opacity=\"1\" /><path clip-path=\"url(#clip110)\" d=\"M22.4021 1017.24 Q22.4021 1021.95 26.0942 1024.69 Q29.7545 1027.43 36.152 1027.43 Q42.5495 1027.43 46.2417 1024.72 Q49.9019 1021.98 49.9019 1017.24 Q49.9019 1012.56 46.2098 1009.83 Q42.5177 1007.09 36.152 1007.09 Q29.8181 1007.09 26.126 1009.83 Q22.4021 1012.56 22.4021 1017.24 M17.4368 1017.24 Q17.4368 1009.6 22.4021 1005.24 Q27.3673 1000.88 36.152 1000.88 Q44.9049 1000.88 49.9019 1005.24 Q54.8672 1009.6 54.8672 1017.24 Q54.8672 1024.91 49.9019 1029.27 Q44.9049 1033.6 36.152 1033.6 Q27.3673 1033.6 22.4021 1029.27 Q17.4368 1024.91 17.4368 1017.24 Z\" fill=\"#000000\" fill-rule=\"nonzero\" fill-opacity=\"1\" /><path clip-path=\"url(#clip110)\" d=\"M8.17473 985.382 L18.2962 985.382 L18.2962 973.319 L22.8477 973.319 L22.8477 985.382 L42.1994 985.382 Q46.5599 985.382 47.8013 984.204 Q49.0426 982.995 49.0426 979.335 L49.0426 973.319 L53.9442 973.319 L53.9442 979.335 Q53.9442 986.114 51.4297 988.692 Q48.8834 991.27 42.1994 991.27 L22.8477 991.27 L22.8477 995.567 L18.2962 995.567 L18.2962 991.27 L8.17473 991.27 L8.17473 985.382 Z\" fill=\"#000000\" fill-rule=\"nonzero\" fill-opacity=\"1\" /><path clip-path=\"url(#clip110)\" d=\"M19.3465 942.891 L24.8847 942.891 Q23.6116 945.374 22.975 948.047 Q22.3384 950.721 22.3384 953.585 Q22.3384 957.946 23.6752 960.142 Q25.012 962.306 27.6856 962.306 Q29.7226 962.306 30.9003 960.747 Q32.0461 959.187 33.0965 954.477 L33.5421 952.471 Q34.8789 946.233 37.3297 943.623 Q39.7486 940.981 44.1091 940.981 Q49.0744 940.981 51.9708 944.928 Q54.8672 948.843 54.8672 955.718 Q54.8672 958.582 54.2943 961.702 Q53.7532 964.789 52.6392 968.227 L46.5918 968.227 Q48.2787 964.98 49.138 961.829 Q49.9656 958.678 49.9656 955.591 Q49.9656 951.453 48.5651 949.225 Q47.1329 946.997 44.5547 946.997 Q42.1676 946.997 40.8945 948.62 Q39.6213 950.212 38.4437 955.654 L37.9662 957.691 Q36.8204 963.134 34.4651 965.553 Q32.078 967.972 27.9402 967.972 Q22.9113 967.972 20.1741 964.407 Q17.4368 960.842 17.4368 954.286 Q17.4368 951.039 17.9143 948.175 Q18.3917 945.31 19.3465 942.891 Z\" fill=\"#000000\" fill-rule=\"nonzero\" fill-opacity=\"1\" /><path clip-path=\"url(#clip110)\" d=\"M1115.78 12.096 L1166.95 12.096 L1166.95 18.9825 L1145.48 18.9825 L1145.48 72.576 L1137.25 72.576 L1137.25 18.9825 L1115.78 18.9825 L1115.78 12.096 Z\" fill=\"#000000\" fill-rule=\"nonzero\" fill-opacity=\"1\" /><path clip-path=\"url(#clip110)\" d=\"M1188.62 34.1734 Q1187.36 33.4443 1185.86 33.1202 Q1184.41 32.7556 1182.62 32.7556 Q1176.3 32.7556 1172.9 36.8875 Q1169.54 40.9789 1169.54 48.6757 L1169.54 72.576 L1162.05 72.576 L1162.05 27.2059 L1169.54 27.2059 L1169.54 34.2544 Q1171.89 30.1225 1175.66 28.1376 Q1179.42 26.1121 1184.81 26.1121 Q1185.58 26.1121 1186.51 26.2337 Q1187.44 26.3147 1188.58 26.5172 L1188.62 34.1734 Z\" fill=\"#000000\" fill-rule=\"nonzero\" fill-opacity=\"1\" /><path clip-path=\"url(#clip110)\" d=\"M1233.42 48.0275 L1233.42 51.6733 L1199.15 51.6733 Q1199.64 59.3701 1203.77 63.421 Q1207.94 67.4314 1215.36 67.4314 Q1219.65 67.4314 1223.66 66.3781 Q1227.71 65.3249 1231.68 63.2184 L1231.68 70.267 Q1227.67 71.9684 1223.46 72.8596 Q1219.24 73.7508 1214.91 73.7508 Q1204.05 73.7508 1197.69 67.4314 Q1191.37 61.1119 1191.37 50.3365 Q1191.37 39.1965 1197.37 32.6746 Q1203.41 26.1121 1213.61 26.1121 Q1222.77 26.1121 1228.08 32.0264 Q1233.42 37.9003 1233.42 48.0275 M1225.97 45.84 Q1225.89 39.7232 1222.53 36.0774 Q1219.2 32.4315 1213.69 32.4315 Q1207.46 32.4315 1203.69 35.9558 Q1199.96 39.4801 1199.39 45.8805 L1225.97 45.84 Z\" fill=\"#000000\" fill-rule=\"nonzero\" fill-opacity=\"1\" /><path clip-path=\"url(#clip110)\" d=\"M1266.28 49.7694 Q1257.24 49.7694 1253.76 51.8354 Q1250.27 53.9013 1250.27 58.8839 Q1250.27 62.8538 1252.87 65.2034 Q1255.5 67.5124 1260 67.5124 Q1266.19 67.5124 1269.92 63.1374 Q1273.69 58.7219 1273.69 51.4303 L1273.69 49.7694 L1266.28 49.7694 M1281.14 46.6907 L1281.14 72.576 L1273.69 72.576 L1273.69 65.6895 Q1271.14 69.8214 1267.33 71.8063 Q1263.52 73.7508 1258.01 73.7508 Q1251.04 73.7508 1246.91 69.8619 Q1242.82 65.9325 1242.82 59.3701 Q1242.82 51.7138 1247.92 47.825 Q1253.07 43.9361 1263.24 43.9361 L1273.69 43.9361 L1273.69 43.2069 Q1273.69 38.0623 1270.29 35.2672 Q1266.92 32.4315 1260.81 32.4315 Q1256.92 32.4315 1253.23 33.3632 Q1249.55 34.295 1246.14 36.1584 L1246.14 29.2718 Q1250.23 27.692 1254.08 26.9223 Q1257.93 26.1121 1261.58 26.1121 Q1271.42 26.1121 1276.28 31.2163 Q1281.14 36.3204 1281.14 46.6907 Z\" fill=\"#000000\" fill-rule=\"nonzero\" fill-opacity=\"1\" /><path clip-path=\"url(#clip110)\" d=\"M1303.87 14.324 L1303.87 27.2059 L1319.22 27.2059 L1319.22 32.9987 L1303.87 32.9987 L1303.87 57.6282 Q1303.87 63.1779 1305.37 64.7578 Q1306.91 66.3376 1311.56 66.3376 L1319.22 66.3376 L1319.22 72.576 L1311.56 72.576 Q1302.94 72.576 1299.65 69.3758 Q1296.37 66.1351 1296.37 57.6282 L1296.37 32.9987 L1290.9 32.9987 L1290.9 27.2059 L1296.37 27.2059 L1296.37 14.324 L1303.87 14.324 Z\" fill=\"#000000\" fill-rule=\"nonzero\" fill-opacity=\"1\" /><path clip-path=\"url(#clip110)\" d=\"M1364.35 35.9153 Q1367.14 30.8922 1371.03 28.5022 Q1374.92 26.1121 1380.19 26.1121 Q1387.28 26.1121 1391.12 31.0947 Q1394.97 36.0368 1394.97 45.1919 L1394.97 72.576 L1387.48 72.576 L1387.48 45.4349 Q1387.48 38.913 1385.17 35.7533 Q1382.86 32.5936 1378.12 32.5936 Q1372.33 32.5936 1368.97 36.4419 Q1365.6 40.2903 1365.6 46.9338 L1365.6 72.576 L1358.11 72.576 L1358.11 45.4349 Q1358.11 38.8725 1355.8 35.7533 Q1353.49 32.5936 1348.67 32.5936 Q1342.96 32.5936 1339.6 36.4824 Q1336.23 40.3308 1336.23 46.9338 L1336.23 72.576 L1328.74 72.576 L1328.74 27.2059 L1336.23 27.2059 L1336.23 34.2544 Q1338.79 30.082 1342.35 28.0971 Q1345.92 26.1121 1350.82 26.1121 Q1355.76 26.1121 1359.2 28.6237 Q1362.69 31.1352 1364.35 35.9153 Z\" fill=\"#000000\" fill-rule=\"nonzero\" fill-opacity=\"1\" /><path clip-path=\"url(#clip110)\" d=\"M1448.65 48.0275 L1448.65 51.6733 L1414.38 51.6733 Q1414.86 59.3701 1418.99 63.421 Q1423.17 67.4314 1430.58 67.4314 Q1434.87 67.4314 1438.88 66.3781 Q1442.94 65.3249 1446.91 63.2184 L1446.91 70.267 Q1442.89 71.9684 1438.68 72.8596 Q1434.47 73.7508 1430.13 73.7508 Q1419.28 73.7508 1412.92 67.4314 Q1406.6 61.1119 1406.6 50.3365 Q1406.6 39.1965 1412.59 32.6746 Q1418.63 26.1121 1428.84 26.1121 Q1437.99 26.1121 1443.3 32.0264 Q1448.65 37.9003 1448.65 48.0275 M1441.19 45.84 Q1441.11 39.7232 1437.75 36.0774 Q1434.43 32.4315 1428.92 32.4315 Q1422.68 32.4315 1418.91 35.9558 Q1415.19 39.4801 1414.62 45.8805 L1441.19 45.84 Z\" fill=\"#000000\" fill-rule=\"nonzero\" fill-opacity=\"1\" /><path clip-path=\"url(#clip110)\" d=\"M1498.59 45.1919 L1498.59 72.576 L1491.14 72.576 L1491.14 45.4349 Q1491.14 38.994 1488.63 35.7938 Q1486.12 32.5936 1481.09 32.5936 Q1475.06 32.5936 1471.58 36.4419 Q1468.09 40.2903 1468.09 46.9338 L1468.09 72.576 L1460.6 72.576 L1460.6 27.2059 L1468.09 27.2059 L1468.09 34.2544 Q1470.76 30.163 1474.37 28.1376 Q1478.02 26.1121 1482.76 26.1121 Q1490.57 26.1121 1494.58 30.9732 Q1498.59 35.7938 1498.59 45.1919 Z\" fill=\"#000000\" fill-rule=\"nonzero\" fill-opacity=\"1\" /><path clip-path=\"url(#clip110)\" d=\"M1520.83 14.324 L1520.83 27.2059 L1536.19 27.2059 L1536.19 32.9987 L1520.83 32.9987 L1520.83 57.6282 Q1520.83 63.1779 1522.33 64.7578 Q1523.87 66.3376 1528.53 66.3376 L1536.19 66.3376 L1536.19 72.576 L1528.53 72.576 Q1519.9 72.576 1516.62 69.3758 Q1513.34 66.1351 1513.34 57.6282 L1513.34 32.9987 L1507.87 32.9987 L1507.87 27.2059 L1513.34 27.2059 L1513.34 14.324 L1520.83 14.324 Z\" fill=\"#000000\" fill-rule=\"nonzero\" fill-opacity=\"1\" /><path clip-path=\"url(#clip110)\" d=\"M1611.17 48.0275 L1611.17 51.6733 L1576.9 51.6733 Q1577.38 59.3701 1581.52 63.421 Q1585.69 67.4314 1593.1 67.4314 Q1597.4 67.4314 1601.41 66.3781 Q1605.46 65.3249 1609.43 63.2184 L1609.43 70.267 Q1605.42 71.9684 1601.2 72.8596 Q1596.99 73.7508 1592.66 73.7508 Q1581.8 73.7508 1575.44 67.4314 Q1569.12 61.1119 1569.12 50.3365 Q1569.12 39.1965 1575.12 32.6746 Q1581.15 26.1121 1591.36 26.1121 Q1600.52 26.1121 1605.82 32.0264 Q1611.17 37.9003 1611.17 48.0275 M1603.72 45.84 Q1603.63 39.7232 1600.27 36.0774 Q1596.95 32.4315 1591.44 32.4315 Q1585.2 32.4315 1581.44 35.9558 Q1577.71 39.4801 1577.14 45.8805 L1603.72 45.84 Z\" fill=\"#000000\" fill-rule=\"nonzero\" fill-opacity=\"1\" /><path clip-path=\"url(#clip110)\" d=\"M1646.37 9.54393 L1646.37 15.7418 L1639.24 15.7418 Q1635.23 15.7418 1633.65 17.3622 Q1632.11 18.9825 1632.11 23.1955 L1632.11 27.2059 L1644.39 27.2059 L1644.39 32.9987 L1632.11 32.9987 L1632.11 72.576 L1624.62 72.576 L1624.62 32.9987 L1617.49 32.9987 L1617.49 27.2059 L1624.62 27.2059 L1624.62 24.0462 Q1624.62 16.471 1628.14 13.0277 Q1631.67 9.54393 1639.32 9.54393 L1646.37 9.54393 Z\" fill=\"#000000\" fill-rule=\"nonzero\" fill-opacity=\"1\" /><path clip-path=\"url(#clip110)\" d=\"M1675.58 9.54393 L1675.58 15.7418 L1668.45 15.7418 Q1664.44 15.7418 1662.86 17.3622 Q1661.32 18.9825 1661.32 23.1955 L1661.32 27.2059 L1673.59 27.2059 L1673.59 32.9987 L1661.32 32.9987 L1661.32 72.576 L1653.83 72.576 L1653.83 32.9987 L1646.7 32.9987 L1646.7 27.2059 L1653.83 27.2059 L1653.83 24.0462 Q1653.83 16.471 1657.35 13.0277 Q1660.87 9.54393 1668.53 9.54393 L1675.58 9.54393 Z\" fill=\"#000000\" fill-rule=\"nonzero\" fill-opacity=\"1\" /><path clip-path=\"url(#clip110)\" d=\"M1720.62 48.0275 L1720.62 51.6733 L1686.35 51.6733 Q1686.84 59.3701 1690.97 63.421 Q1695.14 67.4314 1702.56 67.4314 Q1706.85 67.4314 1710.86 66.3781 Q1714.91 65.3249 1718.88 63.2184 L1718.88 70.267 Q1714.87 71.9684 1710.66 72.8596 Q1706.45 73.7508 1702.11 73.7508 Q1691.26 73.7508 1684.9 67.4314 Q1678.58 61.1119 1678.58 50.3365 Q1678.58 39.1965 1684.57 32.6746 Q1690.61 26.1121 1700.82 26.1121 Q1709.97 26.1121 1715.28 32.0264 Q1720.62 37.9003 1720.62 48.0275 M1713.17 45.84 Q1713.09 39.7232 1709.73 36.0774 Q1706.41 32.4315 1700.9 32.4315 Q1694.66 32.4315 1690.89 35.9558 Q1687.16 39.4801 1686.6 45.8805 L1713.17 45.84 Z\" fill=\"#000000\" fill-rule=\"nonzero\" fill-opacity=\"1\" /><path clip-path=\"url(#clip110)\" d=\"M1765.51 28.9478 L1765.51 35.9153 Q1762.35 34.1734 1759.15 33.3227 Q1755.99 32.4315 1752.75 32.4315 Q1745.5 32.4315 1741.49 37.0496 Q1737.48 41.6271 1737.48 49.9314 Q1737.48 58.2358 1741.49 62.8538 Q1745.5 67.4314 1752.75 67.4314 Q1755.99 67.4314 1759.15 66.5807 Q1762.35 65.6895 1765.51 63.9476 L1765.51 70.8341 Q1762.39 72.2924 1759.03 73.0216 Q1755.71 73.7508 1751.94 73.7508 Q1741.69 73.7508 1735.65 67.3098 Q1729.62 60.8689 1729.62 49.9314 Q1729.62 38.832 1735.69 32.472 Q1741.81 26.1121 1752.42 26.1121 Q1755.87 26.1121 1759.15 26.8413 Q1762.43 27.5299 1765.51 28.9478 Z\" fill=\"#000000\" fill-rule=\"nonzero\" fill-opacity=\"1\" /><path clip-path=\"url(#clip110)\" d=\"M1785.84 14.324 L1785.84 27.2059 L1801.2 27.2059 L1801.2 32.9987 L1785.84 32.9987 L1785.84 57.6282 Q1785.84 63.1779 1787.34 64.7578 Q1788.88 66.3376 1793.54 66.3376 L1801.2 66.3376 L1801.2 72.576 L1793.54 72.576 Q1784.91 72.576 1781.63 69.3758 Q1778.35 66.1351 1778.35 57.6282 L1778.35 32.9987 L1772.88 32.9987 L1772.88 27.2059 L1778.35 27.2059 L1778.35 14.324 L1785.84 14.324 Z\" fill=\"#000000\" fill-rule=\"nonzero\" fill-opacity=\"1\" /><path clip-path=\"url(#clip110)\" d=\"M1854.95 32.4315 Q1848.96 32.4315 1845.47 37.1306 Q1841.99 41.7891 1841.99 49.9314 Q1841.99 58.0738 1845.43 62.7728 Q1848.92 67.4314 1854.95 67.4314 Q1860.91 67.4314 1864.39 62.7323 Q1867.88 58.0333 1867.88 49.9314 Q1867.88 41.8701 1864.39 37.1711 Q1860.91 32.4315 1854.95 32.4315 M1854.95 26.1121 Q1864.67 26.1121 1870.22 32.4315 Q1875.77 38.7509 1875.77 49.9314 Q1875.77 61.0714 1870.22 67.4314 Q1864.67 73.7508 1854.95 73.7508 Q1845.19 73.7508 1839.64 67.4314 Q1834.13 61.0714 1834.13 49.9314 Q1834.13 38.7509 1839.64 32.4315 Q1845.19 26.1121 1854.95 26.1121 Z\" fill=\"#000000\" fill-rule=\"nonzero\" fill-opacity=\"1\" /><path clip-path=\"url(#clip110)\" d=\"M1925.84 45.1919 L1925.84 72.576 L1918.39 72.576 L1918.39 45.4349 Q1918.39 38.994 1915.88 35.7938 Q1913.37 32.5936 1908.34 32.5936 Q1902.31 32.5936 1898.82 36.4419 Q1895.34 40.2903 1895.34 46.9338 L1895.34 72.576 L1887.85 72.576 L1887.85 27.2059 L1895.34 27.2059 L1895.34 34.2544 Q1898.01 30.163 1901.62 28.1376 Q1905.26 26.1121 1910 26.1121 Q1917.82 26.1121 1921.83 30.9732 Q1925.84 35.7938 1925.84 45.1919 Z\" fill=\"#000000\" fill-rule=\"nonzero\" fill-opacity=\"1\" /><path clip-path=\"url(#clip110)\" d=\"M2003.66 14.0809 L2003.66 22.0612 Q1999 19.8332 1994.87 18.7395 Q1990.74 17.6457 1986.89 17.6457 Q1980.21 17.6457 1976.56 20.2383 Q1972.96 22.8309 1972.96 27.611 Q1972.96 31.6214 1975.35 33.6873 Q1977.78 35.7128 1984.5 36.9686 L1989.44 37.9813 Q1998.6 39.7232 2002.93 44.1387 Q2007.31 48.5136 2007.31 55.8863 Q2007.31 64.6767 2001.39 69.2137 Q1995.52 73.7508 1984.14 73.7508 Q1979.84 73.7508 1974.98 72.7785 Q1970.16 71.8063 1964.98 69.9024 L1964.98 61.4765 Q1969.96 64.2716 1974.74 65.6895 Q1979.52 67.1073 1984.14 67.1073 Q1991.14 67.1073 1994.95 64.3527 Q1998.76 61.598 1998.76 56.4939 Q1998.76 52.0379 1996.01 49.5264 Q1993.29 47.0148 1987.05 45.759 L1982.07 44.7868 Q1972.92 42.9639 1968.82 39.075 Q1964.73 35.1862 1964.73 28.2591 Q1964.73 20.2383 1970.36 15.6203 Q1976.03 11.0023 1985.96 11.0023 Q1990.21 11.0023 1994.63 11.7719 Q1999.04 12.5416 2003.66 14.0809 Z\" fill=\"#000000\" fill-rule=\"nonzero\" fill-opacity=\"1\" /><path clip-path=\"url(#clip110)\" d=\"M2011.68 12.096 L2062.85 12.096 L2062.85 18.9825 L2041.38 18.9825 L2041.38 72.576 L2033.15 72.576 L2033.15 18.9825 L2011.68 18.9825 L2011.68 12.096 Z\" fill=\"#000000\" fill-rule=\"nonzero\" fill-opacity=\"1\" /><path clip-path=\"url(#clip110)\" d=\"M2070.74 12.096 L2078.93 12.096 L2078.93 72.576 L2070.74 72.576 L2070.74 12.096 Z\" fill=\"#000000\" fill-rule=\"nonzero\" fill-opacity=\"1\" /><path clip-path=\"url(#clip110)\" d=\"M2128.63 14.324 L2128.63 27.2059 L2143.98 27.2059 L2143.98 32.9987 L2128.63 32.9987 L2128.63 57.6282 Q2128.63 63.1779 2130.13 64.7578 Q2131.67 66.3376 2136.33 66.3376 L2143.98 66.3376 L2143.98 72.576 L2136.33 72.576 Q2127.7 72.576 2124.42 69.3758 Q2121.14 66.1351 2121.14 57.6282 L2121.14 32.9987 L2115.67 32.9987 L2115.67 27.2059 L2121.14 27.2059 L2121.14 14.324 L2128.63 14.324 Z\" fill=\"#000000\" fill-rule=\"nonzero\" fill-opacity=\"1\" /><path clip-path=\"url(#clip110)\" d=\"M2192.6 48.0275 L2192.6 51.6733 L2158.32 51.6733 Q2158.81 59.3701 2162.94 63.421 Q2167.12 67.4314 2174.53 67.4314 Q2178.82 67.4314 2182.83 66.3781 Q2186.88 65.3249 2190.85 63.2184 L2190.85 70.267 Q2186.84 71.9684 2182.63 72.8596 Q2178.42 73.7508 2174.08 73.7508 Q2163.23 73.7508 2156.87 67.4314 Q2150.55 61.1119 2150.55 50.3365 Q2150.55 39.1965 2156.54 32.6746 Q2162.58 26.1121 2172.79 26.1121 Q2181.94 26.1121 2187.25 32.0264 Q2192.6 37.9003 2192.6 48.0275 M2185.14 45.84 Q2185.06 39.7232 2181.7 36.0774 Q2178.38 32.4315 2172.87 32.4315 Q2166.63 32.4315 2162.86 35.9558 Q2159.14 39.4801 2158.57 45.8805 L2185.14 45.84 Z\" fill=\"#000000\" fill-rule=\"nonzero\" fill-opacity=\"1\" /><path clip-path=\"url(#clip110)\" d=\"M2233.75 28.5427 L2233.75 35.5912 Q2230.59 33.9709 2227.19 33.1607 Q2223.79 32.3505 2220.14 32.3505 Q2214.59 32.3505 2211.8 34.0519 Q2209.04 35.7533 2209.04 39.156 Q2209.04 41.7486 2211.03 43.2475 Q2213.01 44.7058 2219.01 46.0426 L2221.56 46.6097 Q2229.5 48.3111 2232.82 51.4303 Q2236.18 54.509 2236.18 60.0587 Q2236.18 66.3781 2231.16 70.0644 Q2226.18 73.7508 2217.43 73.7508 Q2213.78 73.7508 2209.81 73.0216 Q2205.88 72.3329 2201.51 70.9151 L2201.51 63.2184 Q2205.64 65.3654 2209.65 66.4591 Q2213.66 67.5124 2217.59 67.5124 Q2222.86 67.5124 2225.69 65.73 Q2228.53 63.9071 2228.53 60.6258 Q2228.53 57.5877 2226.46 55.9673 Q2224.44 54.3469 2217.51 52.8481 L2214.92 52.2405 Q2207.99 50.7821 2204.91 47.7845 Q2201.83 44.7463 2201.83 39.4801 Q2201.83 33.0797 2206.37 29.5959 Q2210.91 26.1121 2219.25 26.1121 Q2223.38 26.1121 2227.03 26.7198 Q2230.67 27.3274 2233.75 28.5427 Z\" fill=\"#000000\" fill-rule=\"nonzero\" fill-opacity=\"1\" /><path clip-path=\"url(#clip110)\" d=\"M2255.43 14.324 L2255.43 27.2059 L2270.78 27.2059 L2270.78 32.9987 L2255.43 32.9987 L2255.43 57.6282 Q2255.43 63.1779 2256.92 64.7578 Q2258.46 66.3376 2263.12 66.3376 L2270.78 66.3376 L2270.78 72.576 L2263.12 72.576 Q2254.49 72.576 2251.21 69.3758 Q2247.93 66.1351 2247.93 57.6282 L2247.93 32.9987 L2242.46 32.9987 L2242.46 27.2059 L2247.93 27.2059 L2247.93 14.324 L2255.43 14.324 Z\" fill=\"#000000\" fill-rule=\"nonzero\" fill-opacity=\"1\" /><circle clip-path=\"url(#clip112)\" cx=\"316.418\" cy=\"1366.1\" r=\"14.4\" fill=\"#000000\" fill-rule=\"evenodd\" fill-opacity=\"1\" stroke=\"none\"/>\n",
       "<polyline clip-path=\"url(#clip112)\" style=\"stroke:#000000; stroke-linecap:round; stroke-linejoin:round; stroke-width:4; stroke-opacity:1; fill:none\" points=\"316.418,2211.04 316.418,191.686 \"/>\n",
       "<circle clip-path=\"url(#clip112)\" cx=\"1693.28\" cy=\"1376.84\" r=\"14.4\" fill=\"#000000\" fill-rule=\"evenodd\" fill-opacity=\"1\" stroke=\"none\"/>\n",
       "<polyline clip-path=\"url(#clip112)\" style=\"stroke:#000000; stroke-linecap:round; stroke-linejoin:round; stroke-width:4; stroke-opacity:1; fill:none\" points=\"1693.28,2213.47 1693.28,215.613 \"/>\n",
       "<circle clip-path=\"url(#clip112)\" cx=\"3070.14\" cy=\"1379.42\" r=\"14.4\" fill=\"#000000\" fill-rule=\"evenodd\" fill-opacity=\"1\" stroke=\"none\"/>\n",
       "<polyline clip-path=\"url(#clip112)\" style=\"stroke:#000000; stroke-linecap:round; stroke-linejoin:round; stroke-width:4; stroke-opacity:1; fill:none\" points=\"3070.14,2213.4 3070.14,220.693 \"/>\n",
       "</svg>\n"
      ]
     },
     "metadata": {},
     "output_type": "display_data"
    }
   ],
   "source": [
    "#----------------#\n",
    "#---Results------#\n",
    "#----------------#\n",
    "methods = [\"OLS\", \"OLS with covariates\", \"Double Lasso\"]\n",
    "betas = [b1, b2, b3]\n",
    "ll = [ci1[1], ci2[1], ci3[1]]\n",
    "ul = [ci1[2], ci2[2], ci3[2]]\n",
    "\n",
    "plt = Plots.plot(size=(800, 600), legend=false)\n",
    "for (i, method) in enumerate(methods)\n",
    "    scatter!([i], [betas[i]], label=false, color=\"black\")\n",
    "    plot!([i, i], [betas[i] - ll[i], betas[i] + ul[i]], color=\"black\", label=false)\n",
    "end\n",
    "\n",
    "xticks!(1:length(methods), methods)\n",
    "title!(\"Treatment effect on STI test\")\n",
    "ylabel!(\"Coefficient plots\")\n",
    "display(plt)"
   ]
  },
  {
   "cell_type": "markdown",
   "id": "443df50b-febf-4a4a-8022-32cc4248b667",
   "metadata": {},
   "source": [
    "From all three estimations, linear regressions with covariates yield the lowest standard error (0.0217321) and a point estimate of 0.262343. Point estimates are pretty much similar across methods. "
   ]
  },
  {
   "cell_type": "markdown",
   "id": "0027b52f-749b-4514-9158-7f9f05b32165",
   "metadata": {},
   "source": [
    "# Q3 - Non-Linear Methods DML"
   ]
  },
  {
   "cell_type": "code",
   "execution_count": 13,
   "id": "baf1b0aa-ae22-43d8-863f-6876b6534f17",
   "metadata": {},
   "outputs": [
    {
     "name": "stderr",
     "output_type": "stream",
     "text": [
      "\u001b[32m\u001b[1m   Resolving\u001b[22m\u001b[39m package versions...\n",
      "\u001b[32m\u001b[1m  No Changes\u001b[22m\u001b[39m to `C:\\Users\\ALBERTO TRELLES\\.julia\\environments\\v1.10\\Project.toml`\n",
      "\u001b[32m\u001b[1m  No Changes\u001b[22m\u001b[39m to `C:\\Users\\ALBERTO TRELLES\\.julia\\environments\\v1.10\\Manifest.toml`\n",
      "\u001b[32m\u001b[1m   Resolving\u001b[22m\u001b[39m package versions...\n",
      "\u001b[32m\u001b[1m  No Changes\u001b[22m\u001b[39m to `C:\\Users\\ALBERTO TRELLES\\.julia\\environments\\v1.10\\Project.toml`\n",
      "\u001b[32m\u001b[1m  No Changes\u001b[22m\u001b[39m to `C:\\Users\\ALBERTO TRELLES\\.julia\\environments\\v1.10\\Manifest.toml`\n",
      "\u001b[32m\u001b[1m   Resolving\u001b[22m\u001b[39m package versions...\n",
      "\u001b[32m\u001b[1m  No Changes\u001b[22m\u001b[39m to `C:\\Users\\ALBERTO TRELLES\\.julia\\environments\\v1.10\\Project.toml`\n",
      "\u001b[32m\u001b[1m  No Changes\u001b[22m\u001b[39m to `C:\\Users\\ALBERTO TRELLES\\.julia\\environments\\v1.10\\Manifest.toml`\n",
      "\u001b[32m\u001b[1m   Resolving\u001b[22m\u001b[39m package versions...\n",
      "\u001b[32m\u001b[1m  No Changes\u001b[22m\u001b[39m to `C:\\Users\\ALBERTO TRELLES\\.julia\\environments\\v1.10\\Project.toml`\n",
      "\u001b[32m\u001b[1m  No Changes\u001b[22m\u001b[39m to `C:\\Users\\ALBERTO TRELLES\\.julia\\environments\\v1.10\\Manifest.toml`\n",
      "\u001b[32m\u001b[1m   Resolving\u001b[22m\u001b[39m package versions...\n",
      "\u001b[32m\u001b[1m  No Changes\u001b[22m\u001b[39m to `C:\\Users\\ALBERTO TRELLES\\.julia\\environments\\v1.10\\Project.toml`\n",
      "\u001b[32m\u001b[1m  No Changes\u001b[22m\u001b[39m to `C:\\Users\\ALBERTO TRELLES\\.julia\\environments\\v1.10\\Manifest.toml`\n",
      "\u001b[32m\u001b[1m   Resolving\u001b[22m\u001b[39m package versions...\n",
      "\u001b[32m\u001b[1m  No Changes\u001b[22m\u001b[39m to `C:\\Users\\ALBERTO TRELLES\\.julia\\environments\\v1.10\\Project.toml`\n",
      "\u001b[32m\u001b[1m  No Changes\u001b[22m\u001b[39m to `C:\\Users\\ALBERTO TRELLES\\.julia\\environments\\v1.10\\Manifest.toml`\n",
      "\u001b[32m\u001b[1m   Resolving\u001b[22m\u001b[39m package versions...\n",
      "\u001b[32m\u001b[1m  No Changes\u001b[22m\u001b[39m to `C:\\Users\\ALBERTO TRELLES\\.julia\\environments\\v1.10\\Project.toml`\n",
      "\u001b[32m\u001b[1m  No Changes\u001b[22m\u001b[39m to `C:\\Users\\ALBERTO TRELLES\\.julia\\environments\\v1.10\\Manifest.toml`\n",
      "\u001b[32m\u001b[1m   Resolving\u001b[22m\u001b[39m package versions...\n",
      "\u001b[32m\u001b[1m  No Changes\u001b[22m\u001b[39m to `C:\\Users\\ALBERTO TRELLES\\.julia\\environments\\v1.10\\Project.toml`\n",
      "\u001b[32m\u001b[1m  No Changes\u001b[22m\u001b[39m to `C:\\Users\\ALBERTO TRELLES\\.julia\\environments\\v1.10\\Manifest.toml`\n"
     ]
    },
    {
     "ename": "LoadError",
     "evalue": "ArgumentError: Package FixedEffectsModels not found in current path.\n- Run `import Pkg; Pkg.add(\"FixedEffectsModels\")` to install the FixedEffectsModels package.",
     "output_type": "error",
     "traceback": [
      "ArgumentError: Package FixedEffectsModels not found in current path.\n- Run `import Pkg; Pkg.add(\"FixedEffectsModels\")` to install the FixedEffectsModels package.",
      "",
      "Stacktrace:",
      " [1] macro expansion",
      "   @ .\\loading.jl:1772 [inlined]",
      " [2] macro expansion",
      "   @ .\\lock.jl:267 [inlined]",
      " [3] __require(into::Module, mod::Symbol)",
      "   @ Base .\\loading.jl:1753",
      " [4] #invoke_in_world#3",
      "   @ .\\essentials.jl:926 [inlined]",
      " [5] invoke_in_world",
      "   @ .\\essentials.jl:923 [inlined]",
      " [6] require(into::Module, mod::Symbol)",
      "   @ Base .\\loading.jl:1746"
     ]
    }
   ],
   "source": [
    "import Pkg\n",
    "Pkg.add(\"GR\")\n",
    "Pkg.add(\"MLDataUtils\")\n",
    "Pkg.add(\"FixedEffectModels\")\n",
    "Pkg.add(\"DecisionTree\")\n",
    "Pkg.add(\"StatsBase\")\n",
    "Pkg.add(\"MLBase\")\n",
    "Pkg.add(\"Random\")\n",
    "Pkg.add(\"GLMNet\")\n",
    "\n",
    "using GR\n",
    "using MLDataUtils\n",
    "using FixedEffectsModels\n",
    "using DecisionTree\n",
    "using StatsBase\n",
    "using MLBase\n",
    "using Random\n",
    "using GLMNet"
   ]
  },
  {
   "cell_type": "markdown",
   "id": "f423f115-77c3-437b-b433-ba7c15243338",
   "metadata": {},
   "source": [
    "Defining poly function"
   ]
  },
  {
   "cell_type": "code",
   "execution_count": 15,
   "id": "f8274748-bf68-4020-ab5c-ce3acfbe497e",
   "metadata": {},
   "outputs": [],
   "source": [
    "# We define the `poly` function as provided by the documentation of the `StatsModels` package:\n",
    "# syntax: best practice to define a _new_ function\n",
    "poly(x, n) = x^n\n",
    "\n",
    "# type of model where syntax applies: here this applies to any model type\n",
    "const POLY_CONTEXT = Any\n",
    "\n",
    "# struct for behavior\n",
    "struct PolyTerm{T,D} <: AbstractTerm\n",
    "    term::T\n",
    "    deg::D\n",
    "end\n",
    "\n",
    "Base.show(io::IO, p::PolyTerm) = print(io, \"poly($(p.term), $(p.deg))\")\n",
    "\n",
    "# for `poly` use at run-time (outside @formula), return a schema-less PolyTerm\n",
    "poly(t::Symbol, d::Int) = PolyTerm(term(t), term(d))\n",
    "\n",
    "# for `poly` use inside @formula: create a schemaless PolyTerm and apply_schema\n",
    "function StatsModels.apply_schema(t::FunctionTerm{typeof(poly)},\n",
    "                                  sch::StatsModels.Schema,\n",
    "                                  Mod::Type{<:POLY_CONTEXT})\n",
    "    apply_schema(PolyTerm(t.args_parsed...), sch, Mod)\n",
    "end\n",
    "\n",
    "# apply_schema to internal Terms and check for proper types\n",
    "function StatsModels.apply_schema(t::PolyTerm,\n",
    "                                  sch::StatsModels.Schema,\n",
    "                                  Mod::Type{<:POLY_CONTEXT})\n",
    "    term = apply_schema(t.term, sch, Mod)\n",
    "    isa(term, ContinuousTerm) ||\n",
    "        throw(ArgumentError(\"PolyTerm only works with continuous terms (got $term)\"))\n",
    "    isa(t.deg, ConstantTerm) ||\n",
    "        throw(ArgumentError(\"PolyTerm degree must be a number (got $t.deg)\"))\n",
    "    PolyTerm(term, t.deg.n)\n",
    "end\n",
    "\n",
    "function StatsModels.modelcols(p::PolyTerm, d::NamedTuple)\n",
    "    col = modelcols(p.term, d)\n",
    "    reduce(hcat, [col.^n for n in 1:p.deg])\n",
    "end\n",
    "\n",
    "# the basic terms contained within a PolyTerm (for schema extraction)\n",
    "StatsModels.terms(p::PolyTerm) = terms(p.term)\n",
    "# names variables from the data that a PolyTerm relies on\n",
    "StatsModels.termvars(p::PolyTerm) = StatsModels.termvars(p.term)\n",
    "# number of columns in the matrix this term produces\n",
    "StatsModels.width(p::PolyTerm) = p.deg\n",
    "\n",
    "StatsBase.coefnames(p::PolyTerm) = coefnames(p.term) .* \"^\" .* string.(1:p.deg)\n",
    "\n",
    "# output"
   ]
  },
  {
   "cell_type": "code",
   "execution_count": 16,
   "id": "f26f633c-f084-4578-a153-d278d10c9440",
   "metadata": {},
   "outputs": [
    {
     "data": {
      "text/plain": [
       "11"
      ]
     },
     "execution_count": 16,
     "metadata": {},
     "output_type": "execute_result"
    }
   ],
   "source": [
    "#Constructing the Data\n",
    "\n",
    "#formula_flex = @formula(net_tfa ~ e401 + poly(age, 6) + poly(inc, 8) + poly(educ, 4) + poly(fsize, 2) + marr + twoearn + db + pira + hown);\n",
    "formula_flex = @formula(y ~ w + gender_male + ethnicgrp_white + partners1 + poly(age, 6) + poly(imd_decile, 2));\n",
    "formula_flex = apply_schema(formula_flex, schema(data));\n",
    "y, x = modelcols(formula_flex, data);\n",
    "y = Float64.(y)\n",
    "d = x[:, 1];\n",
    "x = x[:, Not(1)];\n",
    "size(x, 2)"
   ]
  },
  {
   "cell_type": "markdown",
   "id": "edbf3393-4196-4b72-84fb-428f63b9f107",
   "metadata": {},
   "source": [
    "#### (3.1) DML - Lasso"
   ]
  },
  {
   "cell_type": "code",
   "execution_count": 17,
   "id": "72f88c96-4edb-4441-9a02-403e0d38eaa4",
   "metadata": {},
   "outputs": [
    {
     "name": "stderr",
     "output_type": "stream",
     "text": [
      "WARNING: using GLMNet.predict in module Main conflicts with an existing identifier.\n",
      "WARNING: using GLMNet.coef in module Main conflicts with an existing identifier.\n"
     ]
    },
    {
     "data": {
      "text/plain": [
       "DML2_for_PLM (generic function with 1 method)"
      ]
     },
     "execution_count": 17,
     "metadata": {},
     "output_type": "execute_result"
    }
   ],
   "source": [
    "using MLDataUtils, MLBase, Random, FixedEffectModels, GLMNet\n",
    "function DML2_for_PLM(x , d , y, dreg , yreg , nfold)\n",
    "    \n",
    "    # Num ob observations\n",
    "    nobser = size(x,1)\n",
    "    \n",
    "    # Define folds indices \n",
    "    foldid = collect(Kfold(size(x)[1], nfold))\n",
    "    \n",
    "    # Create array to save errors \n",
    "    ytil = ones(nobser)\n",
    "    dtil = ones(nobser)\n",
    "    \n",
    "    dl = convert(Matrix{Float64}, [(d .< 0.5) (d .>= 0.5)])\n",
    "    \n",
    "    # loop to save results\n",
    "    for i in 1:nfold\n",
    "        \n",
    "        # Lasso regression, excluding folds selected \n",
    "        dfit = dreg(x[foldid[i],:], dl[foldid[i], :])\n",
    "        yfit = yreg(x[foldid[i],:], y[foldid[i]])\n",
    "        \n",
    "        # Predict estimates using the \n",
    "        dhat = GLMNet.predict(dfit, x[Not(foldid[i]),:], outtype = :prob)\n",
    "        yhat = GLMNet.predict(yfit, x[Not(foldid[i]),:])\n",
    "        \n",
    "        # Save errors \n",
    "        dtil[Not(foldid[i])] = (d[Not(foldid[i])] - dhat)\n",
    "        ytil[Not(foldid[i])] = (y[Not(foldid[i])] - yhat)\n",
    "    end\n",
    "    \n",
    "    # Create dataframe \n",
    "    data = DataFrame(ytil = ytil, dtil = dtil)\n",
    "    \n",
    "    # OLS clustering at the County level\n",
    "    rfit = fit(LinearModel, reshape(dtil, nobser, 1), ytil)\n",
    "    # coef_est = coef(rfit)[2]\n",
    "    # se = FixedEffectModels.coeftable(rfit).cols[2][2]\n",
    "\n",
    "    # println(\" coef (se) = \", coef_est ,\"(\",se,\")\")\n",
    "    \n",
    "    return rfit, data;\n",
    "    \n",
    "end"
   ]
  },
  {
   "cell_type": "code",
   "execution_count": 18,
   "id": "1c35b501-d835-4e36-b91d-d46955bae2a7",
   "metadata": {},
   "outputs": [
    {
     "data": {
      "text/plain": [
       "LinearModel{GLM.LmResp{Vector{Float64}}, GLM.DensePredChol{Float64, CholeskyPivoted{Float64, Matrix{Float64}, Vector{Int64}}}}:\n",
       "\n",
       "Coefficients:\n",
       "───────────────────────────────────────────────────────────────\n",
       "       Coef.  Std. Error      t  Pr(>|t|)  Lower 95%  Upper 95%\n",
       "───────────────────────────────────────────────────────────────\n",
       "x1  0.263103   0.0217198  12.11    <1e-31   0.220504   0.305703\n",
       "───────────────────────────────────────────────────────────────\n"
      ]
     },
     "execution_count": 18,
     "metadata": {},
     "output_type": "execute_result"
    }
   ],
   "source": [
    "Random.seed!(123)\n",
    "dreg(x,d) = glmnetcv(x, d, nfolds = 5, Binomial())\n",
    "yreg(x,y) = glmnetcv(x, y, nfolds = 5)\n",
    "lasso_fit, lasso_data = DML2_for_PLM(x, d, y, dreg, yreg, 3);\n",
    "lasso_fit"
   ]
  },
  {
   "cell_type": "markdown",
   "id": "4cbaf92a-ec14-4f53-8194-3bdcd0c488be",
   "metadata": {},
   "source": [
    "Interpretation: those in the treatment group had their probability of taking a STI test increase by 0.263pp. This effect is significant at the 99% confidence level. "
   ]
  },
  {
   "cell_type": "code",
   "execution_count": 19,
   "id": "28fa7037-e7b4-4ee1-af66-18403411701a",
   "metadata": {},
   "outputs": [
    {
     "name": "stdout",
     "output_type": "stream",
     "text": [
      "0.4992469547490762\n"
     ]
    },
    {
     "data": {
      "text/plain": [
       "0.4703852788959172"
      ]
     },
     "execution_count": 19,
     "metadata": {},
     "output_type": "execute_result"
    }
   ],
   "source": [
    "# cross-fitted RMSE: outcome\n",
    "lasso_y_rmse = sqrt(mean((lasso_data[!, 1] .- StatsBase.coef(lasso_fit)[1] * lasso_data[!, 2]) .^ 2))\n",
    "\n",
    "# cross-fitted RMSE: treatment\n",
    "lasso_d_rmse = sqrt(mean(lasso_data[!, 2] .^ 2));\n",
    "println(lasso_d_rmse)\n",
    "\n",
    "# cross-fitted ce: treatment\n",
    "mean(ifelse.(d .- lasso_data[!, 2] .> 0.5, 1, 0) .!= d)"
   ]
  },
  {
   "cell_type": "markdown",
   "id": "564a2eaa-e451-4d64-ad34-8d7cd07bb121",
   "metadata": {},
   "source": [
    "#### (3.2) DML - Regression Trees"
   ]
  },
  {
   "cell_type": "code",
   "execution_count": 20,
   "id": "46ddb6fc-3bc7-4128-b9ee-dd624d3b9a4e",
   "metadata": {},
   "outputs": [
    {
     "name": "stderr",
     "output_type": "stream",
     "text": [
      "WARNING: using DecisionTree.predict in module Main conflicts with an existing identifier.\n"
     ]
    },
    {
     "data": {
      "text/plain": [
       "DML2_Tree (generic function with 1 method)"
      ]
     },
     "execution_count": 20,
     "metadata": {},
     "output_type": "execute_result"
    }
   ],
   "source": [
    "using DecisionTree\n",
    "function DML2_Tree(z , d , y, dreg , yreg , nfold)\n",
    "    \n",
    "    # Num ob observations\n",
    "    nobser = size(z,1)\n",
    "    \n",
    "    # Define folds indices\n",
    "    foldid = collect(Kfold(size(z)[1], nfold))\n",
    "    \n",
    "    # Create array to save errors \n",
    "    ytil = ones(nobser)\n",
    "    dtil = ones(nobser)\n",
    "    \n",
    "    # loop to save results\n",
    "    for i in 1:nfold\n",
    "        dfit = dreg(z[foldid[i],:], d[foldid[i]])\n",
    "        yfit = yreg(z[foldid[i],:], y[foldid[i]])\n",
    "        dhat = apply_tree(dfit,z[Not(foldid[i]),:])\n",
    "        yhat = apply_tree(yfit,z[Not(foldid[i]),:])\n",
    "        dtil[Not(foldid[i])]   = (d[Not(foldid[i])] - dhat)\n",
    "        ytil[Not(foldid[i])]   = (y[Not(foldid[i])] - yhat)\n",
    "    end\n",
    "    \n",
    "    # Create dataframe \n",
    "    data = DataFrame(ytil = ytil, dtil = dtil)\n",
    "    \n",
    "    # OLS clustering at the County level\n",
    "    rfit = fit(LinearModel, reshape(dtil, nobser, 1), ytil)\n",
    "    # coef_est = coef(rfit)[1]\n",
    "    # se = FixedEffectModels.coeftable(rfit).cols[2]\n",
    "\n",
    "    # println(\" coef (se) = \", coef_est ,\"(\",se,\")\")\n",
    "    \n",
    "    return rfit, data;\n",
    "    \n",
    "end"
   ]
  },
  {
   "cell_type": "code",
   "execution_count": 21,
   "id": "f184e029-97df-479e-8b2e-b3c57e64e804",
   "metadata": {},
   "outputs": [
    {
     "data": {
      "text/plain": [
       "LinearModel{GLM.LmResp{Vector{Float64}}, GLM.DensePredChol{Float64, CholeskyPivoted{Float64, Matrix{Float64}, Vector{Int64}}}}:\n",
       "\n",
       "Coefficients:\n",
       "──────────────────────────────────────────────────────────────\n",
       "       Coef.  Std. Error     t  Pr(>|t|)  Lower 95%  Upper 95%\n",
       "──────────────────────────────────────────────────────────────\n",
       "x1  0.140561   0.0163659  8.59    <1e-16   0.108462    0.17266\n",
       "──────────────────────────────────────────────────────────────\n"
      ]
     },
     "execution_count": 21,
     "metadata": {},
     "output_type": "execute_result"
    }
   ],
   "source": [
    "Random.seed!(123)\n",
    "\n",
    "dreg(x, d) = build_tree(d, x, 0, 30, 7, 20, 0.01)\n",
    "yreg(x, y) = build_tree(y, x, 0, 30, 7, 20, 0.01)\n",
    "\n",
    "tree_fit, tree_data = DML2_Tree(x, d, y, dreg, yreg, 3);\n",
    "tree_fit"
   ]
  },
  {
   "cell_type": "markdown",
   "id": "d4f6cc50-87ad-4ce6-9c24-3d111e6b3447",
   "metadata": {},
   "source": [
    "Interpretation: those in the treatment group had their probability of taking a STI test increase by 0.141pp. This effect is significant at the 99% confidence level. "
   ]
  },
  {
   "cell_type": "code",
   "execution_count": 22,
   "id": "8612e357-4a67-40d0-a8fb-adab8ddd1cd4",
   "metadata": {},
   "outputs": [
    {
     "name": "stdout",
     "output_type": "stream",
     "text": [
      "0.46794092935138426\n",
      "0.6858463959925117\n"
     ]
    },
    {
     "data": {
      "text/plain": [
       "0.4703852788959172"
      ]
     },
     "execution_count": 22,
     "metadata": {},
     "output_type": "execute_result"
    }
   ],
   "source": [
    "tree_y_rmse = sqrt(mean((tree_data[!, 1] .- StatsBase.coef(tree_fit)[1] * tree_data[!, 2]) .^ 2))\n",
    "tree_d_rmse = sqrt(mean(tree_data[!, 2] .^ 2))\n",
    "\n",
    "println(tree_y_rmse)\n",
    "println(tree_d_rmse)\n",
    "mean(ifelse.(d .- tree_data[!, 2] .> 0.5, 1, 0) .!= d)"
   ]
  },
  {
   "cell_type": "markdown",
   "id": "cc689d98-793b-4cf1-8156-5e2d36886e54",
   "metadata": {},
   "source": [
    "#### (3.3) Boosting Trees"
   ]
  },
  {
   "cell_type": "code",
   "execution_count": 23,
   "id": "da5e3fb1-104f-4fd7-b7d5-fa380ddc971d",
   "metadata": {},
   "outputs": [
    {
     "name": "stderr",
     "output_type": "stream",
     "text": [
      "\u001b[32m\u001b[1m   Resolving\u001b[22m\u001b[39m package versions...\n",
      "\u001b[32m\u001b[1m  No Changes\u001b[22m\u001b[39m to `C:\\Users\\ALBERTO TRELLES\\.julia\\environments\\v1.10\\Project.toml`\n",
      "\u001b[32m\u001b[1m  No Changes\u001b[22m\u001b[39m to `C:\\Users\\ALBERTO TRELLES\\.julia\\environments\\v1.10\\Manifest.toml`\n",
      "WARNING: using XGBoost.predict in module Main conflicts with an existing identifier.\n"
     ]
    },
    {
     "data": {
      "text/plain": [
       "DML2_Boost (generic function with 1 method)"
      ]
     },
     "execution_count": 23,
     "metadata": {},
     "output_type": "execute_result"
    }
   ],
   "source": [
    "import Pkg\n",
    "Pkg.add(\"XGBoost\")\n",
    "using XGBoost\n",
    "\n",
    "function DML2_Boost(z , d , y, dreg , yreg , nfold)\n",
    "    \n",
    "    # Num ob observations\n",
    "    nobser = size(z,1)\n",
    "    \n",
    "    # Define folds indices\n",
    "    foldid = collect(Kfold(size(z)[1], nfold))\n",
    "    \n",
    "    # Create array to save errors \n",
    "    ytil = ones(nobser)\n",
    "    dtil = ones(nobser)\n",
    "    \n",
    "    # loop to save results\n",
    "    for i in 1:nfold\n",
    "        dfit = dreg(z[foldid[i], :], d[foldid[i]])\n",
    "        yfit = yreg(z[foldid[i], :], y[foldid[i]])\n",
    "        dhat = XGBoost.predict(dfit, z[Not(foldid[i]), :])\n",
    "        yhat = XGBoost.predict(yfit, z[Not(foldid[i]), :])\n",
    "        dtil[Not(foldid[i])]   = (d[Not(foldid[i])] - dhat)\n",
    "        ytil[Not(foldid[i])]   = (y[Not(foldid[i])] - yhat)\n",
    "    end\n",
    "    \n",
    "    # Create dataframe \n",
    "    data = DataFrame(ytil = ytil, dtil = dtil)\n",
    "    \n",
    "    # OLS clustering at the County level\n",
    "    rfit = fit(LinearModel, reshape(dtil, nobser, 1), ytil)\n",
    "    # coef_est = coef(rfit)[1]\n",
    "    # se = FixedEffectModels.coeftable(rfit).cols[2]\n",
    "\n",
    "    # println(\" coef (se) = \", coef_est ,\"(\",se,\")\")\n",
    "    \n",
    "    return rfit, data;\n",
    "    \n",
    "end"
   ]
  },
  {
   "cell_type": "code",
   "execution_count": 25,
   "id": "d4bee13e-6cdf-4dd8-a6d9-87b518bd7c54",
   "metadata": {},
   "outputs": [
    {
     "name": "stderr",
     "output_type": "stream",
     "text": [
      "\u001b[36m\u001b[1m[ \u001b[22m\u001b[39m\u001b[36m\u001b[1mInfo: \u001b[22m\u001b[39mXGBoost: starting training.\n",
      "\u001b[33m\u001b[1m┌ \u001b[22m\u001b[39m\u001b[33m\u001b[1mWarning: \u001b[22m\u001b[39m[22:40:09] WARNING: /workspace/srcdir/xgboost/src/learner.cc:742: \n",
      "\u001b[33m\u001b[1m│ \u001b[22m\u001b[39mParameters: { \"label\" } are not used.\n",
      "\u001b[33m\u001b[1m└ \u001b[22m\u001b[39m\u001b[90m@ XGBoost C:\\Users\\ALBERTO TRELLES\\.julia\\packages\\XGBoost\\nqMqQ\\src\\XGBoost.jl:34\u001b[39m\n"
     ]
    },
    {
     "ename": "LoadError",
     "evalue": "MethodError: no method matching updateone!(::Booster, ::DMatrix, ::Int64; round_number::Int64, watchlist::Dict{String, DMatrix})\n\n\u001b[0mClosest candidates are:\n\u001b[0m  updateone!(::Booster, ::DMatrix, ::Any, \u001b[91m::Any\u001b[39m; kw...)\n\u001b[0m\u001b[90m   @\u001b[39m \u001b[35mXGBoost\u001b[39m \u001b[90mC:\\Users\\ALBERTO TRELLES\\.julia\\packages\\XGBoost\\nqMqQ\\src\\\u001b[39m\u001b[90m\u001b[4mbooster.jl:408\u001b[24m\u001b[39m\n\u001b[0m  updateone!(::Booster, ::Any, ::Any, \u001b[91m::Any\u001b[39m; kw...)\n\u001b[0m\u001b[90m   @\u001b[39m \u001b[35mXGBoost\u001b[39m \u001b[90mC:\\Users\\ALBERTO TRELLES\\.julia\\packages\\XGBoost\\nqMqQ\\src\\\u001b[39m\u001b[90m\u001b[4mbooster.jl:415\u001b[24m\u001b[39m\n\u001b[0m  updateone!(::Booster, ::DMatrix; round_number, watchlist, update_feature_names)\n\u001b[0m\u001b[90m   @\u001b[39m \u001b[35mXGBoost\u001b[39m \u001b[90mC:\\Users\\ALBERTO TRELLES\\.julia\\packages\\XGBoost\\nqMqQ\\src\\\u001b[39m\u001b[90m\u001b[4mbooster.jl:369\u001b[24m\u001b[39m\n\u001b[0m  ...\n",
     "output_type": "error",
     "traceback": [
      "MethodError: no method matching updateone!(::Booster, ::DMatrix, ::Int64; round_number::Int64, watchlist::Dict{String, DMatrix})\n\n\u001b[0mClosest candidates are:\n\u001b[0m  updateone!(::Booster, ::DMatrix, ::Any, \u001b[91m::Any\u001b[39m; kw...)\n\u001b[0m\u001b[90m   @\u001b[39m \u001b[35mXGBoost\u001b[39m \u001b[90mC:\\Users\\ALBERTO TRELLES\\.julia\\packages\\XGBoost\\nqMqQ\\src\\\u001b[39m\u001b[90m\u001b[4mbooster.jl:408\u001b[24m\u001b[39m\n\u001b[0m  updateone!(::Booster, ::Any, ::Any, \u001b[91m::Any\u001b[39m; kw...)\n\u001b[0m\u001b[90m   @\u001b[39m \u001b[35mXGBoost\u001b[39m \u001b[90mC:\\Users\\ALBERTO TRELLES\\.julia\\packages\\XGBoost\\nqMqQ\\src\\\u001b[39m\u001b[90m\u001b[4mbooster.jl:415\u001b[24m\u001b[39m\n\u001b[0m  updateone!(::Booster, ::DMatrix; round_number, watchlist, update_feature_names)\n\u001b[0m\u001b[90m   @\u001b[39m \u001b[35mXGBoost\u001b[39m \u001b[90mC:\\Users\\ALBERTO TRELLES\\.julia\\packages\\XGBoost\\nqMqQ\\src\\\u001b[39m\u001b[90m\u001b[4mbooster.jl:369\u001b[24m\u001b[39m\n\u001b[0m  ...\n",
      "",
      "Stacktrace:",
      " [1] update!(b::Booster, data::DMatrix, a::Int64; num_round::Int64, watchlist::Dict{String, DMatrix}, early_stopping_rounds::Int64, maximize::Bool, kw::@Kwargs{})",
      "   @ XGBoost C:\\Users\\ALBERTO TRELLES\\.julia\\packages\\XGBoost\\nqMqQ\\src\\booster.jl:446",
      " [2] update!",
      "   @ C:\\Users\\ALBERTO TRELLES\\.julia\\packages\\XGBoost\\nqMqQ\\src\\booster.jl:429 [inlined]",
      " [3] xgboost(dm::DMatrix, a::Int64; num_round::Int64, watchlist::Dict{String, DMatrix}, early_stopping_rounds::Int64, maximize::Bool, kw::@Kwargs{label::Vector{Int64}, objective::String, eval_metric::String})",
      "   @ XGBoost C:\\Users\\ALBERTO TRELLES\\.julia\\packages\\XGBoost\\nqMqQ\\src\\booster.jl:602",
      " [4] xgboost",
      "   @ C:\\Users\\ALBERTO TRELLES\\.julia\\packages\\XGBoost\\nqMqQ\\src\\booster.jl:579 [inlined]",
      " [5] xgboost(data::Matrix{Int64}, a::Int64; kw::@Kwargs{label::Vector{Int64}, objective::String, eval_metric::String})",
      "   @ XGBoost C:\\Users\\ALBERTO TRELLES\\.julia\\packages\\XGBoost\\nqMqQ\\src\\booster.jl:607",
      " [6] xgboost",
      "   @ C:\\Users\\ALBERTO TRELLES\\.julia\\packages\\XGBoost\\nqMqQ\\src\\booster.jl:607 [inlined]",
      " [7] dreg(x::Matrix{Int64}, d::Vector{Int64})",
      "   @ Main .\\In[25]:3",
      " [8] DML2_Boost(z::Matrix{Int64}, d::Vector{Int64}, y::Vector{Float64}, dreg::typeof(dreg), yreg::typeof(yreg), nfold::Int64)",
      "   @ Main .\\In[23]:19",
      " [9] top-level scope",
      "   @ In[25]:4"
     ]
    }
   ],
   "source": [
    "Random.seed!(123)\n",
    "\n",
    "dreg(x, d) = xgboost(x, 5, label = d, objective = \"binary:logistic\", eval_metric = \"logloss\");\n",
    "yreg(x, y) = xgboost(x, 5, label = y);\n",
    "\n",
    "boost_fit, boost_data = DML2_Boost(x, d, y, dreg, yreg, 3);\n",
    "#boost_fit"
   ]
  },
  {
   "cell_type": "code",
   "execution_count": 26,
   "id": "40e759d4-d007-4e1b-89ea-eb52ba7c62c2",
   "metadata": {},
   "outputs": [
    {
     "ename": "LoadError",
     "evalue": "UndefVarError: `boost_data` not defined",
     "output_type": "error",
     "traceback": [
      "UndefVarError: `boost_data` not defined",
      "",
      "Stacktrace:",
      " [1] top-level scope",
      "   @ In[26]:1"
     ]
    }
   ],
   "source": [
    "boost_y_rmse = sqrt(mean((boost_data[!, 1] .- StatsBase.coef(boost_fit)[1] * boost_data[!, 2]) .^ 2))\n",
    "boost_d_rmse = sqrt(mean(boost_data[!, 2] .^ 2))\n",
    "\n",
    "println(boost_y_rmse)\n",
    "\n",
    "println(boost_d_rmse)\n",
    "\n",
    "mean(ifelse.(d .- boost_data[!, 2] .> 0.5, 1, 0) .!= d)"
   ]
  },
  {
   "cell_type": "markdown",
   "id": "6557b245-2b3a-4f1d-ba56-41e3b2fd9709",
   "metadata": {},
   "source": [
    "We couldn't run boosted trees"
   ]
  },
  {
   "cell_type": "markdown",
   "id": "4d7c13b1-1a81-4aab-b2e5-71efc0898cfb",
   "metadata": {},
   "source": [
    "#### (3.4) DML - Random Forest"
   ]
  },
  {
   "cell_type": "code",
   "execution_count": 27,
   "id": "42314568-5a4c-49b0-8e7a-9a0edf645dfd",
   "metadata": {},
   "outputs": [
    {
     "data": {
      "text/plain": [
       "DML2_RF (generic function with 1 method)"
      ]
     },
     "execution_count": 27,
     "metadata": {},
     "output_type": "execute_result"
    }
   ],
   "source": [
    "using DecisionTree\n",
    "function DML2_RF(z , d , y, dreg , yreg , nfold)\n",
    "    \n",
    "    # Num ob observations\n",
    "    nobser = size(z,1)\n",
    "    \n",
    "    # Define folds indices\n",
    "    foldid = collect(Kfold(size(z)[1], nfold))\n",
    "    \n",
    "    # Create array to save errors \n",
    "    ytil = ones(nobser)\n",
    "    dtil = ones(nobser)\n",
    "    \n",
    "    # loop to save results\n",
    "    for i in 1:nfold\n",
    "        dfit = dreg(z[foldid[i],:], d[foldid[i]])\n",
    "        yfit = yreg(z[foldid[i],:], y[foldid[i]])\n",
    "        dhat = apply_forest(dfit,z[Not(foldid[i]),:])\n",
    "        yhat = apply_forest(yfit,z[Not(foldid[i]),:])\n",
    "        dtil[Not(foldid[i])]   = (d[Not(foldid[i])] - dhat)\n",
    "        ytil[Not(foldid[i])]   = (y[Not(foldid[i])] - yhat)\n",
    "    end\n",
    "    \n",
    "    # Create dataframe \n",
    "    data = DataFrame(ytil = ytil, dtil = dtil)\n",
    "    \n",
    "    # OLS clustering at the County level\n",
    "    # rfit = reg(data, @formula(ytil ~ dtil))\n",
    "    rfit = fit(LinearModel, reshape(dtil, nobser, 1), ytil)\n",
    "    # coef_est = coef(rfit)[1]\n",
    "    # se = FixedEffectModels.coeftable(rfit).cols[2]\n",
    "\n",
    "    # println(\" coef (se) = \", coef_est ,\"(\",se,\")\")\n",
    "    \n",
    "    return rfit, data;\n",
    "    \n",
    "end"
   ]
  },
  {
   "cell_type": "code",
   "execution_count": 28,
   "id": "f3650429-56b1-4935-8bea-c6fdd7030516",
   "metadata": {},
   "outputs": [
    {
     "data": {
      "text/plain": [
       "3-element Vector{Any}:\n",
       " [1, 3, 7, 8, 9, 10, 11, 12, 13, 15  …  1722, 1725, 1726, 1728, 1729, 1730, 1733, 1734, 1735, 1738]\n",
       " [1, 2, 3, 4, 5, 6, 10, 12, 14, 15  …  1727, 1728, 1730, 1731, 1732, 1733, 1736, 1737, 1738, 1739]\n",
       " [2, 4, 5, 6, 7, 8, 9, 11, 13, 14  …  1726, 1727, 1729, 1731, 1732, 1734, 1735, 1736, 1737, 1739]"
      ]
     },
     "execution_count": 28,
     "metadata": {},
     "output_type": "execute_result"
    }
   ],
   "source": [
    "foldid = collect(Kfold(size(x)[1], 3))"
   ]
  },
  {
   "cell_type": "code",
   "execution_count": 29,
   "id": "32a987d2-ef5f-4ace-ab79-3af87687eeb0",
   "metadata": {},
   "outputs": [
    {
     "data": {
      "text/plain": [
       "LinearModel{GLM.LmResp{Vector{Float64}}, GLM.DensePredChol{Float64, CholeskyPivoted{Float64, Matrix{Float64}, Vector{Int64}}}}:\n",
       "\n",
       "Coefficients:\n",
       "──────────────────────────────────────────────────────────────\n",
       "       Coef.  Std. Error     t  Pr(>|t|)  Lower 95%  Upper 95%\n",
       "──────────────────────────────────────────────────────────────\n",
       "x1  0.138326   0.0161728  8.55    <1e-16   0.106606   0.170046\n",
       "──────────────────────────────────────────────────────────────\n"
      ]
     },
     "execution_count": 29,
     "metadata": {},
     "output_type": "execute_result"
    }
   ],
   "source": [
    "Random.seed!(123)\n",
    "\n",
    "dreg(x, d) = build_forest(d, x)\n",
    "yreg(x, y) = build_forest(y, x)\n",
    "\n",
    "rf_fit, rf_data = DML2_RF(x, d, y, dreg, yreg, 3);\n",
    "rf_fit"
   ]
  },
  {
   "cell_type": "markdown",
   "id": "7e62a9b0-ee7b-47f5-bb8b-7024350d2590",
   "metadata": {},
   "source": [
    "Interpretation: those in the treatment group had their probability of taking a STI test increase by 0.138pp. This effect is significant at the 99% confidence level. "
   ]
  },
  {
   "cell_type": "code",
   "execution_count": 30,
   "id": "368ea252-e7f9-41cc-ba99-df1bd184c685",
   "metadata": {},
   "outputs": [
    {
     "name": "stdout",
     "output_type": "stream",
     "text": [
      "0.4685976686946561\n",
      "0.6950080774473623\n"
     ]
    },
    {
     "data": {
      "text/plain": [
       "0.48303622771707877"
      ]
     },
     "execution_count": 30,
     "metadata": {},
     "output_type": "execute_result"
    }
   ],
   "source": [
    "rf_y_rmse = sqrt(mean((rf_data[!, 1] .- StatsBase.coef(rf_fit)[1] * rf_data[!, 2]) .^ 2))\n",
    "rf_d_rmse = sqrt(mean(rf_data[!, 2] .^ 2))\n",
    "\n",
    "println(rf_y_rmse)\n",
    "println(rf_d_rmse)\n",
    "mean(ifelse.(d .- rf_data[!, 2] .> 0.5, 1, 0) .!= d)"
   ]
  },
  {
   "cell_type": "markdown",
   "id": "c1117082-1ffe-4822-82f4-8f2130af4ff7",
   "metadata": {},
   "source": [
    "#### Results"
   ]
  },
  {
   "cell_type": "code",
   "execution_count": 31,
   "id": "d29bf186-13c2-4b58-af81-7755a8fa0d48",
   "metadata": {},
   "outputs": [
    {
     "data": {
      "text/html": [
       "<div><div style = \"float: left;\"><span>4×4 DataFrame</span></div><div style = \"clear: both;\"></div></div><div class = \"data-frame\" style = \"overflow-x: scroll;\"><table class = \"data-frame\" style = \"margin-bottom: 6px;\"><thead><tr class = \"header\"><th class = \"rowNumber\" style = \"font-weight: bold; text-align: right;\">Row</th><th style = \"text-align: left;\">Statistic</th><th style = \"text-align: left;\">Lasso</th><th style = \"text-align: left;\">RF</th><th style = \"text-align: left;\">Trees</th></tr><tr class = \"subheader headerLastRow\"><th class = \"rowNumber\" style = \"font-weight: bold; text-align: right;\"></th><th title = \"String\" style = \"text-align: left;\">String</th><th title = \"Float64\" style = \"text-align: left;\">Float64</th><th title = \"Float64\" style = \"text-align: left;\">Float64</th><th title = \"Float64\" style = \"text-align: left;\">Float64</th></tr></thead><tbody><tr><td class = \"rowNumber\" style = \"font-weight: bold; text-align: right;\">1</td><td style = \"text-align: left;\">Estimate</td><td style = \"text-align: right;\">0.263103</td><td style = \"text-align: right;\">0.138326</td><td style = \"text-align: right;\">0.140561</td></tr><tr><td class = \"rowNumber\" style = \"font-weight: bold; text-align: right;\">2</td><td style = \"text-align: left;\">Std.Error</td><td style = \"text-align: right;\">0.0217198</td><td style = \"text-align: right;\">0.0161728</td><td style = \"text-align: right;\">0.0163659</td></tr><tr><td class = \"rowNumber\" style = \"font-weight: bold; text-align: right;\">3</td><td style = \"text-align: left;\">RMSE Y</td><td style = \"text-align: right;\">0.452059</td><td style = \"text-align: right;\">0.468598</td><td style = \"text-align: right;\">0.467941</td></tr><tr><td class = \"rowNumber\" style = \"font-weight: bold; text-align: right;\">4</td><td style = \"text-align: left;\">RMSE D</td><td style = \"text-align: right;\">0.499247</td><td style = \"text-align: right;\">0.695008</td><td style = \"text-align: right;\">0.685846</td></tr></tbody></table></div>"
      ],
      "text/latex": [
       "\\begin{tabular}{r|cccc}\n",
       "\t& Statistic & Lasso & RF & Trees\\\\\n",
       "\t\\hline\n",
       "\t& String & Float64 & Float64 & Float64\\\\\n",
       "\t\\hline\n",
       "\t1 & Estimate & 0.263103 & 0.138326 & 0.140561 \\\\\n",
       "\t2 & Std.Error & 0.0217198 & 0.0161728 & 0.0163659 \\\\\n",
       "\t3 & RMSE Y & 0.452059 & 0.468598 & 0.467941 \\\\\n",
       "\t4 & RMSE D & 0.499247 & 0.695008 & 0.685846 \\\\\n",
       "\\end{tabular}\n"
      ],
      "text/plain": [
       "\u001b[1m4×4 DataFrame\u001b[0m\n",
       "\u001b[1m Row \u001b[0m│\u001b[1m Statistic \u001b[0m\u001b[1m Lasso     \u001b[0m\u001b[1m RF        \u001b[0m\u001b[1m Trees     \u001b[0m\n",
       "     │\u001b[90m String    \u001b[0m\u001b[90m Float64   \u001b[0m\u001b[90m Float64   \u001b[0m\u001b[90m Float64   \u001b[0m\n",
       "─────┼────────────────────────────────────────────\n",
       "   1 │ Estimate   0.263103   0.138326   0.140561\n",
       "   2 │ Std.Error  0.0217198  0.0161728  0.0163659\n",
       "   3 │ RMSE Y     0.452059   0.468598   0.467941\n",
       "   4 │ RMSE D     0.499247   0.695008   0.685846"
      ]
     },
     "execution_count": 31,
     "metadata": {},
     "output_type": "execute_result"
    }
   ],
   "source": [
    "#DataFrame(Statistic = [\"Estimate\", \"Std.Error\", \"RMSE Y\", \"RMSE D\"], \n",
    "#    Lasso = [StatsBase.coef(lasso_fit)[1], sqrt(vcov(lasso_fit)[1]), lasso_y_rmse, lasso_d_rmse], \n",
    "#    RF = [StatsBase.coef(rf_fit)[1], sqrt(vcov(rf_fit)[1]), rf_y_rmse, rf_d_rmse], \n",
    "#    Trees = [StatsBase.coef(tree_fit)[1], sqrt(vcov(tree_fit)[1]), tree_y_rmse, tree_d_rmse], \n",
    "#    Boosting = [StatsBase.coef(boost_fit)[1], sqrt(vcov(boost_fit)[1]), boost_y_rmse, boost_d_rmse])\n",
    "\n",
    "DataFrame(Statistic = [\"Estimate\", \"Std.Error\", \"RMSE Y\", \"RMSE D\"], \n",
    "    Lasso = [StatsBase.coef(lasso_fit)[1], sqrt(vcov(lasso_fit)[1]), lasso_y_rmse, lasso_d_rmse], \n",
    "    RF = [StatsBase.coef(rf_fit)[1], sqrt(vcov(rf_fit)[1]), rf_y_rmse, rf_d_rmse], \n",
    "    Trees = [StatsBase.coef(tree_fit)[1], sqrt(vcov(tree_fit)[1]), tree_y_rmse, tree_d_rmse])"
   ]
  },
  {
   "cell_type": "markdown",
   "id": "f933c7ec-fe33-481a-ab75-06f4522fc1d6",
   "metadata": {},
   "source": [
    "Eventhough the standard error isn't the lowest, we choose Lasso as the RMSE is the lowest when it comes to learning Y on X and D on X. "
   ]
  },
  {
   "cell_type": "markdown",
   "id": "216a3ace-8620-412e-ae49-c0aa22a196d0",
   "metadata": {},
   "source": [
    "#### Plots"
   ]
  },
  {
   "cell_type": "code",
   "execution_count": 48,
   "id": "bb465eec-268b-4f5e-87ee-6f2d69e2d7d2",
   "metadata": {},
   "outputs": [
    {
     "name": "stderr",
     "output_type": "stream",
     "text": [
      "\u001b[32m\u001b[1m   Resolving\u001b[22m\u001b[39m package versions...\n",
      "\u001b[32m\u001b[1m  No Changes\u001b[22m\u001b[39m to `C:\\Users\\ALBERTO TRELLES\\.julia\\environments\\v1.10\\Project.toml`\n",
      "\u001b[32m\u001b[1m  No Changes\u001b[22m\u001b[39m to `C:\\Users\\ALBERTO TRELLES\\.julia\\environments\\v1.10\\Manifest.toml`\n"
     ]
    },
    {
     "ename": "LoadError",
     "evalue": "UndefVarError: `plot` not defined",
     "output_type": "error",
     "traceback": [
      "UndefVarError: `plot` not defined",
      "",
      "Stacktrace:",
      " [1] top-level scope",
      "   @ In[48]:21"
     ]
    }
   ],
   "source": [
    "import Pkg; Pkg.add(\"Plots\")\n",
    "using Plots\n",
    "\n",
    "methods = [\"Lasso\", \"RF\", \"Trees\"]\n",
    "betas = [StatsBase.coef(lasso_fit)[1], StatsBase.coef(rf_fit)[1], StatsBase.coef(tree_fit)[1]]\n",
    "\n",
    "#Betas and SE\n",
    "b1 = StatsBase.coef(lasso_fit)[1]\n",
    "b2 = StatsBase.coef(rf_fit)[1] \n",
    "b3 = StatsBase.coef(tree_fit)[1]\n",
    "betas = [b1, b2, b3]\n",
    "\n",
    "se1 = sqrt(vcov(lasso_fit)[1])\n",
    "se2 = sqrt(vcov(rf_fit)[1])\n",
    "se3 = sqrt(vcov(tree_fit)[1])\n",
    "\n",
    "#Confidence Intervals (95% confidence level)\n",
    "ll = [b1 - 1.96*se1, b2 - 1.96*se2, b3 - 1.96*se3]\n",
    "ul = [b1 + 1.96*se1, b2 + 1.96*se2, b3 + 1.96*se3]\n",
    "\n",
    "plt = plot(size=(800, 600), legend=false)\n",
    "for (i, method) in enumerate(methods)\n",
    "    scatter!([i], [betas[i]], label=false, color=\"black\")\n",
    "    plot!([i, i], [betas[i] - ll[i], betas[i] + ul[i]], color=\"black\", label=false)\n",
    "end\n",
    "\n",
    "xticks!(1:length(methods), methods)\n",
    "title!(\"Treatment effect on STI test\")\n",
    "ylabel!(\"Coefficient plots\")\n",
    "display(plt)"
   ]
  },
  {
   "cell_type": "markdown",
   "id": "e5cd7c6a-67be-4f60-9206-22092d6dfc3d",
   "metadata": {},
   "source": [
    "No idea why it doesn't run. It did run in question 2"
   ]
  },
  {
   "cell_type": "code",
   "execution_count": null,
   "id": "386455d9-9042-462a-845c-cc44c84dc7d8",
   "metadata": {},
   "outputs": [],
   "source": []
  }
 ],
 "metadata": {
  "kernelspec": {
   "display_name": "Julia 1.10.2",
   "language": "julia",
   "name": "julia-1.10"
  },
  "language_info": {
   "file_extension": ".jl",
   "mimetype": "application/julia",
   "name": "julia",
   "version": "1.10.2"
  }
 },
 "nbformat": 4,
 "nbformat_minor": 5
}
