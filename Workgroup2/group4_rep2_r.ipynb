{
  "nbformat": 4,
  "nbformat_minor": 0,
  "metadata": {
    "colab": {
      "provenance": []
    },
    "kernelspec": {
      "name": "ir",
      "display_name": "R"
    },
    "language_info": {
      "name": "R"
    }
  },
  "cells": [
    {
      "cell_type": "code",
      "source": [
        "set.seed(1234)\n",
        "\n",
        "#install.packages(\"tidyverse\")\n",
        "#install.packages(\"xtable\")\n",
        "#install.packages(\"sandwich\")\n",
        "#install.packages(\"ggplot2\")\n",
        "#install.packages(\"readxl\")\n",
        "#install.packages(\"openxlsx\")\n",
        "#install.packages(\"lmtest\")\n",
        "#install.packages(\"hdm\")\n",
        "#install.packages(\"igraph\")\n",
        "\n",
        "library(igraph)\n",
        "library(tidyverse)\n",
        "library(xtable)\n",
        "library(sandwich)\n",
        "library(ggplot2)\n",
        "library(readxl)\n",
        "library(openxlsx)\n",
        "library(lmtest)\n",
        "library(hdm)"
      ],
      "metadata": {
        "id": "mvh9XQHWEw3B"
      },
      "execution_count": 43,
      "outputs": []
    },
    {
      "cell_type": "markdown",
      "source": [
        "# Multiconilearity\n",
        "Multicollinearity refers to a situation in which two or more predictor variables in a regression model are highly correlated, making it difficult to separate out their individual effects on the dependent variable. In other words, multicollinearity occurs when there are linear relationships among the independent variables.\n",
        "\n",
        "Mathematically, multicollinearity can be described using the following equation for a simple linear regression model:\n",
        "\n",
        "𝑌=𝛽0+𝛽1𝑋1+𝛽2𝑋2+𝜖\n",
        "\n",
        "\n",
        "Where:\n",
        "\n",
        "𝑌 is the dependent variable.𝑋1 and 𝑋2 are the independent variables.𝛽0, 𝛽1, and 𝛽2 are the coefficients.ϵ is the error term. When 𝑋1 and 𝑋2 are highly correlated, it becomes difficult to estimate the coefficients accurately. This can lead to unstable estimates and inflated standard errors, making interpretation of the model problematic.\n",
        "\n",
        "This rerfers to the scenario when $(X'X)$ is not invertible, so estimators like OLS cannot be computed as is (software or packages will have to remove some variables to avoid this problem). The more covariates the higher the changes of getting multicollinearity, specially if these covariates are dummies. Some classical examples of cases where multicollinearity becomes an issue are when we create dummies for each instance of a categorical variable but we don't ommit a category in the regression, or when we simply have redundant information like $x_1$ = birthweight in kg, $x_2$ = birthbweight in grams."
      ],
      "metadata": {
        "id": "F8Vs16r5iu_4"
      }
    },
    {
      "cell_type": "code",
      "execution_count": 44,
      "metadata": {
        "colab": {
          "base_uri": "https://localhost:8080/"
        },
        "id": "mwQA_E9hcOro",
        "outputId": "4df401a6-18c9-49ea-aa73-39ddbcb44d8c"
      },
      "outputs": [
        {
          "output_type": "stream",
          "name": "stdout",
          "text": [
            "             [,1]       [,2]       [,3]        [,4]        [,5]        [,6]\n",
            " [1,] -0.56047565  1.2240818 -1.0678237  0.42646422 -0.69470698  0.25331851\n",
            " [2,] -0.23017749  0.3598138 -0.2179749 -0.29507148 -0.20791728 -0.02854676\n",
            " [3,]  1.55870831  0.4007715 -1.0260044  0.89512566 -1.26539635 -0.04287046\n",
            " [4,]  0.07050839  0.1106827 -0.7288912  0.87813349  2.16895597  1.36860228\n",
            " [5,]  0.12928774 -0.5558411 -0.6250393  0.82158108  1.20796200 -0.22577099\n",
            " [6,]  1.71506499  1.7869131 -1.6866933  0.68864025 -1.12310858  1.51647060\n",
            " [7,]  0.46091621  0.4978505  0.8377870  0.55391765 -0.40288484 -1.54875280\n",
            " [8,] -1.26506123 -1.9666172  0.1533731 -0.06191171 -0.46665535  0.58461375\n",
            " [9,] -0.68685285  0.7013559 -1.1381369 -0.30596266  0.77996512  0.12385424\n",
            "[10,] -0.44566197 -0.4727914  1.2538149 -0.38047100 -0.08336907  0.21594157\n",
            "             [,7]       [,8]         [,9]       [,10]\n",
            " [1,]  0.37963948 -0.4910312  0.005764186 -0.21539067\n",
            " [2,] -0.50232345 -2.3091689  0.385280401 -0.10476430\n",
            " [3,] -0.33320738  1.0057385 -0.370660032  1.50259293\n",
            " [4,] -1.01857538 -0.7092008  0.644376549 -0.05637306\n",
            " [5,] -1.07179123 -0.6880086 -0.220486562 -0.30489265\n",
            " [6,]  0.30352864  1.0255714  0.331781964  2.18684823\n",
            " [7,]  0.44820978 -0.2847730  1.096839013  0.91928821\n",
            " [8,]  0.05300423 -1.2207177  0.435181491 -2.21002653\n",
            " [9,]  0.92226747  0.1813035 -0.325931586 -0.62070914\n",
            "[10,]  2.05008469 -0.1388914  1.148807618 -0.36860394\n"
          ]
        }
      ],
      "source": [
        "set.seed(123)\n",
        "x=matrix(,10,10)\n",
        "for(i in c(1:9)){\n",
        "    x[,i]=rnorm(10,0,1)\n",
        "}\n",
        "x[,10]=1*x[,1]+0.5*x[,2]+0.25*x[,3]\n",
        "print(x)"
      ]
    },
    {
      "cell_type": "code",
      "source": [
        "x_inv=solve(x)"
      ],
      "metadata": {
        "colab": {
          "base_uri": "https://localhost:8080/",
          "height": 124
        },
        "id": "Zz0EDZZpiKVH",
        "outputId": "6d80c7df-8615-477a-ccfa-eed9d7cb9666"
      },
      "execution_count": 45,
      "outputs": [
        {
          "output_type": "error",
          "ename": "ERROR",
          "evalue": "Error in solve.default(x): system is computationally singular: reciprocal condition number = 9.2431e-18\n",
          "traceback": [
            "Error in solve.default(x): system is computationally singular: reciprocal condition number = 9.2431e-18\nTraceback:\n",
            "1. solve(x)",
            "2. solve.default(x)"
          ]
        }
      ]
    },
    {
      "cell_type": "markdown",
      "source": [
        "# RCT"
      ],
      "metadata": {
        "id": "7gyUZDoKk2zr"
      }
    },
    {
      "cell_type": "code",
      "source": [
        "Penn <- as.data.frame(read.csv(\"/penn_jae.csv\",sep=\",\"))\n",
        "n <- dim(Penn)[1]\n",
        "p_1 <- dim(Penn)[2]\n",
        "Penn<- subset(Penn, tg==2 | tg==0)\n",
        "attach(Penn)"
      ],
      "metadata": {
        "id": "X6jNYKZwk5g5",
        "outputId": "1184a8bb-4147-44e3-c89a-3115ae4a4f53",
        "colab": {
          "base_uri": "https://localhost:8080/"
        }
      },
      "execution_count": 46,
      "outputs": [
        {
          "output_type": "stream",
          "name": "stderr",
          "text": [
            "The following object is masked _by_ .GlobalEnv:\n",
            "\n",
            "    X\n",
            "\n",
            "\n",
            "The following objects are masked from Penn (pos = 3):\n",
            "\n",
            "    abdt, agegt54, agelt35, black, dep, durable, female, hispanic,\n",
            "    husd, inuidur1, inuidur2, lusd, muld, nondurable, othrace, q1, q2,\n",
            "    q3, q4, q5, q6, recall, tg, X\n",
            "\n",
            "\n"
          ]
        }
      ]
    },
    {
      "cell_type": "code",
      "source": [
        "head(Penn)"
      ],
      "metadata": {
        "colab": {
          "base_uri": "https://localhost:8080/",
          "height": 306
        },
        "id": "P4E6c-6DRCo1",
        "outputId": "f8c0f71f-724a-4407-db84-35968d311bd3"
      },
      "execution_count": 47,
      "outputs": [
        {
          "output_type": "display_data",
          "data": {
            "text/html": [
              "<table class=\"dataframe\">\n",
              "<caption>A data.frame: 6 × 24</caption>\n",
              "<thead>\n",
              "\t<tr><th></th><th scope=col>X</th><th scope=col>abdt</th><th scope=col>tg</th><th scope=col>inuidur1</th><th scope=col>inuidur2</th><th scope=col>female</th><th scope=col>black</th><th scope=col>hispanic</th><th scope=col>othrace</th><th scope=col>dep</th><th scope=col>⋯</th><th scope=col>q5</th><th scope=col>q6</th><th scope=col>recall</th><th scope=col>agelt35</th><th scope=col>agegt54</th><th scope=col>durable</th><th scope=col>nondurable</th><th scope=col>lusd</th><th scope=col>husd</th><th scope=col>muld</th></tr>\n",
              "\t<tr><th></th><th scope=col>&lt;int&gt;</th><th scope=col>&lt;int&gt;</th><th scope=col>&lt;int&gt;</th><th scope=col>&lt;int&gt;</th><th scope=col>&lt;int&gt;</th><th scope=col>&lt;int&gt;</th><th scope=col>&lt;int&gt;</th><th scope=col>&lt;int&gt;</th><th scope=col>&lt;int&gt;</th><th scope=col>&lt;int&gt;</th><th scope=col>⋯</th><th scope=col>&lt;int&gt;</th><th scope=col>&lt;int&gt;</th><th scope=col>&lt;int&gt;</th><th scope=col>&lt;int&gt;</th><th scope=col>&lt;int&gt;</th><th scope=col>&lt;int&gt;</th><th scope=col>&lt;int&gt;</th><th scope=col>&lt;int&gt;</th><th scope=col>&lt;int&gt;</th><th scope=col>&lt;int&gt;</th></tr>\n",
              "</thead>\n",
              "<tbody>\n",
              "\t<tr><th scope=row>1</th><td> 1</td><td>10824</td><td>0</td><td>18</td><td>18</td><td>0</td><td>0</td><td>0</td><td>0</td><td>2</td><td>⋯</td><td>1</td><td>0</td><td>0</td><td>0</td><td>0</td><td>0</td><td>0</td><td>0</td><td>1</td><td>0</td></tr>\n",
              "\t<tr><th scope=row>2</th><td> 2</td><td>10635</td><td>2</td><td> 7</td><td> 3</td><td>0</td><td>0</td><td>0</td><td>0</td><td>0</td><td>⋯</td><td>0</td><td>0</td><td>0</td><td>1</td><td>0</td><td>0</td><td>0</td><td>1</td><td>0</td><td>0</td></tr>\n",
              "\t<tr><th scope=row>4</th><td> 4</td><td>10824</td><td>0</td><td> 1</td><td> 1</td><td>0</td><td>0</td><td>0</td><td>0</td><td>0</td><td>⋯</td><td>1</td><td>0</td><td>0</td><td>0</td><td>0</td><td>0</td><td>0</td><td>1</td><td>0</td><td>0</td></tr>\n",
              "\t<tr><th scope=row>5</th><td> 5</td><td>10747</td><td>0</td><td>27</td><td>27</td><td>0</td><td>0</td><td>0</td><td>0</td><td>0</td><td>⋯</td><td>0</td><td>0</td><td>0</td><td>0</td><td>0</td><td>0</td><td>0</td><td>1</td><td>0</td><td>0</td></tr>\n",
              "\t<tr><th scope=row>10</th><td>10</td><td>10754</td><td>2</td><td>20</td><td>20</td><td>1</td><td>0</td><td>0</td><td>0</td><td>0</td><td>⋯</td><td>0</td><td>0</td><td>0</td><td>0</td><td>0</td><td>0</td><td>0</td><td>0</td><td>0</td><td>1</td></tr>\n",
              "\t<tr><th scope=row>13</th><td>13</td><td>10831</td><td>0</td><td>27</td><td>27</td><td>0</td><td>0</td><td>0</td><td>0</td><td>1</td><td>⋯</td><td>1</td><td>0</td><td>0</td><td>0</td><td>1</td><td>1</td><td>0</td><td>1</td><td>0</td><td>0</td></tr>\n",
              "</tbody>\n",
              "</table>\n"
            ],
            "text/markdown": "\nA data.frame: 6 × 24\n\n| <!--/--> | X &lt;int&gt; | abdt &lt;int&gt; | tg &lt;int&gt; | inuidur1 &lt;int&gt; | inuidur2 &lt;int&gt; | female &lt;int&gt; | black &lt;int&gt; | hispanic &lt;int&gt; | othrace &lt;int&gt; | dep &lt;int&gt; | ⋯ ⋯ | q5 &lt;int&gt; | q6 &lt;int&gt; | recall &lt;int&gt; | agelt35 &lt;int&gt; | agegt54 &lt;int&gt; | durable &lt;int&gt; | nondurable &lt;int&gt; | lusd &lt;int&gt; | husd &lt;int&gt; | muld &lt;int&gt; |\n|---|---|---|---|---|---|---|---|---|---|---|---|---|---|---|---|---|---|---|---|---|---|\n| 1 |  1 | 10824 | 0 | 18 | 18 | 0 | 0 | 0 | 0 | 2 | ⋯ | 1 | 0 | 0 | 0 | 0 | 0 | 0 | 0 | 1 | 0 |\n| 2 |  2 | 10635 | 2 |  7 |  3 | 0 | 0 | 0 | 0 | 0 | ⋯ | 0 | 0 | 0 | 1 | 0 | 0 | 0 | 1 | 0 | 0 |\n| 4 |  4 | 10824 | 0 |  1 |  1 | 0 | 0 | 0 | 0 | 0 | ⋯ | 1 | 0 | 0 | 0 | 0 | 0 | 0 | 1 | 0 | 0 |\n| 5 |  5 | 10747 | 0 | 27 | 27 | 0 | 0 | 0 | 0 | 0 | ⋯ | 0 | 0 | 0 | 0 | 0 | 0 | 0 | 1 | 0 | 0 |\n| 10 | 10 | 10754 | 2 | 20 | 20 | 1 | 0 | 0 | 0 | 0 | ⋯ | 0 | 0 | 0 | 0 | 0 | 0 | 0 | 0 | 0 | 1 |\n| 13 | 13 | 10831 | 0 | 27 | 27 | 0 | 0 | 0 | 0 | 1 | ⋯ | 1 | 0 | 0 | 0 | 1 | 1 | 0 | 1 | 0 | 0 |\n\n",
            "text/latex": "A data.frame: 6 × 24\n\\begin{tabular}{r|lllllllllllllllllllll}\n  & X & abdt & tg & inuidur1 & inuidur2 & female & black & hispanic & othrace & dep & ⋯ & q5 & q6 & recall & agelt35 & agegt54 & durable & nondurable & lusd & husd & muld\\\\\n  & <int> & <int> & <int> & <int> & <int> & <int> & <int> & <int> & <int> & <int> & ⋯ & <int> & <int> & <int> & <int> & <int> & <int> & <int> & <int> & <int> & <int>\\\\\n\\hline\n\t1 &  1 & 10824 & 0 & 18 & 18 & 0 & 0 & 0 & 0 & 2 & ⋯ & 1 & 0 & 0 & 0 & 0 & 0 & 0 & 0 & 1 & 0\\\\\n\t2 &  2 & 10635 & 2 &  7 &  3 & 0 & 0 & 0 & 0 & 0 & ⋯ & 0 & 0 & 0 & 1 & 0 & 0 & 0 & 1 & 0 & 0\\\\\n\t4 &  4 & 10824 & 0 &  1 &  1 & 0 & 0 & 0 & 0 & 0 & ⋯ & 1 & 0 & 0 & 0 & 0 & 0 & 0 & 1 & 0 & 0\\\\\n\t5 &  5 & 10747 & 0 & 27 & 27 & 0 & 0 & 0 & 0 & 0 & ⋯ & 0 & 0 & 0 & 0 & 0 & 0 & 0 & 1 & 0 & 0\\\\\n\t10 & 10 & 10754 & 2 & 20 & 20 & 1 & 0 & 0 & 0 & 0 & ⋯ & 0 & 0 & 0 & 0 & 0 & 0 & 0 & 0 & 0 & 1\\\\\n\t13 & 13 & 10831 & 0 & 27 & 27 & 0 & 0 & 0 & 0 & 1 & ⋯ & 1 & 0 & 0 & 0 & 1 & 1 & 0 & 1 & 0 & 0\\\\\n\\end{tabular}\n",
            "text/plain": [
              "   X  abdt  tg inuidur1 inuidur2 female black hispanic othrace dep ⋯ q5 q6\n",
              "1   1 10824 0  18       18       0      0     0        0       2   ⋯ 1  0 \n",
              "2   2 10635 2   7        3       0      0     0        0       0   ⋯ 0  0 \n",
              "4   4 10824 0   1        1       0      0     0        0       0   ⋯ 1  0 \n",
              "5   5 10747 0  27       27       0      0     0        0       0   ⋯ 0  0 \n",
              "10 10 10754 2  20       20       1      0     0        0       0   ⋯ 0  0 \n",
              "13 13 10831 0  27       27       0      0     0        0       1   ⋯ 1  0 \n",
              "   recall agelt35 agegt54 durable nondurable lusd husd muld\n",
              "1  0      0       0       0       0          0    1    0   \n",
              "2  0      1       0       0       0          1    0    0   \n",
              "4  0      0       0       0       0          1    0    0   \n",
              "5  0      0       0       0       0          1    0    0   \n",
              "10 0      0       0       0       0          0    0    1   \n",
              "13 0      0       1       1       0          1    0    0   "
            ]
          },
          "metadata": {}
        }
      ]
    },
    {
      "cell_type": "code",
      "source": [
        "Penn_t0 <- subset(Penn, tg == 0)\n",
        "Penn_t2 <- subset(Penn, tg == 2)\n",
        "\n",
        "histograma_t0 <- ggplot(Penn_t0, aes(x = inuidur1)) +\n",
        "  geom_histogram(binwidth = 5, fill = \"blue\", alpha = 0.7) +\n",
        "  labs(\n",
        "    title = \"Histogram for Control Group (T0)\",\n",
        "    x = \"Time\",\n",
        "    y = \"Frequency\"\n",
        "  ) +\n",
        "  theme_minimal()\n",
        "\n",
        "histograma_t2 <- ggplot(Penn_t2, aes(x = inuidur1)) +\n",
        "  geom_histogram(binwidth = 5, fill = \"red\", alpha = 0.7) +\n",
        "  labs(\n",
        "    title = \"Histogram for Treatment Group (T2)\",\n",
        "    x = \"Time\",\n",
        "    y = \"Frequency\"\n",
        "  ) +\n",
        "  theme_minimal()\n",
        "\n",
        "print(histograma_t0)\n",
        "print(histograma_t2)"
      ],
      "metadata": {
        "colab": {
          "base_uri": "https://localhost:8080/",
          "height": 857
        },
        "id": "xPUiZyQzNRa2",
        "outputId": "d9e42b9d-5c0e-4d5f-c4f7-e502a1bd6666"
      },
      "execution_count": 48,
      "outputs": [
        {
          "output_type": "display_data",
          "data": {
            "text/plain": [
              "plot without title"
            ],
            "image/png": "[encoded data removed]"
          },
          "metadata": {
            "image/png": {
              "width": 420,
              "height": 420
            }
          }
        },
        {
          "output_type": "display_data",
          "data": {
            "text/plain": [
              "plot without title"
            ],
            "image/png": "[encoded data removed]"
          },
          "metadata": {
            "image/png": {
              "width": 420,
              "height": 420
            }
          }
        }
      ]
    },
    {
      "cell_type": "markdown",
      "source": [
        "##2.1 CL"
      ],
      "metadata": {
        "id": "B5Yo0CiXaFVA"
      }
    },
    {
      "cell_type": "code",
      "source": [
        "formula_cl <- log(inuidur1)~T2\n",
        "ols.cl_reg <- lm(formula_cl)\n",
        "\n",
        "ols.cl = coeftest(ols.cl_reg, vcov = vcovHC(ols.cl_reg, type=\"HC1\"))\n",
        "\n",
        "print(ols.cl)\n"
      ],
      "metadata": {
        "colab": {
          "base_uri": "https://localhost:8080/"
        },
        "id": "96blvAIHbNjK",
        "outputId": "97b32112-ee6f-4425-bc8f-450033424c0d"
      },
      "execution_count": 49,
      "outputs": [
        {
          "output_type": "stream",
          "name": "stdout",
          "text": [
            "\n",
            "t test of coefficients:\n",
            "\n",
            "             Estimate Std. Error  t value Pr(>|t|)    \n",
            "(Intercept)  2.023729   0.016021 126.3162  < 2e-16 ***\n",
            "T2          -0.078825   0.032509  -2.4247  0.01535 *  \n",
            "---\n",
            "Signif. codes:  0 ‘***’ 0.001 ‘**’ 0.01 ‘*’ 0.05 ‘.’ 0.1 ‘ ’ 1\n",
            "\n"
          ]
        }
      ]
    },
    {
      "cell_type": "markdown",
      "source": [
        "## 2.2 CRA"
      ],
      "metadata": {
        "id": "ET3UL8JicNef"
      }
    },
    {
      "cell_type": "code",
      "source": [
        "formula_cra <- log(inuidur1)~T2+ (female+black+othrace+factor(dep)+q2+q3+q4+q5+q6+agelt35+agegt54+durable+lusd+husd)^2\n",
        "ols.cra_reg <- lm(formula_cra)\n",
        "ols.cra = coeftest(ols.cra_reg, vcov = vcovHC(ols.cra_reg, type=\"HC1\"))\n",
        "print(ols.cra)\n",
        "X <- as.data.frame( model.matrix(ols.cra_reg) )\n",
        "\n",
        "no_col <- attributes(ols.cra_reg$coefficients)$names[is.na(ols.cra_reg$coefficients)]\n",
        "\n",
        "X1  <- X[, -which(names( X ) %in% no_col ) ]\n",
        "\n",
        "names(X1)[2] <- \"T2\""
      ],
      "metadata": {
        "colab": {
          "base_uri": "https://localhost:8080/"
        },
        "id": "gGfII78jbgKB",
        "outputId": "bdf0969d-7638-4736-9a88-098662845b42"
      },
      "execution_count": 50,
      "outputs": [
        {
          "output_type": "stream",
          "name": "stdout",
          "text": [
            "\n",
            "t test of coefficients:\n",
            "\n",
            "                       Estimate Std. Error t value  Pr(>|t|)    \n",
            "(Intercept)           2.4172819  0.3578201  6.7556 1.565e-11 ***\n",
            "T2                   -0.0712066  0.0320440 -2.2222 0.0263124 *  \n",
            "female               -0.9428048  0.2827961 -3.3339 0.0008620 ***\n",
            "black                -0.6654258  0.2430567 -2.7377 0.0062056 ** \n",
            "othrace              -1.5494550  0.7312071 -2.1190 0.0341306 *  \n",
            "factor(dep)1          0.2798498  0.3783316  0.7397 0.4595160    \n",
            "factor(dep)2          0.1678164  0.3678718  0.4562 0.6482768    \n",
            "q2                    0.0271228  0.3606226  0.0752 0.9400495    \n",
            "q3                   -0.3542370  0.3601780 -0.9835 0.3254005    \n",
            "q4                   -0.3380244  0.3606994 -0.9371 0.3487284    \n",
            "q5                   -0.1777168  0.3598757 -0.4938 0.6214465    \n",
            "q6                   -0.4456044  0.3612792 -1.2334 0.2174749    \n",
            "agelt35              -0.3264815  0.3108711 -1.0502 0.2936639    \n",
            "agegt54              -0.1551504  0.4796700 -0.3235 0.7463646    \n",
            "durable              -1.0151542  0.4449002 -2.2818 0.0225405 *  \n",
            "lusd                 -0.1193717  0.1744506 -0.6843 0.4938310    \n",
            "husd                  0.0702968  0.1877772  0.3744 0.7081482    \n",
            "female:black         -0.2840034  0.1181815 -2.4031 0.0162880 *  \n",
            "female:othrace        0.4211653  0.4881117  0.8628 0.3882586    \n",
            "female:factor(dep)1  -0.0852110  0.1097575 -0.7764 0.4375706    \n",
            "female:factor(dep)2   0.0191663  0.0960257  0.1996 0.8418042    \n",
            "female:q2             0.7579484  0.2816463  2.6911 0.0071418 ** \n",
            "female:q3             1.1132040  0.2804776  3.9690 7.308e-05 ***\n",
            "female:q4             1.0476270  0.2803218  3.7372 0.0001879 ***\n",
            "female:q5             0.9391723  0.2797468  3.3572 0.0007925 ***\n",
            "female:q6             1.0943376  0.3051864  3.5858 0.0003389 ***\n",
            "female:agelt35        0.0897041  0.0717530  1.2502 0.2112858    \n",
            "female:agegt54        0.1052300  0.1192511  0.8824 0.3775848    \n",
            "female:durable        0.1479312  0.1045882  1.4144 0.1572946    \n",
            "female:lusd           0.1040466  0.0803795  1.2944 0.1955654    \n",
            "female:husd           0.0405424  0.0871027  0.4655 0.6416233    \n",
            "black:factor(dep)1    0.2550534  0.1776949  1.4353 0.1512441    \n",
            "black:factor(dep)2   -0.0026687  0.1685717 -0.0158 0.9873694    \n",
            "black:q2              0.1578965  0.2541864  0.6212 0.5345037    \n",
            "black:q3              0.3136968  0.2421894  1.2953 0.1952852    \n",
            "black:q4              0.4070568  0.2531613  1.6079 0.1079138    \n",
            "black:q5              0.4779693  0.2423807  1.9720 0.0486606 *  \n",
            "black:agelt35        -0.0327885  0.1199314 -0.2734 0.7845605    \n",
            "black:agegt54         0.2404150  0.2150911  1.1177 0.2637272    \n",
            "black:durable         0.1604680  0.1818229  0.8826 0.3775165    \n",
            "black:lusd            0.0976747  0.1397249  0.6991 0.4845494    \n",
            "black:husd            0.5226586  0.4705587  1.1107 0.2667363    \n",
            "othrace:factor(dep)1  1.1661534  0.5688725  2.0499 0.0404163 *  \n",
            "othrace:factor(dep)2 -0.7687279  0.6882470 -1.1169 0.2640689    \n",
            "othrace:q2            1.5108063  0.7553314  2.0002 0.0455273 *  \n",
            "othrace:q3            0.2915823  0.4010420  0.7271 0.4672180    \n",
            "othrace:q4            0.9422587  0.5216038  1.8065 0.0708987 .  \n",
            "othrace:q5            0.9633463  0.4508887  2.1366 0.0326772 *  \n",
            "othrace:agelt35      -0.1902437  0.5742114 -0.3313 0.7404203    \n",
            "othrace:agegt54      -1.5319860  0.7774149 -1.9706 0.0488163 *  \n",
            "othrace:durable       1.9037227  0.2984229  6.3793 1.920e-10 ***\n",
            "othrace:lusd         -0.1288020  0.3847564 -0.3348 0.7378166    \n",
            "othrace:husd          0.6131158  0.6322611  0.9697 0.3322277    \n",
            "factor(dep)1:q2      -0.0578297  0.3766295 -0.1535 0.8779737    \n",
            "factor(dep)2:q2      -0.0868354  0.3663258 -0.2370 0.8126310    \n",
            "factor(dep)1:q3      -0.1448244  0.3766926 -0.3845 0.7006496    \n",
            "factor(dep)2:q3      -0.0664361  0.3661251 -0.1815 0.8560150    \n",
            "factor(dep)1:q4      -0.2322822  0.3758156 -0.6181 0.5365507    \n",
            "factor(dep)2:q4      -0.0189174  0.3664236 -0.0516 0.9588277    \n",
            "factor(dep)1:q5      -0.1366847  0.3745611 -0.3649 0.7151851    \n",
            "factor(dep)2:q5      -0.3474112  0.3658274 -0.9497 0.3423260    \n",
            "factor(dep)1:q6      -0.0754430  0.4237563 -0.1780 0.8587026    \n",
            "factor(dep)2:q6       0.1670275  0.3862462  0.4324 0.6654396    \n",
            "factor(dep)1:agelt35  0.0295559  0.1110959  0.2660 0.7902184    \n",
            "factor(dep)2:agelt35  0.0604359  0.0884161  0.6835 0.4942940    \n",
            "factor(dep)1:agegt54 -0.0653782  0.1579819 -0.4138 0.6790114    \n",
            "factor(dep)2:agegt54  0.2389402  0.3502460  0.6822 0.4951360    \n",
            "factor(dep)1:durable  0.2490245  0.1390534  1.7909 0.0733699 .  \n",
            "factor(dep)2:durable  0.1155334  0.1210212  0.9547 0.3397934    \n",
            "factor(dep)1:lusd    -0.1891318  0.1198463 -1.5781 0.1145937    \n",
            "factor(dep)2:lusd     0.0099694  0.1080574  0.0923 0.9264947    \n",
            "factor(dep)1:husd     0.0210466  0.1300914  0.1618 0.8714822    \n",
            "factor(dep)2:husd     0.0643927  0.1120225  0.5748 0.5654361    \n",
            "q2:agelt35            0.1074960  0.3106163  0.3461 0.7293005    \n",
            "q2:agegt54            0.2089269  0.4790236  0.4362 0.6627433    \n",
            "q2:durable            0.4369419  0.4446247  0.9827 0.3257868    \n",
            "q2:lusd              -0.0452343  0.1775655 -0.2547 0.7989278    \n",
            "q2:husd              -0.2223717  0.1866781 -1.1912 0.2336234    \n",
            "q3:agelt35            0.1804517  0.3105857  0.5810 0.5612606    \n",
            "q3:agegt54            0.5556566  0.4753225  1.1690 0.2424487    \n",
            "q3:durable            0.8395937  0.4443589  1.8894 0.0588825 .  \n",
            "q3:lusd              -0.0159614  0.1750847 -0.0912 0.9273658    \n",
            "q3:husd              -0.1130923  0.1853528 -0.6101 0.5417894    \n",
            "q4:agelt35            0.1182933  0.3104549  0.3810 0.7031937    \n",
            "q4:agegt54            0.3742015  0.4730138  0.7911 0.4289183    \n",
            "q4:durable            0.7433954  0.4469877  1.6631 0.0963430 .  \n",
            "q4:lusd              -0.0222100  0.1777450 -0.1250 0.9005644    \n",
            "q4:husd              -0.1847688  0.1860619 -0.9931 0.3207276    \n",
            "q5:agelt35           -0.0347993  0.3094880 -0.1124 0.9104773    \n",
            "q5:agegt54            0.2173394  0.4741739  0.4584 0.6467158    \n",
            "q5:durable            0.8553983  0.4436236  1.9282 0.0538791 .  \n",
            "q5:lusd              -0.1842941  0.1767158 -1.0429 0.2970464    \n",
            "q5:husd              -0.2741579  0.1844937 -1.4860 0.1373343    \n",
            "q6:agelt35            0.1822011  0.3330819  0.5470 0.5843893    \n",
            "q6:agegt54            0.6639470  0.5038773  1.3177 0.1876654    \n",
            "q6:durable            1.1466872  0.4656818  2.4624 0.0138312 *  \n",
            "agelt35:durable       0.0130415  0.0974530  0.1338 0.8935470    \n",
            "agelt35:lusd         -0.0561347  0.0826337 -0.6793 0.4969628    \n",
            "agelt35:husd          0.0174718  0.0917544  0.1904 0.8489878    \n",
            "agegt54:durable      -0.0133916  0.1551439 -0.0863 0.9312172    \n",
            "agegt54:lusd         -0.0236037  0.1297822 -0.1819 0.8556901    \n",
            "agegt54:husd         -0.2739141  0.1437349 -1.9057 0.0567409 .  \n",
            "durable:lusd          0.2916144  0.1033609  2.8213 0.0047992 ** \n",
            "durable:husd          0.3027337  0.1242434  2.4366 0.0148558 *  \n",
            "---\n",
            "Signif. codes:  0 ‘***’ 0.001 ‘**’ 0.01 ‘*’ 0.05 ‘.’ 0.1 ‘ ’ 1\n",
            "\n"
          ]
        }
      ]
    },
    {
      "cell_type": "markdown",
      "source": [
        "## 2.3 IRA"
      ],
      "metadata": {
        "id": "s-Gf_Hy0cQ5O"
      }
    },
    {
      "cell_type": "code",
      "source": [
        "X <- model.matrix(~(female+black+othrace+factor(dep)+q2+q3+q4+q5+q6+agelt35+agegt54+durable+lusd+husd)^2)[,-1]\n",
        "demean<- function(x){ x - mean(x)}\n",
        "X = apply(X, 2, demean)\n",
        "\n",
        "ols.ira_reg = lm(log(inuidur1) ~ T2*X)\n",
        "ols.ira= coeftest(ols.ira_reg, vcov = vcovHC(ols.ira_reg, type=\"HC1\"))\n",
        "print(ols.ira)\n",
        "\n",
        "S <- as.data.frame(model.matrix(ols.ira_reg))\n",
        "\n",
        "no_col <- attributes(ols.ira_reg$coefficients)$names[is.na(ols.ira_reg$coefficients)]\n",
        "\n",
        "S1  <- S[, -which(names( S ) %in% no_col ) ]\n",
        "\n",
        "names(S1)[2] <- \"T2\""
      ],
      "metadata": {
        "colab": {
          "base_uri": "https://localhost:8080/"
        },
        "id": "HvnKCjNscWhr",
        "outputId": "3173e97e-15be-43b9-83fc-bdac92aa2bab"
      },
      "execution_count": 51,
      "outputs": [
        {
          "output_type": "stream",
          "name": "stdout",
          "text": [
            "\n",
            "t test of coefficients:\n",
            "\n",
            "                           Estimate Std. Error  t value  Pr(>|t|)    \n",
            "(Intercept)               2.0263431  0.0158116 128.1556 < 2.2e-16 ***\n",
            "T2                       -0.0699044  0.0320764  -2.1793 0.0293503 *  \n",
            "Xfemale                  -0.9433273  0.2828151  -3.3355 0.0008570 ***\n",
            "Xblack                   -0.6734467  0.2450385  -2.7483 0.0060092 ** \n",
            "Xothrace                 -2.8890389  0.5954889  -4.8515 1.258e-06 ***\n",
            "Xfactor(dep)1             0.3565813  0.4194870   0.8500 0.3953385    \n",
            "Xfactor(dep)2             0.1902699  0.3735550   0.5093 0.6105277    \n",
            "Xq2                       0.1220052  0.3591173   0.3397 0.7340679    \n",
            "Xq3                      -0.2448805  0.3585870  -0.6829 0.4946958    \n",
            "Xq4                      -0.2325918  0.3589780  -0.6479 0.5170583    \n",
            "Xq5                      -0.0706375  0.3580735  -0.1973 0.8436227    \n",
            "Xq6                      -0.3489823  0.3608200  -0.9672 0.3334899    \n",
            "Xagelt35                 -0.2059965  0.3138224  -0.6564 0.5115867    \n",
            "Xagegt54                 -0.1301443  0.4609826  -0.2823 0.7777091    \n",
            "Xdurable                 -0.8086744  0.4295867  -1.8824 0.0598273 .  \n",
            "Xlusd                    -0.1357714  0.1768290  -0.7678 0.4426317    \n",
            "Xhusd                     0.0568502  0.1920828   0.2960 0.7672663    \n",
            "Xfemale:black            -0.3009962  0.1186449  -2.5370 0.0112093 *  \n",
            "Xfemale:othrace           0.2164892  0.3316910   0.6527 0.5139872    \n",
            "Xfemale:factor(dep)1     -0.0972833  0.1082694  -0.8985 0.3689419    \n",
            "Xfemale:factor(dep)2      0.0196833  0.0975850   0.2017 0.8401557    \n",
            "Xfemale:q2                0.7482100  0.2822226   2.6511 0.0080449 ** \n",
            "Xfemale:q3                1.1229785  0.2811285   3.9945 6.565e-05 ***\n",
            "Xfemale:q4                1.0499551  0.2808927   3.7379 0.0001874 ***\n",
            "Xfemale:q5                0.9434475  0.2803313   3.3655 0.0007693 ***\n",
            "Xfemale:q6                1.0797423  0.3065205   3.5226 0.0004308 ***\n",
            "Xfemale:agelt35           0.0919074  0.0721025   1.2747 0.2024770    \n",
            "Xfemale:agegt54           0.0752775  0.1209638   0.6223 0.5337609    \n",
            "Xfemale:durable           0.1437630  0.1056210   1.3611 0.1735301    \n",
            "Xfemale:lusd              0.1165601  0.0806744   1.4448 0.1485641    \n",
            "Xfemale:husd              0.0430760  0.0882642   0.4880 0.6255440    \n",
            "Xblack:factor(dep)1       0.2617094  0.1732210   1.5108 0.1308856    \n",
            "Xblack:factor(dep)2      -0.0207946  0.1689565  -0.1231 0.9020507    \n",
            "Xblack:q2                 0.1798568  0.2564805   0.7012 0.4831767    \n",
            "Xblack:q3                 0.3037111  0.2460788   1.2342 0.2171794    \n",
            "Xblack:q4                 0.3759071  0.2573034   1.4609 0.1440858    \n",
            "Xblack:q5                 0.4766123  0.2452278   1.9435 0.0520001 .  \n",
            "Xblack:agelt35           -0.0076932  0.1196840  -0.0643 0.9487499    \n",
            "Xblack:agegt54            0.3130680  0.2283819   1.3708 0.1704896    \n",
            "Xblack:durable            0.1168819  0.1730481   0.6754 0.4994308    \n",
            "Xblack:lusd               0.1295252  0.1387035   0.9338 0.3504332    \n",
            "Xblack:husd               0.4675848  0.4579372   1.0211 0.3072667    \n",
            "Xothrace:factor(dep)1     2.7212635  1.0881976   2.5007 0.0124230 *  \n",
            "Xothrace:factor(dep)2    -0.6803747  0.4004466  -1.6990 0.0893675 .  \n",
            "Xothrace:q2               2.0825791  0.6083699   3.4232 0.0006233 ***\n",
            "Xothrace:q3               0.6086833  0.4661724   1.3057 0.1917069    \n",
            "Xothrace:q4               2.8446155  0.5958412   4.7741 1.851e-06 ***\n",
            "Xothrace:q5               1.2912130  0.4007186   3.2222 0.0012792 ** \n",
            "Xothrace:agelt35          0.6391209  0.5427527   1.1776 0.2390245    \n",
            "Xothrace:agegt54         -4.1489603  0.4818685  -8.6102 < 2.2e-16 ***\n",
            "Xothrace:durable          2.4081067  0.2442372   9.8597 < 2.2e-16 ***\n",
            "Xothrace:lusd             0.1844718  0.2928908   0.6298 0.5288306    \n",
            "Xothrace:husd             4.7889261  0.8179777   5.8546 5.054e-09 ***\n",
            "Xfactor(dep)1:q2         -0.1153778  0.4156508  -0.2776 0.7813424    \n",
            "Xfactor(dep)2:q2         -0.1232540  0.3727086  -0.3307 0.7408851    \n",
            "Xfactor(dep)1:q3         -0.2056523  0.4167493  -0.4935 0.6217017    \n",
            "Xfactor(dep)2:q3         -0.1038481  0.3720618  -0.2791 0.7801667    \n",
            "Xfactor(dep)1:q4         -0.2878700  0.4151910  -0.6933 0.4881229    \n",
            "Xfactor(dep)2:q4         -0.0615383  0.3719215  -0.1655 0.8685876    \n",
            "Xfactor(dep)1:q5         -0.2125289  0.4137698  -0.5136 0.6075238    \n",
            "Xfactor(dep)2:q5         -0.3826890  0.3715183  -1.0301 0.3030229    \n",
            "Xfactor(dep)1:q6         -0.1625838  0.4635200  -0.3508 0.7257824    \n",
            "Xfactor(dep)2:q6          0.1147319  0.3930614   0.2919 0.7703792    \n",
            "Xfactor(dep)1:agelt35     0.0181135  0.1115975   0.1623 0.8710667    \n",
            "Xfactor(dep)2:agelt35     0.0765298  0.0888704   0.8611 0.3891984    \n",
            "Xfactor(dep)1:agegt54    -0.0819728  0.1588158  -0.5162 0.6057701    \n",
            "Xfactor(dep)2:agegt54     0.3823929  0.2931456   1.3044 0.1921350    \n",
            "Xfactor(dep)1:durable     0.2479328  0.1389302   1.7846 0.0743829 .  \n",
            "Xfactor(dep)2:durable     0.0747330  0.1251849   0.5970 0.5505442    \n",
            "Xfactor(dep)1:lusd       -0.1696038  0.1209468  -1.4023 0.1608811    \n",
            "Xfactor(dep)2:lusd        0.0281349  0.1087041   0.2588 0.7957832    \n",
            "Xfactor(dep)1:husd        0.0089547  0.1306214   0.0686 0.9453468    \n",
            "Xfactor(dep)2:husd        0.0843545  0.1140496   0.7396 0.4595558    \n",
            "Xq2:agelt35              -0.0202843  0.3132791  -0.0647 0.9483767    \n",
            "Xq2:agegt54               0.1793674  0.4600503   0.3899 0.6966353    \n",
            "Xq2:durable               0.2288462  0.4304013   0.5317 0.5949519    \n",
            "Xq2:lusd                 -0.0461779  0.1797754  -0.2569 0.7972931    \n",
            "Xq2:husd                 -0.2204842  0.1903699  -1.1582 0.2468367    \n",
            "Xq3:agelt35               0.0401326  0.3132305   0.1281 0.8980548    \n",
            "Xq3:agegt54               0.4973189  0.4566636   1.0890 0.2761892    \n",
            "Xq3:durable               0.6402323  0.4301923   1.4882 0.1367423    \n",
            "Xq3:lusd                 -0.0324189  0.1773086  -0.1828 0.8549310    \n",
            "Xq3:husd                 -0.1333759  0.1886051  -0.7072 0.4794903    \n",
            "Xq4:agelt35              -0.0120054  0.3127433  -0.0384 0.9693801    \n",
            "Xq4:agegt54               0.3359987  0.4529007   0.7419 0.4581903    \n",
            "Xq4:durable               0.5438843  0.4338854   1.2535 0.2100688    \n",
            "Xq4:lusd                 -0.0408621  0.1796858  -0.2274 0.8201144    \n",
            "Xq4:husd                 -0.1798329  0.1897508  -0.9477 0.3433068    \n",
            "Xq5:agelt35              -0.1729764  0.3118750  -0.5546 0.5791674    \n",
            "Xq5:agegt54               0.1915093  0.4556697   0.4203 0.6742965    \n",
            "Xq5:durable               0.6667185  0.4286367   1.5554 0.1198981    \n",
            "Xq5:lusd                 -0.2216706  0.1793806  -1.2358 0.2166015    \n",
            "Xq5:husd                 -0.2767039  0.1883739  -1.4689 0.1419142    \n",
            "Xq6:agelt35               0.0749574  0.3357105   0.2233 0.8233259    \n",
            "Xq6:agegt54               0.6533220  0.4887640   1.3367 0.1813810    \n",
            "Xq6:durable               0.9672238  0.4534686   2.1329 0.0329727 *  \n",
            "Xagelt35:durable          0.0063870  0.0980615   0.0651 0.9480708    \n",
            "Xagelt35:lusd            -0.0288018  0.0835623  -0.3447 0.7303522    \n",
            "Xagelt35:husd             0.0298837  0.0927520   0.3222 0.7473215    \n",
            "Xagegt54:durable         -0.0511979  0.1571148  -0.3259 0.7445403    \n",
            "Xagegt54:lusd             0.0389511  0.1322557   0.2945 0.7683763    \n",
            "Xagegt54:husd            -0.1928363  0.1455756  -1.3246 0.1853424    \n",
            "Xdurable:lusd             0.3171701  0.1045878   3.0326 0.0024359 ** \n",
            "Xdurable:husd             0.3193837  0.1244810   2.5657 0.0103220 *  \n",
            "T2:Xfemale               -0.6597505  0.5498974  -1.1998 0.2302796    \n",
            "T2:Xblack                 0.4525570  0.5103188   0.8868 0.3752182    \n",
            "T2:Xothrace               2.2114703  1.1019213   2.0069 0.0448061 *  \n",
            "T2:Xfactor(dep)1          0.7636025  0.7854484   0.9722 0.3309998    \n",
            "T2:Xfactor(dep)2         -0.0511656  0.7787378  -0.0657 0.9476164    \n",
            "T2:Xq2                    0.8969455  0.7369231   1.2171 0.2235988    \n",
            "T2:Xq3                    0.8962389  0.7356679   1.2183 0.2231746    \n",
            "T2:Xq4                    0.5889998  0.7360986   0.8002 0.4236497    \n",
            "T2:Xq5                    0.7173442  0.7348525   0.9762 0.3290204    \n",
            "T2:Xq6                    0.7812489  0.7433947   1.0509 0.2933405    \n",
            "T2:Xagelt35               1.1233199  0.6374193   1.7623 0.0780744 .  \n",
            "T2:Xagegt54               0.4142771  0.8713838   0.4754 0.6345031    \n",
            "T2:Xdurable               0.0698550  0.8506225   0.0821 0.9345525    \n",
            "T2:Xlusd                 -0.0864022  0.3607507  -0.2395 0.8107216    \n",
            "T2:Xhusd                  0.2845565  0.3988946   0.7134 0.4756512    \n",
            "T2:Xfemale:black         -0.2036471  0.2434209  -0.8366 0.4028505    \n",
            "T2:Xfemale:othrace       -0.9119496  0.5800698  -1.5721 0.1159753    \n",
            "T2:Xfemale:factor(dep)1   0.1813213  0.2195306   0.8260 0.4088676    \n",
            "T2:Xfemale:factor(dep)2  -0.4690337  0.1987659  -2.3597 0.0183225 *  \n",
            "T2:Xfemale:q2             0.8485381  0.5490759   1.5454 0.1223079    \n",
            "T2:Xfemale:q3             1.0429018  0.5461093   1.9097 0.0562238 .  \n",
            "T2:Xfemale:q4             0.7824923  0.5455513   1.4343 0.1515385    \n",
            "T2:Xfemale:q5             0.8993802  0.5448366   1.6507 0.0988492 .  \n",
            "T2:Xfemale:q6             0.4085802  0.6037867   0.6767 0.4986267    \n",
            "T2:Xfemale:agelt35       -0.1861481  0.1458569  -1.2762 0.2019247    \n",
            "T2:Xfemale:agegt54       -0.3821490  0.2443204  -1.5641 0.1178436    \n",
            "T2:Xfemale:durable        0.1103768  0.2146252   0.5143 0.6070787    \n",
            "T2:Xfemale:lusd           0.1060964  0.1631061   0.6505 0.5154122    \n",
            "T2:Xfemale:husd          -0.0426056  0.1785080  -0.2387 0.8113657    \n",
            "T2:Xblack:factor(dep)1    0.3636326  0.3503546   1.0379 0.2993622    \n",
            "T2:Xblack:factor(dep)2    0.4284152  0.3383550   1.2662 0.2055049    \n",
            "T2:Xblack:q2             -0.5878223  0.5288254  -1.1116 0.2663743    \n",
            "T2:Xblack:q3             -0.0624725  0.5099293  -0.1225 0.9024978    \n",
            "T2:Xblack:q4             -0.4010428  0.5365391  -0.7475 0.4548159    \n",
            "T2:Xblack:q5             -0.4358990  0.5091812  -0.8561 0.3919912    \n",
            "T2:Xblack:agelt35        -0.2159315  0.2417908  -0.8931 0.3718684    \n",
            "T2:Xblack:agegt54        -0.2617225  0.4866710  -0.5378 0.5907496    \n",
            "T2:Xblack:durable        -0.8365016  0.3504939  -2.3866 0.0170364 *  \n",
            "T2:Xblack:lusd           -0.4264666  0.2797101  -1.5247 0.1273972    \n",
            "T2:Xblack:husd           -0.1958402  0.8911158  -0.2198 0.8260586    \n",
            "T2:Xothrace:factor(dep)1  0.4788267  1.8947966   0.2527 0.8005046    \n",
            "T2:Xothrace:factor(dep)2 -4.4513573  0.7816787  -5.6946 1.300e-08 ***\n",
            "T2:Xothrace:q3           -0.7826362  0.9146199  -0.8557 0.3922029    \n",
            "T2:Xothrace:q4           -2.4173200  1.1442098  -2.1127 0.0346747 *  \n",
            "T2:Xothrace:q5            0.7621242  0.7958190   0.9577 0.3382757    \n",
            "T2:Xothrace:agelt35      -3.8313400  0.9536672  -4.0175 5.960e-05 ***\n",
            "T2:Xothrace:durable       1.5658689  0.4621869   3.3880 0.0007090 ***\n",
            "T2:Xothrace:lusd          2.0930436  0.5135607   4.0756 4.654e-05 ***\n",
            "T2:Xfactor(dep)1:q2      -0.8317599  0.7784232  -1.0685 0.2853327    \n",
            "T2:Xfactor(dep)2:q2       0.2248592  0.7780400   0.2890 0.7725866    \n",
            "T2:Xfactor(dep)1:q3      -0.8572816  0.7801263  -1.0989 0.2718587    \n",
            "T2:Xfactor(dep)2:q3       0.3587274  0.7752186   0.4627 0.6435662    \n",
            "T2:Xfactor(dep)1:q4      -0.6286109  0.7764648  -0.8096 0.4182158    \n",
            "T2:Xfactor(dep)2:q4       0.2390021  0.7743617   0.3086 0.7576038    \n",
            "T2:Xfactor(dep)1:q5      -0.8384601  0.7751714  -1.0816 0.2794571    \n",
            "T2:Xfactor(dep)2:q5       0.4285344  0.7744398   0.5533 0.5800476    \n",
            "T2:Xfactor(dep)1:q6      -1.5381912  0.8933469  -1.7218 0.0851558 .  \n",
            "T2:Xfactor(dep)2:q6       0.2846591  0.8180721   0.3480 0.7278808    \n",
            "T2:Xfactor(dep)1:agelt35 -0.0778347  0.2244666  -0.3468 0.7287894    \n",
            "T2:Xfactor(dep)2:agelt35 -0.1017136  0.1803295  -0.5640 0.5727475    \n",
            "T2:Xfactor(dep)1:agegt54 -0.2824587  0.3235870  -0.8729 0.3827557    \n",
            "T2:Xfactor(dep)2:agegt54  0.3793047  0.5714519   0.6638 0.5068738    \n",
            "T2:Xfactor(dep)1:durable -0.2185591  0.2804612  -0.7793 0.4358451    \n",
            "T2:Xfactor(dep)2:durable -0.0950789  0.2599196  -0.3658 0.7145274    \n",
            "T2:Xfactor(dep)1:lusd     0.2161153  0.2432651   0.8884 0.3743671    \n",
            "T2:Xfactor(dep)2:lusd    -0.2070793  0.2219038  -0.9332 0.3507603    \n",
            "T2:Xfactor(dep)1:husd     0.1232418  0.2679611   0.4599 0.6455885    \n",
            "T2:Xfactor(dep)2:husd     0.1579798  0.2302758   0.6860 0.4927126    \n",
            "T2:Xq2:agelt35           -1.2407550  0.6357096  -1.9518 0.0510162 .  \n",
            "T2:Xq2:agegt54           -0.6019870  0.8705629  -0.6915 0.4892853    \n",
            "T2:Xq2:durable           -0.0777795  0.8549362  -0.0910 0.9275141    \n",
            "T2:Xq2:lusd               0.0508269  0.3672375   0.1384 0.8899267    \n",
            "T2:Xq2:husd              -0.0920285  0.3948698  -0.2331 0.8157231    \n",
            "T2:Xq3:agelt35           -1.1277892  0.6355092  -1.7746 0.0760147 .  \n",
            "T2:Xq3:agegt54           -0.5411478  0.8621311  -0.6277 0.5302352    \n",
            "T2:Xq3:durable           -0.1956176  0.8552255  -0.2287 0.8190854    \n",
            "T2:Xq3:lusd              -0.0739597  0.3608164  -0.2050 0.8375961    \n",
            "T2:Xq3:husd              -0.5532059  0.3911619  -1.4143 0.1573404    \n",
            "T2:Xq4:agelt35           -0.9925752  0.6341814  -1.5651 0.1176096    \n",
            "T2:Xq4:agegt54            0.2121763  0.8521836   0.2490 0.8033857    \n",
            "T2:Xq4:durable           -0.1187895  0.8619131  -0.1378 0.8903871    \n",
            "T2:Xq4:lusd               0.3041551  0.3661447   0.8307 0.4061807    \n",
            "T2:Xq4:husd              -0.0828034  0.3925595  -0.2109 0.8329480    \n",
            "T2:Xq5:agelt35           -0.9263119  0.6327188  -1.4640 0.1432453    \n",
            "T2:Xq5:agegt54            0.2187993  0.8619978   0.2538 0.7996377    \n",
            "T2:Xq5:durable           -0.4450627  0.8517335  -0.5225 0.6013169    \n",
            "T2:Xq5:lusd               0.0895975  0.3643448   0.2459 0.8057578    \n",
            "T2:Xq5:husd              -0.2456140  0.3905347  -0.6289 0.5294291    \n",
            "T2:Xq6:agelt35           -0.7320475  0.6840109  -1.0702 0.2845631    \n",
            "T2:Xq6:agegt54           -0.4355109  0.9347111  -0.4659 0.6412830    \n",
            "T2:Xq6:durable           -0.1469333  0.9049913  -0.1624 0.8710292    \n",
            "T2:Xagelt35:durable       0.0216203  0.2005310   0.1078 0.9141460    \n",
            "T2:Xagelt35:lusd          0.0680462  0.1695485   0.4013 0.6881870    \n",
            "T2:Xagelt35:husd         -0.0587002  0.1856361  -0.3162 0.7518542    \n",
            "T2:Xagegt54:durable       0.1732194  0.3177062   0.5452 0.5856247    \n",
            "T2:Xagegt54:lusd         -0.1245325  0.2667627  -0.4668 0.6406406    \n",
            "T2:Xagegt54:husd          0.2898645  0.2960548   0.9791 0.3275776    \n",
            "T2:Xdurable:lusd          0.1281108  0.2116361   0.6053 0.5449810    \n",
            "T2:Xdurable:husd          0.0133109  0.2552493   0.0521 0.9584121    \n",
            "---\n",
            "Signif. codes:  0 ‘***’ 0.001 ‘**’ 0.01 ‘*’ 0.05 ‘.’ 0.1 ‘ ’ 1\n",
            "\n"
          ]
        }
      ]
    },
    {
      "cell_type": "markdown",
      "source": [
        "## 2.4 IRA ussing LASSO"
      ],
      "metadata": {
        "id": "XN6OUHTxcV9I"
      }
    },
    {
      "cell_type": "code",
      "source": [
        "T2 = demean(T2)\n",
        "DX = model.matrix(~T2*X)[,-1]\n",
        "\n",
        "rlasso.ira = summary(rlassoEffects(DX, log(inuidur1), index = 1))\n",
        "\n",
        "print(rlasso.ira)\n",
        "\n",
        "S = as.data.frame(DX)"
      ],
      "metadata": {
        "colab": {
          "base_uri": "https://localhost:8080/"
        },
        "id": "CJ8ADxBZcjh8",
        "outputId": "63504f0a-4766-46ec-bc52-36bffb457d9e"
      },
      "execution_count": 52,
      "outputs": [
        {
          "output_type": "stream",
          "name": "stdout",
          "text": [
            "[1] \"Estimates and significance testing of the effect of target variables\"\n",
            "   Estimate. Std. Error t value Pr(>|t|)  \n",
            "T2  -0.07457    0.03209  -2.324   0.0201 *\n",
            "---\n",
            "Signif. codes:  0 ‘***’ 0.001 ‘**’ 0.01 ‘*’ 0.05 ‘.’ 0.1 ‘ ’ 1\n",
            "\n",
            "\n"
          ]
        }
      ]
    },
    {
      "cell_type": "markdown",
      "source": [
        "Results"
      ],
      "metadata": {
        "id": "syHOMxaZc9xI"
      }
    },
    {
      "cell_type": "code",
      "source": [
        "table<- matrix(0, 2, 4)\n",
        "table[1,1]<-  ols.cl[2,1]\n",
        "table[1,2]<-  ols.cra[2,1]\n",
        "table[1,3]<-  ols.ira[2,1]\n",
        "table[1,4]<-  rlasso.ira[[1]][1]\n",
        "\n",
        "table[2,1]<-  ols.cl[2,2]\n",
        "table[2,2]<-  ols.cra[2,2]\n",
        "table[2,3]<-  ols.ira[2,2]\n",
        "table[2,4]<-  rlasso.ira[[1]][2]\n",
        "\n",
        "\n",
        "colnames(table)<- c(\"CL\",\"CRA\",\"IRA\", \"IRA w Lasso\")\n",
        "rownames(table)<- c(\"estimate\", \"standard error\")\n",
        "\n",
        "print(table)"
      ],
      "metadata": {
        "colab": {
          "base_uri": "https://localhost:8080/"
        },
        "id": "E26IzPFQc_Le",
        "outputId": "d67a475d-589a-4855-ded0-4845332a9a4f"
      },
      "execution_count": 53,
      "outputs": [
        {
          "output_type": "stream",
          "name": "stdout",
          "text": [
            "                        CL         CRA         IRA IRA w Lasso\n",
            "estimate       -0.07882533 -0.07120664 -0.06990440 -0.07457328\n",
            "standard error  0.03250889  0.03204403  0.03207638  0.03208892\n"
          ]
        }
      ]
    },
    {
      "cell_type": "markdown",
      "source": [
        "## Some coefficients"
      ],
      "metadata": {
        "id": "dC6zsWWGdYHh"
      }
    },
    {
      "cell_type": "code",
      "source": [
        "df_coef_ira <- data.frame(\n",
        "  variable = rownames(ols.ira),\n",
        "  coeficiente = ols.ira[, 1],\n",
        "  std_error = ols.ira[, 2]\n",
        ")\n",
        "\n",
        "df_coef_ira=df_coef_ira[c(105,106,115,108),]\n",
        "\n",
        "df_coef_ira$lower=df_coef_ira$coeficiente - 1.96 * df_coef_ira$std_error\n",
        "df_coef_ira$upper=df_coef_ira$coeficiente + 1.96 * df_coef_ira$std_error\n",
        "print(df_coef_ira)\n",
        "\n",
        "confidence_plot <- ggplot(df_coef_ira, aes(x = variable, y = coeficiente)) +\n",
        "  geom_point(color = \"red\", size = 3) +\n",
        "  geom_errorbar(aes(ymin = lower, ymax = upper), width = 0.3, color = \"blue\") +\n",
        "  labs(x = \"variable\", y = \"Coefficient\", title = \"Confidence Interval of Coefficients\") +\n",
        "  theme_minimal() +\n",
        "  theme(axis.text.x = element_text(angle = 45, hjust = 1))\n",
        "print(confidence_plot)\n"
      ],
      "metadata": {
        "colab": {
          "base_uri": "https://localhost:8080/",
          "height": 524
        },
        "id": "vWCX9aVHdP6P",
        "outputId": "79258519-4337-4cf8-ed69-613c01e9d8f3"
      },
      "execution_count": 62,
      "outputs": [
        {
          "output_type": "stream",
          "name": "stdout",
          "text": [
            "                         variable coeficiente std_error      lower     upper\n",
            "T2:Xfemale             T2:Xfemale  -0.6597505 0.5498974 -1.7375493 0.4180484\n",
            "T2:Xblack               T2:Xblack   0.4525570 0.5103188 -0.5476679 1.4527819\n",
            "T2:Xagelt35           T2:Xagelt35   1.1233199 0.6374193 -0.1260218 2.3726617\n",
            "T2:Xfactor(dep)1 T2:Xfactor(dep)1   0.7636025 0.7854484 -0.7758764 2.3030813\n"
          ]
        },
        {
          "output_type": "display_data",
          "data": {
            "text/plain": [
              "plot without title"
            ],
            "image/png": "[encoded data removed]"
          },
          "metadata": {
            "image/png": {
              "width": 420,
              "height": 420
            }
          }
        }
      ]
    },
    {
      "cell_type": "markdown",
      "source": [
        "Females from treatment group 2 experiences an average 65.9% decrease of about in the length of unemployment spell. In the case of black people, it increase on 45.3%. Like this second group, people under 35 years old, lives an average of 112% increase, and the last group, 76.3% of increase."
      ],
      "metadata": {
        "id": "a8qnuvPyipLK"
      }
    },
    {
      "cell_type": "markdown",
      "source": [
        "# A Crash Course in Good and Bad Controls"
      ],
      "metadata": {
        "id": "SEr5I2umdpAP"
      }
    },
    {
      "cell_type": "markdown",
      "source": [
        "## Model 1"
      ],
      "metadata": {
        "id": "eWZdpcnqdxOj"
      }
    },
    {
      "cell_type": "code",
      "source": [
        "n=1000\n",
        "Z <- rnorm(n)\n",
        "X <- 1 * Z + rnorm(n)\n",
        "Y <- X + 0.8 * Z + rnorm(n)\n",
        "\n",
        "data <- data.frame(Z = Z, X = X, Y = Y)\n",
        "summary_data <- summary(data)\n",
        "print(summary_data)\n",
        "\n",
        "ols_bad <- lm(Y ~ X, data = data)\n",
        "ols_good <- lm(Y ~ X + Z, data = data)\n",
        "\n",
        "table1 <- list(\"Wrong\" = summary(ols_bad), \"Classical\" = summary(ols_good))\n",
        "\n",
        "note <- \"Ex. Smoking (X), Lung Cancer (Y), and Age (Z)\n",
        "Older people are more likely to smoke, and due to age also more likely to develop any type of cancer\n",
        "Not controlling for age will bias the estimation\"\n",
        "\n",
        "table1b <- c(table1, note)\n",
        "print(table1b)\n",
        "\n",
        "g2 <- graph(edges = c(1, 2, 1, 3, 2, 3), n = 3, directed = TRUE)\n",
        "V(g2)$name <- c(\"z\", \"x\", \"y\")\n",
        "plot(g2, layout = layout.circle)"
      ],
      "metadata": {
        "colab": {
          "base_uri": "https://localhost:8080/",
          "height": 1000
        },
        "id": "ZHp9bZPTduPk",
        "outputId": "a9855711-8d62-4644-83b5-eca163f1e4b3"
      },
      "execution_count": 55,
      "outputs": [
        {
          "output_type": "stream",
          "name": "stdout",
          "text": [
            "       Z                  X                  Y           \n",
            " Min.   :-2.80978   Min.   :-4.95467   Min.   :-7.44153  \n",
            " 1st Qu.:-0.64395   1st Qu.:-1.01062   1st Qu.:-1.55562  \n",
            " Median : 0.02072   Median : 0.07154   Median :-0.00533  \n",
            " Mean   : 0.02094   Mean   : 0.04338   Mean   : 0.04805  \n",
            " 3rd Qu.: 0.66460   3rd Qu.: 1.01240   3rd Qu.: 1.62452  \n",
            " Max.   : 3.24104   Max.   : 5.02345   Max.   : 8.16910  \n",
            "$Wrong\n",
            "\n",
            "Call:\n",
            "lm(formula = Y ~ X, data = data)\n",
            "\n",
            "Residuals:\n",
            "    Min      1Q  Median      3Q     Max \n",
            "-3.2508 -0.7657  0.0291  0.7793  3.5400 \n",
            "\n",
            "Coefficients:\n",
            "            Estimate Std. Error t value Pr(>|t|)    \n",
            "(Intercept) -0.01292    0.03550  -0.364    0.716    \n",
            "X            1.40549    0.02398  58.610   <2e-16 ***\n",
            "---\n",
            "Signif. codes:  0 ‘***’ 0.001 ‘**’ 0.01 ‘*’ 0.05 ‘.’ 0.1 ‘ ’ 1\n",
            "\n",
            "Residual standard error: 1.122 on 998 degrees of freedom\n",
            "Multiple R-squared:  0.7749,\tAdjusted R-squared:  0.7746 \n",
            "F-statistic:  3435 on 1 and 998 DF,  p-value: < 2.2e-16\n",
            "\n",
            "\n",
            "$Classical\n",
            "\n",
            "Call:\n",
            "lm(formula = Y ~ X + Z, data = data)\n",
            "\n",
            "Residuals:\n",
            "    Min      1Q  Median      3Q     Max \n",
            "-2.9059 -0.6354 -0.0279  0.6817  3.3969 \n",
            "\n",
            "Coefficients:\n",
            "            Estimate Std. Error t value Pr(>|t|)    \n",
            "(Intercept) -0.01226    0.03145   -0.39    0.697    \n",
            "X            1.01754    0.03160   32.20   <2e-16 ***\n",
            "Z            0.77225    0.04658   16.58   <2e-16 ***\n",
            "---\n",
            "Signif. codes:  0 ‘***’ 0.001 ‘**’ 0.01 ‘*’ 0.05 ‘.’ 0.1 ‘ ’ 1\n",
            "\n",
            "Residual standard error: 0.994 on 997 degrees of freedom\n",
            "Multiple R-squared:  0.8235,\tAdjusted R-squared:  0.8232 \n",
            "F-statistic:  2326 on 2 and 997 DF,  p-value: < 2.2e-16\n",
            "\n",
            "\n",
            "[[3]]\n",
            "[1] \"Ex. Smoking (X), Lung Cancer (Y), and Age (Z)\\nOlder people are more likely to smoke, and due to age also more likely to develop any type of cancer\\nNot controlling for age will bias the estimation\"\n",
            "\n"
          ]
        },
        {
          "output_type": "display_data",
          "data": {
            "text/plain": [
              "Plot with title “”"
            ],
            "image/png": "[encoded data removed]"
          },
          "metadata": {
            "image/png": {
              "width": 420,
              "height": 420
            }
          }
        }
      ]
    },
    {
      "cell_type": "markdown",
      "source": [
        "## Model 2"
      ],
      "metadata": {
        "id": "vTVvXctQeCIb"
      }
    },
    {
      "cell_type": "code",
      "source": [
        "n <- 1000\n",
        "U <- rnorm(n)\n",
        "Z <- 1.5 * U + rnorm(n)\n",
        "X <- 0.3 * Z + rnorm(n)\n",
        "Y <- X + 2 * U + rnorm(n)\n",
        "data <- data.frame(U = U, Z = Z, X = X, Y = Y)\n",
        "\n",
        "ols_bad <- lm(Y ~ X, data = data)\n",
        "ols_good <- lm(Y ~ X + Z, data = data)\n",
        "\n",
        "table2 <- list(\"Wrong\" = summary(ols_bad), \"Classical\" = summary(ols_good))\n",
        "\n",
        "note <- \"(U:Motivation, Z:Study time, X:Highschool grades, Y: UNI enrollment)\n",
        "Motivation makes students study more time, so grades increase and so does the probability of enrollment.\n",
        "Motivation also can have a direct effecet on enrollment\n",
        "Although motivation is an unobservable confounder, controlling for Z blocks the backdoor path, diminishing bias\"\n",
        "\n",
        "table2b <- c(table2, note)\n",
        "print(table2b)\n",
        "\n",
        "g2 <- graph(edges = c(1, 2, 1, 4, 2, 3, 3, 4), n = 4, directed = TRUE)\n",
        "V(g2)$name <- c(\"u\", \"z\", \"x\", \"y\")\n",
        "plot(g2, layout = layout.circle)"
      ],
      "metadata": {
        "colab": {
          "base_uri": "https://localhost:8080/",
          "height": 1000
        },
        "id": "kCzrXciZeEMW",
        "outputId": "8da483fa-dd53-4b4a-b096-59732b719ce8"
      },
      "execution_count": 56,
      "outputs": [
        {
          "output_type": "stream",
          "name": "stdout",
          "text": [
            "$Wrong\n",
            "\n",
            "Call:\n",
            "lm(formula = Y ~ X, data = data)\n",
            "\n",
            "Residuals:\n",
            "    Min      1Q  Median      3Q     Max \n",
            "-6.6389 -1.3479  0.0332  1.3558  5.9980 \n",
            "\n",
            "Coefficients:\n",
            "            Estimate Std. Error t value Pr(>|t|)    \n",
            "(Intercept) -0.07677    0.06447  -1.191    0.234    \n",
            "X            1.72008    0.05626  30.573   <2e-16 ***\n",
            "---\n",
            "Signif. codes:  0 ‘***’ 0.001 ‘**’ 0.01 ‘*’ 0.05 ‘.’ 0.1 ‘ ’ 1\n",
            "\n",
            "Residual standard error: 2.038 on 998 degrees of freedom\n",
            "Multiple R-squared:  0.4836,\tAdjusted R-squared:  0.4831 \n",
            "F-statistic: 934.7 on 1 and 998 DF,  p-value: < 2.2e-16\n",
            "\n",
            "\n",
            "$Classical\n",
            "\n",
            "Call:\n",
            "lm(formula = Y ~ X + Z, data = data)\n",
            "\n",
            "Residuals:\n",
            "    Min      1Q  Median      3Q     Max \n",
            "-5.3447 -0.9964  0.0217  1.0332  4.6696 \n",
            "\n",
            "Coefficients:\n",
            "            Estimate Std. Error t value Pr(>|t|)    \n",
            "(Intercept) -0.02107    0.04719  -0.446    0.655    \n",
            "X            1.02122    0.04750  21.501   <2e-16 ***\n",
            "Z            0.89677    0.03043  29.469   <2e-16 ***\n",
            "---\n",
            "Signif. codes:  0 ‘***’ 0.001 ‘**’ 0.01 ‘*’ 0.05 ‘.’ 0.1 ‘ ’ 1\n",
            "\n",
            "Residual standard error: 1.491 on 997 degrees of freedom\n",
            "Multiple R-squared:  0.724,\tAdjusted R-squared:  0.7235 \n",
            "F-statistic:  1308 on 2 and 997 DF,  p-value: < 2.2e-16\n",
            "\n",
            "\n",
            "[[3]]\n",
            "[1] \"(U:Motivation, Z:Study time, X:Highschool grades, Y: UNI enrollment) \\nMotivation makes students study more time, so grades increase and so does the probability of enrollment. \\nMotivation also can have a direct effecet on enrollment\\nAlthough motivation is an unobservable confounder, controlling for Z blocks the backdoor path, diminishing bias\"\n",
            "\n"
          ]
        },
        {
          "output_type": "display_data",
          "data": {
            "text/plain": [
              "Plot with title “”"
            ],
            "image/png": "[encoded data removed]"
          },
          "metadata": {
            "image/png": {
              "width": 420,
              "height": 420
            }
          }
        }
      ]
    },
    {
      "cell_type": "markdown",
      "source": [
        "## Model 3"
      ],
      "metadata": {
        "id": "swuvGkNFeOCT"
      }
    },
    {
      "cell_type": "code",
      "source": [
        "n <- 1000\n",
        "U <- rnorm(n)\n",
        "Z <- 1.1 * U + rnorm(n)\n",
        "X <- 0.2 * U + rnorm(n)\n",
        "Y <- X + 0.8 * U + rnorm(n)\n",
        "data <- data.frame(Z = Z, X = X, Y = Y)\n",
        "\n",
        "ols_bad <- lm(Y ~ X, data = data)\n",
        "ols_good <- lm(Y ~ X + Z, data = data)\n",
        "\n",
        "table3 <- list(\"Wrong\" = summary(ols_bad), \"Classical\" = summary(ols_good))\n",
        "\n",
        "note <- \"(U: pro-social preferences, X: expenditure in charities, Z: time spend volunteering, Y: feeling of belonging (from a test result))\n",
        "People with more pro-social preferences may expend more in charities and volunteering more.\n",
        "Similar to the previous example, controlling for X and Z blocks the backdoor path, although social preferences are unobservable\"\n",
        "\n",
        "table3b <- c(table3, note)\n",
        "print(table3b)\n",
        "\n",
        "g2 <- graph(edges = c(1, 2, 1, 3, 2, 4, 3, 4), n = 4, directed = TRUE)\n",
        "V(g2)$name <- c(\"u\", \"z\", \"x\", \"y\")\n",
        "plot(g2, layout = layout.circle)"
      ],
      "metadata": {
        "colab": {
          "base_uri": "https://localhost:8080/",
          "height": 1000
        },
        "id": "v7mWkU8GePUI",
        "outputId": "ceada9c2-c8b8-490a-fda0-646880265947"
      },
      "execution_count": 57,
      "outputs": [
        {
          "output_type": "stream",
          "name": "stdout",
          "text": [
            "$Wrong\n",
            "\n",
            "Call:\n",
            "lm(formula = Y ~ X, data = data)\n",
            "\n",
            "Residuals:\n",
            "    Min      1Q  Median      3Q     Max \n",
            "-4.5391 -0.8581  0.0199  0.9133  4.2636 \n",
            "\n",
            "Coefficients:\n",
            "            Estimate Std. Error t value Pr(>|t|)    \n",
            "(Intercept)  0.02782    0.04033    0.69     0.49    \n",
            "X            1.19606    0.04029   29.69   <2e-16 ***\n",
            "---\n",
            "Signif. codes:  0 ‘***’ 0.001 ‘**’ 0.01 ‘*’ 0.05 ‘.’ 0.1 ‘ ’ 1\n",
            "\n",
            "Residual standard error: 1.274 on 998 degrees of freedom\n",
            "Multiple R-squared:  0.4689,\tAdjusted R-squared:  0.4684 \n",
            "F-statistic: 881.3 on 1 and 998 DF,  p-value: < 2.2e-16\n",
            "\n",
            "\n",
            "$Classical\n",
            "\n",
            "Call:\n",
            "lm(formula = Y ~ X + Z, data = data)\n",
            "\n",
            "Residuals:\n",
            "    Min      1Q  Median      3Q     Max \n",
            "-3.7449 -0.7802  0.0094  0.7678  3.1970 \n",
            "\n",
            "Coefficients:\n",
            "            Estimate Std. Error t value Pr(>|t|)    \n",
            "(Intercept)  0.01392    0.03606   0.386      0.7    \n",
            "X            1.10802    0.03644  30.408   <2e-16 ***\n",
            "Z            0.38958    0.02454  15.876   <2e-16 ***\n",
            "---\n",
            "Signif. codes:  0 ‘***’ 0.001 ‘**’ 0.01 ‘*’ 0.05 ‘.’ 0.1 ‘ ’ 1\n",
            "\n",
            "Residual standard error: 1.139 on 997 degrees of freedom\n",
            "Multiple R-squared:  0.5761,\tAdjusted R-squared:  0.5753 \n",
            "F-statistic: 677.5 on 2 and 997 DF,  p-value: < 2.2e-16\n",
            "\n",
            "\n",
            "[[3]]\n",
            "[1] \"(U: pro-social preferences, X: expenditure in charities, Z: time spend volunteering, Y: feeling of belonging (from a test result))\\nPeople with more pro-social preferences may expend more in charities and volunteering more. \\nSimilar to the previous example, controlling for X and Z blocks the backdoor path, although social preferences are unobservable\"\n",
            "\n"
          ]
        },
        {
          "output_type": "display_data",
          "data": {
            "text/plain": [
              "Plot with title “”"
            ],
            "image/png": "[encoded data removed]"
          },
          "metadata": {
            "image/png": {
              "width": 420,
              "height": 420
            }
          }
        }
      ]
    },
    {
      "cell_type": "markdown",
      "source": [
        "## Model 8"
      ],
      "metadata": {
        "id": "wwrXwIArfAjs"
      }
    },
    {
      "cell_type": "code",
      "source": [
        "n <- 1000\n",
        "Z <- rnorm(n)\n",
        "X <- rnorm(n)\n",
        "Y <- 2 * X + 3 * Z + rnorm(n)\n",
        "data <- data.frame(Z = Z, X = X, Y = Y)\n",
        "\n",
        "ols_nocontrol <- lm(Y ~ X, data = data)\n",
        "ols_neutralcontrol <- lm(Y ~ X + Z, data = data)\n",
        "\n",
        "table8 <- list(\"No control\" = summary(ols_nocontrol), \"Neutral control\" = summary(ols_neutralcontrol))\n",
        "\n",
        "note <- \"X: dummy whether the person gets a assigned a food subsidy, Z: sex, Y:food consumption\n",
        "Although no variable is a confounder, adding Z can we good for precision\"\n",
        "\n",
        "table8b <- c(table8, note)\n",
        "print(table8b)\n",
        "\n",
        "g2 <- graph(edges = c(1, 3, 2, 3), n = 3, directed = TRUE)\n",
        "V(g2)$name <- c(\"z\", \"x\", \"y\")\n",
        "plot(g2, layout = layout.circle)"
      ],
      "metadata": {
        "colab": {
          "base_uri": "https://localhost:8080/",
          "height": 1000
        },
        "id": "fDtQEwLHfB47",
        "outputId": "6c8687b4-f7de-4734-8700-7ca235aae59a"
      },
      "execution_count": 58,
      "outputs": [
        {
          "output_type": "stream",
          "name": "stdout",
          "text": [
            "$`No control`\n",
            "\n",
            "Call:\n",
            "lm(formula = Y ~ X, data = data)\n",
            "\n",
            "Residuals:\n",
            "   Min     1Q Median     3Q    Max \n",
            "-9.008 -2.232  0.045  2.282  8.856 \n",
            "\n",
            "Coefficients:\n",
            "            Estimate Std. Error t value Pr(>|t|)    \n",
            "(Intercept)  0.08242    0.09868   0.835    0.404    \n",
            "X            2.03742    0.09665  21.080   <2e-16 ***\n",
            "---\n",
            "Signif. codes:  0 ‘***’ 0.001 ‘**’ 0.01 ‘*’ 0.05 ‘.’ 0.1 ‘ ’ 1\n",
            "\n",
            "Residual standard error: 3.118 on 998 degrees of freedom\n",
            "Multiple R-squared:  0.3081,\tAdjusted R-squared:  0.3074 \n",
            "F-statistic: 444.4 on 1 and 998 DF,  p-value: < 2.2e-16\n",
            "\n",
            "\n",
            "$`Neutral control`\n",
            "\n",
            "Call:\n",
            "lm(formula = Y ~ X + Z, data = data)\n",
            "\n",
            "Residuals:\n",
            "    Min      1Q  Median      3Q     Max \n",
            "-3.2415 -0.6632  0.0106  0.6671  2.7905 \n",
            "\n",
            "Coefficients:\n",
            "            Estimate Std. Error t value Pr(>|t|)    \n",
            "(Intercept)  0.02352    0.03139   0.749    0.454    \n",
            "X            1.98036    0.03075  64.408   <2e-16 ***\n",
            "Z            2.98644    0.03171  94.172   <2e-16 ***\n",
            "---\n",
            "Signif. codes:  0 ‘***’ 0.001 ‘**’ 0.01 ‘*’ 0.05 ‘.’ 0.1 ‘ ’ 1\n",
            "\n",
            "Residual standard error: 0.9918 on 997 degrees of freedom\n",
            "Multiple R-squared:  0.9301,\tAdjusted R-squared:  0.9299 \n",
            "F-statistic:  6631 on 2 and 997 DF,  p-value: < 2.2e-16\n",
            "\n",
            "\n",
            "[[3]]\n",
            "[1] \"X: dummy whether the person gets a assigned a food subsidy, Z: sex, Y:food consumption\\nAlthough no variable is a confounder, adding Z can we good for precision\"\n",
            "\n"
          ]
        },
        {
          "output_type": "display_data",
          "data": {
            "text/plain": [
              "Plot with title “”"
            ],
            "image/png": "[encoded data removed]"
          },
          "metadata": {
            "image/png": {
              "width": 420,
              "height": 420
            }
          }
        }
      ]
    },
    {
      "cell_type": "markdown",
      "source": [
        "## Model 12"
      ],
      "metadata": {
        "id": "xZil0WI2fPH5"
      }
    },
    {
      "cell_type": "code",
      "source": [
        "n <- 1000\n",
        "X <- rnorm(n)\n",
        "M <- 3.5 * X + rnorm(n)\n",
        "Z <- 0.6 * M + rnorm(n)\n",
        "Y <- 1.5 * M + rnorm(n)\n",
        "data <- data.frame(Z = Z, X = X, M = M, Y = Y)\n",
        "\n",
        "ols_nocontrol <- lm(Y ~ X, data = data)\n",
        "ols_control <- lm(Y ~ X + Z, data = data)\n",
        "\n",
        "table12 <- list(\"No control\" = summary(ols_nocontrol), \"Control (overcontrol bias)\" = summary(ols_control))\n",
        "\n",
        "note <- \"x: randomly assigned participation of a labor force training program, M: network tips given during training,\n",
        "Z: number of work contacts after training program, Y: dummy whether the participant has been employed after 1 year\n",
        "Z is not necesarilly a mediatior, but controlling for it also blocks the causal path we are looking for\"\n",
        "\n",
        "table12b <- c(table12, note)\n",
        "print(table12b)\n",
        "\n",
        "g2 <- graph(edges = c(1, 2, 2, 3, 2, 4), n = 4, directed = TRUE)\n",
        "V(g2)$name <- c(\"x\", \"m\", \"y\", \"z\")\n",
        "plot(g2, layout = layout.circle)"
      ],
      "metadata": {
        "colab": {
          "base_uri": "https://localhost:8080/",
          "height": 1000
        },
        "id": "MAtVHfVwfQlR",
        "outputId": "2f54b15d-a553-46b2-9034-797cc0b80fbf"
      },
      "execution_count": 59,
      "outputs": [
        {
          "output_type": "stream",
          "name": "stdout",
          "text": [
            "$`No control`\n",
            "\n",
            "Call:\n",
            "lm(formula = Y ~ X, data = data)\n",
            "\n",
            "Residuals:\n",
            "    Min      1Q  Median      3Q     Max \n",
            "-5.3812 -1.2127  0.0088  1.1944  6.0196 \n",
            "\n",
            "Coefficients:\n",
            "            Estimate Std. Error t value Pr(>|t|)    \n",
            "(Intercept) 0.004211   0.056961   0.074    0.941    \n",
            "X           5.285491   0.056951  92.807   <2e-16 ***\n",
            "---\n",
            "Signif. codes:  0 ‘***’ 0.001 ‘**’ 0.01 ‘*’ 0.05 ‘.’ 0.1 ‘ ’ 1\n",
            "\n",
            "Residual standard error: 1.801 on 998 degrees of freedom\n",
            "Multiple R-squared:  0.8962,\tAdjusted R-squared:  0.8961 \n",
            "F-statistic:  8613 on 1 and 998 DF,  p-value: < 2.2e-16\n",
            "\n",
            "\n",
            "$`Control (overcontrol bias)`\n",
            "\n",
            "Call:\n",
            "lm(formula = Y ~ X + Z, data = data)\n",
            "\n",
            "Residuals:\n",
            "   Min     1Q Median     3Q    Max \n",
            "-6.269 -1.105  0.036  1.066  5.810 \n",
            "\n",
            "Coefficients:\n",
            "            Estimate Std. Error t value Pr(>|t|)    \n",
            "(Intercept)  0.03972    0.05157    0.77    0.441    \n",
            "X            3.97007    0.10200   38.92   <2e-16 ***\n",
            "Z            0.65532    0.04386   14.94   <2e-16 ***\n",
            "---\n",
            "Signif. codes:  0 ‘***’ 0.001 ‘**’ 0.01 ‘*’ 0.05 ‘.’ 0.1 ‘ ’ 1\n",
            "\n",
            "Residual standard error: 1.629 on 997 degrees of freedom\n",
            "Multiple R-squared:  0.9152,\tAdjusted R-squared:  0.915 \n",
            "F-statistic:  5377 on 2 and 997 DF,  p-value: < 2.2e-16\n",
            "\n",
            "\n",
            "[[3]]\n",
            "[1] \"x: randomly assigned participation of a labor force training program, M: network tips given during training, \\nZ: number of work contacts after training program, Y: dummy whether the participant has been employed after 1 year\\nZ is not necesarilly a mediatior, but controlling for it also blocks the causal path we are looking for\"\n",
            "\n"
          ]
        },
        {
          "output_type": "display_data",
          "data": {
            "text/plain": [
              "Plot with title “”"
            ],
            "image/png": "[encoded data removed]"
          },
          "metadata": {
            "image/png": {
              "width": 420,
              "height": 420
            }
          }
        }
      ]
    }
  ]
}