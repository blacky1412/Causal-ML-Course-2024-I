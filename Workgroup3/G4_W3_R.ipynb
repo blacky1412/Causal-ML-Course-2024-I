{
 "cells": [
  {
   "cell_type": "code",
   "execution_count": 15,
   "id": "742147d4-9ce7-4524-ac95-027622e162df",
   "metadata": {},
   "outputs": [],
   "source": [
    "options(pkgType = \"binary\", repos = \"https://cran-archive.r-project.org/\")"
   ]
  },
  {
   "cell_type": "code",
   "execution_count": 133,
   "id": "5008799a-069c-4a28-88cb-1d290903ca8d",
   "metadata": {},
   "outputs": [
    {
     "name": "stderr",
     "output_type": "stream",
     "text": [
      "Installing package into 'C:/Users/user/Documents/R/win-library/3.6'\n",
      "(as 'lib' is unspecified)\n",
      "Warning message:\n",
      "\"package 'hdm' is in use and will not be installed\"Installing package into 'C:/Users/user/Documents/R/win-library/3.6'\n",
      "(as 'lib' is unspecified)\n",
      "Warning message:\n",
      "\"package 'parallel' is in use and will not be installed\"Installing package into 'C:/Users/user/Documents/R/win-library/3.6'\n",
      "(as 'lib' is unspecified)\n",
      "Warning message:\n",
      "\"package 'stats' is in use and will not be installed\"Installing package into 'C:/Users/user/Documents/R/win-library/3.6'\n",
      "(as 'lib' is unspecified)\n",
      "Warning message:\n",
      "\"package 'xtable' is in use and will not be installed\"Installing package into 'C:/Users/user/Documents/R/win-library/3.6'\n",
      "(as 'lib' is unspecified)\n",
      "Warning message:\n",
      "\"package 'glmnet' is in use and will not be installed\"Installing package into 'C:/Users/user/Documents/R/win-library/3.6'\n",
      "(as 'lib' is unspecified)\n",
      "Warning message:\n",
      "\"package 'Matrix' is in use and will not be installed\"Installing package into 'C:/Users/user/Documents/R/win-library/3.6'\n",
      "(as 'lib' is unspecified)\n",
      "Warning message:\n",
      "\"package 'ggplot2' is in use and will not be installed\""
     ]
    }
   ],
   "source": [
    "install.packages(\"hdm\")\n",
    "install.packages(\"parallel\")\n",
    "install.packages(\"stats\")\n",
    "install.packages(\"xtable\")\n",
    "install.packages(\"glmnet\")\n",
    "install.packages(\"Matrix\")\n",
    "install.packages(\"ggplot2\")\n",
    "library(hdm)\n",
    "library(parallel)\n",
    "library(stats)\n",
    "library(xtable)\n",
    "library(glmnet)\n",
    "library(Matrix)\n",
    "library(ggplot2)"
   ]
  },
  {
   "cell_type": "markdown",
   "id": "81be3cbe-f233-465e-b5af-1cc6346bbf1a",
   "metadata": {},
   "source": [
    "# Neyman Orthogonality Proof"
   ]
  },
  {
   "cell_type": "markdown",
   "id": "9a1c233f-0e85-49cd-9a9a-45e6f95ae86b",
   "metadata": {},
   "source": [
    "To demonstrate why the derivative of 𝛼 with respect to 𝜂 is zero under the Neyman Orthogonality condition, you must show that the objective function's sensitivity to 𝜂 at the true parameter values is minimal. Here’s a simplified approach:\r\n",
    "\n",
    "1.\tObjective Function: Consider a generic objective function 𝐿(𝛼,𝜂) that you minimize to estimate parameters. Suppose 𝐿 represents a loss function for the model 𝑦=𝛼𝐷+𝑏′𝑊+𝑒.\n",
    "\r\n",
    "2.\tGradient with Respect to 𝜂η:\r\n",
    "•\tCompute the gradient ∇𝜂𝐿(𝛼,𝜂). For Neyman Orthogonality to hold, this gradient evaluated at the true parameter values (𝛼,𝜂0) must be zero, i.e., ∇𝜂𝐿(𝛼,𝜂0)=0.\r\n",
    "•\tThis implies that at the optimum, small changes in 𝜂(nuisance parameters) do not affect the value of the loss function, indicating that the estimation of 𝛼α is stable against changes in \n",
    "𝜂.\r\n",
    "3.\tSecond Derivative or Cross-Derivative:\r\n",
    "•\tCalculate ∂2𝐿/∂𝛼∂𝜂. For the derivative 𝑑𝛼/𝑑𝜂 to be zero, this cross-derivative should also ideally be zero at the optimum.\r\n",
    "•\tIt means that the rate of change of the loss function with respect to 𝛼α does not change as 𝜂 changes slightly, confirming the insensitivity of 𝛼 to 𝜂.\r\n",
    "4.\tImplicit Function Theorem:\r\n",
    "•\tThe theorem suggests that if 𝐹(𝛼,𝜂)=∇𝜂𝐿(𝛼,𝜂) and ∂𝐹∂𝜂 are well-defined and continuous, then around the true values, the function 𝛼(𝜂) behaves smoothly and does not react to minor perturbations in 𝜂.\r\n",
    "5.\tPractical Consideration: In practice, you often verify this condition through simulation or empirical testing, especially in complex econometric models where analytical solutions may be infeasible.\r\n"
   ]
  },
  {
   "cell_type": "markdown",
   "id": "bf8509be-b9c6-4a9d-aee1-e7794d57e603",
   "metadata": {},
   "source": [
    "# Code section"
   ]
  },
  {
   "cell_type": "markdown",
   "id": "af040602-4d9f-4f54-b1fe-cf5e86ab6ec9",
   "metadata": {},
   "source": [
    "## Orthogonal Learning"
   ]
  },
  {
   "cell_type": "code",
   "execution_count": 3,
   "id": "e86d77c4-b980-4c30-b526-1b2c7aad469b",
   "metadata": {},
   "outputs": [],
   "source": [
    "set.seed(1)\n",
    "\n",
    "B = 100 # trials\n",
    "Naive = rep(0, B)\n",
    "Orthogonal = rep(0, B)\n",
    "\n",
    "for (i in 1:B){\n",
    "    \n",
    "n=1000\n",
    "p= 100\n",
    "beta = 1/(1:p)^2\n",
    "gamma = 1/(1:p)^2\n",
    "\n",
    "X=matrix(rnorm(n*p), n, p)\n",
    "    \n",
    "    \n",
    "D=   X%*%gamma + rnorm(n)/4\n",
    "\n",
    "Y = 10*D+ X%*%beta + rnorm(n)\n",
    "\n",
    "# single selection method\n",
    "\n",
    "SX.IDs = which(rlasso(Y~ D+X)$coef[-c(1,2)] !=0)  #select covariates by Lasso\n",
    "\n",
    "\n",
    "if (sum(SX.IDs)==0) {Naive[i] = lm(Y~ D)$coef[2]}\n",
    "\n",
    "if (sum(SX.IDs)!= 0) {Naive[i] = lm(Y~ D + X[,SX.IDs])$coef[2]}\n",
    "\n",
    "\n",
    "\n",
    "#partialling out\n",
    "\n",
    "resY = rlasso(Y~ X, Post=F)$residuals\n",
    "resD = rlasso(D~ X, Post=F)$residuals\n",
    "Orthogonal[i]= lm(resY ~ resD)$coef[2]\n",
    "\n",
    "}"
   ]
  },
  {
   "cell_type": "code",
   "execution_count": 4,
   "id": "f55eff94-faf1-48bb-8bad-6af7a515123e",
   "metadata": {},
   "outputs": [
    {
     "data": {
      "image/png": "[encoded data removed]",
      "text/plain": [
       "Plot with title \"Orthogonal\""
      ]
     },
     "metadata": {},
     "output_type": "display_data"
    },
    {
     "data": {
      "image/png": "[encoded data removed]",
      "text/plain": [
       "Plot with title \"Naive\""
      ]
     },
     "metadata": {},
     "output_type": "display_data"
    }
   ],
   "source": [
    "hist(Orthogonal-1,col=4, freq=F, xlim= c(8, 10), xlab= \"Orhtogonal -True \", main=\"Orthogonal\")\n",
    "hist(Naive-1, col=2, freq=F, xlim= c(8,10), xlab= \"Naive- True\", main = \"Naive\")"
   ]
  },
  {
   "cell_type": "code",
   "execution_count": 5,
   "id": "0fa9b65d-9d10-489a-9745-a0beab94bee2",
   "metadata": {},
   "outputs": [],
   "source": [
    "set.seed(1)\n",
    "\n",
    "B = 1000 # trials\n",
    "Naive = rep(0, B)\n",
    "Orthogonal = rep(0, B)\n",
    "\n",
    "for (i in 1:B){\n",
    "    \n",
    "n=1000\n",
    "p= 100\n",
    "beta = 1/(1:p)^2\n",
    "gamma = 1/(1:p)^2\n",
    "\n",
    "X=matrix(rnorm(n*p), n, p)\n",
    "    \n",
    "    \n",
    "D=   X%*%gamma + rnorm(n)/4\n",
    "\n",
    "Y = 10*D+ X%*%beta + rnorm(n)\n",
    "\n",
    "# single selection method\n",
    "\n",
    "SX.IDs = which(rlasso(Y~ D+X)$coef[-c(1,2)] !=0)  #select covariates by Lasso\n",
    "\n",
    "\n",
    "if (sum(SX.IDs)==0) {Naive[i] = lm(Y~ D)$coef[2]}\n",
    "\n",
    "if (sum(SX.IDs)!= 0) {Naive[i] = lm(Y~ D + X[,SX.IDs])$coef[2]}\n",
    "\n",
    "\n",
    "\n",
    "#partialling out\n",
    "\n",
    "resY = rlasso(Y~ X, Post=F)$residuals\n",
    "resD = rlasso(D~ X, Post=F)$residuals\n",
    "Orthogonal[i]= lm(resY ~ resD)$coef[2]\n",
    "\n",
    "}"
   ]
  },
  {
   "cell_type": "code",
   "execution_count": 6,
   "id": "513b39f1-82c7-48ee-b288-4e4bb150c22f",
   "metadata": {},
   "outputs": [
    {
     "data": {
      "image/png": "[encoded data removed]",
      "text/plain": [
       "Plot with title \"Orthogonal\""
      ]
     },
     "metadata": {},
     "output_type": "display_data"
    },
    {
     "data": {
      "image/png": "[encoded data removed]",
      "text/plain": [
       "Plot with title \"Naive\""
      ]
     },
     "metadata": {},
     "output_type": "display_data"
    }
   ],
   "source": [
    "hist(Orthogonal-1,col=4, freq=F, xlim= c(8, 10), xlab= \"Orhtogonal -True \", main=\"Orthogonal\")\n",
    "hist(Naive-1, col=2, freq=F, xlim= c(8,10), xlab= \"Naive- True\", main = \"Naive\")"
   ]
  },
  {
   "cell_type": "code",
   "execution_count": 7,
   "id": "9b5a8255-2113-412a-933f-a6aad4f96b93",
   "metadata": {},
   "outputs": [],
   "source": [
    "set.seed(1)\n",
    "\n",
    "B = 10000 # trials\n",
    "Naive = rep(0, B)\n",
    "Orthogonal = rep(0, B)\n",
    "\n",
    "for (i in 1:B){\n",
    "    \n",
    "n=1000\n",
    "p= 100\n",
    "beta = 1/(1:p)^2\n",
    "gamma = 1/(1:p)^2\n",
    "\n",
    "X=matrix(rnorm(n*p), n, p)\n",
    "    \n",
    "    \n",
    "D=   X%*%gamma + rnorm(n)/4\n",
    "\n",
    "Y = 10*D+ X%*%beta + rnorm(n)\n",
    "\n",
    "# single selection method\n",
    "\n",
    "SX.IDs = which(rlasso(Y~ D+X)$coef[-c(1,2)] !=0)  #select covariates by Lasso\n",
    "\n",
    "\n",
    "if (sum(SX.IDs)==0) {Naive[i] = lm(Y~ D)$coef[2]}\n",
    "\n",
    "if (sum(SX.IDs)!= 0) {Naive[i] = lm(Y~ D + X[,SX.IDs])$coef[2]}\n",
    "\n",
    "\n",
    "\n",
    "#partialling out\n",
    "\n",
    "resY = rlasso(Y~ X, Post=F)$residuals\n",
    "resD = rlasso(D~ X, Post=F)$residuals\n",
    "Orthogonal[i]= lm(resY ~ resD)$coef[2]\n",
    "\n",
    "}"
   ]
  },
  {
   "cell_type": "code",
   "execution_count": 8,
   "id": "716171e9-5218-48d3-badf-d29c421d16d1",
   "metadata": {},
   "outputs": [
    {
     "data": {
      "image/png": "[encoded data removed]",
      "text/plain": [
       "Plot with title \"Orthogonal\""
      ]
     },
     "metadata": {},
     "output_type": "display_data"
    },
    {
     "data": {
      "image/png": "[encoded data removed]",
      "text/plain": [
       "Plot with title \"Naive\""
      ]
     },
     "metadata": {},
     "output_type": "display_data"
    }
   ],
   "source": [
    "hist(Orthogonal-1,col=4, freq=F, xlim= c(8, 10), xlab= \"Orhtogonal -True \", main=\"Orthogonal\")\n",
    "hist(Naive-1, col=2, freq=F, xlim= c(8,10), xlab= \"Naive- True\", main = \"Naive\")"
   ]
  },
  {
   "cell_type": "markdown",
   "id": "65ef6eed-a82b-4c5f-8864-a0abbc8b9c71",
   "metadata": {},
   "source": [
    "The naive estimator might be biased if there's correlation between the treatment D and the covariates X that isn't accounted for, causing the estimator to be centered away from the true effect (10 in this case).\n",
    "\n",
    "\n",
    "The orthogonal estimator, which corrects for this by removing the influence of X on D, should be centered closer to the trueeffect of 10.\r\n",
    "ct of 10."
   ]
  },
  {
   "cell_type": "markdown",
   "id": "6a3be1eb-4cb1-4117-beef-8d5d3fe1ab58",
   "metadata": {},
   "source": [
    "Bias in Naive Estimators: Naive estimators do not account for the confounding effects that covariates X might have on the treatment D. When X and D are correlated, and X also affects Y, failing to control for X can lead to biased estimates of the treatment effect.\n",
    "\r\n",
    "Orthogonality: Orthogonal methods explicitly correct for these correlations by, for instance, using control functions or residuals from regressions of D on X. This approach effectively isolates the component of D that is independent of X, leading to more accurate (unbiased) estimation of the treatment effect.\r\n"
   ]
  },
  {
   "cell_type": "code",
   "execution_count": 6,
   "id": "d5c55379-2824-44e8-895e-5270a77de65b",
   "metadata": {},
   "outputs": [
    {
     "ename": "ERROR",
     "evalue": "Error in mclapply(1:B, perform_trial, mc.cores = detectCores()): 'mc.cores' > 1 is not supported on Windows\n",
     "output_type": "error",
     "traceback": [
      "Error in mclapply(1:B, perform_trial, mc.cores = detectCores()): 'mc.cores' > 1 is not supported on Windows\nTraceback:\n",
      "1. mclapply(1:B, perform_trial, mc.cores = detectCores())",
      "2. stop(\"'mc.cores' > 1 is not supported on Windows\")"
     ]
    }
   ],
   "source": [
    "set.seed(1)\n",
    "\n",
    "B <- 10000 # trials\n",
    "\n",
    "# Crear una función para cada iteración que se ejecutará en paralelo\n",
    "perform_trial <- function(i) {\n",
    "  n <- 1000\n",
    "  p <- 100\n",
    "  beta <- 1/(1:p)^2\n",
    "  gamma <- 1/(1:p)^2\n",
    "\n",
    "  X <- matrix(rnorm(n * p), n, p)\n",
    "  D <- X %*% gamma + rnorm(n) / 4\n",
    "  Y <- 10 * D + X %*% beta + rnorm(n)\n",
    "\n",
    "  # single selection method\n",
    "  SX.IDs <- which(rlasso(Y ~ D + X)$coef[-c(1, 2)] != 0)  # select covariates by Lasso\n",
    "\n",
    "  naive_result <- if (sum(SX.IDs) == 0) {\n",
    "    lm(Y ~ D)$coef[2]\n",
    "  } else {\n",
    "    lm(Y ~ D + X[, SX.IDs])$coef[2]\n",
    "  }\n",
    "\n",
    "  # partialling out\n",
    "  resY <- rlasso(Y ~ X, Post = FALSE)$residuals\n",
    "  resD <- rlasso(D ~ X, Post = FALSE)$residuals\n",
    "  orthogonal_result <- lm(resY ~ resD)$coef[2]\n",
    "\n",
    "  return(c(naive_result, orthogonal_result))\n",
    "}\n",
    "\n",
    "# Ejecutar en paralelo\n",
    "results <- mclapply(1:B, perform_trial, mc.cores = detectCores())\n",
    "\n",
    "# Separar resultados\n",
    "Naive <- sapply(results, function(x) x[1])\n",
    "Orthogonal <- sapply(results, function(x) x[2])\n",
    "\n",
    "# Gráficos\n",
    "par(mfrow = c(1, 2))\n",
    "hist(Orthogonal - 1, col = 4, freq = FALSE, xlim = c(8, 10), xlab = \"Orthogonal - True\", main = \"Orthogonal\")\n",
    "hist(Naive - 1, col = 2, freq = FALSE, xlim = c(8, 10), xlab = \"Naive - True\", main = \"Naive\")\n"
   ]
  },
  {
   "cell_type": "markdown",
   "id": "c9dcbaf2-31d1-4675-8d92-07e7a5ba779c",
   "metadata": {},
   "source": [
    "Parallel computing involves splitting a large computation task into smaller chunks and processing these chunks simultaneously across multiple cores or machines. This significantly reduces the overall computation time."
   ]
  },
  {
   "cell_type": "markdown",
   "id": "a3e10f81-9f70-4bfc-9516-aa719d0f14e2",
   "metadata": {},
   "source": [
    "## Double Lasso - Using School data"
   ]
  },
  {
   "cell_type": "code",
   "execution_count": 107,
   "id": "3afc8098-f378-4bcd-8fe0-783b25b9e832",
   "metadata": {},
   "outputs": [
    {
     "data": {
      "text/html": [
       "<table>\n",
       "<thead><tr><th></th><th scope=col>outcome.test.score</th><th scope=col>treatment</th><th scope=col>school</th><th scope=col>is.female</th><th scope=col>mother.attended.secondary.school</th><th scope=col>father.attened.secondary.school</th><th scope=col>failed.at.least.one.school.year</th><th scope=col>family.receives.cash.transfer</th><th scope=col>has.computer.with.internet.at.home</th><th scope=col>is.unemployed</th><th scope=col>has.some.form.of.income</th><th scope=col>saves.money.for.future.purchases</th><th scope=col>intention.to.save.index</th><th scope=col>makes.list.of.expenses.every.month</th><th scope=col>negotiates.prices.or.payment.methods</th><th scope=col>financial.autonomy.index</th></tr></thead>\n",
       "<tbody>\n",
       "\t<tr><th scope=row>3</th><td>56.67166</td><td>1       </td><td>35002914</td><td>1       </td><td>1       </td><td>1       </td><td>0       </td><td>0       </td><td>0       </td><td>1       </td><td>0       </td><td>0       </td><td>48      </td><td>0       </td><td>1       </td><td>56      </td></tr>\n",
       "\t<tr><th scope=row>4</th><td>29.07938</td><td>0       </td><td>35908915</td><td>1       </td><td>0       </td><td>0       </td><td>0       </td><td>0       </td><td>0       </td><td>0       </td><td>0       </td><td>0       </td><td>42      </td><td>0       </td><td>0       </td><td>27      </td></tr>\n",
       "\t<tr><th scope=row>5</th><td>49.56353</td><td>1       </td><td>33047324</td><td>1       </td><td>0       </td><td>0       </td><td>0       </td><td>0       </td><td>1       </td><td>0       </td><td>1       </td><td>0       </td><td>50      </td><td>0       </td><td>1       </td><td>31      </td></tr>\n",
       "\t<tr><th scope=row>6</th><td>43.09943</td><td>0       </td><td>53012542</td><td>1       </td><td>0       </td><td>0       </td><td>0       </td><td>1       </td><td>1       </td><td>0       </td><td>1       </td><td>0       </td><td>93      </td><td>0       </td><td>1       </td><td>77      </td></tr>\n",
       "\t<tr><th scope=row>7</th><td>71.32960</td><td>0       </td><td>53006984</td><td>1       </td><td>1       </td><td>0       </td><td>0       </td><td>0       </td><td>1       </td><td>1       </td><td>1       </td><td>0       </td><td>52      </td><td>0       </td><td>1       </td><td>43      </td></tr>\n",
       "\t<tr><th scope=row>8</th><td>80.06344</td><td>0       </td><td>33049475</td><td>1       </td><td>1       </td><td>1       </td><td>0       </td><td>0       </td><td>0       </td><td>0       </td><td>1       </td><td>0       </td><td>50      </td><td>0       </td><td>0       </td><td>31      </td></tr>\n",
       "</tbody>\n",
       "</table>\n"
      ],
      "text/latex": [
       "\\begin{tabular}{r|llllllllllllllll}\n",
       "  & outcome.test.score & treatment & school & is.female & mother.attended.secondary.school & father.attened.secondary.school & failed.at.least.one.school.year & family.receives.cash.transfer & has.computer.with.internet.at.home & is.unemployed & has.some.form.of.income & saves.money.for.future.purchases & intention.to.save.index & makes.list.of.expenses.every.month & negotiates.prices.or.payment.methods & financial.autonomy.index\\\\\n",
       "\\hline\n",
       "\t3 & 56.67166 & 1        & 35002914 & 1        & 1        & 1        & 0        & 0        & 0        & 1        & 0        & 0        & 48       & 0        & 1        & 56      \\\\\n",
       "\t4 & 29.07938 & 0        & 35908915 & 1        & 0        & 0        & 0        & 0        & 0        & 0        & 0        & 0        & 42       & 0        & 0        & 27      \\\\\n",
       "\t5 & 49.56353 & 1        & 33047324 & 1        & 0        & 0        & 0        & 0        & 1        & 0        & 1        & 0        & 50       & 0        & 1        & 31      \\\\\n",
       "\t6 & 43.09943 & 0        & 53012542 & 1        & 0        & 0        & 0        & 1        & 1        & 0        & 1        & 0        & 93       & 0        & 1        & 77      \\\\\n",
       "\t7 & 71.32960 & 0        & 53006984 & 1        & 1        & 0        & 0        & 0        & 1        & 1        & 1        & 0        & 52       & 0        & 1        & 43      \\\\\n",
       "\t8 & 80.06344 & 0        & 33049475 & 1        & 1        & 1        & 0        & 0        & 0        & 0        & 1        & 0        & 50       & 0        & 0        & 31      \\\\\n",
       "\\end{tabular}\n"
      ],
      "text/markdown": [
       "\n",
       "| <!--/--> | outcome.test.score | treatment | school | is.female | mother.attended.secondary.school | father.attened.secondary.school | failed.at.least.one.school.year | family.receives.cash.transfer | has.computer.with.internet.at.home | is.unemployed | has.some.form.of.income | saves.money.for.future.purchases | intention.to.save.index | makes.list.of.expenses.every.month | negotiates.prices.or.payment.methods | financial.autonomy.index |\n",
       "|---|---|---|---|---|---|---|---|---|---|---|---|---|---|---|---|---|\n",
       "| 3 | 56.67166 | 1        | 35002914 | 1        | 1        | 1        | 0        | 0        | 0        | 1        | 0        | 0        | 48       | 0        | 1        | 56       |\n",
       "| 4 | 29.07938 | 0        | 35908915 | 1        | 0        | 0        | 0        | 0        | 0        | 0        | 0        | 0        | 42       | 0        | 0        | 27       |\n",
       "| 5 | 49.56353 | 1        | 33047324 | 1        | 0        | 0        | 0        | 0        | 1        | 0        | 1        | 0        | 50       | 0        | 1        | 31       |\n",
       "| 6 | 43.09943 | 0        | 53012542 | 1        | 0        | 0        | 0        | 1        | 1        | 0        | 1        | 0        | 93       | 0        | 1        | 77       |\n",
       "| 7 | 71.32960 | 0        | 53006984 | 1        | 1        | 0        | 0        | 0        | 1        | 1        | 1        | 0        | 52       | 0        | 1        | 43       |\n",
       "| 8 | 80.06344 | 0        | 33049475 | 1        | 1        | 1        | 0        | 0        | 0        | 0        | 1        | 0        | 50       | 0        | 0        | 31       |\n",
       "\n"
      ],
      "text/plain": [
       "  outcome.test.score treatment school   is.female\n",
       "3 56.67166           1         35002914 1        \n",
       "4 29.07938           0         35908915 1        \n",
       "5 49.56353           1         33047324 1        \n",
       "6 43.09943           0         53012542 1        \n",
       "7 71.32960           0         53006984 1        \n",
       "8 80.06344           0         33049475 1        \n",
       "  mother.attended.secondary.school father.attened.secondary.school\n",
       "3 1                                1                              \n",
       "4 0                                0                              \n",
       "5 0                                0                              \n",
       "6 0                                0                              \n",
       "7 1                                0                              \n",
       "8 1                                1                              \n",
       "  failed.at.least.one.school.year family.receives.cash.transfer\n",
       "3 0                               0                            \n",
       "4 0                               0                            \n",
       "5 0                               0                            \n",
       "6 0                               1                            \n",
       "7 0                               0                            \n",
       "8 0                               0                            \n",
       "  has.computer.with.internet.at.home is.unemployed has.some.form.of.income\n",
       "3 0                                  1             0                      \n",
       "4 0                                  0             0                      \n",
       "5 1                                  0             1                      \n",
       "6 1                                  0             1                      \n",
       "7 1                                  1             1                      \n",
       "8 0                                  0             1                      \n",
       "  saves.money.for.future.purchases intention.to.save.index\n",
       "3 0                                48                     \n",
       "4 0                                42                     \n",
       "5 0                                50                     \n",
       "6 0                                93                     \n",
       "7 0                                52                     \n",
       "8 0                                50                     \n",
       "  makes.list.of.expenses.every.month negotiates.prices.or.payment.methods\n",
       "3 0                                  1                                   \n",
       "4 0                                  0                                   \n",
       "5 0                                  1                                   \n",
       "6 0                                  1                                   \n",
       "7 0                                  1                                   \n",
       "8 0                                  0                                   \n",
       "  financial.autonomy.index\n",
       "3 56                      \n",
       "4 27                      \n",
       "5 31                      \n",
       "6 77                      \n",
       "7 43                      \n",
       "8 31                      "
      ]
     },
     "metadata": {},
     "output_type": "display_data"
    }
   ],
   "source": [
    "data <- read.csv(\"https://raw.githubusercontent.com/gsbDBI/ExperimentData/97a11199ba559f01c7b3803a1493ffa08631732e/School/bruhn2016.csv\")\n",
    "data <- na.omit(data)\n",
    "head(data)"
   ]
  },
  {
   "cell_type": "code",
   "execution_count": 101,
   "id": "06e1bb10-64ec-4c47-bc54-65b8ffc77c35",
   "metadata": {},
   "outputs": [],
   "source": [
    "# Assuming 'outcome.test.score' as the dependent variable\n",
    "y <- data$outcome.test.score\n",
    "\n",
    "# Use all other columns as independent variables, excluding the first column which typically is the index or ID\n",
    "X <- data[,c(-1)]\n",
    "\n",
    "# Convert X back to a data frame if necessary\n",
    "X <- as.data.frame(X)"
   ]
  },
  {
   "cell_type": "markdown",
   "id": "066e5ffb-21fa-4932-9a12-5e657cdcbec4",
   "metadata": {},
   "source": [
    "### OLS"
   ]
  },
  {
   "cell_type": "code",
   "execution_count": 111,
   "id": "1d46d022-058d-44d1-8a70-30092a306693",
   "metadata": {},
   "outputs": [
    {
     "data": {
      "text/plain": [
       "\n",
       "Call:\n",
       "lm(formula = y ~ ., data = data.frame(y, X))\n",
       "\n",
       "Residuals:\n",
       "    Min      1Q  Median      3Q     Max \n",
       "-41.331  -9.411   0.421   9.595  45.906 \n",
       "\n",
       "Coefficients:\n",
       "                                       Estimate Std. Error t value Pr(>|t|)    \n",
       "(Intercept)                           5.191e+01  7.872e-01  65.938  < 2e-16 ***\n",
       "treatment                             4.291e+00  2.457e-01  17.459  < 2e-16 ***\n",
       "school                               -5.430e-08  1.623e-08  -3.345 0.000826 ***\n",
       "is.female                             2.665e+00  2.541e-01  10.488  < 2e-16 ***\n",
       "mother.attended.secondary.school      6.849e-01  2.867e-01   2.389 0.016927 *  \n",
       "father.attened.secondary.school       7.407e-01  2.898e-01   2.556 0.010601 *  \n",
       "failed.at.least.one.school.year      -5.858e+00  2.827e-01 -20.725  < 2e-16 ***\n",
       "family.receives.cash.transfer        -1.581e+00  2.761e-01  -5.725 1.06e-08 ***\n",
       "has.computer.with.internet.at.home   -2.147e-01  2.747e-01  -0.782 0.434381    \n",
       "is.unemployed                        -2.148e+00  2.938e-01  -7.312 2.80e-13 ***\n",
       "has.some.form.of.income               2.235e+00  2.825e-01   7.912 2.75e-15 ***\n",
       "saves.money.for.future.purchases     -1.104e-01  3.652e-01  -0.302 0.762381    \n",
       "intention.to.save.index               1.736e-01  7.198e-03  24.116  < 2e-16 ***\n",
       "makes.list.of.expenses.every.month   -1.731e+00  4.307e-01  -4.019 5.89e-05 ***\n",
       "negotiates.prices.or.payment.methods  3.689e-01  3.075e-01   1.200 0.230160    \n",
       "financial.autonomy.index             -3.723e-02  7.344e-03  -5.069 4.06e-07 ***\n",
       "---\n",
       "Signif. codes:  0 '***' 0.001 '**' 0.01 '*' 0.05 '.' 0.1 ' ' 1\n",
       "\n",
       "Residual standard error: 13.56 on 12206 degrees of freedom\n",
       "Multiple R-squared:  0.1365,\tAdjusted R-squared:  0.1355 \n",
       "F-statistic: 128.6 on 15 and 12206 DF,  p-value: < 2.2e-16\n"
      ]
     },
     "metadata": {},
     "output_type": "display_data"
    },
    {
     "name": "stdout",
     "output_type": "stream",
     "text": [
      "[1] 4.290505\n"
     ]
    }
   ],
   "source": [
    "ols_model <- lm(y ~ ., data = data.frame(y, X))\n",
    "summary(ols_model)\n",
    "coef_ols <- coef(summary(ols_model))\n",
    "treatment_ols_coef <- coef_ols[\"treatment\", \"Estimate\"]\n",
    "treatment_ols_ci_lower <- treatment_ols_coef - 1.96 * coef_ols[\"treatment\", \"Std. Error\"]\n",
    "treatment_ols_ci_upper <- treatment_ols_coef + 1.96 * coef_ols[\"treatment\", \"Std. Error\"]"
   ]
  },
  {
   "cell_type": "markdown",
   "id": "6ddb2805-3134-4306-8781-63bc2ddeb8b0",
   "metadata": {},
   "source": [
    "### # LASSO with Cross-Validation"
   ]
  },
  {
   "cell_type": "code",
   "execution_count": 126,
   "id": "08b5aa76-c197-47cc-9fd7-ea901d9a7d93",
   "metadata": {},
   "outputs": [
    {
     "name": "stdout",
     "output_type": "stream",
     "text": [
      "16 x 1 sparse Matrix of class \"dgCMatrix\"\n",
      "                                                1\n",
      "(Intercept)                          51.580049098\n",
      "treatment                             3.450238901\n",
      "school                                .          \n",
      "is.female                             1.816285090\n",
      "mother.attended.secondary.school      0.348906212\n",
      "father.attened.secondary.school       0.329933628\n",
      "failed.at.least.one.school.year      -5.311870532\n",
      "family.receives.cash.transfer        -0.885799907\n",
      "has.computer.with.internet.at.home    .          \n",
      "is.unemployed                        -0.960042049\n",
      "has.some.form.of.income               0.845856279\n",
      "saves.money.for.future.purchases      .          \n",
      "intention.to.save.index               0.143782502\n",
      "makes.list.of.expenses.every.month   -0.599940992\n",
      "negotiates.prices.or.payment.methods  .          \n",
      "financial.autonomy.index             -0.008364978\n"
     ]
    },
    {
     "data": {
      "image/png": "[encoded data removed]",
      "text/plain": [
       "plot without title"
      ]
     },
     "metadata": {},
     "output_type": "display_data"
    }
   ],
   "source": [
    "cv_lasso <- cv.glmnet(as.matrix(X), y, alpha = 1)\n",
    "plot(cv_lasso)\n",
    "best_lambda <- cv_lasso$lambda.min\n",
    "lasso_model <- glmnet(as.matrix(X), y, alpha = 1, lambda = best_lambda)\n",
    "lasso_coef <- as.numeric(coef(cv_lasso, s = \"lambda.min\")[2])\n",
    "print(coef(cv_lasso))"
   ]
  },
  {
   "cell_type": "markdown",
   "id": "cad1ce82-c4c3-4d36-976c-e68c9de9daf5",
   "metadata": {},
   "source": [
    "### Double Lasso using theoretical Lambda"
   ]
  },
  {
   "cell_type": "code",
   "execution_count": 140,
   "id": "3b092ff4-0c31-46e6-a737-3f7f047ad6e1",
   "metadata": {},
   "outputs": [
    {
     "name": "stdout",
     "output_type": "stream",
     "text": [
      "\n",
      "Call:\n",
      "rlasso.default(x = X, y = y, method = \"theoretical\")\n",
      "\n",
      "Post-Lasso Estimation:  TRUE \n",
      "\n",
      "Total number of variables: 15\n",
      "Number of selected variables: 11 \n",
      "\n",
      "Residuals: \n",
      "     Min       1Q   Median       3Q      Max \n",
      "-41.0993  -9.4591   0.4401   9.5797  45.6421 \n",
      "\n",
      "                                     Estimate\n",
      "(Intercept)                            50.179\n",
      "treatment                               4.280\n",
      "school                                  0.000\n",
      "is.female                               2.634\n",
      "mother.attended.secondary.school        0.743\n",
      "father.attened.secondary.school         0.709\n",
      "failed.at.least.one.school.year        -5.870\n",
      "family.receives.cash.transfer          -1.466\n",
      "has.computer.with.internet.at.home      0.000\n",
      "is.unemployed                          -2.127\n",
      "has.some.form.of.income                 2.200\n",
      "saves.money.for.future.purchases        0.000\n",
      "intention.to.save.index                 0.172\n",
      "makes.list.of.expenses.every.month     -1.757\n",
      "negotiates.prices.or.payment.methods    0.000\n",
      "financial.autonomy.index               -0.034\n",
      "\n",
      "Residual standard error: 13.56\n",
      "Multiple R-squared:  0.1356\n",
      "Adjusted R-squared:  0.1348\n",
      "Joint significance test:\n",
      " the sup score statistic for joint significance test is 8.092e+07 with a p-value of 0.858\n"
     ]
    }
   ],
   "source": [
    "dl_theoretical <- rlasso(X, y, method = \"theoretical\")\n",
    "summary(dl_theoretical)\n",
    "theoretical_coef <- as.numeric(coef(dl_theoretical)[2])"
   ]
  },
  {
   "cell_type": "markdown",
   "id": "0d44aaad-788e-4eff-a568-a19ac46096ad",
   "metadata": {},
   "source": [
    "### Double Lasso using method=\"partialling out\""
   ]
  },
  {
   "cell_type": "code",
   "execution_count": 139,
   "id": "a572b8d7-d16d-4fa4-a17c-ed8eab20edb4",
   "metadata": {},
   "outputs": [
    {
     "data": {
      "text/plain": [
       "[1] \"Estimates and significance testing of the effect of target variables\"\n",
       "                                      Estimate. Std. Error t value Pr(>|t|)    \n",
       "treatment                             4.270e+00  2.454e-01  17.400  < 2e-16 ***\n",
       "school                               -5.408e-08  1.619e-08  -3.340 0.000837 ***\n",
       "is.female                             2.650e+00  2.538e-01  10.441  < 2e-16 ***\n",
       "mother.attended.secondary.school      7.389e-01  2.860e-01   2.584 0.009765 ** \n",
       "father.attened.secondary.school       7.030e-01  2.892e-01   2.431 0.015063 *  \n",
       "failed.at.least.one.school.year      -5.857e+00  2.824e-01 -20.741  < 2e-16 ***\n",
       "family.receives.cash.transfer        -1.458e+00  2.738e-01  -5.326 1.01e-07 ***\n",
       "has.computer.with.internet.at.home   -1.934e-02  2.682e-01  -0.072 0.942530    \n",
       "is.unemployed                        -2.138e+00  2.936e-01  -7.282 3.29e-13 ***\n",
       "has.some.form.of.income               2.200e+00  2.822e-01   7.796 6.40e-15 ***\n",
       "saves.money.for.future.purchases     -1.224e-01  3.650e-01  -0.335 0.737373    \n",
       "intention.to.save.index               1.723e-01  7.185e-03  23.976  < 2e-16 ***\n",
       "makes.list.of.expenses.every.month   -1.733e+00  4.302e-01  -4.028 5.62e-05 ***\n",
       "negotiates.prices.or.payment.methods  4.020e-01  3.071e-01   1.309 0.190412    \n",
       "financial.autonomy.index             -3.612e-02  7.333e-03  -4.926 8.38e-07 ***\n",
       "---\n",
       "Signif. codes:  0 '***' 0.001 '**' 0.01 '*' 0.05 '.' 0.1 ' ' 1\n",
       "\n"
      ]
     },
     "metadata": {},
     "output_type": "display_data"
    },
    {
     "name": "stdout",
     "output_type": "stream",
     "text": [
      "\n",
      "Call:\n",
      "rlassoEffects.default(x = X, y = y, method = \"partialling out\")\n",
      "\n",
      "Coefficients:\n",
      "                           treatment                                school  \n",
      "                           4.270e+00                            -5.408e-08  \n",
      "                           is.female      mother.attended.secondary.school  \n",
      "                           2.650e+00                             7.389e-01  \n",
      "     father.attened.secondary.school       failed.at.least.one.school.year  \n",
      "                           7.030e-01                            -5.857e+00  \n",
      "       family.receives.cash.transfer    has.computer.with.internet.at.home  \n",
      "                          -1.458e+00                            -1.934e-02  \n",
      "                       is.unemployed               has.some.form.of.income  \n",
      "                          -2.138e+00                             2.200e+00  \n",
      "    saves.money.for.future.purchases               intention.to.save.index  \n",
      "                          -1.224e-01                             1.723e-01  \n",
      "  makes.list.of.expenses.every.month  negotiates.prices.or.payment.methods  \n",
      "                          -1.733e+00                             4.020e-01  \n",
      "            financial.autonomy.index  \n",
      "                          -3.612e-02  \n",
      "\n"
     ]
    }
   ],
   "source": [
    "dl_partial <- rlassoEffects(X,y, method = \"partialling out\")\n",
    "summary(dl_partial)\n",
    "treatment_partial_coef <- dl_partial$coef[2, \"estimates\"]\n",
    "print(dl_partial)"
   ]
  },
  {
   "cell_type": "code",
   "execution_count": 124,
   "id": "a03ef466-88d0-4362-a748-b3b6bfcd6bbe",
   "metadata": {},
   "outputs": [
    {
     "data": {
      "text/html": [
       "<dl>\n",
       "\t<dt>$hat</dt>\n",
       "\t\t<dd>4.28754365839669</dd>\n",
       "\t<dt>$stderr</dt>\n",
       "\t\t<dd>0.246068619456492</dd>\n",
       "</dl>\n"
      ],
      "text/latex": [
       "\\begin{description}\n",
       "\\item[\\$hat] 4.28754365839669\n",
       "\\item[\\$stderr] 0.246068619456492\n",
       "\\end{description}\n"
      ],
      "text/markdown": [
       "$hat\n",
       ":   4.28754365839669\n",
       "$stderr\n",
       ":   0.246068619456492\n",
       "\n",
       "\n"
      ],
      "text/plain": [
       "$hat\n",
       "[1] 4.287544\n",
       "\n",
       "$stderr\n",
       "[1] 0.2460686\n"
      ]
     },
     "metadata": {},
     "output_type": "display_data"
    }
   ],
   "source": [
    "# Now we simply replace OLS with Lasso to implement the Double Lasso process\n",
    "\n",
    "double_lasso <- function(y, D, W) {\n",
    "  # residualize outcome with Lasso\n",
    "  yfit.rlasso <- rlasso(W,y, post=FALSE)\n",
    "  yhat.rlasso <- predict(yfit.rlasso, as.data.frame(W))\n",
    "  yres <- y - as.numeric(yhat.rlasso)\n",
    "\n",
    "\n",
    "  # residualize treatment with Lasso\n",
    "  Dfit.rlasso <- rlasso(W,D, post=FALSE)\n",
    "  Dhat.rlasso <- predict(Dfit.rlasso, as.data.frame(W))\n",
    "  Dres <- D - as.numeric(Dhat.rlasso)\n",
    "\n",
    "  # rest is the same as in the OLS case\n",
    "  hat <- mean(yres * Dres) / mean(Dres^2)\n",
    "  epsilon <- yres - hat * Dres\n",
    "  V <- mean(epsilon^2 * Dres^2) / mean(Dres^2)^2\n",
    "  stderr = sqrt(V / length(y))\n",
    "\n",
    "  return(list(hat = hat, stderr = stderr))\n",
    "}\n",
    "\n",
    "double_lasso(y, data[,2], data[,c(-1,-2)])\n",
    "\n",
    "treatment_dlpo_coef <- double_lasso(y, data[,2], data[,c(-1,-2)])$hat\n",
    "treatment_dlpo_ci_lower <- treatment_dlpo_coef - 1.96 * double_lasso(y, data[,2], data[,c(-1,-2)])$stderr\n",
    "treatment_dlpo_ci_upper <- treatment_dlpo_coef + 1.96 * double_lasso(y, data[,2], data[,c(-1,-2)])$stderr"
   ]
  },
  {
   "cell_type": "code",
   "execution_count": 130,
   "id": "7daf3459-4fa5-497b-93de-ba6df529c3d7",
   "metadata": {},
   "outputs": [
    {
     "name": "stdout",
     "output_type": "stream",
     "text": [
      "                         Model Coefficient    Lower    Upper\n",
      "1                          OLS    4.290505 3.808836 4.772174\n",
      "2                     Lasso CV    4.258078       NA       NA\n",
      "3     Double Lasso Theoretical    4.280101       NA       NA\n",
      "4 Double Lasso Partialling Out    4.287544 3.805249 4.769838\n"
     ]
    },
    {
     "data": {
      "image/png": "[encoded data removed]",
      "text/plain": [
       "plot without title"
      ]
     },
     "metadata": {},
     "output_type": "display_data"
    }
   ],
   "source": [
    "# Create a dataframe for plotting\n",
    "plot_data <- data.frame(\n",
    "  Model = c(\"OLS\", \"Lasso CV\", \"Double Lasso Theoretical\",\"Double Lasso Partialling Out\"),\n",
    "  Coefficient = c(treatment_ols_coef, lasso_coef, theoretical_coef, treatment_dlpo_coef),\n",
    "  Lower = c(treatment_ols_ci_lower, NA, NA, treatment_dlpo_ci_lower),\n",
    "  Upper = c(treatment_ols_ci_upper, NA, NA,treatment_dlpo_ci_upper)\n",
    ")\n",
    "print(plot_data)\n",
    "\n",
    "# Plot using ggplot2\n",
    "ggplot(plot_data, aes(x = Model, y = Coefficient, color = Model)) +\n",
    "  geom_point() +\n",
    "  geom_errorbar(aes(ymin = Lower, ymax = Upper), width = 0.1) +\n",
    "  theme_minimal() +\n",
    "  labs(title = \"Comparison of Main Coefficient Estimates\",\n",
    "       y = \"Coefficient Value\",\n",
    "       x = \"\")\n"
   ]
  },
  {
   "cell_type": "code",
   "execution_count": null,
   "id": "671eea7c-948d-4704-8dff-232369b792bc",
   "metadata": {},
   "outputs": [],
   "source": []
  }
 ],
 "metadata": {
  "kernelspec": {
   "display_name": "R",
   "language": "R",
   "name": "ir"
  },
  "language_info": {
   "codemirror_mode": "r",
   "file_extension": ".r",
   "mimetype": "text/x-r-source",
   "name": "R",
   "pygments_lexer": "r",
   "version": "3.6.1"
  }
 },
 "nbformat": 4,
 "nbformat_minor": 5
}
